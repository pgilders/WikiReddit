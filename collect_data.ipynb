{
 "cells": [
  {
   "cell_type": "code",
   "execution_count": 2,
   "metadata": {},
   "outputs": [],
   "source": [
    "import numpy as np\n",
    "import pandas as pd\n",
    "import syft as sy\n",
    "import time\n",
    "import os\n",
    "import dotenv\n"
   ]
  },
  {
   "cell_type": "code",
   "execution_count": null,
   "metadata": {},
   "outputs": [],
   "source": [
    "# we recommend that you source these values using environment variables\n",
    "dotenv.load_dotenv()\n",
    "URL = \"https://reddit-for-researchers.snooguts.net\"\n",
    "EMAIL = os.getenv(\"EMAIL\")\n",
    "PASSWORD = os.getenv(\"PASSWORD\")\n",
    "\n",
    "# you can provide a \"password\" keyword argument, but if you don't...\n",
    "# the browser will prompt you for input\n",
    "client = sy.login(\n",
    "    url=URL,\n",
    "    email=EMAIL,\n",
    "    password=PASSWORD\n",
    ")"
   ]
  },
  {
   "cell_type": "code",
   "execution_count": null,
   "metadata": {},
   "outputs": [],
   "source": [
    "client.requests"
   ]
  },
  {
   "cell_type": "code",
   "execution_count": 7,
   "metadata": {},
   "outputs": [],
   "source": [
    "def name_to_id_dict(client):\n",
    "    # TODO handle case with duplicate names?\n",
    "    return {request.code.service_func_name: str(request.id) for request in client.requests}\n",
    "\n",
    "\n",
    "def query_r4r(function_name, name_to_id_dict, client):\n",
    "\n",
    "    while True:   \n",
    "        try:\n",
    "            request = client.api.services.request.get_by_uid(uid=sy.UID(name_to_id_dict[function_name]))\n",
    "            job = request.code(blocking=False)\n",
    "            results = job.wait()\n",
    "            df = results.get()\n",
    "            return df\n",
    "        except KeyboardInterrupt:\n",
    "            raise\n",
    "        except Exception as ex:\n",
    "            print(ex)\n",
    "            time.sleep(10)\n",
    "            client = sy.login(\n",
    "                url=URL,\n",
    "                email=EMAIL,\n",
    "                password=PASSWORD\n",
    "            )"
   ]
  },
  {
   "cell_type": "code",
   "execution_count": null,
   "metadata": {},
   "outputs": [],
   "source": [
    "funcdict = name_to_id_dict(client)\n",
    "funcdict"
   ]
  },
  {
   "cell_type": "code",
   "execution_count": null,
   "metadata": {},
   "outputs": [],
   "source": [
    "request = client.api.services.request.get_by_uid(uid=sy.UID(funcdict[\"avg_comment_score_pg\"]))\n",
    "job = request.code(blocking=False)\n",
    "results = job.wait()\n",
    "results.get()"
   ]
  },
  {
   "cell_type": "code",
   "execution_count": null,
   "metadata": {},
   "outputs": [],
   "source": [
    "# Posts\n",
    "\n",
    "posts_dict = {}\n",
    "for year in range(2020, 2024):\n",
    "    key = f\"pg_wiki_{year}\"\n",
    "    print(key)\n",
    "    try:\n",
    "        posts_dict[key] = pd.read_hdf(f\"data/{key}.h5\")\n",
    "    except:\n",
    "        posts_dict[key] = query_r4r(key, funcdict, client)\n",
    "        for c in ['score', 'gildings', 'num_comments']:\n",
    "            posts_dict[key][c] = posts_dict[key][c].astype(np.int64)\n",
    "        for c in ['nsfw', 'self', 'video', 'locked', 'spoiler', 'sticky']:\n",
    "            posts_dict[key][c] = posts_dict[key][c].astype(np.bool_)\n",
    "        for c in ['created_at', 'updated_at']:\n",
    "            posts_dict[key][c] = pd.to_datetime(posts_dict[key][c]).astype('datetime64[ns]')\n",
    "\n",
    "        posts_dict[key].to_hdf(f\"data/{key}.h5\", key='df', mode='w')\n",
    "\n",
    "posts_df = pd.concat(posts_dict.values())\n",
    "posts_df.to_hdf(\"data/posts.h5\", key='df', mode='w')\n"
   ]
  },
  {
   "cell_type": "code",
   "execution_count": null,
   "metadata": {},
   "outputs": [],
   "source": [
    "posts_df = pd.read_hdf(\"data/posts.h5\")\n"
   ]
  },
  {
   "cell_type": "code",
   "execution_count": null,
   "metadata": {},
   "outputs": [],
   "source": [
    "# Comments\n",
    "\n",
    "comments_dict = {}\n",
    "for year in range(2020, 2024):\n",
    "    for month in range(1, 13):\n",
    "        key = f\"pg_wiki_comments_{year}{month:02d}\"\n",
    "        print(key)\n",
    "        try:\n",
    "            comments_dict[key] = pd.read_hdf(f\"data/{key}.h5\")\n",
    "        except:\n",
    "            comments_dict[key] = query_r4r(key, funcdict, client)\n",
    "            for c in ['score']:\n",
    "                comments_dict[key][c] = comments_dict[key][c].astype(np.int64)\n",
    "            for c in ['gilded']:\n",
    "                comments_dict[key][c] = comments_dict[key][c].astype(np.bool_)\n",
    "            for c in ['created_at', 'last_modified_at']:\n",
    "                comments_dict[key][c] = pd.to_datetime(comments_dict[key][c]).astype('datetime64[ns]')\n",
    "            comments_dict[key].to_hdf(f\"data/{key}.h5\", key='df', mode='w')\n",
    "\n",
    "comments_df = pd.concat(comments_dict.values())\n",
    "os.remove(\"data/comments_1.h5\")\n",
    "comments_df.iloc[:len(comments_df)//4].to_hdf(\"data/comments_1.h5\", key='df', mode='w')\n",
    "os.remove(\"data/comments_2.h5\")\n",
    "comments_df.iloc[len(comments_df)//4:len(comments_df)//2].to_hdf(\"data/comments_2.h5\", key='df', mode='w')\n",
    "os.remove(\"data/comments_3.h5\")\n",
    "comments_df.iloc[len(comments_df)//2:len(comments_df)//4*3].to_hdf(\"data/comments_3.h5\", key='df', mode='w')\n",
    "os.remove(\"data/comments_4.h5\")\n",
    "comments_df.iloc[len(comments_df)//4*3:].to_hdf(\"data/comments_4.h5\", key='df', mode='w')"
   ]
  },
  {
   "cell_type": "code",
   "execution_count": null,
   "metadata": {},
   "outputs": [],
   "source": [
    "#  replies\n",
    "\n",
    "replies_df = query_r4r('pg_wiki_replies', funcdict, client)\n",
    "for c in ['score']:\n",
    "    replies_df[c] = replies_df[c].astype(np.int64)\n",
    "for c in ['gilded']:\n",
    "    replies_df[c] = replies_df[c].astype(np.bool_)\n",
    "for c in ['created_at', 'last_modified_at']:\n",
    "    replies_df[c] = pd.to_datetime(replies_df[c]).astype('datetime64[ns]')\n",
    "replies_df.to_hdf(f\"data/replies.h5\", key='df', mode='w')"
   ]
  },
  {
   "cell_type": "code",
   "execution_count": null,
   "metadata": {},
   "outputs": [],
   "source": [
    "# replies\n",
    "\n",
    "replies_dict = {}\n",
    "for year in range(2020, 2024):\n",
    "    key = f\"pg_wiki_replies_{year}\"\n",
    "    print(key)\n",
    "    try:\n",
    "        replies_dict[key] = pd.read_hdf(f\"data/{key}.h5\")\n",
    "    except:\n",
    "        replies_dict[key] = query_r4r(key, funcdict, client)\n",
    "        for c in ['score']:\n",
    "            replies_dict[key][c] = replies_dict[key][c].astype(np.int64)\n",
    "        for c in ['gilded']:\n",
    "            replies_dict[key][c] = replies_dict[key][c].astype(np.bool_)\n",
    "        for c in ['created_at', 'last_modified_at']:\n",
    "            replies_dict[key][c] = pd.to_datetime(replies_dict[key][c]).astype('datetime64[ns]')\n",
    "\n",
    "        replies_dict[key].to_hdf(f\"data/{key}.h5\", key='df', mode='w')\n",
    "\n",
    "replies_df = pd.concat(replies_dict.values())\n",
    "os.remove(\"data/replies.h5\")\n",
    "replies_df.to_hdf(\"data/replies.h5\", key='df', mode='w')"
   ]
  },
  {
   "cell_type": "code",
   "execution_count": null,
   "metadata": {},
   "outputs": [],
   "source": [
    "replies_dict = {}\n",
    "for year in range(2020, 2024):\n",
    "    for month in range(1, 13):\n",
    "        key = f\"pg_wiki_replies_{year}\"\n",
    "        print(key)\n",
    "        try:\n",
    "            replies_dict[key] = pd.read_hdf(f\"data/{key}.h5\")\n",
    "        except:\n",
    "            replies_dict[key] = query_r4r(key, funcdict, client)\n",
    "            for c in ['score']:\n",
    "                replies_dict[key][c] = replies_dict[key][c].astype(np.int64)\n",
    "            for c in ['gilded']:\n",
    "                replies_dict[key][c] = replies_dict[key][c].astype(np.bool_)\n",
    "            for c in ['created_at', 'last_modified_at']:\n",
    "                replies_dict[key][c] = pd.to_datetime(replies_dict[key][c]).astype('datetime64[ns]')\n",
    "\n",
    "            replies_dict[key].to_hdf(f\"data/{key}.h5\", key='df', mode='w')\n",
    "\n",
    "replies_df = pd.concat(replies_dict.values())\n",
    "os.remove(\"data/replies.h5\")\n",
    "replies_df.to_hdf(\"data/replies.h5\", key='df', mode='w')"
   ]
  },
  {
   "cell_type": "code",
   "execution_count": null,
   "metadata": {},
   "outputs": [],
   "source": [
    "#  create sqlite database\n",
    "\n",
    "import sqlite3\n",
    "\n",
    "conn = sqlite3.connect('wikireddit.db')\n",
    "posts_df.to_sql('posts', conn, if_exists='replace')\n",
    "comments_df.to_sql('comments', conn, if_exists='replace')\n",
    "replies_df.to_sql('replies', conn, if_exists='replace')"
   ]
  },
  {
   "cell_type": "code",
   "execution_count": 1,
   "metadata": {},
   "outputs": [],
   "source": [
    "import pandas as pd\n",
    "posts_df = pd.read_hdf(\"data/posts.h5\")"
   ]
  }
 ],
 "metadata": {
  "kernelspec": {
   "display_name": ".venv",
   "language": "python",
   "name": "python3"
  },
  "language_info": {
   "codemirror_mode": {
    "name": "ipython",
    "version": 3
   },
   "file_extension": ".py",
   "mimetype": "text/x-python",
   "name": "python",
   "nbconvert_exporter": "python",
   "pygments_lexer": "ipython3",
   "version": "3.12.3"
  }
 },
 "nbformat": 4,
 "nbformat_minor": 2
}
