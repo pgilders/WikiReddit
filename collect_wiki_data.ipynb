{
 "cells": [
  {
   "cell_type": "code",
   "execution_count": null,
   "metadata": {},
   "outputs": [],
   "source": [
    "# get page ranges\n",
    "\n",
    "#  round datetime to day, get ± 7 days inclusive\n",
    "\n",
    "#  merge any date ranges that overlaps\n",
    "\n",
    "#  reorganise data into dict where key is date range and value is a list of pages"
   ]
  },
  {
   "cell_type": "code",
   "execution_count": 6,
   "metadata": {},
   "outputs": [],
   "source": [
    "import pandas as pd\n",
    "from urllib.parse import unquote\n",
    "import wikitoolkit as wt\n",
    "import pickle\n",
    "import sqlite3\n",
    "import time"
   ]
  },
  {
   "cell_type": "code",
   "execution_count": 2,
   "metadata": {},
   "outputs": [],
   "source": [
    "my_agent = 'wikireddit <p.gildersleve@exeter.ac.uk>'\n",
    "conn = sqlite3.connect('data/wikireddit.db')\n",
    "\n",
    "ranges_df = pd.read_hdf('data/ranges_df.h5')\n",
    "\n",
    "pagemapsdict = {}"
   ]
  },
  {
   "cell_type": "code",
   "execution_count": 3,
   "metadata": {},
   "outputs": [],
   "source": [
    "ranges_df_consol = ranges_df.groupby(['lang', 'start_date', 'end_date'])['title'].apply(list)\n",
    "starts_df_consol = ranges_df.groupby(['lang', 'start_date'])['title'].apply(list)"
   ]
  },
  {
   "cell_type": "code",
   "execution_count": 4,
   "metadata": {},
   "outputs": [],
   "source": [
    "date_article_dict = {}\n",
    "# convert ranges_df_consol to a dict of dicts\n",
    "for lang, start_date, end_date in ranges_df_consol.index:\n",
    "    if lang not in date_article_dict:\n",
    "        date_article_dict[lang] = {}\n",
    "    date_article_dict[lang][(start_date, end_date)] = ranges_df_consol[(lang, start_date, end_date)]\n",
    "\n",
    "startdate_article_dict = {}\n",
    "# convert starts_df_consol to a dict of dicts\n",
    "for lang, start_date in starts_df_consol.index:\n",
    "    if lang not in startdate_article_dict:\n",
    "        startdate_article_dict[lang] = {}\n",
    "    startdate_article_dict[lang][start_date] = starts_df_consol[(lang, start_date)]"
   ]
  },
  {
   "cell_type": "markdown",
   "metadata": {},
   "source": [
    "Get revisions in range [from, to] (inclusive), as well as revisions at start of range"
   ]
  },
  {
   "cell_type": "code",
   "execution_count": 23,
   "metadata": {},
   "outputs": [
    {
     "name": "stderr",
     "output_type": "stream",
     "text": [
      "Unclosed client session\n",
      "client_session: <aiohttp.client.ClientSession object at 0x71b1e1bc34a0>\n",
      "Unclosed connector\n",
      "connections: ['deque([(<aiohttp.client_proto.ResponseHandler object at 0x71b1dc66d2b0>, 599831.462316142)])']\n",
      "connector: <aiohttp.connector.TCPConnector object at 0x71b1dbbaebd0>\n",
      "Unclosed client session\n",
      "client_session: <aiohttp.client.ClientSession object at 0x71b1dbbaf170>\n"
     ]
    },
    {
     "name": "stdout",
     "output_type": "stream",
     "text": [
      "aa\n",
      "ab0\n",
      "ace\n",
      "ady\n",
      "af0\n",
      "als\n",
      "am0\n",
      "an0\n",
      "ang\n",
      "ar0\n",
      "arc924170616113744\n",
      "ary\n",
      "arz\n",
      "as0\n",
      "ast\n",
      "atj\n",
      "avk\n",
      "ay0\n",
      "az0\n",
      "azb\n",
      "ba0\n",
      "ban\n",
      "bar\n",
      "bat-smg\n",
      "0.0\r"
     ]
    },
    {
     "name": "stderr",
     "output_type": "stream",
     "text": [
      "/home/patrick/Documents/R4R/.venv/lib/python3.12/site-packages/tables/path.py:137: NaturalNameWarning: object name is not a valid Python identifier: 'bat-smg'; it does not match the pattern ``^[a-zA-Z_][a-zA-Z0-9_]*$``; you will not be able to use natural naming to access this object; using ``getattr()`` will still work, though\n",
      "  check_attribute_name(name)\n"
     ]
    },
    {
     "name": "stdout",
     "output_type": "stream",
     "text": [
      "bcl\n",
      "be0\n",
      "be-tarask\n",
      "0.0\r"
     ]
    },
    {
     "ename": "CancelledError",
     "evalue": "",
     "output_type": "error",
     "traceback": [
      "\u001b[0;31m---------------------------------------------------------------------------\u001b[0m",
      "\u001b[0;31mCancelledError\u001b[0m                            Traceback (most recent call last)",
      "Cell \u001b[0;32mIn[23], line 10\u001b[0m\n\u001b[1;32m      8\u001b[0m \u001b[38;5;28;01mif\u001b[39;00m n \u001b[38;5;241m%\u001b[39m \u001b[38;5;241m1000\u001b[39m \u001b[38;5;241m==\u001b[39m \u001b[38;5;241m0\u001b[39m:\n\u001b[1;32m      9\u001b[0m     \u001b[38;5;28mprint\u001b[39m(n\u001b[38;5;241m/\u001b[39m\u001b[38;5;28mlen\u001b[39m(da_dict), end\u001b[38;5;241m=\u001b[39m\u001b[38;5;124m'\u001b[39m\u001b[38;5;130;01m\\r\u001b[39;00m\u001b[38;5;124m'\u001b[39m)\n\u001b[0;32m---> 10\u001b[0m revisions \u001b[38;5;241m=\u001b[39m \u001b[38;5;28;01mawait\u001b[39;00m wt\u001b[38;5;241m.\u001b[39mget_revisions(wtsession, articles, pagemaps\u001b[38;5;241m=\u001b[39mpagemapsdict[lang],\n\u001b[1;32m     11\u001b[0m                                    start\u001b[38;5;241m=\u001b[39mdaterange[\u001b[38;5;241m0\u001b[39m]\u001b[38;5;241m.\u001b[39misoformat(), stop\u001b[38;5;241m=\u001b[39mdaterange[\u001b[38;5;241m1\u001b[39m]\u001b[38;5;241m.\u001b[39misoformat())\n\u001b[1;32m     12\u001b[0m revisions \u001b[38;5;241m=\u001b[39m pd\u001b[38;5;241m.\u001b[39mconcat({k: pd\u001b[38;5;241m.\u001b[39mDataFrame(v) \u001b[38;5;28;01mfor\u001b[39;00m k, v \u001b[38;5;129;01min\u001b[39;00m revisions\u001b[38;5;241m.\u001b[39mitems()})\u001b[38;5;241m.\u001b[39mreset_index(\n\u001b[1;32m     13\u001b[0m     level\u001b[38;5;241m=\u001b[39m\u001b[38;5;241m1\u001b[39m, drop\u001b[38;5;241m=\u001b[39m\u001b[38;5;28;01mTrue\u001b[39;00m)\u001b[38;5;241m.\u001b[39mreset_index()\u001b[38;5;241m.\u001b[39mrename(columns\u001b[38;5;241m=\u001b[39m{\u001b[38;5;124m'\u001b[39m\u001b[38;5;124mindex\u001b[39m\u001b[38;5;124m'\u001b[39m: \u001b[38;5;124m'\u001b[39m\u001b[38;5;124mtitle\u001b[39m\u001b[38;5;124m'\u001b[39m})\n\u001b[1;32m     14\u001b[0m \u001b[38;5;28;01mif\u001b[39;00m \u001b[38;5;28mlen\u001b[39m(revisions) \u001b[38;5;241m==\u001b[39m \u001b[38;5;241m0\u001b[39m:\n",
      "File \u001b[0;32m~/Documents/R4R/.venv/lib/python3.12/site-packages/wikitoolkit/revisions.py:140\u001b[0m, in \u001b[0;36mget_revisions\u001b[0;34m(wtsession, titles, pageids, start, stop, pagemaps, props)\u001b[0m\n\u001b[1;32m    136\u001b[0m query_args_list, key, ix \u001b[38;5;241m=\u001b[39m querylister(titles, pageids, generator\u001b[38;5;241m=\u001b[39m\u001b[38;5;28;01mTrue\u001b[39;00m,\n\u001b[1;32m    137\u001b[0m             pagemaps\u001b[38;5;241m=\u001b[39mpagemaps, params\u001b[38;5;241m=\u001b[39mparams)\n\u001b[1;32m    139\u001b[0m \u001b[38;5;66;03m# Execute the API query and parse the revision data\u001b[39;00m\n\u001b[0;32m--> 140\u001b[0m data \u001b[38;5;241m=\u001b[39m \u001b[38;5;28;01mawait\u001b[39;00m iterate_async_query(wtsession\u001b[38;5;241m.\u001b[39mmw_session, query_args_list, function\u001b[38;5;241m=\u001b[39mparse_revisions, debug\u001b[38;5;241m=\u001b[39m\u001b[38;5;28;01mFalse\u001b[39;00m)\n\u001b[1;32m    142\u001b[0m \u001b[38;5;66;03m# Organize the revision data based on titles or pageids\u001b[39;00m\n\u001b[1;32m    143\u001b[0m \u001b[38;5;28;01mif\u001b[39;00m titles:\n",
      "File \u001b[0;32m~/Documents/R4R/.venv/lib/python3.12/site-packages/wikitoolkit/api.py:136\u001b[0m, in \u001b[0;36miterate_async_query\u001b[0;34m(session, query_args_list, function, f_args, continuation, debug, httpmethod, posturl)\u001b[0m\n\u001b[1;32m    133\u001b[0m     tasks \u001b[38;5;241m=\u001b[39m [query_async(session, query_args, continuation, debug, httpmethod, posturl) \u001b[38;5;28;01mfor\u001b[39;00m query_args \u001b[38;5;129;01min\u001b[39;00m query_args_list]\n\u001b[1;32m    135\u001b[0m \u001b[38;5;66;03m# Execute the tasks asynchronously and gather the results\u001b[39;00m\n\u001b[0;32m--> 136\u001b[0m results \u001b[38;5;241m=\u001b[39m \u001b[38;5;28;01mawait\u001b[39;00m asyncio\u001b[38;5;241m.\u001b[39mgather(\u001b[38;5;241m*\u001b[39mtasks)\n\u001b[1;32m    138\u001b[0m \u001b[38;5;28;01mreturn\u001b[39;00m results\n",
      "File \u001b[0;32m~/Documents/R4R/.venv/lib/python3.12/site-packages/wikitoolkit/revisions.py:87\u001b[0m, in \u001b[0;36mparse_revisions\u001b[0;34m(data)\u001b[0m\n\u001b[1;32m     78\u001b[0m \u001b[38;5;250m\u001b[39m\u001b[38;5;124;03m\"\"\"Parse revisions from the API.\u001b[39;00m\n\u001b[1;32m     79\u001b[0m \n\u001b[1;32m     80\u001b[0m \u001b[38;5;124;03mArgs:\u001b[39;00m\n\u001b[0;32m   (...)\u001b[0m\n\u001b[1;32m     84\u001b[0m \u001b[38;5;124;03m    dict: revisions data.\u001b[39;00m\n\u001b[1;32m     85\u001b[0m \u001b[38;5;124;03m\"\"\"\u001b[39;00m\n\u001b[1;32m     86\u001b[0m revisions \u001b[38;5;241m=\u001b[39m {}\n\u001b[0;32m---> 87\u001b[0m \u001b[38;5;28;01mfor\u001b[39;00m page \u001b[38;5;129;01min\u001b[39;00m \u001b[38;5;28;01mawait\u001b[39;00m data:\n\u001b[1;32m     88\u001b[0m     \u001b[38;5;28;01mif\u001b[39;00m (\u001b[38;5;124m'\u001b[39m\u001b[38;5;124mpageid\u001b[39m\u001b[38;5;124m'\u001b[39m \u001b[38;5;129;01mnot\u001b[39;00m \u001b[38;5;129;01min\u001b[39;00m page) \u001b[38;5;241m|\u001b[39m (\u001b[38;5;124m'\u001b[39m\u001b[38;5;124mtitle\u001b[39m\u001b[38;5;124m'\u001b[39m \u001b[38;5;129;01mnot\u001b[39;00m \u001b[38;5;129;01min\u001b[39;00m page):\n\u001b[1;32m     89\u001b[0m         \u001b[38;5;28;01mcontinue\u001b[39;00m\n",
      "File \u001b[0;32m~/Documents/R4R/.venv/lib/python3.12/site-packages/wikitoolkit/api.py:99\u001b[0m, in \u001b[0;36mquery_async\u001b[0;34m(session, query_args, continuation, debug, httpmethod, posturl)\u001b[0m\n\u001b[1;32m     96\u001b[0m pages \u001b[38;5;241m=\u001b[39m []\n\u001b[1;32m     97\u001b[0m \u001b[38;5;28;01mtry\u001b[39;00m:\n\u001b[1;32m     98\u001b[0m     \u001b[38;5;66;03m# Iterate through the continued query\u001b[39;00m\n\u001b[0;32m---> 99\u001b[0m     \u001b[38;5;28;01masync\u001b[39;00m \u001b[38;5;28;01mfor\u001b[39;00m portion \u001b[38;5;129;01min\u001b[39;00m continued:\n\u001b[1;32m    100\u001b[0m         \u001b[38;5;28;01mif\u001b[39;00m debug:\n\u001b[1;32m    101\u001b[0m             pages\u001b[38;5;241m.\u001b[39mappend(portion)\n",
      "File \u001b[0;32m~/Documents/R4R/.venv/lib/python3.12/site-packages/mwapi/async_session.py:156\u001b[0m, in \u001b[0;36mAsyncSession._continuation\u001b[0;34m(self, method, params, auth)\u001b[0m\n\u001b[1;32m    153\u001b[0m     params[\u001b[38;5;124m\"\u001b[39m\u001b[38;5;124mcontinue\u001b[39m\u001b[38;5;124m\"\u001b[39m] \u001b[38;5;241m=\u001b[39m \u001b[38;5;124m\"\u001b[39m\u001b[38;5;124m\"\u001b[39m\n\u001b[1;32m    155\u001b[0m \u001b[38;5;28;01mwhile\u001b[39;00m \u001b[38;5;28;01mTrue\u001b[39;00m:\n\u001b[0;32m--> 156\u001b[0m     doc \u001b[38;5;241m=\u001b[39m \u001b[38;5;28;01mawait\u001b[39;00m \u001b[38;5;28mself\u001b[39m\u001b[38;5;241m.\u001b[39m_request(method, params\u001b[38;5;241m=\u001b[39mparams, auth\u001b[38;5;241m=\u001b[39mauth)\n\u001b[1;32m    157\u001b[0m     \u001b[38;5;28;01myield\u001b[39;00m doc\n\u001b[1;32m    158\u001b[0m     \u001b[38;5;28;01mif\u001b[39;00m \u001b[38;5;124m\"\u001b[39m\u001b[38;5;124mcontinue\u001b[39m\u001b[38;5;124m\"\u001b[39m \u001b[38;5;129;01mnot\u001b[39;00m \u001b[38;5;129;01min\u001b[39;00m doc:\n",
      "File \u001b[0;32m~/Documents/R4R/.venv/lib/python3.12/site-packages/mwapi/async_session.py:81\u001b[0m, in \u001b[0;36mAsyncSession._request\u001b[0;34m(self, method, params, auth)\u001b[0m\n\u001b[1;32m     78\u001b[0m     params[\u001b[38;5;124m'\u001b[39m\u001b[38;5;124mformat\u001b[39m\u001b[38;5;124m'\u001b[39m] \u001b[38;5;241m=\u001b[39m \u001b[38;5;124m\"\u001b[39m\u001b[38;5;124mjson\u001b[39m\u001b[38;5;124m\"\u001b[39m\n\u001b[1;32m     80\u001b[0m \u001b[38;5;28;01mtry\u001b[39;00m:\n\u001b[0;32m---> 81\u001b[0m     \u001b[38;5;28;01masync\u001b[39;00m \u001b[38;5;28;01mwith\u001b[39;00m \u001b[38;5;28mself\u001b[39m\u001b[38;5;241m.\u001b[39msession\u001b[38;5;241m.\u001b[39mrequest(method\u001b[38;5;241m=\u001b[39mmethod, url\u001b[38;5;241m=\u001b[39m\u001b[38;5;28mself\u001b[39m\u001b[38;5;241m.\u001b[39mapi_url,\n\u001b[1;32m     82\u001b[0m                                     params\u001b[38;5;241m=\u001b[39mparams, data\u001b[38;5;241m=\u001b[39mdata,\n\u001b[1;32m     83\u001b[0m                                     timeout\u001b[38;5;241m=\u001b[39m\u001b[38;5;28mself\u001b[39m\u001b[38;5;241m.\u001b[39mtimeout,\n\u001b[1;32m     84\u001b[0m                                     headers\u001b[38;5;241m=\u001b[39m\u001b[38;5;28mself\u001b[39m\u001b[38;5;241m.\u001b[39mheaders,\n\u001b[1;32m     85\u001b[0m                                     verify_ssl\u001b[38;5;241m=\u001b[39m\u001b[38;5;28;01mTrue\u001b[39;00m,\n\u001b[1;32m     86\u001b[0m                                     auth\u001b[38;5;241m=\u001b[39mauth) \u001b[38;5;28;01mas\u001b[39;00m resp:\n\u001b[1;32m     88\u001b[0m         doc \u001b[38;5;241m=\u001b[39m \u001b[38;5;28;01mawait\u001b[39;00m resp\u001b[38;5;241m.\u001b[39mjson()\n\u001b[1;32m     90\u001b[0m         \u001b[38;5;28;01mif\u001b[39;00m \u001b[38;5;124m'\u001b[39m\u001b[38;5;124merror\u001b[39m\u001b[38;5;124m'\u001b[39m \u001b[38;5;129;01min\u001b[39;00m doc:\n",
      "File \u001b[0;32m~/Documents/R4R/.venv/lib/python3.12/site-packages/aiohttp/client.py:1423\u001b[0m, in \u001b[0;36m_BaseRequestContextManager.__aenter__\u001b[0;34m(self)\u001b[0m\n\u001b[1;32m   1422\u001b[0m \u001b[38;5;28;01masync\u001b[39;00m \u001b[38;5;28;01mdef\u001b[39;00m \u001b[38;5;21m__aenter__\u001b[39m(\u001b[38;5;28mself\u001b[39m) \u001b[38;5;241m-\u001b[39m\u001b[38;5;241m>\u001b[39m _RetType:\n\u001b[0;32m-> 1423\u001b[0m     \u001b[38;5;28mself\u001b[39m\u001b[38;5;241m.\u001b[39m_resp: _RetType \u001b[38;5;241m=\u001b[39m \u001b[38;5;28;01mawait\u001b[39;00m \u001b[38;5;28mself\u001b[39m\u001b[38;5;241m.\u001b[39m_coro\n\u001b[1;32m   1424\u001b[0m     \u001b[38;5;28;01mreturn\u001b[39;00m \u001b[38;5;28;01mawait\u001b[39;00m \u001b[38;5;28mself\u001b[39m\u001b[38;5;241m.\u001b[39m_resp\u001b[38;5;241m.\u001b[39m\u001b[38;5;21m__aenter__\u001b[39m()\n",
      "File \u001b[0;32m~/Documents/R4R/.venv/lib/python3.12/site-packages/aiohttp/client.py:701\u001b[0m, in \u001b[0;36mClientSession._request\u001b[0;34m(self, method, str_or_url, params, data, json, cookies, headers, skip_auto_headers, auth, allow_redirects, max_redirects, compress, chunked, expect100, raise_for_status, read_until_eof, proxy, proxy_auth, timeout, verify_ssl, fingerprint, ssl_context, ssl, server_hostname, proxy_headers, trace_request_ctx, read_bufsize, auto_decompress, max_line_size, max_field_size)\u001b[0m\n\u001b[1;32m    699\u001b[0m \u001b[38;5;66;03m# connection timeout\u001b[39;00m\n\u001b[1;32m    700\u001b[0m \u001b[38;5;28;01mtry\u001b[39;00m:\n\u001b[0;32m--> 701\u001b[0m     conn \u001b[38;5;241m=\u001b[39m \u001b[38;5;28;01mawait\u001b[39;00m \u001b[38;5;28mself\u001b[39m\u001b[38;5;241m.\u001b[39m_connector\u001b[38;5;241m.\u001b[39mconnect(\n\u001b[1;32m    702\u001b[0m         req, traces\u001b[38;5;241m=\u001b[39mtraces, timeout\u001b[38;5;241m=\u001b[39mreal_timeout\n\u001b[1;32m    703\u001b[0m     )\n\u001b[1;32m    704\u001b[0m \u001b[38;5;28;01mexcept\u001b[39;00m asyncio\u001b[38;5;241m.\u001b[39mTimeoutError \u001b[38;5;28;01mas\u001b[39;00m exc:\n\u001b[1;32m    705\u001b[0m     \u001b[38;5;28;01mraise\u001b[39;00m ConnectionTimeoutError(\n\u001b[1;32m    706\u001b[0m         \u001b[38;5;124mf\u001b[39m\u001b[38;5;124m\"\u001b[39m\u001b[38;5;124mConnection timeout to host \u001b[39m\u001b[38;5;132;01m{\u001b[39;00murl\u001b[38;5;132;01m}\u001b[39;00m\u001b[38;5;124m\"\u001b[39m\n\u001b[1;32m    707\u001b[0m     ) \u001b[38;5;28;01mfrom\u001b[39;00m \u001b[38;5;21;01mexc\u001b[39;00m\n",
      "File \u001b[0;32m~/Documents/R4R/.venv/lib/python3.12/site-packages/aiohttp/connector.py:544\u001b[0m, in \u001b[0;36mBaseConnector.connect\u001b[0;34m(self, req, traces, timeout)\u001b[0m\n\u001b[1;32m    542\u001b[0m     \u001b[38;5;28;01mfor\u001b[39;00m trace \u001b[38;5;129;01min\u001b[39;00m traces:\n\u001b[1;32m    543\u001b[0m         \u001b[38;5;28;01mawait\u001b[39;00m trace\u001b[38;5;241m.\u001b[39msend_connection_create_start()\n\u001b[0;32m--> 544\u001b[0m proto \u001b[38;5;241m=\u001b[39m \u001b[38;5;28;01mawait\u001b[39;00m \u001b[38;5;28mself\u001b[39m\u001b[38;5;241m.\u001b[39m_create_connection(req, traces, timeout)\n\u001b[1;32m    545\u001b[0m \u001b[38;5;28;01mif\u001b[39;00m traces:\n\u001b[1;32m    546\u001b[0m     \u001b[38;5;28;01mfor\u001b[39;00m trace \u001b[38;5;129;01min\u001b[39;00m traces:\n",
      "File \u001b[0;32m~/Documents/R4R/.venv/lib/python3.12/site-packages/aiohttp/connector.py:1050\u001b[0m, in \u001b[0;36mTCPConnector._create_connection\u001b[0;34m(self, req, traces, timeout)\u001b[0m\n\u001b[1;32m   1048\u001b[0m     _, proto \u001b[38;5;241m=\u001b[39m \u001b[38;5;28;01mawait\u001b[39;00m \u001b[38;5;28mself\u001b[39m\u001b[38;5;241m.\u001b[39m_create_proxy_connection(req, traces, timeout)\n\u001b[1;32m   1049\u001b[0m \u001b[38;5;28;01melse\u001b[39;00m:\n\u001b[0;32m-> 1050\u001b[0m     _, proto \u001b[38;5;241m=\u001b[39m \u001b[38;5;28;01mawait\u001b[39;00m \u001b[38;5;28mself\u001b[39m\u001b[38;5;241m.\u001b[39m_create_direct_connection(req, traces, timeout)\n\u001b[1;32m   1052\u001b[0m \u001b[38;5;28;01mreturn\u001b[39;00m proto\n",
      "File \u001b[0;32m~/Documents/R4R/.venv/lib/python3.12/site-packages/aiohttp/connector.py:1363\u001b[0m, in \u001b[0;36mTCPConnector._create_direct_connection\u001b[0;34m(self, req, traces, timeout, client_error)\u001b[0m\n\u001b[1;32m   1358\u001b[0m server_hostname \u001b[38;5;241m=\u001b[39m (\n\u001b[1;32m   1359\u001b[0m     (req\u001b[38;5;241m.\u001b[39mserver_hostname \u001b[38;5;129;01mor\u001b[39;00m host)\u001b[38;5;241m.\u001b[39mrstrip(\u001b[38;5;124m\"\u001b[39m\u001b[38;5;124m.\u001b[39m\u001b[38;5;124m\"\u001b[39m) \u001b[38;5;28;01mif\u001b[39;00m sslcontext \u001b[38;5;28;01melse\u001b[39;00m \u001b[38;5;28;01mNone\u001b[39;00m\n\u001b[1;32m   1360\u001b[0m )\n\u001b[1;32m   1362\u001b[0m \u001b[38;5;28;01mtry\u001b[39;00m:\n\u001b[0;32m-> 1363\u001b[0m     transp, proto \u001b[38;5;241m=\u001b[39m \u001b[38;5;28;01mawait\u001b[39;00m \u001b[38;5;28mself\u001b[39m\u001b[38;5;241m.\u001b[39m_wrap_create_connection(\n\u001b[1;32m   1364\u001b[0m         \u001b[38;5;28mself\u001b[39m\u001b[38;5;241m.\u001b[39m_factory,\n\u001b[1;32m   1365\u001b[0m         timeout\u001b[38;5;241m=\u001b[39mtimeout,\n\u001b[1;32m   1366\u001b[0m         ssl\u001b[38;5;241m=\u001b[39msslcontext,\n\u001b[1;32m   1367\u001b[0m         addr_infos\u001b[38;5;241m=\u001b[39maddr_infos,\n\u001b[1;32m   1368\u001b[0m         server_hostname\u001b[38;5;241m=\u001b[39mserver_hostname,\n\u001b[1;32m   1369\u001b[0m         req\u001b[38;5;241m=\u001b[39mreq,\n\u001b[1;32m   1370\u001b[0m         client_error\u001b[38;5;241m=\u001b[39mclient_error,\n\u001b[1;32m   1371\u001b[0m     )\n\u001b[1;32m   1372\u001b[0m \u001b[38;5;28;01mexcept\u001b[39;00m (ClientConnectorError, asyncio\u001b[38;5;241m.\u001b[39mTimeoutError) \u001b[38;5;28;01mas\u001b[39;00m exc:\n\u001b[1;32m   1373\u001b[0m     last_exc \u001b[38;5;241m=\u001b[39m exc\n",
      "File \u001b[0;32m~/Documents/R4R/.venv/lib/python3.12/site-packages/aiohttp/connector.py:1116\u001b[0m, in \u001b[0;36mTCPConnector._wrap_create_connection\u001b[0;34m(self, addr_infos, req, timeout, client_error, *args, **kwargs)\u001b[0m\n\u001b[1;32m   1106\u001b[0m     \u001b[38;5;28;01masync\u001b[39;00m \u001b[38;5;28;01mwith\u001b[39;00m ceil_timeout(\n\u001b[1;32m   1107\u001b[0m         timeout\u001b[38;5;241m.\u001b[39msock_connect, ceil_threshold\u001b[38;5;241m=\u001b[39mtimeout\u001b[38;5;241m.\u001b[39mceil_threshold\n\u001b[1;32m   1108\u001b[0m     ):\n\u001b[1;32m   1109\u001b[0m         sock \u001b[38;5;241m=\u001b[39m \u001b[38;5;28;01mawait\u001b[39;00m aiohappyeyeballs\u001b[38;5;241m.\u001b[39mstart_connection(\n\u001b[1;32m   1110\u001b[0m             addr_infos\u001b[38;5;241m=\u001b[39maddr_infos,\n\u001b[1;32m   1111\u001b[0m             local_addr_infos\u001b[38;5;241m=\u001b[39m\u001b[38;5;28mself\u001b[39m\u001b[38;5;241m.\u001b[39m_local_addr_infos,\n\u001b[0;32m   (...)\u001b[0m\n\u001b[1;32m   1114\u001b[0m             loop\u001b[38;5;241m=\u001b[39m\u001b[38;5;28mself\u001b[39m\u001b[38;5;241m.\u001b[39m_loop,\n\u001b[1;32m   1115\u001b[0m         )\n\u001b[0;32m-> 1116\u001b[0m         \u001b[38;5;28;01mreturn\u001b[39;00m \u001b[38;5;28;01mawait\u001b[39;00m \u001b[38;5;28mself\u001b[39m\u001b[38;5;241m.\u001b[39m_loop\u001b[38;5;241m.\u001b[39mcreate_connection(\u001b[38;5;241m*\u001b[39margs, \u001b[38;5;241m*\u001b[39m\u001b[38;5;241m*\u001b[39mkwargs, sock\u001b[38;5;241m=\u001b[39msock)\n\u001b[1;32m   1117\u001b[0m \u001b[38;5;28;01mexcept\u001b[39;00m cert_errors \u001b[38;5;28;01mas\u001b[39;00m exc:\n\u001b[1;32m   1118\u001b[0m     \u001b[38;5;28;01mraise\u001b[39;00m ClientConnectorCertificateError(req\u001b[38;5;241m.\u001b[39mconnection_key, exc) \u001b[38;5;28;01mfrom\u001b[39;00m \u001b[38;5;21;01mexc\u001b[39;00m\n",
      "File \u001b[0;32m/usr/lib/python3.12/asyncio/base_events.py:1149\u001b[0m, in \u001b[0;36mBaseEventLoop.create_connection\u001b[0;34m(self, protocol_factory, host, port, ssl, family, proto, flags, sock, local_addr, server_hostname, ssl_handshake_timeout, ssl_shutdown_timeout, happy_eyeballs_delay, interleave, all_errors)\u001b[0m\n\u001b[1;32m   1139\u001b[0m     \u001b[38;5;28;01mif\u001b[39;00m sock\u001b[38;5;241m.\u001b[39mtype \u001b[38;5;241m!=\u001b[39m socket\u001b[38;5;241m.\u001b[39mSOCK_STREAM:\n\u001b[1;32m   1140\u001b[0m         \u001b[38;5;66;03m# We allow AF_INET, AF_INET6, AF_UNIX as long as they\u001b[39;00m\n\u001b[1;32m   1141\u001b[0m         \u001b[38;5;66;03m# are SOCK_STREAM.\u001b[39;00m\n\u001b[0;32m   (...)\u001b[0m\n\u001b[1;32m   1144\u001b[0m         \u001b[38;5;66;03m# Disallowing AF_UNIX in this method, breaks backwards\u001b[39;00m\n\u001b[1;32m   1145\u001b[0m         \u001b[38;5;66;03m# compatibility.\u001b[39;00m\n\u001b[1;32m   1146\u001b[0m         \u001b[38;5;28;01mraise\u001b[39;00m \u001b[38;5;167;01mValueError\u001b[39;00m(\n\u001b[1;32m   1147\u001b[0m             \u001b[38;5;124mf\u001b[39m\u001b[38;5;124m'\u001b[39m\u001b[38;5;124mA Stream Socket was expected, got \u001b[39m\u001b[38;5;132;01m{\u001b[39;00msock\u001b[38;5;132;01m!r}\u001b[39;00m\u001b[38;5;124m'\u001b[39m)\n\u001b[0;32m-> 1149\u001b[0m transport, protocol \u001b[38;5;241m=\u001b[39m \u001b[38;5;28;01mawait\u001b[39;00m \u001b[38;5;28mself\u001b[39m\u001b[38;5;241m.\u001b[39m_create_connection_transport(\n\u001b[1;32m   1150\u001b[0m     sock, protocol_factory, ssl, server_hostname,\n\u001b[1;32m   1151\u001b[0m     ssl_handshake_timeout\u001b[38;5;241m=\u001b[39mssl_handshake_timeout,\n\u001b[1;32m   1152\u001b[0m     ssl_shutdown_timeout\u001b[38;5;241m=\u001b[39mssl_shutdown_timeout)\n\u001b[1;32m   1153\u001b[0m \u001b[38;5;28;01mif\u001b[39;00m \u001b[38;5;28mself\u001b[39m\u001b[38;5;241m.\u001b[39m_debug:\n\u001b[1;32m   1154\u001b[0m     \u001b[38;5;66;03m# Get the socket from the transport because SSL transport closes\u001b[39;00m\n\u001b[1;32m   1155\u001b[0m     \u001b[38;5;66;03m# the old socket and creates a new SSL socket\u001b[39;00m\n\u001b[1;32m   1156\u001b[0m     sock \u001b[38;5;241m=\u001b[39m transport\u001b[38;5;241m.\u001b[39mget_extra_info(\u001b[38;5;124m'\u001b[39m\u001b[38;5;124msocket\u001b[39m\u001b[38;5;124m'\u001b[39m)\n",
      "File \u001b[0;32m/usr/lib/python3.12/asyncio/base_events.py:1182\u001b[0m, in \u001b[0;36mBaseEventLoop._create_connection_transport\u001b[0;34m(self, sock, protocol_factory, ssl, server_hostname, server_side, ssl_handshake_timeout, ssl_shutdown_timeout)\u001b[0m\n\u001b[1;32m   1179\u001b[0m     transport \u001b[38;5;241m=\u001b[39m \u001b[38;5;28mself\u001b[39m\u001b[38;5;241m.\u001b[39m_make_socket_transport(sock, protocol, waiter)\n\u001b[1;32m   1181\u001b[0m \u001b[38;5;28;01mtry\u001b[39;00m:\n\u001b[0;32m-> 1182\u001b[0m     \u001b[38;5;28;01mawait\u001b[39;00m waiter\n\u001b[1;32m   1183\u001b[0m \u001b[38;5;28;01mexcept\u001b[39;00m:\n\u001b[1;32m   1184\u001b[0m     transport\u001b[38;5;241m.\u001b[39mclose()\n",
      "\u001b[0;31mCancelledError\u001b[0m: "
     ]
    }
   ],
   "source": [
    "for lang, da_dict in date_article_dict.items():\n",
    "    print(lang)\n",
    "    l_revisions_df = []\n",
    "    if lang not in pagemapsdict:\n",
    "        pagemapsdict[lang] = wt.PageMaps()\n",
    "    wtsession = wt.WTSession(f'{lang}.wikipedia', user_agent=my_agent)\n",
    "    maxgroupsize = 1000\n",
    "    for n, (daterange, articles) in enumerate(da_dict.items()):\n",
    "        if n % 100 == 0:\n",
    "            print(n/len(da_dict), end='\\r')\n",
    "\n",
    "        grouprevs = {}\n",
    "        groupsize = maxgroupsize\n",
    "        while len(articles) > 0:\n",
    "            try:\n",
    "                revisions = await wt.get_revisions(wtsession, articles[:groupsize], pagemaps=pagemapsdict[lang],\n",
    "                                                start=daterange[0].isoformat(), stop=daterange[1].isoformat())\n",
    "                grouprevs.update(revisions)\n",
    "                articles = articles[groupsize:]\n",
    "                groupsize = min(int(groupsize * (2**0.5)), maxgroupsize)\n",
    "            except ValueError as e:\n",
    "                # print(e, 'Reducing group size to', groupsize // 2)\n",
    "                time.sleep(0.1)\n",
    "                groupsize = groupsize // 2\n",
    "\n",
    "        revisions = pd.concat({k: pd.DataFrame(v) for k, v in grouprevs.items()}).reset_index(\n",
    "            level=1, drop=True).reset_index().rename(columns={'index': 'title'})\n",
    "        if len(revisions) == 0:\n",
    "            continue\n",
    "        revisions['lang'] = lang\n",
    "        revisions = revisions[['lang', 'title', 'revid', 'parentid', 'timestamp']]\n",
    "        l_revisions_df.append(revisions)\n",
    "        \n",
    "    if len(l_revisions_df) > 0:\n",
    "        l_revisions_df = pd.concat(l_revisions_df, ignore_index=True)\n",
    "        l_revisions_df.to_hdf('data/revisions.h5', key=f'/{lang}', mode='a')\n",
    "    await wtsession.close()"
   ]
  },
  {
   "cell_type": "code",
   "execution_count": 15,
   "metadata": {},
   "outputs": [
    {
     "name": "stdout",
     "output_type": "stream",
     "text": [
      "aa\n",
      "0.0\r"
     ]
    },
    {
     "name": "stderr",
     "output_type": "stream",
     "text": [
      "/tmp/ipykernel_5084/2352896156.py:34: PerformanceWarning: \n",
      "your performance may suffer as PyTables will pickle object types that it cannot\n",
      "map directly to c-types [inferred_type->mixed-integer,key->block0_values] [items->Index(['lang', 'title', 'revid', 'parentid', 'timestamp'], dtype='object')]\n",
      "\n",
      "  l_revisions_df.to_hdf('data/date_revisions.h5', key=f'/{lang}', mode='a')\n"
     ]
    },
    {
     "name": "stdout",
     "output_type": "stream",
     "text": [
      "ab\n",
      "0.0\r"
     ]
    },
    {
     "name": "stderr",
     "output_type": "stream",
     "text": [
      "/tmp/ipykernel_5084/2352896156.py:34: PerformanceWarning: \n",
      "your performance may suffer as PyTables will pickle object types that it cannot\n",
      "map directly to c-types [inferred_type->mixed-integer,key->block0_values] [items->Index(['lang', 'title', 'revid', 'parentid', 'timestamp'], dtype='object')]\n",
      "\n",
      "  l_revisions_df.to_hdf('data/date_revisions.h5', key=f'/{lang}', mode='a')\n"
     ]
    },
    {
     "name": "stdout",
     "output_type": "stream",
     "text": [
      "ace\n",
      "0.0\r"
     ]
    },
    {
     "name": "stderr",
     "output_type": "stream",
     "text": [
      "/tmp/ipykernel_5084/2352896156.py:34: PerformanceWarning: \n",
      "your performance may suffer as PyTables will pickle object types that it cannot\n",
      "map directly to c-types [inferred_type->mixed-integer,key->block0_values] [items->Index(['lang', 'title', 'revid', 'parentid', 'timestamp'], dtype='object')]\n",
      "\n",
      "  l_revisions_df.to_hdf('data/date_revisions.h5', key=f'/{lang}', mode='a')\n"
     ]
    },
    {
     "name": "stdout",
     "output_type": "stream",
     "text": [
      "ady\n",
      "0.0\r"
     ]
    },
    {
     "name": "stderr",
     "output_type": "stream",
     "text": [
      "/tmp/ipykernel_5084/2352896156.py:34: PerformanceWarning: \n",
      "your performance may suffer as PyTables will pickle object types that it cannot\n",
      "map directly to c-types [inferred_type->mixed-integer,key->block0_values] [items->Index(['lang', 'title', 'revid', 'parentid', 'timestamp'], dtype='object')]\n",
      "\n",
      "  l_revisions_df.to_hdf('data/date_revisions.h5', key=f'/{lang}', mode='a')\n"
     ]
    },
    {
     "name": "stdout",
     "output_type": "stream",
     "text": [
      "af\n",
      "0.0\r"
     ]
    },
    {
     "name": "stderr",
     "output_type": "stream",
     "text": [
      "/tmp/ipykernel_5084/2352896156.py:34: PerformanceWarning: \n",
      "your performance may suffer as PyTables will pickle object types that it cannot\n",
      "map directly to c-types [inferred_type->mixed-integer,key->block0_values] [items->Index(['lang', 'title', 'revid', 'parentid', 'timestamp'], dtype='object')]\n",
      "\n",
      "  l_revisions_df.to_hdf('data/date_revisions.h5', key=f'/{lang}', mode='a')\n"
     ]
    },
    {
     "name": "stdout",
     "output_type": "stream",
     "text": [
      "als\n",
      "0.0\r"
     ]
    },
    {
     "name": "stderr",
     "output_type": "stream",
     "text": [
      "/tmp/ipykernel_5084/2352896156.py:34: PerformanceWarning: \n",
      "your performance may suffer as PyTables will pickle object types that it cannot\n",
      "map directly to c-types [inferred_type->mixed-integer,key->block0_values] [items->Index(['lang', 'title', 'revid', 'parentid', 'timestamp'], dtype='object')]\n",
      "\n",
      "  l_revisions_df.to_hdf('data/date_revisions.h5', key=f'/{lang}', mode='a')\n"
     ]
    },
    {
     "name": "stdout",
     "output_type": "stream",
     "text": [
      "am\n",
      "0.0\r"
     ]
    },
    {
     "name": "stderr",
     "output_type": "stream",
     "text": [
      "/tmp/ipykernel_5084/2352896156.py:34: PerformanceWarning: \n",
      "your performance may suffer as PyTables will pickle object types that it cannot\n",
      "map directly to c-types [inferred_type->mixed-integer,key->block0_values] [items->Index(['lang', 'title', 'revid', 'parentid', 'timestamp'], dtype='object')]\n",
      "\n",
      "  l_revisions_df.to_hdf('data/date_revisions.h5', key=f'/{lang}', mode='a')\n"
     ]
    },
    {
     "name": "stdout",
     "output_type": "stream",
     "text": [
      "an\n",
      "0.0\r"
     ]
    },
    {
     "name": "stderr",
     "output_type": "stream",
     "text": [
      "/tmp/ipykernel_5084/2352896156.py:34: PerformanceWarning: \n",
      "your performance may suffer as PyTables will pickle object types that it cannot\n",
      "map directly to c-types [inferred_type->mixed-integer,key->block0_values] [items->Index(['lang', 'title', 'revid', 'parentid', 'timestamp'], dtype='object')]\n",
      "\n",
      "  l_revisions_df.to_hdf('data/date_revisions.h5', key=f'/{lang}', mode='a')\n"
     ]
    },
    {
     "name": "stdout",
     "output_type": "stream",
     "text": [
      "ang\n",
      "0.0\r"
     ]
    },
    {
     "name": "stderr",
     "output_type": "stream",
     "text": [
      "/tmp/ipykernel_5084/2352896156.py:34: PerformanceWarning: \n",
      "your performance may suffer as PyTables will pickle object types that it cannot\n",
      "map directly to c-types [inferred_type->mixed-integer,key->block0_values] [items->Index(['lang', 'title', 'revid', 'parentid', 'timestamp'], dtype='object')]\n",
      "\n",
      "  l_revisions_df.to_hdf('data/date_revisions.h5', key=f'/{lang}', mode='a')\n"
     ]
    },
    {
     "name": "stdout",
     "output_type": "stream",
     "text": [
      "ar\n",
      "0.0\r"
     ]
    },
    {
     "name": "stderr",
     "output_type": "stream",
     "text": [
      "Unclosed client session\n",
      "client_session: <aiohttp.client.ClientSession object at 0x746814761ac0>\n",
      "Unclosed client session\n",
      "client_session: <aiohttp.client.ClientSession object at 0x746895582ea0>\n",
      "Unclosed client session\n",
      "client_session: <aiohttp.client.ClientSession object at 0x7468880a8a10>\n",
      "Unclosed client session\n",
      "client_session: <aiohttp.client.ClientSession object at 0x7468207e9b50>\n",
      "Unclosed client session\n",
      "client_session: <aiohttp.client.ClientSession object at 0x746814763e00>\n",
      "Unclosed client session\n",
      "client_session: <aiohttp.client.ClientSession object at 0x7468207e8800>\n"
     ]
    },
    {
     "name": "stdout",
     "output_type": "stream",
     "text": [
      "0.8561643835616438\r"
     ]
    },
    {
     "name": "stderr",
     "output_type": "stream",
     "text": [
      "/tmp/ipykernel_5084/2352896156.py:34: PerformanceWarning: \n",
      "your performance may suffer as PyTables will pickle object types that it cannot\n",
      "map directly to c-types [inferred_type->mixed-integer,key->block0_values] [items->Index(['lang', 'title', 'revid', 'parentid', 'timestamp'], dtype='object')]\n",
      "\n",
      "  l_revisions_df.to_hdf('data/date_revisions.h5', key=f'/{lang}', mode='a')\n"
     ]
    },
    {
     "name": "stdout",
     "output_type": "stream",
     "text": [
      "arc\n",
      "0.0\r"
     ]
    },
    {
     "name": "stderr",
     "output_type": "stream",
     "text": [
      "/tmp/ipykernel_5084/2352896156.py:34: PerformanceWarning: \n",
      "your performance may suffer as PyTables will pickle object types that it cannot\n",
      "map directly to c-types [inferred_type->mixed-integer,key->block0_values] [items->Index(['lang', 'title', 'revid', 'parentid', 'timestamp'], dtype='object')]\n",
      "\n",
      "  l_revisions_df.to_hdf('data/date_revisions.h5', key=f'/{lang}', mode='a')\n"
     ]
    },
    {
     "name": "stdout",
     "output_type": "stream",
     "text": [
      "ary\n",
      "0.0\r"
     ]
    },
    {
     "name": "stderr",
     "output_type": "stream",
     "text": [
      "/tmp/ipykernel_5084/2352896156.py:34: PerformanceWarning: \n",
      "your performance may suffer as PyTables will pickle object types that it cannot\n",
      "map directly to c-types [inferred_type->mixed-integer,key->block0_values] [items->Index(['lang', 'title', 'revid', 'parentid', 'timestamp'], dtype='object')]\n",
      "\n",
      "  l_revisions_df.to_hdf('data/date_revisions.h5', key=f'/{lang}', mode='a')\n"
     ]
    },
    {
     "name": "stdout",
     "output_type": "stream",
     "text": [
      "arz\n",
      "0.0\r"
     ]
    },
    {
     "name": "stderr",
     "output_type": "stream",
     "text": [
      "/tmp/ipykernel_5084/2352896156.py:34: PerformanceWarning: \n",
      "your performance may suffer as PyTables will pickle object types that it cannot\n",
      "map directly to c-types [inferred_type->mixed-integer,key->block0_values] [items->Index(['lang', 'title', 'revid', 'parentid', 'timestamp'], dtype='object')]\n",
      "\n",
      "  l_revisions_df.to_hdf('data/date_revisions.h5', key=f'/{lang}', mode='a')\n"
     ]
    },
    {
     "name": "stdout",
     "output_type": "stream",
     "text": [
      "as\n",
      "0.0\r"
     ]
    },
    {
     "name": "stderr",
     "output_type": "stream",
     "text": [
      "/home/patrick/Documents/R4R/.venv/lib/python3.12/site-packages/tables/path.py:137: NaturalNameWarning: object name is a Python keyword: 'as'; you will not be able to use natural naming to access this object; using ``getattr()`` will still work, though\n",
      "  check_attribute_name(name)\n",
      "/tmp/ipykernel_5084/2352896156.py:34: PerformanceWarning: \n",
      "your performance may suffer as PyTables will pickle object types that it cannot\n",
      "map directly to c-types [inferred_type->mixed-integer,key->block0_values] [items->Index(['lang', 'title', 'revid', 'parentid', 'timestamp'], dtype='object')]\n",
      "\n",
      "  l_revisions_df.to_hdf('data/date_revisions.h5', key=f'/{lang}', mode='a')\n"
     ]
    },
    {
     "name": "stdout",
     "output_type": "stream",
     "text": [
      "ast\n",
      "0.0\r"
     ]
    },
    {
     "name": "stderr",
     "output_type": "stream",
     "text": [
      "/tmp/ipykernel_5084/2352896156.py:34: PerformanceWarning: \n",
      "your performance may suffer as PyTables will pickle object types that it cannot\n",
      "map directly to c-types [inferred_type->mixed-integer,key->block0_values] [items->Index(['lang', 'title', 'revid', 'parentid', 'timestamp'], dtype='object')]\n",
      "\n",
      "  l_revisions_df.to_hdf('data/date_revisions.h5', key=f'/{lang}', mode='a')\n"
     ]
    },
    {
     "name": "stdout",
     "output_type": "stream",
     "text": [
      "atj\n",
      "0.0\r"
     ]
    },
    {
     "name": "stderr",
     "output_type": "stream",
     "text": [
      "/tmp/ipykernel_5084/2352896156.py:34: PerformanceWarning: \n",
      "your performance may suffer as PyTables will pickle object types that it cannot\n",
      "map directly to c-types [inferred_type->mixed-integer,key->block0_values] [items->Index(['lang', 'title', 'revid', 'parentid', 'timestamp'], dtype='object')]\n",
      "\n",
      "  l_revisions_df.to_hdf('data/date_revisions.h5', key=f'/{lang}', mode='a')\n"
     ]
    },
    {
     "name": "stdout",
     "output_type": "stream",
     "text": [
      "avk\n",
      "0.0\r"
     ]
    },
    {
     "name": "stderr",
     "output_type": "stream",
     "text": [
      "/tmp/ipykernel_5084/2352896156.py:34: PerformanceWarning: \n",
      "your performance may suffer as PyTables will pickle object types that it cannot\n",
      "map directly to c-types [inferred_type->mixed-integer,key->block0_values] [items->Index(['lang', 'title', 'revid', 'parentid', 'timestamp'], dtype='object')]\n",
      "\n",
      "  l_revisions_df.to_hdf('data/date_revisions.h5', key=f'/{lang}', mode='a')\n"
     ]
    },
    {
     "name": "stdout",
     "output_type": "stream",
     "text": [
      "ay\n",
      "0.0\r"
     ]
    },
    {
     "name": "stderr",
     "output_type": "stream",
     "text": [
      "/tmp/ipykernel_5084/2352896156.py:34: PerformanceWarning: \n",
      "your performance may suffer as PyTables will pickle object types that it cannot\n",
      "map directly to c-types [inferred_type->mixed-integer,key->block0_values] [items->Index(['lang', 'title', 'revid', 'parentid', 'timestamp'], dtype='object')]\n",
      "\n",
      "  l_revisions_df.to_hdf('data/date_revisions.h5', key=f'/{lang}', mode='a')\n"
     ]
    },
    {
     "name": "stdout",
     "output_type": "stream",
     "text": [
      "az\n",
      "0.0\r"
     ]
    },
    {
     "name": "stderr",
     "output_type": "stream",
     "text": [
      "/tmp/ipykernel_5084/2352896156.py:34: PerformanceWarning: \n",
      "your performance may suffer as PyTables will pickle object types that it cannot\n",
      "map directly to c-types [inferred_type->mixed-integer,key->block0_values] [items->Index(['lang', 'title', 'revid', 'parentid', 'timestamp'], dtype='object')]\n",
      "\n",
      "  l_revisions_df.to_hdf('data/date_revisions.h5', key=f'/{lang}', mode='a')\n"
     ]
    },
    {
     "name": "stdout",
     "output_type": "stream",
     "text": [
      "azb\n",
      "0.0\r"
     ]
    },
    {
     "name": "stderr",
     "output_type": "stream",
     "text": [
      "/tmp/ipykernel_5084/2352896156.py:34: PerformanceWarning: \n",
      "your performance may suffer as PyTables will pickle object types that it cannot\n",
      "map directly to c-types [inferred_type->mixed-integer,key->block0_values] [items->Index(['lang', 'title', 'revid', 'parentid', 'timestamp'], dtype='object')]\n",
      "\n",
      "  l_revisions_df.to_hdf('data/date_revisions.h5', key=f'/{lang}', mode='a')\n"
     ]
    },
    {
     "name": "stdout",
     "output_type": "stream",
     "text": [
      "ba\n",
      "0.0\r"
     ]
    },
    {
     "name": "stderr",
     "output_type": "stream",
     "text": [
      "/tmp/ipykernel_5084/2352896156.py:34: PerformanceWarning: \n",
      "your performance may suffer as PyTables will pickle object types that it cannot\n",
      "map directly to c-types [inferred_type->mixed-integer,key->block0_values] [items->Index(['lang', 'title', 'revid', 'parentid', 'timestamp'], dtype='object')]\n",
      "\n",
      "  l_revisions_df.to_hdf('data/date_revisions.h5', key=f'/{lang}', mode='a')\n"
     ]
    },
    {
     "name": "stdout",
     "output_type": "stream",
     "text": [
      "ban\n",
      "0.0\r"
     ]
    },
    {
     "name": "stderr",
     "output_type": "stream",
     "text": [
      "/tmp/ipykernel_5084/2352896156.py:34: PerformanceWarning: \n",
      "your performance may suffer as PyTables will pickle object types that it cannot\n",
      "map directly to c-types [inferred_type->mixed-integer,key->block0_values] [items->Index(['lang', 'title', 'revid', 'parentid', 'timestamp'], dtype='object')]\n",
      "\n",
      "  l_revisions_df.to_hdf('data/date_revisions.h5', key=f'/{lang}', mode='a')\n"
     ]
    },
    {
     "name": "stdout",
     "output_type": "stream",
     "text": [
      "bar\n",
      "0.0\r"
     ]
    },
    {
     "name": "stderr",
     "output_type": "stream",
     "text": [
      "/tmp/ipykernel_5084/2352896156.py:34: PerformanceWarning: \n",
      "your performance may suffer as PyTables will pickle object types that it cannot\n",
      "map directly to c-types [inferred_type->mixed-integer,key->block0_values] [items->Index(['lang', 'title', 'revid', 'parentid', 'timestamp'], dtype='object')]\n",
      "\n",
      "  l_revisions_df.to_hdf('data/date_revisions.h5', key=f'/{lang}', mode='a')\n"
     ]
    },
    {
     "name": "stdout",
     "output_type": "stream",
     "text": [
      "bat-smg\n",
      "0.0\r"
     ]
    },
    {
     "name": "stderr",
     "output_type": "stream",
     "text": [
      "/home/patrick/Documents/R4R/.venv/lib/python3.12/site-packages/tables/path.py:137: NaturalNameWarning: object name is not a valid Python identifier: 'bat-smg'; it does not match the pattern ``^[a-zA-Z_][a-zA-Z0-9_]*$``; you will not be able to use natural naming to access this object; using ``getattr()`` will still work, though\n",
      "  check_attribute_name(name)\n",
      "/tmp/ipykernel_5084/2352896156.py:34: PerformanceWarning: \n",
      "your performance may suffer as PyTables will pickle object types that it cannot\n",
      "map directly to c-types [inferred_type->mixed-integer,key->block0_values] [items->Index(['lang', 'title', 'revid', 'parentid', 'timestamp'], dtype='object')]\n",
      "\n",
      "  l_revisions_df.to_hdf('data/date_revisions.h5', key=f'/{lang}', mode='a')\n"
     ]
    },
    {
     "name": "stdout",
     "output_type": "stream",
     "text": [
      "bcl\n",
      "0.0\r"
     ]
    },
    {
     "name": "stderr",
     "output_type": "stream",
     "text": [
      "/tmp/ipykernel_5084/2352896156.py:34: PerformanceWarning: \n",
      "your performance may suffer as PyTables will pickle object types that it cannot\n",
      "map directly to c-types [inferred_type->mixed-integer,key->block0_values] [items->Index(['lang', 'title', 'revid', 'parentid', 'timestamp'], dtype='object')]\n",
      "\n",
      "  l_revisions_df.to_hdf('data/date_revisions.h5', key=f'/{lang}', mode='a')\n"
     ]
    },
    {
     "name": "stdout",
     "output_type": "stream",
     "text": [
      "be\n",
      "0.0\r"
     ]
    },
    {
     "name": "stderr",
     "output_type": "stream",
     "text": [
      "/tmp/ipykernel_5084/2352896156.py:34: PerformanceWarning: \n",
      "your performance may suffer as PyTables will pickle object types that it cannot\n",
      "map directly to c-types [inferred_type->mixed-integer,key->block0_values] [items->Index(['lang', 'title', 'revid', 'parentid', 'timestamp'], dtype='object')]\n",
      "\n",
      "  l_revisions_df.to_hdf('data/date_revisions.h5', key=f'/{lang}', mode='a')\n"
     ]
    },
    {
     "name": "stdout",
     "output_type": "stream",
     "text": [
      "be-tarask\n",
      "0.0\r"
     ]
    },
    {
     "name": "stderr",
     "output_type": "stream",
     "text": [
      "/home/patrick/Documents/R4R/.venv/lib/python3.12/site-packages/tables/path.py:137: NaturalNameWarning: object name is not a valid Python identifier: 'be-tarask'; it does not match the pattern ``^[a-zA-Z_][a-zA-Z0-9_]*$``; you will not be able to use natural naming to access this object; using ``getattr()`` will still work, though\n",
      "  check_attribute_name(name)\n",
      "/tmp/ipykernel_5084/2352896156.py:34: PerformanceWarning: \n",
      "your performance may suffer as PyTables will pickle object types that it cannot\n",
      "map directly to c-types [inferred_type->mixed-integer,key->block0_values] [items->Index(['lang', 'title', 'revid', 'parentid', 'timestamp'], dtype='object')]\n",
      "\n",
      "  l_revisions_df.to_hdf('data/date_revisions.h5', key=f'/{lang}', mode='a')\n"
     ]
    },
    {
     "name": "stdout",
     "output_type": "stream",
     "text": [
      "bg\n",
      "0.0\r"
     ]
    },
    {
     "ename": "CancelledError",
     "evalue": "",
     "output_type": "error",
     "traceback": [
      "\u001b[0;31m---------------------------------------------------------------------------\u001b[0m",
      "\u001b[0;31mCancelledError\u001b[0m                            Traceback (most recent call last)",
      "Cell \u001b[0;32mIn[15], line 15\u001b[0m\n\u001b[1;32m     13\u001b[0m \u001b[38;5;28;01mwhile\u001b[39;00m \u001b[38;5;28mlen\u001b[39m(articles) \u001b[38;5;241m>\u001b[39m \u001b[38;5;241m0\u001b[39m:\n\u001b[1;32m     14\u001b[0m     \u001b[38;5;28;01mtry\u001b[39;00m:\n\u001b[0;32m---> 15\u001b[0m         revisions \u001b[38;5;241m=\u001b[39m \u001b[38;5;28;01mawait\u001b[39;00m wt\u001b[38;5;241m.\u001b[39mget_revision(wtsession, titles\u001b[38;5;241m=\u001b[39marticles[:groupsize], pagemaps\u001b[38;5;241m=\u001b[39mpagemapsdict[lang],\n\u001b[1;32m     16\u001b[0m                                          date\u001b[38;5;241m=\u001b[39mdate\u001b[38;5;241m.\u001b[39misoformat())\n\u001b[1;32m     17\u001b[0m         grouprevs\u001b[38;5;241m.\u001b[39mupdate(revisions)\n\u001b[1;32m     18\u001b[0m         articles \u001b[38;5;241m=\u001b[39m articles[groupsize:]\n",
      "File \u001b[0;32m~/Documents/R4R/.venv/lib/python3.12/site-packages/wikitoolkit/revisions.py:60\u001b[0m, in \u001b[0;36mget_revision\u001b[0;34m(session, titles, pageids, date, pagemaps, props, return_props)\u001b[0m\n\u001b[1;32m     56\u001b[0m query_args_list, key, ix \u001b[38;5;241m=\u001b[39m querylister(titles, pageids, generator\u001b[38;5;241m=\u001b[39m\u001b[38;5;28;01mTrue\u001b[39;00m,\n\u001b[1;32m     57\u001b[0m             pagemaps\u001b[38;5;241m=\u001b[39mpagemaps, params\u001b[38;5;241m=\u001b[39mparams)\n\u001b[1;32m     59\u001b[0m \u001b[38;5;66;03m# Execute the API query and parse the revision data\u001b[39;00m\n\u001b[0;32m---> 60\u001b[0m data \u001b[38;5;241m=\u001b[39m \u001b[38;5;28;01mawait\u001b[39;00m iterate_async_query(session\u001b[38;5;241m.\u001b[39mmw_session, query_args_list, function\u001b[38;5;241m=\u001b[39mparse_revision, continuation\u001b[38;5;241m=\u001b[39m\u001b[38;5;28;01mFalse\u001b[39;00m)\n\u001b[1;32m     62\u001b[0m \u001b[38;5;66;03m# Organize the revision data based on titles or pageids\u001b[39;00m\n\u001b[1;32m     63\u001b[0m \u001b[38;5;28;01mif\u001b[39;00m titles:\n",
      "File \u001b[0;32m~/Documents/R4R/.venv/lib/python3.12/site-packages/wikitoolkit/api.py:136\u001b[0m, in \u001b[0;36miterate_async_query\u001b[0;34m(session, query_args_list, function, f_args, continuation, debug, httpmethod, posturl)\u001b[0m\n\u001b[1;32m    133\u001b[0m     tasks \u001b[38;5;241m=\u001b[39m [query_async(session, query_args, continuation, debug, httpmethod, posturl) \u001b[38;5;28;01mfor\u001b[39;00m query_args \u001b[38;5;129;01min\u001b[39;00m query_args_list]\n\u001b[1;32m    135\u001b[0m \u001b[38;5;66;03m# Execute the tasks asynchronously and gather the results\u001b[39;00m\n\u001b[0;32m--> 136\u001b[0m results \u001b[38;5;241m=\u001b[39m \u001b[38;5;28;01mawait\u001b[39;00m asyncio\u001b[38;5;241m.\u001b[39mgather(\u001b[38;5;241m*\u001b[39mtasks)\n\u001b[1;32m    138\u001b[0m \u001b[38;5;28;01mreturn\u001b[39;00m results\n",
      "File \u001b[0;32m~/Documents/R4R/.venv/lib/python3.12/site-packages/wikitoolkit/revisions.py:17\u001b[0m, in \u001b[0;36mparse_revision\u001b[0;34m(data)\u001b[0m\n\u001b[1;32m      8\u001b[0m \u001b[38;5;250m\u001b[39m\u001b[38;5;124;03m\"\"\"Parse single revision data from the API.\u001b[39;00m\n\u001b[1;32m      9\u001b[0m \n\u001b[1;32m     10\u001b[0m \u001b[38;5;124;03mArgs:\u001b[39;00m\n\u001b[0;32m   (...)\u001b[0m\n\u001b[1;32m     14\u001b[0m \u001b[38;5;124;03m    dict: revision data.\u001b[39;00m\n\u001b[1;32m     15\u001b[0m \u001b[38;5;124;03m\"\"\"\u001b[39;00m\n\u001b[1;32m     16\u001b[0m rev_info \u001b[38;5;241m=\u001b[39m {}\n\u001b[0;32m---> 17\u001b[0m \u001b[38;5;28;01mfor\u001b[39;00m page \u001b[38;5;129;01min\u001b[39;00m \u001b[38;5;28;01mawait\u001b[39;00m data:\n\u001b[1;32m     18\u001b[0m     rev_info[(page[\u001b[38;5;124m'\u001b[39m\u001b[38;5;124mpageid\u001b[39m\u001b[38;5;124m'\u001b[39m], page[\u001b[38;5;124m'\u001b[39m\u001b[38;5;124mtitle\u001b[39m\u001b[38;5;124m'\u001b[39m])] \u001b[38;5;241m=\u001b[39m page\u001b[38;5;241m.\u001b[39mget(\u001b[38;5;124m'\u001b[39m\u001b[38;5;124mrevisions\u001b[39m\u001b[38;5;124m'\u001b[39m, [\u001b[38;5;28;01mNone\u001b[39;00m])[\u001b[38;5;241m0\u001b[39m]\n\u001b[1;32m     19\u001b[0m \u001b[38;5;28;01mreturn\u001b[39;00m rev_info\n",
      "File \u001b[0;32m~/Documents/R4R/.venv/lib/python3.12/site-packages/wikitoolkit/api.py:76\u001b[0m, in \u001b[0;36mquery_async\u001b[0;34m(session, query_args, continuation, debug, httpmethod, posturl)\u001b[0m\n\u001b[1;32m     74\u001b[0m \u001b[38;5;66;03m# Perform the initial query\u001b[39;00m\n\u001b[1;32m     75\u001b[0m \u001b[38;5;28;01mif\u001b[39;00m httpmethod \u001b[38;5;241m==\u001b[39m \u001b[38;5;124m'\u001b[39m\u001b[38;5;124mGET\u001b[39m\u001b[38;5;124m'\u001b[39m:\n\u001b[0;32m---> 76\u001b[0m     continued \u001b[38;5;241m=\u001b[39m \u001b[38;5;28;01mawait\u001b[39;00m asyncio\u001b[38;5;241m.\u001b[39mcreate_task(session\u001b[38;5;241m.\u001b[39mget(action\u001b[38;5;241m=\u001b[39m\u001b[38;5;124m'\u001b[39m\u001b[38;5;124mquery\u001b[39m\u001b[38;5;124m'\u001b[39m,\n\u001b[1;32m     77\u001b[0m                                                     continuation\u001b[38;5;241m=\u001b[39mcontinuation,\n\u001b[1;32m     78\u001b[0m                                                     \u001b[38;5;241m*\u001b[39m\u001b[38;5;241m*\u001b[39mquery_args))\n\u001b[1;32m     79\u001b[0m \u001b[38;5;28;01melif\u001b[39;00m httpmethod \u001b[38;5;241m==\u001b[39m \u001b[38;5;124m'\u001b[39m\u001b[38;5;124mPOST\u001b[39m\u001b[38;5;124m'\u001b[39m:\n\u001b[1;32m     80\u001b[0m     \u001b[38;5;28;01masync\u001b[39;00m \u001b[38;5;28;01mwith\u001b[39;00m session\u001b[38;5;241m.\u001b[39mpost(url\u001b[38;5;241m=\u001b[39mposturl, json\u001b[38;5;241m=\u001b[39mquery_args) \u001b[38;5;28;01mas\u001b[39;00m response:\n",
      "File \u001b[0;32m~/Documents/R4R/.venv/lib/python3.12/site-packages/mwapi/async_session.py:185\u001b[0m, in \u001b[0;36mAsyncSession.get\u001b[0;34m(self, query_continue, auth, continuation, **params)\u001b[0m\n\u001b[1;32m    163\u001b[0m \u001b[38;5;28;01masync\u001b[39;00m \u001b[38;5;28;01mdef\u001b[39;00m \u001b[38;5;21mget\u001b[39m(\u001b[38;5;28mself\u001b[39m, query_continue\u001b[38;5;241m=\u001b[39m\u001b[38;5;28;01mNone\u001b[39;00m, auth\u001b[38;5;241m=\u001b[39m\u001b[38;5;28;01mNone\u001b[39;00m, continuation\u001b[38;5;241m=\u001b[39m\u001b[38;5;28;01mFalse\u001b[39;00m,\n\u001b[1;32m    164\u001b[0m               \u001b[38;5;241m*\u001b[39m\u001b[38;5;241m*\u001b[39mparams):\n\u001b[1;32m    165\u001b[0m \u001b[38;5;250m    \u001b[39m\u001b[38;5;124;03m\"\"\"Makes an API request with the GET method\u001b[39;00m\n\u001b[1;32m    166\u001b[0m \n\u001b[1;32m    167\u001b[0m \u001b[38;5;124;03m    :Parameters:\u001b[39;00m\n\u001b[0;32m   (...)\u001b[0m\n\u001b[1;32m    183\u001b[0m \u001b[38;5;124;03m        :class:`mwapi.errors.APIError` : if the API responds with an error\u001b[39;00m\n\u001b[1;32m    184\u001b[0m \u001b[38;5;124;03m    \"\"\"\u001b[39;00m\n\u001b[0;32m--> 185\u001b[0m     \u001b[38;5;28;01mreturn\u001b[39;00m \u001b[38;5;28;01mawait\u001b[39;00m \u001b[38;5;28mself\u001b[39m\u001b[38;5;241m.\u001b[39mrequest(\u001b[38;5;124m\"\u001b[39m\u001b[38;5;124mGET\u001b[39m\u001b[38;5;124m\"\u001b[39m, params\u001b[38;5;241m=\u001b[39mparams, auth\u001b[38;5;241m=\u001b[39mauth,\n\u001b[1;32m    186\u001b[0m                               query_continue\u001b[38;5;241m=\u001b[39mquery_continue,\n\u001b[1;32m    187\u001b[0m                               continuation\u001b[38;5;241m=\u001b[39mcontinuation)\n",
      "File \u001b[0;32m~/Documents/R4R/.venv/lib/python3.12/site-packages/mwapi/async_session.py:149\u001b[0m, in \u001b[0;36mAsyncSession.request\u001b[0;34m(self, method, params, query_continue, auth, continuation)\u001b[0m\n\u001b[1;32m    147\u001b[0m     \u001b[38;5;28;01mreturn\u001b[39;00m \u001b[38;5;28mself\u001b[39m\u001b[38;5;241m.\u001b[39m_continuation(method, params\u001b[38;5;241m=\u001b[39mnormal_params, auth\u001b[38;5;241m=\u001b[39mauth)\n\u001b[1;32m    148\u001b[0m \u001b[38;5;28;01melse\u001b[39;00m:\n\u001b[0;32m--> 149\u001b[0m     \u001b[38;5;28;01mreturn\u001b[39;00m \u001b[38;5;28;01mawait\u001b[39;00m \u001b[38;5;28mself\u001b[39m\u001b[38;5;241m.\u001b[39m_request(method, params\u001b[38;5;241m=\u001b[39mnormal_params, auth\u001b[38;5;241m=\u001b[39mauth)\n",
      "File \u001b[0;32m~/Documents/R4R/.venv/lib/python3.12/site-packages/mwapi/async_session.py:81\u001b[0m, in \u001b[0;36mAsyncSession._request\u001b[0;34m(self, method, params, auth)\u001b[0m\n\u001b[1;32m     78\u001b[0m     params[\u001b[38;5;124m'\u001b[39m\u001b[38;5;124mformat\u001b[39m\u001b[38;5;124m'\u001b[39m] \u001b[38;5;241m=\u001b[39m \u001b[38;5;124m\"\u001b[39m\u001b[38;5;124mjson\u001b[39m\u001b[38;5;124m\"\u001b[39m\n\u001b[1;32m     80\u001b[0m \u001b[38;5;28;01mtry\u001b[39;00m:\n\u001b[0;32m---> 81\u001b[0m     \u001b[38;5;28;01masync\u001b[39;00m \u001b[38;5;28;01mwith\u001b[39;00m \u001b[38;5;28mself\u001b[39m\u001b[38;5;241m.\u001b[39msession\u001b[38;5;241m.\u001b[39mrequest(method\u001b[38;5;241m=\u001b[39mmethod, url\u001b[38;5;241m=\u001b[39m\u001b[38;5;28mself\u001b[39m\u001b[38;5;241m.\u001b[39mapi_url,\n\u001b[1;32m     82\u001b[0m                                     params\u001b[38;5;241m=\u001b[39mparams, data\u001b[38;5;241m=\u001b[39mdata,\n\u001b[1;32m     83\u001b[0m                                     timeout\u001b[38;5;241m=\u001b[39m\u001b[38;5;28mself\u001b[39m\u001b[38;5;241m.\u001b[39mtimeout,\n\u001b[1;32m     84\u001b[0m                                     headers\u001b[38;5;241m=\u001b[39m\u001b[38;5;28mself\u001b[39m\u001b[38;5;241m.\u001b[39mheaders,\n\u001b[1;32m     85\u001b[0m                                     verify_ssl\u001b[38;5;241m=\u001b[39m\u001b[38;5;28;01mTrue\u001b[39;00m,\n\u001b[1;32m     86\u001b[0m                                     auth\u001b[38;5;241m=\u001b[39mauth) \u001b[38;5;28;01mas\u001b[39;00m resp:\n\u001b[1;32m     88\u001b[0m         doc \u001b[38;5;241m=\u001b[39m \u001b[38;5;28;01mawait\u001b[39;00m resp\u001b[38;5;241m.\u001b[39mjson()\n\u001b[1;32m     90\u001b[0m         \u001b[38;5;28;01mif\u001b[39;00m \u001b[38;5;124m'\u001b[39m\u001b[38;5;124merror\u001b[39m\u001b[38;5;124m'\u001b[39m \u001b[38;5;129;01min\u001b[39;00m doc:\n",
      "File \u001b[0;32m~/Documents/R4R/.venv/lib/python3.12/site-packages/aiohttp/client.py:1423\u001b[0m, in \u001b[0;36m_BaseRequestContextManager.__aenter__\u001b[0;34m(self)\u001b[0m\n\u001b[1;32m   1422\u001b[0m \u001b[38;5;28;01masync\u001b[39;00m \u001b[38;5;28;01mdef\u001b[39;00m \u001b[38;5;21m__aenter__\u001b[39m(\u001b[38;5;28mself\u001b[39m) \u001b[38;5;241m-\u001b[39m\u001b[38;5;241m>\u001b[39m _RetType:\n\u001b[0;32m-> 1423\u001b[0m     \u001b[38;5;28mself\u001b[39m\u001b[38;5;241m.\u001b[39m_resp: _RetType \u001b[38;5;241m=\u001b[39m \u001b[38;5;28;01mawait\u001b[39;00m \u001b[38;5;28mself\u001b[39m\u001b[38;5;241m.\u001b[39m_coro\n\u001b[1;32m   1424\u001b[0m     \u001b[38;5;28;01mreturn\u001b[39;00m \u001b[38;5;28;01mawait\u001b[39;00m \u001b[38;5;28mself\u001b[39m\u001b[38;5;241m.\u001b[39m_resp\u001b[38;5;241m.\u001b[39m\u001b[38;5;21m__aenter__\u001b[39m()\n",
      "File \u001b[0;32m~/Documents/R4R/.venv/lib/python3.12/site-packages/aiohttp/client.py:728\u001b[0m, in \u001b[0;36mClientSession._request\u001b[0;34m(self, method, str_or_url, params, data, json, cookies, headers, skip_auto_headers, auth, allow_redirects, max_redirects, compress, chunked, expect100, raise_for_status, read_until_eof, proxy, proxy_auth, timeout, verify_ssl, fingerprint, ssl_context, ssl, server_hostname, proxy_headers, trace_request_ctx, read_bufsize, auto_decompress, max_line_size, max_field_size)\u001b[0m\n\u001b[1;32m    726\u001b[0m resp \u001b[38;5;241m=\u001b[39m \u001b[38;5;28;01mawait\u001b[39;00m req\u001b[38;5;241m.\u001b[39msend(conn)\n\u001b[1;32m    727\u001b[0m \u001b[38;5;28;01mtry\u001b[39;00m:\n\u001b[0;32m--> 728\u001b[0m     \u001b[38;5;28;01mawait\u001b[39;00m resp\u001b[38;5;241m.\u001b[39mstart(conn)\n\u001b[1;32m    729\u001b[0m \u001b[38;5;28;01mexcept\u001b[39;00m \u001b[38;5;167;01mBaseException\u001b[39;00m:\n\u001b[1;32m    730\u001b[0m     resp\u001b[38;5;241m.\u001b[39mclose()\n",
      "File \u001b[0;32m~/Documents/R4R/.venv/lib/python3.12/site-packages/aiohttp/client_reqrep.py:1055\u001b[0m, in \u001b[0;36mClientResponse.start\u001b[0;34m(self, connection)\u001b[0m\n\u001b[1;32m   1053\u001b[0m \u001b[38;5;28;01mtry\u001b[39;00m:\n\u001b[1;32m   1054\u001b[0m     protocol \u001b[38;5;241m=\u001b[39m \u001b[38;5;28mself\u001b[39m\u001b[38;5;241m.\u001b[39m_protocol\n\u001b[0;32m-> 1055\u001b[0m     message, payload \u001b[38;5;241m=\u001b[39m \u001b[38;5;28;01mawait\u001b[39;00m protocol\u001b[38;5;241m.\u001b[39mread()  \u001b[38;5;66;03m# type: ignore[union-attr]\u001b[39;00m\n\u001b[1;32m   1056\u001b[0m \u001b[38;5;28;01mexcept\u001b[39;00m http\u001b[38;5;241m.\u001b[39mHttpProcessingError \u001b[38;5;28;01mas\u001b[39;00m exc:\n\u001b[1;32m   1057\u001b[0m     \u001b[38;5;28;01mraise\u001b[39;00m ClientResponseError(\n\u001b[1;32m   1058\u001b[0m         \u001b[38;5;28mself\u001b[39m\u001b[38;5;241m.\u001b[39mrequest_info,\n\u001b[1;32m   1059\u001b[0m         \u001b[38;5;28mself\u001b[39m\u001b[38;5;241m.\u001b[39mhistory,\n\u001b[0;32m   (...)\u001b[0m\n\u001b[1;32m   1062\u001b[0m         headers\u001b[38;5;241m=\u001b[39mexc\u001b[38;5;241m.\u001b[39mheaders,\n\u001b[1;32m   1063\u001b[0m     ) \u001b[38;5;28;01mfrom\u001b[39;00m \u001b[38;5;21;01mexc\u001b[39;00m\n",
      "File \u001b[0;32m~/Documents/R4R/.venv/lib/python3.12/site-packages/aiohttp/streams.py:668\u001b[0m, in \u001b[0;36mDataQueue.read\u001b[0;34m(self)\u001b[0m\n\u001b[1;32m    666\u001b[0m \u001b[38;5;28mself\u001b[39m\u001b[38;5;241m.\u001b[39m_waiter \u001b[38;5;241m=\u001b[39m \u001b[38;5;28mself\u001b[39m\u001b[38;5;241m.\u001b[39m_loop\u001b[38;5;241m.\u001b[39mcreate_future()\n\u001b[1;32m    667\u001b[0m \u001b[38;5;28;01mtry\u001b[39;00m:\n\u001b[0;32m--> 668\u001b[0m     \u001b[38;5;28;01mawait\u001b[39;00m \u001b[38;5;28mself\u001b[39m\u001b[38;5;241m.\u001b[39m_waiter\n\u001b[1;32m    669\u001b[0m \u001b[38;5;28;01mexcept\u001b[39;00m (asyncio\u001b[38;5;241m.\u001b[39mCancelledError, asyncio\u001b[38;5;241m.\u001b[39mTimeoutError):\n\u001b[1;32m    670\u001b[0m     \u001b[38;5;28mself\u001b[39m\u001b[38;5;241m.\u001b[39m_waiter \u001b[38;5;241m=\u001b[39m \u001b[38;5;28;01mNone\u001b[39;00m\n",
      "\u001b[0;31mCancelledError\u001b[0m: "
     ]
    }
   ],
   "source": [
    "maxgroupsize = 1000\n",
    "for lang, da_dict in startdate_article_dict.items():\n",
    "    print(lang)\n",
    "    l_revisions_df = []\n",
    "    if lang not in pagemapsdict:\n",
    "        pagemapsdict[lang] = wt.PageMaps()\n",
    "    wtsession = wt.WTSession(f'{lang}.wikipedia', user_agent=my_agent)\n",
    "    for n, (date, articles) in enumerate(da_dict.items()):\n",
    "        if n % 1000 == 0:\n",
    "            print(n/len(da_dict), end='\\r')\n",
    "        grouprevs = {}\n",
    "        groupsize = maxgroupsize\n",
    "        while len(articles) > 0:\n",
    "            try:\n",
    "                revisions = await wt.get_revision(wtsession, titles=articles[:groupsize], pagemaps=pagemapsdict[lang],\n",
    "                                                 date=date.isoformat())\n",
    "                grouprevs.update(revisions)\n",
    "                articles = articles[groupsize:]\n",
    "                groupsize = min(int(groupsize * (2**0.5)), maxgroupsize)\n",
    "            except ValueError as e:\n",
    "                # print(e, 'Reducing group size to', groupsize // 2)\n",
    "                time.sleep(0.1)\n",
    "                groupsize = groupsize // 2\n",
    "\n",
    "        date_revisions = pd.DataFrame({k: v for k, v in grouprevs.items() if v}).T.reset_index().rename(columns={'index': 'title'})\n",
    "        if len(date_revisions) == 0:\n",
    "            continue\n",
    "        date_revisions['lang'] = lang\n",
    "        date_revisions = date_revisions[['lang', 'title', 'revid', 'parentid', 'timestamp']]\n",
    "        l_revisions_df.append(date_revisions)\n",
    "\n",
    "    if len(l_revisions_df) > 0:\n",
    "        l_revisions_df = pd.concat(l_revisions_df, ignore_index=True)\n",
    "        l_revisions_df.to_hdf('data/date_revisions.h5', key=f'/{lang}', mode='a')\n",
    "    await wtsession.close()"
   ]
  },
  {
   "cell_type": "code",
   "execution_count": 18,
   "metadata": {},
   "outputs": [
    {
     "name": "stderr",
     "output_type": "stream",
     "text": [
      "Unclosed client session\n",
      "client_session: <aiohttp.client.ClientSession object at 0x7468a13a8fe0>\n",
      "Unclosed client session\n",
      "client_session: <aiohttp.client.ClientSession object at 0x7468880c6d50>\n"
     ]
    },
    {
     "name": "stdout",
     "output_type": "stream",
     "text": [
      "en\n",
      "0.0\r"
     ]
    },
    {
     "name": "stderr",
     "output_type": "stream",
     "text": [
      "Unclosed client session\n",
      "client_session: <aiohttp.client.ClientSession object at 0x74687019a990>\n",
      "Unclosed client session\n",
      "client_session: <aiohttp.client.ClientSession object at 0x7468207dae70>\n",
      "Unclosed client session\n",
      "client_session: <aiohttp.client.ClientSession object at 0x7468207db410>\n",
      "Unclosed client session\n",
      "client_session: <aiohttp.client.ClientSession object at 0x74681f313440>\n"
     ]
    },
    {
     "ename": "CancelledError",
     "evalue": "",
     "output_type": "error",
     "traceback": [
      "\u001b[0;31m---------------------------------------------------------------------------\u001b[0m",
      "\u001b[0;31mCancelledError\u001b[0m                            Traceback (most recent call last)",
      "Cell \u001b[0;32mIn[18], line 16\u001b[0m\n\u001b[1;32m     14\u001b[0m \u001b[38;5;28;01mwhile\u001b[39;00m \u001b[38;5;28mlen\u001b[39m(articles) \u001b[38;5;241m>\u001b[39m \u001b[38;5;241m0\u001b[39m:\n\u001b[1;32m     15\u001b[0m     \u001b[38;5;28;01mtry\u001b[39;00m:\n\u001b[0;32m---> 16\u001b[0m         revisions \u001b[38;5;241m=\u001b[39m \u001b[38;5;28;01mawait\u001b[39;00m wt\u001b[38;5;241m.\u001b[39mget_revision(wtsession, titles\u001b[38;5;241m=\u001b[39marticles[:groupsize], pagemaps\u001b[38;5;241m=\u001b[39mpagemapsdict[lang],\n\u001b[1;32m     17\u001b[0m                                             date\u001b[38;5;241m=\u001b[39mdate\u001b[38;5;241m.\u001b[39misoformat())\n\u001b[1;32m     18\u001b[0m         grouprevs\u001b[38;5;241m.\u001b[39mupdate(revisions)\n\u001b[1;32m     19\u001b[0m         articles \u001b[38;5;241m=\u001b[39m articles[groupsize:]\n",
      "File \u001b[0;32m~/Documents/R4R/.venv/lib/python3.12/site-packages/wikitoolkit/revisions.py:60\u001b[0m, in \u001b[0;36mget_revision\u001b[0;34m(session, titles, pageids, date, pagemaps, props, return_props)\u001b[0m\n\u001b[1;32m     56\u001b[0m query_args_list, key, ix \u001b[38;5;241m=\u001b[39m querylister(titles, pageids, generator\u001b[38;5;241m=\u001b[39m\u001b[38;5;28;01mTrue\u001b[39;00m,\n\u001b[1;32m     57\u001b[0m             pagemaps\u001b[38;5;241m=\u001b[39mpagemaps, params\u001b[38;5;241m=\u001b[39mparams)\n\u001b[1;32m     59\u001b[0m \u001b[38;5;66;03m# Execute the API query and parse the revision data\u001b[39;00m\n\u001b[0;32m---> 60\u001b[0m data \u001b[38;5;241m=\u001b[39m \u001b[38;5;28;01mawait\u001b[39;00m iterate_async_query(session\u001b[38;5;241m.\u001b[39mmw_session, query_args_list, function\u001b[38;5;241m=\u001b[39mparse_revision, continuation\u001b[38;5;241m=\u001b[39m\u001b[38;5;28;01mFalse\u001b[39;00m)\n\u001b[1;32m     62\u001b[0m \u001b[38;5;66;03m# Organize the revision data based on titles or pageids\u001b[39;00m\n\u001b[1;32m     63\u001b[0m \u001b[38;5;28;01mif\u001b[39;00m titles:\n",
      "File \u001b[0;32m~/Documents/R4R/.venv/lib/python3.12/site-packages/wikitoolkit/api.py:136\u001b[0m, in \u001b[0;36miterate_async_query\u001b[0;34m(session, query_args_list, function, f_args, continuation, debug, httpmethod, posturl)\u001b[0m\n\u001b[1;32m    133\u001b[0m     tasks \u001b[38;5;241m=\u001b[39m [query_async(session, query_args, continuation, debug, httpmethod, posturl) \u001b[38;5;28;01mfor\u001b[39;00m query_args \u001b[38;5;129;01min\u001b[39;00m query_args_list]\n\u001b[1;32m    135\u001b[0m \u001b[38;5;66;03m# Execute the tasks asynchronously and gather the results\u001b[39;00m\n\u001b[0;32m--> 136\u001b[0m results \u001b[38;5;241m=\u001b[39m \u001b[38;5;28;01mawait\u001b[39;00m asyncio\u001b[38;5;241m.\u001b[39mgather(\u001b[38;5;241m*\u001b[39mtasks)\n\u001b[1;32m    138\u001b[0m \u001b[38;5;28;01mreturn\u001b[39;00m results\n",
      "File \u001b[0;32m~/Documents/R4R/.venv/lib/python3.12/site-packages/wikitoolkit/revisions.py:17\u001b[0m, in \u001b[0;36mparse_revision\u001b[0;34m(data)\u001b[0m\n\u001b[1;32m      8\u001b[0m \u001b[38;5;250m\u001b[39m\u001b[38;5;124;03m\"\"\"Parse single revision data from the API.\u001b[39;00m\n\u001b[1;32m      9\u001b[0m \n\u001b[1;32m     10\u001b[0m \u001b[38;5;124;03mArgs:\u001b[39;00m\n\u001b[0;32m   (...)\u001b[0m\n\u001b[1;32m     14\u001b[0m \u001b[38;5;124;03m    dict: revision data.\u001b[39;00m\n\u001b[1;32m     15\u001b[0m \u001b[38;5;124;03m\"\"\"\u001b[39;00m\n\u001b[1;32m     16\u001b[0m rev_info \u001b[38;5;241m=\u001b[39m {}\n\u001b[0;32m---> 17\u001b[0m \u001b[38;5;28;01mfor\u001b[39;00m page \u001b[38;5;129;01min\u001b[39;00m \u001b[38;5;28;01mawait\u001b[39;00m data:\n\u001b[1;32m     18\u001b[0m     rev_info[(page[\u001b[38;5;124m'\u001b[39m\u001b[38;5;124mpageid\u001b[39m\u001b[38;5;124m'\u001b[39m], page[\u001b[38;5;124m'\u001b[39m\u001b[38;5;124mtitle\u001b[39m\u001b[38;5;124m'\u001b[39m])] \u001b[38;5;241m=\u001b[39m page\u001b[38;5;241m.\u001b[39mget(\u001b[38;5;124m'\u001b[39m\u001b[38;5;124mrevisions\u001b[39m\u001b[38;5;124m'\u001b[39m, [\u001b[38;5;28;01mNone\u001b[39;00m])[\u001b[38;5;241m0\u001b[39m]\n\u001b[1;32m     19\u001b[0m \u001b[38;5;28;01mreturn\u001b[39;00m rev_info\n",
      "File \u001b[0;32m~/Documents/R4R/.venv/lib/python3.12/site-packages/wikitoolkit/api.py:76\u001b[0m, in \u001b[0;36mquery_async\u001b[0;34m(session, query_args, continuation, debug, httpmethod, posturl)\u001b[0m\n\u001b[1;32m     74\u001b[0m \u001b[38;5;66;03m# Perform the initial query\u001b[39;00m\n\u001b[1;32m     75\u001b[0m \u001b[38;5;28;01mif\u001b[39;00m httpmethod \u001b[38;5;241m==\u001b[39m \u001b[38;5;124m'\u001b[39m\u001b[38;5;124mGET\u001b[39m\u001b[38;5;124m'\u001b[39m:\n\u001b[0;32m---> 76\u001b[0m     continued \u001b[38;5;241m=\u001b[39m \u001b[38;5;28;01mawait\u001b[39;00m asyncio\u001b[38;5;241m.\u001b[39mcreate_task(session\u001b[38;5;241m.\u001b[39mget(action\u001b[38;5;241m=\u001b[39m\u001b[38;5;124m'\u001b[39m\u001b[38;5;124mquery\u001b[39m\u001b[38;5;124m'\u001b[39m,\n\u001b[1;32m     77\u001b[0m                                                     continuation\u001b[38;5;241m=\u001b[39mcontinuation,\n\u001b[1;32m     78\u001b[0m                                                     \u001b[38;5;241m*\u001b[39m\u001b[38;5;241m*\u001b[39mquery_args))\n\u001b[1;32m     79\u001b[0m \u001b[38;5;28;01melif\u001b[39;00m httpmethod \u001b[38;5;241m==\u001b[39m \u001b[38;5;124m'\u001b[39m\u001b[38;5;124mPOST\u001b[39m\u001b[38;5;124m'\u001b[39m:\n\u001b[1;32m     80\u001b[0m     \u001b[38;5;28;01masync\u001b[39;00m \u001b[38;5;28;01mwith\u001b[39;00m session\u001b[38;5;241m.\u001b[39mpost(url\u001b[38;5;241m=\u001b[39mposturl, json\u001b[38;5;241m=\u001b[39mquery_args) \u001b[38;5;28;01mas\u001b[39;00m response:\n",
      "File \u001b[0;32m~/Documents/R4R/.venv/lib/python3.12/site-packages/mwapi/async_session.py:185\u001b[0m, in \u001b[0;36mAsyncSession.get\u001b[0;34m(self, query_continue, auth, continuation, **params)\u001b[0m\n\u001b[1;32m    163\u001b[0m \u001b[38;5;28;01masync\u001b[39;00m \u001b[38;5;28;01mdef\u001b[39;00m \u001b[38;5;21mget\u001b[39m(\u001b[38;5;28mself\u001b[39m, query_continue\u001b[38;5;241m=\u001b[39m\u001b[38;5;28;01mNone\u001b[39;00m, auth\u001b[38;5;241m=\u001b[39m\u001b[38;5;28;01mNone\u001b[39;00m, continuation\u001b[38;5;241m=\u001b[39m\u001b[38;5;28;01mFalse\u001b[39;00m,\n\u001b[1;32m    164\u001b[0m               \u001b[38;5;241m*\u001b[39m\u001b[38;5;241m*\u001b[39mparams):\n\u001b[1;32m    165\u001b[0m \u001b[38;5;250m    \u001b[39m\u001b[38;5;124;03m\"\"\"Makes an API request with the GET method\u001b[39;00m\n\u001b[1;32m    166\u001b[0m \n\u001b[1;32m    167\u001b[0m \u001b[38;5;124;03m    :Parameters:\u001b[39;00m\n\u001b[0;32m   (...)\u001b[0m\n\u001b[1;32m    183\u001b[0m \u001b[38;5;124;03m        :class:`mwapi.errors.APIError` : if the API responds with an error\u001b[39;00m\n\u001b[1;32m    184\u001b[0m \u001b[38;5;124;03m    \"\"\"\u001b[39;00m\n\u001b[0;32m--> 185\u001b[0m     \u001b[38;5;28;01mreturn\u001b[39;00m \u001b[38;5;28;01mawait\u001b[39;00m \u001b[38;5;28mself\u001b[39m\u001b[38;5;241m.\u001b[39mrequest(\u001b[38;5;124m\"\u001b[39m\u001b[38;5;124mGET\u001b[39m\u001b[38;5;124m\"\u001b[39m, params\u001b[38;5;241m=\u001b[39mparams, auth\u001b[38;5;241m=\u001b[39mauth,\n\u001b[1;32m    186\u001b[0m                               query_continue\u001b[38;5;241m=\u001b[39mquery_continue,\n\u001b[1;32m    187\u001b[0m                               continuation\u001b[38;5;241m=\u001b[39mcontinuation)\n",
      "File \u001b[0;32m~/Documents/R4R/.venv/lib/python3.12/site-packages/mwapi/async_session.py:149\u001b[0m, in \u001b[0;36mAsyncSession.request\u001b[0;34m(self, method, params, query_continue, auth, continuation)\u001b[0m\n\u001b[1;32m    147\u001b[0m     \u001b[38;5;28;01mreturn\u001b[39;00m \u001b[38;5;28mself\u001b[39m\u001b[38;5;241m.\u001b[39m_continuation(method, params\u001b[38;5;241m=\u001b[39mnormal_params, auth\u001b[38;5;241m=\u001b[39mauth)\n\u001b[1;32m    148\u001b[0m \u001b[38;5;28;01melse\u001b[39;00m:\n\u001b[0;32m--> 149\u001b[0m     \u001b[38;5;28;01mreturn\u001b[39;00m \u001b[38;5;28;01mawait\u001b[39;00m \u001b[38;5;28mself\u001b[39m\u001b[38;5;241m.\u001b[39m_request(method, params\u001b[38;5;241m=\u001b[39mnormal_params, auth\u001b[38;5;241m=\u001b[39mauth)\n",
      "File \u001b[0;32m~/Documents/R4R/.venv/lib/python3.12/site-packages/mwapi/async_session.py:81\u001b[0m, in \u001b[0;36mAsyncSession._request\u001b[0;34m(self, method, params, auth)\u001b[0m\n\u001b[1;32m     78\u001b[0m     params[\u001b[38;5;124m'\u001b[39m\u001b[38;5;124mformat\u001b[39m\u001b[38;5;124m'\u001b[39m] \u001b[38;5;241m=\u001b[39m \u001b[38;5;124m\"\u001b[39m\u001b[38;5;124mjson\u001b[39m\u001b[38;5;124m\"\u001b[39m\n\u001b[1;32m     80\u001b[0m \u001b[38;5;28;01mtry\u001b[39;00m:\n\u001b[0;32m---> 81\u001b[0m     \u001b[38;5;28;01masync\u001b[39;00m \u001b[38;5;28;01mwith\u001b[39;00m \u001b[38;5;28mself\u001b[39m\u001b[38;5;241m.\u001b[39msession\u001b[38;5;241m.\u001b[39mrequest(method\u001b[38;5;241m=\u001b[39mmethod, url\u001b[38;5;241m=\u001b[39m\u001b[38;5;28mself\u001b[39m\u001b[38;5;241m.\u001b[39mapi_url,\n\u001b[1;32m     82\u001b[0m                                     params\u001b[38;5;241m=\u001b[39mparams, data\u001b[38;5;241m=\u001b[39mdata,\n\u001b[1;32m     83\u001b[0m                                     timeout\u001b[38;5;241m=\u001b[39m\u001b[38;5;28mself\u001b[39m\u001b[38;5;241m.\u001b[39mtimeout,\n\u001b[1;32m     84\u001b[0m                                     headers\u001b[38;5;241m=\u001b[39m\u001b[38;5;28mself\u001b[39m\u001b[38;5;241m.\u001b[39mheaders,\n\u001b[1;32m     85\u001b[0m                                     verify_ssl\u001b[38;5;241m=\u001b[39m\u001b[38;5;28;01mTrue\u001b[39;00m,\n\u001b[1;32m     86\u001b[0m                                     auth\u001b[38;5;241m=\u001b[39mauth) \u001b[38;5;28;01mas\u001b[39;00m resp:\n\u001b[1;32m     88\u001b[0m         doc \u001b[38;5;241m=\u001b[39m \u001b[38;5;28;01mawait\u001b[39;00m resp\u001b[38;5;241m.\u001b[39mjson()\n\u001b[1;32m     90\u001b[0m         \u001b[38;5;28;01mif\u001b[39;00m \u001b[38;5;124m'\u001b[39m\u001b[38;5;124merror\u001b[39m\u001b[38;5;124m'\u001b[39m \u001b[38;5;129;01min\u001b[39;00m doc:\n",
      "File \u001b[0;32m~/Documents/R4R/.venv/lib/python3.12/site-packages/aiohttp/client.py:1423\u001b[0m, in \u001b[0;36m_BaseRequestContextManager.__aenter__\u001b[0;34m(self)\u001b[0m\n\u001b[1;32m   1422\u001b[0m \u001b[38;5;28;01masync\u001b[39;00m \u001b[38;5;28;01mdef\u001b[39;00m \u001b[38;5;21m__aenter__\u001b[39m(\u001b[38;5;28mself\u001b[39m) \u001b[38;5;241m-\u001b[39m\u001b[38;5;241m>\u001b[39m _RetType:\n\u001b[0;32m-> 1423\u001b[0m     \u001b[38;5;28mself\u001b[39m\u001b[38;5;241m.\u001b[39m_resp: _RetType \u001b[38;5;241m=\u001b[39m \u001b[38;5;28;01mawait\u001b[39;00m \u001b[38;5;28mself\u001b[39m\u001b[38;5;241m.\u001b[39m_coro\n\u001b[1;32m   1424\u001b[0m     \u001b[38;5;28;01mreturn\u001b[39;00m \u001b[38;5;28;01mawait\u001b[39;00m \u001b[38;5;28mself\u001b[39m\u001b[38;5;241m.\u001b[39m_resp\u001b[38;5;241m.\u001b[39m\u001b[38;5;21m__aenter__\u001b[39m()\n",
      "File \u001b[0;32m~/Documents/R4R/.venv/lib/python3.12/site-packages/aiohttp/client.py:728\u001b[0m, in \u001b[0;36mClientSession._request\u001b[0;34m(self, method, str_or_url, params, data, json, cookies, headers, skip_auto_headers, auth, allow_redirects, max_redirects, compress, chunked, expect100, raise_for_status, read_until_eof, proxy, proxy_auth, timeout, verify_ssl, fingerprint, ssl_context, ssl, server_hostname, proxy_headers, trace_request_ctx, read_bufsize, auto_decompress, max_line_size, max_field_size)\u001b[0m\n\u001b[1;32m    726\u001b[0m resp \u001b[38;5;241m=\u001b[39m \u001b[38;5;28;01mawait\u001b[39;00m req\u001b[38;5;241m.\u001b[39msend(conn)\n\u001b[1;32m    727\u001b[0m \u001b[38;5;28;01mtry\u001b[39;00m:\n\u001b[0;32m--> 728\u001b[0m     \u001b[38;5;28;01mawait\u001b[39;00m resp\u001b[38;5;241m.\u001b[39mstart(conn)\n\u001b[1;32m    729\u001b[0m \u001b[38;5;28;01mexcept\u001b[39;00m \u001b[38;5;167;01mBaseException\u001b[39;00m:\n\u001b[1;32m    730\u001b[0m     resp\u001b[38;5;241m.\u001b[39mclose()\n",
      "File \u001b[0;32m~/Documents/R4R/.venv/lib/python3.12/site-packages/aiohttp/client_reqrep.py:1055\u001b[0m, in \u001b[0;36mClientResponse.start\u001b[0;34m(self, connection)\u001b[0m\n\u001b[1;32m   1053\u001b[0m \u001b[38;5;28;01mtry\u001b[39;00m:\n\u001b[1;32m   1054\u001b[0m     protocol \u001b[38;5;241m=\u001b[39m \u001b[38;5;28mself\u001b[39m\u001b[38;5;241m.\u001b[39m_protocol\n\u001b[0;32m-> 1055\u001b[0m     message, payload \u001b[38;5;241m=\u001b[39m \u001b[38;5;28;01mawait\u001b[39;00m protocol\u001b[38;5;241m.\u001b[39mread()  \u001b[38;5;66;03m# type: ignore[union-attr]\u001b[39;00m\n\u001b[1;32m   1056\u001b[0m \u001b[38;5;28;01mexcept\u001b[39;00m http\u001b[38;5;241m.\u001b[39mHttpProcessingError \u001b[38;5;28;01mas\u001b[39;00m exc:\n\u001b[1;32m   1057\u001b[0m     \u001b[38;5;28;01mraise\u001b[39;00m ClientResponseError(\n\u001b[1;32m   1058\u001b[0m         \u001b[38;5;28mself\u001b[39m\u001b[38;5;241m.\u001b[39mrequest_info,\n\u001b[1;32m   1059\u001b[0m         \u001b[38;5;28mself\u001b[39m\u001b[38;5;241m.\u001b[39mhistory,\n\u001b[0;32m   (...)\u001b[0m\n\u001b[1;32m   1062\u001b[0m         headers\u001b[38;5;241m=\u001b[39mexc\u001b[38;5;241m.\u001b[39mheaders,\n\u001b[1;32m   1063\u001b[0m     ) \u001b[38;5;28;01mfrom\u001b[39;00m \u001b[38;5;21;01mexc\u001b[39;00m\n",
      "File \u001b[0;32m~/Documents/R4R/.venv/lib/python3.12/site-packages/aiohttp/streams.py:668\u001b[0m, in \u001b[0;36mDataQueue.read\u001b[0;34m(self)\u001b[0m\n\u001b[1;32m    666\u001b[0m \u001b[38;5;28mself\u001b[39m\u001b[38;5;241m.\u001b[39m_waiter \u001b[38;5;241m=\u001b[39m \u001b[38;5;28mself\u001b[39m\u001b[38;5;241m.\u001b[39m_loop\u001b[38;5;241m.\u001b[39mcreate_future()\n\u001b[1;32m    667\u001b[0m \u001b[38;5;28;01mtry\u001b[39;00m:\n\u001b[0;32m--> 668\u001b[0m     \u001b[38;5;28;01mawait\u001b[39;00m \u001b[38;5;28mself\u001b[39m\u001b[38;5;241m.\u001b[39m_waiter\n\u001b[1;32m    669\u001b[0m \u001b[38;5;28;01mexcept\u001b[39;00m (asyncio\u001b[38;5;241m.\u001b[39mCancelledError, asyncio\u001b[38;5;241m.\u001b[39mTimeoutError):\n\u001b[1;32m    670\u001b[0m     \u001b[38;5;28mself\u001b[39m\u001b[38;5;241m.\u001b[39m_waiter \u001b[38;5;241m=\u001b[39m \u001b[38;5;28;01mNone\u001b[39;00m\n",
      "\u001b[0;31mCancelledError\u001b[0m: "
     ]
    }
   ],
   "source": [
    "lang = 'en'\n",
    "da_dict = startdate_article_dict[lang]\n",
    "\n",
    "print(lang)\n",
    "l_revisions_df = []\n",
    "if lang not in pagemapsdict:\n",
    "    pagemapsdict[lang] = wt.PageMaps()\n",
    "wtsession = wt.WTSession(f'{lang}.wikipedia', user_agent=my_agent)\n",
    "for n, (date, articles) in enumerate(da_dict.items()):\n",
    "    if n % 1000 == 0:\n",
    "        print(n/len(da_dict), end='\\r')\n",
    "    grouprevs = {}\n",
    "    groupsize = maxgroupsize\n",
    "    while len(articles) > 0:\n",
    "        try:\n",
    "            revisions = await wt.get_revision(wtsession, titles=articles[:groupsize], pagemaps=pagemapsdict[lang],\n",
    "                                                date=date.isoformat())\n",
    "            grouprevs.update(revisions)\n",
    "            articles = articles[groupsize:]\n",
    "            groupsize = min(int(groupsize * (2**0.5)), maxgroupsize)\n",
    "        except ValueError as e:\n",
    "            # print(e, 'Reducing group size to', groupsize // 2)\n",
    "            time.sleep(0.1)\n",
    "            groupsize = groupsize // 2\n",
    "\n",
    "    date_revisions = pd.DataFrame({k: v for k, v in grouprevs.items() if v}).T.reset_index().rename(columns={'index': 'title'})\n",
    "    if len(date_revisions) == 0:\n",
    "        continue\n",
    "    date_revisions['lang'] = lang\n",
    "    date_revisions = date_revisions[['lang', 'title', 'revid', 'parentid', 'timestamp']]\n",
    "    l_revisions_df.append(date_revisions)\n",
    "\n",
    "if len(l_revisions_df) > 0:\n",
    "    l_revisions_df = pd.concat(l_revisions_df, ignore_index=True)"
   ]
  },
  {
   "cell_type": "markdown",
   "metadata": {},
   "source": [
    "quality"
   ]
  },
  {
   "cell_type": "code",
   "execution_count": 22,
   "metadata": {},
   "outputs": [
    {
     "data": {
      "text/plain": [
       "{1236446883: {},\n",
       " 1236447060: {},\n",
       " 1236594994: {},\n",
       " 1236598939: {},\n",
       " 1236788119: {},\n",
       " 1236796537: {},\n",
       " 1236825393: {},\n",
       " 1236947971: {},\n",
       " 1236985592: {},\n",
       " 1236988312: {'articlequality': 0.9955741854274109},\n",
       " 1237036041: {},\n",
       " 1237036430: {},\n",
       " 1237103956: {},\n",
       " 1237187778: {},\n",
       " 1236327166: {},\n",
       " 1236339025: {},\n",
       " 1236340707: {},\n",
       " 1236381947: {},\n",
       " 1236383843: {},\n",
       " 1236418369: {},\n",
       " 1236418653: {},\n",
       " 1236418852: {},\n",
       " 1236421967: {},\n",
       " 1236440853: {},\n",
       " 1236457235: {},\n",
       " 1236458795: {},\n",
       " 1236487926: {},\n",
       " 1236488507: {},\n",
       " 1236488568: {},\n",
       " 1236515418: {},\n",
       " 1236537112: {},\n",
       " 1236585466: {},\n",
       " 1236587924: {},\n",
       " 1236588591: {},\n",
       " 1236588814: {},\n",
       " 1236596064: {},\n",
       " 1236599399: {},\n",
       " 1236603845: {},\n",
       " 1236619389: {},\n",
       " 1236620809: {},\n",
       " 1236629366: {},\n",
       " 1236632371: {},\n",
       " 1236670767: {},\n",
       " 1236709239: {},\n",
       " 1236711950: {},\n",
       " 1236794890: {},\n",
       " 1236860243: {},\n",
       " 1236860407: {},\n",
       " 1236861070: {},\n",
       " 1236861338: {},\n",
       " 1236861759: {},\n",
       " 1236861845: {},\n",
       " 1236870738: {},\n",
       " 1236871607: {},\n",
       " 1236871701: {},\n",
       " 1236943423: {},\n",
       " 1236943717: {},\n",
       " 1236943939: {},\n",
       " 1236946913: {},\n",
       " 1236949379: {},\n",
       " 1236949483: {},\n",
       " 1236953464: {},\n",
       " 1236967805: {},\n",
       " 1236981217: {},\n",
       " 1237077315: {},\n",
       " 1237077440: {},\n",
       " 1237158034: {},\n",
       " 1237166593: {},\n",
       " 1237207519: {},\n",
       " 1237208577: {},\n",
       " 1237209451: {},\n",
       " 1237210596: {},\n",
       " 1237222400: {},\n",
       " 1237223360: {},\n",
       " 1237224927: {},\n",
       " 1237295842: {},\n",
       " 1237297522: {'articlequality': 1.0},\n",
       " 1237300373: {},\n",
       " 1237397357: {},\n",
       " 1237466554: {},\n",
       " 1237561895: {},\n",
       " 1237609391: {},\n",
       " 1237609463: {},\n",
       " 1237634311: {},\n",
       " 1237676465: {},\n",
       " 1237676831: {},\n",
       " 1237678610: {},\n",
       " 1236805275: {},\n",
       " 1237097918: {},\n",
       " 1237098609: {},\n",
       " 1237098740: {},\n",
       " 1237098836: {},\n",
       " 1237099318: {},\n",
       " 1237099861: {},\n",
       " 1237099921: {},\n",
       " 1237100068: {},\n",
       " 1237100110: {},\n",
       " 1237176708: {},\n",
       " 1237177282: {},\n",
       " 1237182304: {},\n",
       " 1237248438: {},\n",
       " 1237250455: {},\n",
       " 1237403478: {}}"
      ]
     },
     "execution_count": 22,
     "metadata": {},
     "output_type": "execute_result"
    }
   ],
   "source": [
    "r_quality = await wt.get_revisions_quality(wtsession, revision_ids, 'en')\n",
    "r_quality"
   ]
  },
  {
   "cell_type": "markdown",
   "metadata": {},
   "source": [
    "topics"
   ]
  },
  {
   "cell_type": "code",
   "execution_count": 14,
   "metadata": {},
   "outputs": [
    {
     "data": {
      "text/plain": [
       "276"
      ]
     },
     "execution_count": 14,
     "metadata": {},
     "output_type": "execute_result"
    }
   ],
   "source": [
    "len(da_dict)"
   ]
  },
  {
   "cell_type": "code",
   "execution_count": 20,
   "metadata": {},
   "outputs": [
    {
     "data": {
      "text/plain": [
       "{datetime.datetime(2021, 2, 5, 0, 0): {'London': 6},\n",
       " datetime.datetime(2021, 2, 6, 0, 0): {'London': 3},\n",
       " datetime.datetime(2021, 2, 7, 0, 0): {'London': 1},\n",
       " datetime.datetime(2021, 2, 8, 0, 0): {'London': 2},\n",
       " datetime.datetime(2021, 2, 9, 0, 0): {'London': 3},\n",
       " datetime.datetime(2021, 2, 10, 0, 0): {'London': 0},\n",
       " datetime.datetime(2021, 2, 11, 0, 0): {'London': 3},\n",
       " datetime.datetime(2021, 2, 12, 0, 0): {'London': 1},\n",
       " datetime.datetime(2021, 2, 13, 0, 0): {'London': 0},\n",
       " datetime.datetime(2021, 2, 14, 0, 0): {'London': 39},\n",
       " datetime.datetime(2021, 2, 15, 0, 0): {'London': 84},\n",
       " datetime.datetime(2021, 2, 16, 0, 0): {'London': 62},\n",
       " datetime.datetime(2021, 2, 17, 0, 0): {'London': 43},\n",
       " datetime.datetime(2021, 2, 18, 0, 0): {'London': 33},\n",
       " datetime.datetime(2021, 2, 19, 0, 0): {'London': 23},\n",
       " datetime.datetime(2021, 2, 20, 0, 0): {'London': 14},\n",
       " datetime.datetime(2021, 2, 21, 0, 0): {'London': 8},\n",
       " datetime.datetime(2021, 2, 22, 0, 0): {'London': 14},\n",
       " datetime.datetime(2021, 2, 23, 0, 0): {'London': 2},\n",
       " datetime.datetime(2021, 2, 24, 0, 0): {'London': 1},\n",
       " datetime.datetime(2021, 2, 25, 0, 0): {'London': 3}}"
      ]
     },
     "execution_count": 20,
     "metadata": {},
     "output_type": "execute_result"
    }
   ],
   "source": [
    "wt.api_article_views(wtsession, f'{lang}.wikipedia', ['London'], pagemaps=pagemapsdict[lang],\n",
    "                                         start=daterange[0].strftime('%Y%m%d'), end=daterange[1].strftime('%Y%m%d'))"
   ]
  },
  {
   "cell_type": "markdown",
   "metadata": {},
   "source": [
    "pageviews"
   ]
  },
  {
   "cell_type": "code",
   "execution_count": 16,
   "metadata": {},
   "outputs": [
    {
     "name": "stdout",
     "output_type": "stream",
     "text": [
      "ERROR while fetching and parsing ['https://wikimedia.org/api/rest_v1/metrics/pageviews/per-article/ar.wikipedia/all-access/all-agents/%D9%85%D9%82%D9%88/daily/2021020500/2021022500']\n"
     ]
    },
    {
     "name": "stderr",
     "output_type": "stream",
     "text": [
      "Traceback (most recent call last):\n",
      "  File \"/home/patrick/Documents/R4R/.venv/lib/python3.12/site-packages/mwviews/api/pageviews.py\", line 146, in article_views\n",
      "    raise Exception(\n",
      "Exception: The pageview API returned nothing useful at: ['https://wikimedia.org/api/rest_v1/metrics/pageviews/per-article/ar.wikipedia/all-access/all-agents/%D9%85%D9%82%D9%88/daily/2021020500/2021022500']\n"
     ]
    },
    {
     "ename": "Exception",
     "evalue": "The pageview API returned nothing useful at: ['https://wikimedia.org/api/rest_v1/metrics/pageviews/per-article/ar.wikipedia/all-access/all-agents/%D9%85%D9%82%D9%88/daily/2021020500/2021022500']",
     "output_type": "error",
     "traceback": [
      "\u001b[0;31m---------------------------------------------------------------------------\u001b[0m",
      "\u001b[0;31mException\u001b[0m                                 Traceback (most recent call last)",
      "Cell \u001b[0;32mIn[16], line 9\u001b[0m\n\u001b[1;32m      6\u001b[0m wtsession \u001b[38;5;241m=\u001b[39m wt\u001b[38;5;241m.\u001b[39mWTSession(\u001b[38;5;124mf\u001b[39m\u001b[38;5;124m'\u001b[39m\u001b[38;5;132;01m{\u001b[39;00mlang\u001b[38;5;132;01m}\u001b[39;00m\u001b[38;5;124m.wikipedia\u001b[39m\u001b[38;5;124m'\u001b[39m, user_agent\u001b[38;5;241m=\u001b[39mmy_agent)\n\u001b[1;32m      7\u001b[0m \u001b[38;5;28;01mfor\u001b[39;00m daterange, articles \u001b[38;5;129;01min\u001b[39;00m da_dict\u001b[38;5;241m.\u001b[39mitems():\n\u001b[1;32m      8\u001b[0m     \u001b[38;5;66;03m# check for end of day!!!!\u001b[39;00m\n\u001b[0;32m----> 9\u001b[0m     pageviews \u001b[38;5;241m=\u001b[39m \u001b[43mwt\u001b[49m\u001b[38;5;241;43m.\u001b[39;49m\u001b[43mapi_article_views\u001b[49m\u001b[43m(\u001b[49m\u001b[43mwtsession\u001b[49m\u001b[43m,\u001b[49m\u001b[43m \u001b[49m\u001b[38;5;124;43mf\u001b[39;49m\u001b[38;5;124;43m'\u001b[39;49m\u001b[38;5;132;43;01m{\u001b[39;49;00m\u001b[43mlang\u001b[49m\u001b[38;5;132;43;01m}\u001b[39;49;00m\u001b[38;5;124;43m.wikipedia\u001b[39;49m\u001b[38;5;124;43m'\u001b[39;49m\u001b[43m,\u001b[49m\u001b[43m \u001b[49m\u001b[43marticles\u001b[49m\u001b[43m,\u001b[49m\u001b[43m \u001b[49m\u001b[43mpagemaps\u001b[49m\u001b[38;5;241;43m=\u001b[39;49m\u001b[43mpagemapsdict\u001b[49m\u001b[43m[\u001b[49m\u001b[43mlang\u001b[49m\u001b[43m]\u001b[49m\u001b[43m,\u001b[49m\n\u001b[1;32m     10\u001b[0m \u001b[43m                                     \u001b[49m\u001b[43mstart\u001b[49m\u001b[38;5;241;43m=\u001b[39;49m\u001b[43mdaterange\u001b[49m\u001b[43m[\u001b[49m\u001b[38;5;241;43m0\u001b[39;49m\u001b[43m]\u001b[49m\u001b[38;5;241;43m.\u001b[39;49m\u001b[43mstrftime\u001b[49m\u001b[43m(\u001b[49m\u001b[38;5;124;43m'\u001b[39;49m\u001b[38;5;124;43m%\u001b[39;49m\u001b[38;5;124;43mY\u001b[39;49m\u001b[38;5;124;43m%\u001b[39;49m\u001b[38;5;124;43mm\u001b[39;49m\u001b[38;5;132;43;01m%d\u001b[39;49;00m\u001b[38;5;124;43m'\u001b[39;49m\u001b[43m)\u001b[49m\u001b[43m,\u001b[49m\u001b[43m \u001b[49m\u001b[43mend\u001b[49m\u001b[38;5;241;43m=\u001b[39;49m\u001b[43mdaterange\u001b[49m\u001b[43m[\u001b[49m\u001b[38;5;241;43m1\u001b[39;49m\u001b[43m]\u001b[49m\u001b[38;5;241;43m.\u001b[39;49m\u001b[43mstrftime\u001b[49m\u001b[43m(\u001b[49m\u001b[38;5;124;43m'\u001b[39;49m\u001b[38;5;124;43m%\u001b[39;49m\u001b[38;5;124;43mY\u001b[39;49m\u001b[38;5;124;43m%\u001b[39;49m\u001b[38;5;124;43mm\u001b[39;49m\u001b[38;5;132;43;01m%d\u001b[39;49;00m\u001b[38;5;124;43m'\u001b[39;49m\u001b[43m)\u001b[49m\u001b[43m)\u001b[49m\n\u001b[1;32m     11\u001b[0m     pvdf \u001b[38;5;241m=\u001b[39m pd\u001b[38;5;241m.\u001b[39mDataFrame(pageviews)\u001b[38;5;241m.\u001b[39mT\u001b[38;5;241m.\u001b[39mreset_index()\u001b[38;5;241m.\u001b[39mrename(columns\u001b[38;5;241m=\u001b[39m{\u001b[38;5;124m'\u001b[39m\u001b[38;5;124mindex\u001b[39m\u001b[38;5;124m'\u001b[39m: \u001b[38;5;124m'\u001b[39m\u001b[38;5;124mdate\u001b[39m\u001b[38;5;124m'\u001b[39m})\n\u001b[1;32m     12\u001b[0m     pvdf \u001b[38;5;241m=\u001b[39m pvdf\u001b[38;5;241m.\u001b[39mmelt(id_vars\u001b[38;5;241m=\u001b[39m\u001b[38;5;124m'\u001b[39m\u001b[38;5;124mdate\u001b[39m\u001b[38;5;124m'\u001b[39m, var_name\u001b[38;5;241m=\u001b[39m\u001b[38;5;124m'\u001b[39m\u001b[38;5;124mtitle\u001b[39m\u001b[38;5;124m'\u001b[39m, value_name\u001b[38;5;241m=\u001b[39m\u001b[38;5;124m'\u001b[39m\u001b[38;5;124mpageviews\u001b[39m\u001b[38;5;124m'\u001b[39m)\n",
      "File \u001b[0;32m~/Documents/R4R/.venv/lib/python3.12/site-packages/wikitoolkit/pageviews.py:44\u001b[0m, in \u001b[0;36mapi_article_views\u001b[0;34m(wtsession, project, articles, redirects, pagemaps, access, agent, granularity, start, end, replace_nones, process)\u001b[0m\n\u001b[1;32m     41\u001b[0m     articles \u001b[38;5;241m=\u001b[39m process_articles(articles, pagemaps\u001b[38;5;241m=\u001b[39mpagemaps)\n\u001b[1;32m     43\u001b[0m \u001b[38;5;66;03m# Get the article views using the mwviews client\u001b[39;00m\n\u001b[0;32m---> 44\u001b[0m rdpv \u001b[38;5;241m=\u001b[39m \u001b[43mwtsession\u001b[49m\u001b[38;5;241;43m.\u001b[39;49m\u001b[43mpv_client\u001b[49m\u001b[38;5;241;43m.\u001b[39;49m\u001b[43marticle_views\u001b[49m\u001b[43m(\u001b[49m\u001b[43mproject\u001b[49m\u001b[43m,\u001b[49m\u001b[43m \u001b[49m\u001b[43marticles\u001b[49m\u001b[43m,\u001b[49m\u001b[43m \u001b[49m\u001b[43maccess\u001b[49m\u001b[43m,\u001b[49m\u001b[43m \u001b[49m\u001b[43magent\u001b[49m\u001b[43m,\u001b[49m\u001b[43m \u001b[49m\u001b[43mgranularity\u001b[49m\u001b[43m,\u001b[49m\n\u001b[1;32m     45\u001b[0m \u001b[43m                            \u001b[49m\u001b[43mstart\u001b[49m\u001b[43m,\u001b[49m\u001b[43m \u001b[49m\u001b[43mend\u001b[49m\u001b[43m)\u001b[49m\n\u001b[1;32m     47\u001b[0m \u001b[38;5;66;03m# If redirects are requested, group the pageviews by redirects\u001b[39;00m\n\u001b[1;32m     48\u001b[0m \u001b[38;5;28;01mif\u001b[39;00m redirects:\n",
      "File \u001b[0;32m~/Documents/R4R/.venv/lib/python3.12/site-packages/mwviews/api/pageviews.py:146\u001b[0m, in \u001b[0;36mPageviewsClient.article_views\u001b[0;34m(self, project, articles, access, agent, granularity, start, end)\u001b[0m\n\u001b[1;32m    144\u001b[0m             output[parse_date(item[\u001b[38;5;124m'\u001b[39m\u001b[38;5;124mtimestamp\u001b[39m\u001b[38;5;124m'\u001b[39m])][item[\u001b[38;5;124m'\u001b[39m\u001b[38;5;124marticle\u001b[39m\u001b[38;5;124m'\u001b[39m]] \u001b[38;5;241m=\u001b[39m item[\u001b[38;5;124m'\u001b[39m\u001b[38;5;124mviews\u001b[39m\u001b[38;5;124m'\u001b[39m]\n\u001b[1;32m    145\u001b[0m     \u001b[38;5;28;01mif\u001b[39;00m \u001b[38;5;129;01mnot\u001b[39;00m some_data_returned:\n\u001b[0;32m--> 146\u001b[0m         \u001b[38;5;28;01mraise\u001b[39;00m \u001b[38;5;167;01mException\u001b[39;00m(\n\u001b[1;32m    147\u001b[0m             \u001b[38;5;124m'\u001b[39m\u001b[38;5;124mThe pageview API returned nothing useful at: \u001b[39m\u001b[38;5;132;01m{}\u001b[39;00m\u001b[38;5;124m'\u001b[39m\u001b[38;5;241m.\u001b[39mformat(urls)\n\u001b[1;32m    148\u001b[0m         )\n\u001b[1;32m    150\u001b[0m     \u001b[38;5;28;01mreturn\u001b[39;00m output\n\u001b[1;32m    151\u001b[0m \u001b[38;5;28;01mexcept\u001b[39;00m:\n",
      "\u001b[0;31mException\u001b[0m: The pageview API returned nothing useful at: ['https://wikimedia.org/api/rest_v1/metrics/pageviews/per-article/ar.wikipedia/all-access/all-agents/%D9%85%D9%82%D9%88/daily/2021020500/2021022500']"
     ]
    }
   ],
   "source": [
    "final_pvdf = pd.DataFrame()\n",
    "lc = 0\n",
    "for lang, da_dict in date_article_dict.items():\n",
    "    if lang not in pagemapsdict:\n",
    "        pagemapsdict[lang] = wt.PageMaps()\n",
    "    wtsession = wt.WTSession(f'{lang}.wikipedia', user_agent=my_agent)\n",
    "    for daterange, articles in da_dict.items():\n",
    "        # check for end of day!!!!\n",
    "        pageviews = wt.api_article_views(wtsession, f'{lang}.wikipedia', articles, pagemaps=pagemapsdict[lang],\n",
    "                                         start=daterange[0].strftime('%Y%m%d'), end=daterange[1].strftime('%Y%m%d'))\n",
    "        pvdf = pd.DataFrame(pageviews).T.reset_index().rename(columns={'index': 'date'})\n",
    "        pvdf = pvdf.melt(id_vars='date', var_name='title', value_name='pageviews')\n",
    "        pvdf['lang'] = lang\n",
    "        pvdf = pvdf[['lang', 'title', 'date', 'pageviews']]\n",
    "        final_pvdf = pd.concat([final_pvdf, pvdf])\n",
    "    await wtsession.close()\n",
    "    \n",
    "    lc+=1\n",
    "    if lc > 5:\n",
    "        break\n",
    "\n",
    "final_pvdf"
   ]
  }
 ],
 "metadata": {
  "kernelspec": {
   "display_name": ".venv",
   "language": "python",
   "name": "python3"
  },
  "language_info": {
   "codemirror_mode": {
    "name": "ipython",
    "version": 3
   },
   "file_extension": ".py",
   "mimetype": "text/x-python",
   "name": "python",
   "nbconvert_exporter": "python",
   "pygments_lexer": "ipython3",
   "version": "3.12.3"
  }
 },
 "nbformat": 4,
 "nbformat_minor": 2
}
