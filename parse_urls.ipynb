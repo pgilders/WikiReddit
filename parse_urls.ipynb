{
 "cells": [
  {
   "cell_type": "code",
   "execution_count": 1,
   "metadata": {},
   "outputs": [],
   "source": [
    "# Columns to add to the data:\n",
    "\n",
    "# posts\n",
    "# total wikipedia mentions\n",
    "# total mentions in URLs\n",
    "# total replies\n",
    "# total reply score"
   ]
  },
  {
   "cell_type": "code",
   "execution_count": null,
   "metadata": {},
   "outputs": [],
   "source": [
    "# new tables - post URLs, comment urls\n",
    "\n",
    "# columns: post_id, created_at, updated_at, raw url, parsed url, domain, parsed title, processed title, article IDs???, \n",
    "# columns: comment_id, post_id, parent_id, created_at, last_modfied_at, raw url, parsed url, domain, article, redirecttitel, article IDs???"
   ]
  },
  {
   "cell_type": "code",
   "execution_count": 1,
   "metadata": {},
   "outputs": [],
   "source": [
    "import markdown\n",
    "from bs4 import BeautifulSoup\n",
    "from urllib.parse import urlparse, urlunparse\n",
    "import re\n",
    "import pandas as pd\n",
    "import requests\n",
    "import asyncio\n",
    "import aiohttp\n",
    "from unicodedata import category\n",
    "import time\n",
    "import pickle\n",
    "import os\n",
    "import datetime"
   ]
  },
  {
   "cell_type": "code",
   "execution_count": 2,
   "metadata": {},
   "outputs": [],
   "source": [
    "HEADERS = {'user-agent': 'wikireddit p.gildersleve@exeter.ac.uk'}\n",
    "MAX_CONCURRENCY = 100\n",
    "\n",
    "if os.path.exists('.temp/rd_url_cache_p.pkl'):\n",
    "    with open('.temp/rd_url_cache_p.pkl', 'rb') as f:\n",
    "        RD_URL_CACHE_P = pickle.load(f)\n",
    "else:\n",
    "    RD_URL_CACHE_P = {True: {}, False: {}}\n",
    "    \n",
    "if os.path.exists('.temp/rd_url_cache_tp.pkl'):\n",
    "    with open('.temp/rd_url_cache_tp.pkl', 'rb') as f:\n",
    "        RD_URL_CACHE_TP = pickle.load(f)\n",
    "else:\n",
    "    RD_URL_CACHE_TP = {}\n",
    "\n",
    "# --- Helper Functions ---\n",
    "\n",
    "def clean_wikipedia_domain(link):\n",
    "    if 'wikipedia.org' not in link:\n",
    "        return None\n",
    "    try:\n",
    "        parsed = urlparse(link)\n",
    "    except ValueError as ex:\n",
    "        print(ex)\n",
    "        return None\n",
    "    domain = parsed.netloc.lower()\n",
    "    while domain and category(domain[-1])[0]=='P':\n",
    "        domain = domain[:-1]\n",
    "    # get subdomain\n",
    "    # subdomain = domain.split('wikipedia.org')[0]\n",
    "    # if (subdomain not in subdomains) and subdomain:\n",
    "    #     return None\n",
    "    # Domain must be exactly 'wikipedia.org' or end with '.wikipedia.org'\n",
    "    if domain == 'wikipedia.org' or domain.endswith('.wikipedia.org'):\n",
    "        return urlunparse(('https', domain, parsed.path, parsed.params, parsed.query, parsed.fragment))\n",
    "    else:\n",
    "        # print(link, 'not wikipedia')\n",
    "        return None\n",
    "\n",
    "URL_REGEX = re.compile(\n",
    "    r'(https?://[^\\s<>\\[\\]{}|]+(?:wikipedia\\.org)[^\\s<>\\[\\]{}|]*)|((?:[a-z0-9-]+\\.)*wikipedia\\.org[^\\s<>\\[\\]{}|]*)',\n",
    "    re.IGNORECASE\n",
    ")\n",
    "\n",
    "def extract_plain_links(text):\n",
    "    plain_links = []\n",
    "    for match in URL_REGEX.finditer(text):\n",
    "        candidate = match.group(1) if match.group(1) else match.group(2)\n",
    "        plain_links.append(candidate.strip())\n",
    "    return plain_links\n",
    "\n",
    "def normalize_links(links):\n",
    "    normalized = []\n",
    "    for link in links:\n",
    "        if not re.match(r'^https?://', link, re.IGNORECASE):\n",
    "            link = 'https://' + link\n",
    "        normalized.append(link)\n",
    "    return normalized\n",
    "\n",
    "def filter_wikipedia_links(links):\n",
    "    wiki_links = set()\n",
    "    for link in links:\n",
    "        cleanlink = clean_wikipedia_domain(link)\n",
    "        if cleanlink:\n",
    "            wiki_links.add(cleanlink)\n",
    "    return wiki_links\n",
    "\n",
    "def extract_links_from_text(text):\n",
    "    # Convert Markdown to HTML and extract markdown-parsed URLs\n",
    "    html = markdown.markdown(text, extensions=['extra'])\n",
    "    soup = BeautifulSoup(html, 'html.parser')\n",
    "    a_tags = soup.find_all('a', href=True)\n",
    "    markdown_links = [y.strip().replace(' ', '_') for a in a_tags for y in re.split(r'(?<=\\s[^\\w\\s])|(?<=[^\\w\\s])\\s', a['href'].strip())]\n",
    "    markdown_links = [y for x in markdown_links for y in extract_plain_links(x)]\n",
    "\n",
    "    # Remove these <a> tags to avoid double counting\n",
    "    for a_tag in a_tags:\n",
    "        a_tag.decompose()\n",
    "    cleaned_text = soup.get_text()\n",
    "\n",
    "    # Extract plain links\n",
    "    plain_links = extract_plain_links(cleaned_text)\n",
    "\n",
    "    # Combine, normalize, and deduplicate\n",
    "    all_links = set(normalize_links(markdown_links + plain_links))\n",
    "\n",
    "    # Filter to Wikipedia links\n",
    "    wiki_links = filter_wikipedia_links(all_links)\n",
    "    return list(wiki_links)\n",
    "\n",
    "def reextract_links(text):\n",
    "    plain_links = extract_plain_links(text)\n",
    "    all_links = set(normalize_links(plain_links))\n",
    "    wiki_links = filter_wikipedia_links(all_links)\n",
    "    return list(wiki_links)\n",
    "\n",
    "# --- Async Validation Functions ---\n",
    "async def async_validate_link(session, url, timeout=5, retries=10, allow_redirects=False):\n",
    "    try:\n",
    "        async with session.head(url, allow_redirects=allow_redirects, timeout=timeout) as r:\n",
    "            if 200 <= r.status < 400:\n",
    "                return True, r.status, str(r.url)\n",
    "            elif r.status == 429 and retries > 0:\n",
    "                await asyncio.sleep(1)  # Wait for 1 second before retrying\n",
    "                return await async_validate_link(session, url, timeout, retries - 1, allow_redirects=allow_redirects)\n",
    "            else:\n",
    "                async with session.get(url, allow_redirects=allow_redirects, timeout=timeout) as r2:\n",
    "                    if 200 <= r2.status < 400:\n",
    "                        return True, r2.status, str(r2.url)\n",
    "                    else:\n",
    "                        return False, r2.status, str(r2.url)\n",
    "    except Exception as ex:\n",
    "        print(ex)\n",
    "    return False, -1, None\n",
    "\n",
    "async def async_validate_url_with_punctuation(session, url, timeout=5, retries=10, allow_redirects=False):\n",
    "    is_valid, status, processed_url = await async_validate_link(session, url, timeout, retries, allow_redirects)\n",
    "    if is_valid:\n",
    "        return is_valid, status, processed_url\n",
    "\n",
    "    # Try removing trailing punctuation\n",
    "    while url and category(url[-1])[0]=='P':\n",
    "        url = url[:-1]\n",
    "        is_valid, status, processed_url = await async_validate_link(session, url, timeout, retries, allow_redirects)\n",
    "        if is_valid:\n",
    "            return is_valid, status, processed_url\n",
    "\n",
    "    return False, status, processed_url\n",
    "\n",
    "async def async_validate_url_with_textpunctuation(session, url, timeout=5):\n",
    "    is_valid, status, processed_url = await async_validate_link(session, url, timeout)\n",
    "    if is_valid:\n",
    "        return is_valid, status, processed_url\n",
    "\n",
    "    # Remove trailing alphanumeric and punctuation until punctuation is hit\n",
    "    original_processed_url = processed_url\n",
    "    # print('av', url)\n",
    "    url = url.rstrip('abcdefghijklmnopqrstuvwxyzABCDEFGHIJKLMNOPQRSTUVWXYZ0123456789:\\'\"_')\n",
    "    if url[-5:] != 'wiki/' and url[-5:] != '.org/':\n",
    "        is_valid, status, processed_url = await async_validate_url_with_punctuation(session, url, timeout=5)\n",
    "        if is_valid:\n",
    "            return is_valid, status, processed_url\n",
    "\n",
    "    return False, status, original_processed_url\n",
    "\n",
    "async def validate_urls_main(urls, retries=10, allow_redirects=False, max_concurrency=MAX_CONCURRENCY):\n",
    "    semaphore = asyncio.Semaphore(max_concurrency)\n",
    "    async with aiohttp.ClientSession(headers=HEADERS) as session:\n",
    "        async def validate(url):\n",
    "            if url in RD_URL_CACHE_P[allow_redirects]:\n",
    "                return url, RD_URL_CACHE_P[allow_redirects][url]  # Return cached result\n",
    "            \n",
    "            # ṬODO, add str vaidatopm here for domain\n",
    "\n",
    "            async with semaphore:\n",
    "                result = await async_validate_url_with_punctuation(session, url,\n",
    "                                                                      retries=retries,\n",
    "                                                                      allow_redirects=allow_redirects)\n",
    "                if result[1] != 429:\n",
    "                    RD_URL_CACHE_P[allow_redirects][url] = result  # Cache result\n",
    "                return url, result\n",
    "        tasks = [validate(u) for u in urls]\n",
    "        results = await asyncio.gather(*tasks)\n",
    "        return results\n",
    "\n",
    "async def validate_urls_main2(urls, max_concurrency=MAX_CONCURRENCY):\n",
    "    semaphore = asyncio.Semaphore(max_concurrency)\n",
    "    async with aiohttp.ClientSession(headers=HEADERS) as session:\n",
    "        async def validate(url):\n",
    "            if url in RD_URL_CACHE_TP:\n",
    "                return url, RD_URL_CACHE_TP[url]  # Return cached result\n",
    "            async with semaphore:\n",
    "                result = await async_validate_url_with_textpunctuation(session, url)\n",
    "                if result[1] != 429:\n",
    "                    RD_URL_CACHE_TP[url] = result  # Cache result\n",
    "                return url, result\n",
    "        tasks = [validate(u) for u in urls]\n",
    "        results = await asyncio.gather(*tasks)\n",
    "        return results\n",
    "\n",
    "# --- Processing ---\n",
    "\n",
    "async def get_links_df(posts_df, column='body'):\n",
    "\n",
    "    # print(len(posts_df))\n",
    "    posts_df['extracted_links'] = posts_df[column].dropna().apply(extract_links_from_text)\n",
    "    # print(posts_df['extracted_links'].iloc[0])\n",
    "    # print(posts_df['extracted_links'].iloc[-1])\n",
    "    links_df = posts_df.explode('extracted_links').rename(columns={'extracted_links':'extracted_url'}).reset_index(drop=True)\n",
    "    links_df = links_df[~links_df['extracted_url'].isna()].drop_duplicates().copy()\n",
    "    # print(len(links_df))\n",
    "    # print('egl', links_df)\n",
    "\n",
    "    return await process_links(links_df)\n",
    "\n",
    "async def process_links(links_df, retry_count=0, max_retries=5, backoff_factor=3):\n",
    "    chop_index = list(links_df.columns).index('extracted_url') + 1\n",
    "    # 1) Initial validation\n",
    "    urls = links_df['extracted_url'].unique()\n",
    "    # print(urls)\n",
    "    results = await validate_urls_main(urls)\n",
    "    # print(len(results))\n",
    "    df_results = pd.DataFrame([[x[0], *x[1]] for x in results],\n",
    "                              columns=['extracted_url', 'valid_1', 'status_1', 'processed_url_1']).drop_duplicates('extracted_url')\n",
    "    # print(len(df_results))\n",
    "    # links_df.to_hdf('data/links_df_test.h5', key='df', mode='w')\n",
    "    # df_results.to_hdf('data/df_results_test.h5', key='df', mode='w')\n",
    "    links_df = links_df.merge(df_results, on='extracted_url', how='left').drop_duplicates()\n",
    "    # links_df.to_hdf('data/links_df_test1.h5', key='df', mode='w')\n",
    "    # print(len(links_df))\n",
    "    # 2) Reextract for invalid URLs\n",
    "    invalid_urls = links_df.loc[links_df['valid_1']==False, 'extracted_url'].unique()\n",
    "\n",
    "    if len(invalid_urls) > 0:\n",
    "        # Create a mapping DataFrame of extracted_url -> reextracted_url\n",
    "        invalid_urls_series = pd.Series(invalid_urls, name='extracted_url')\n",
    "        reextracted_list = []\n",
    "        for u in invalid_urls_series:\n",
    "            reex_urls = reextract_links(u)\n",
    "            for rurl in reex_urls:\n",
    "                reextracted_list.append((u, rurl))\n",
    "\n",
    "        if reextracted_list:\n",
    "            reextracted_df = pd.DataFrame(reextracted_list, columns=['extracted_url', 'reextracted_url']).drop_duplicates('extracted_url')\n",
    "            # reextracted_df.to_hdf('data/reextracted_df_test.h5', key='df', mode='w')\n",
    "            # print('re', reextracted_df)\n",
    "            # Validate reextracted URLs\n",
    "            re_urls = reextracted_df['reextracted_url'].unique()\n",
    "            # print('ru', re_urls)\n",
    "            results2 = await validate_urls_main(re_urls)\n",
    "            df_results2 = pd.DataFrame([[x[0], *x[1]] for x in results2],\n",
    "                                       columns=['reextracted_url', 'valid_2', 'status_2', 'processed_url_2']).drop_duplicates('reextracted_url')\n",
    "            # print('r2', df_results2)\n",
    "            # Merge second attempt results into reextracted_df\n",
    "            # df_results2.to_hdf('data/df_results2_test.h5', key='df', mode='w')\n",
    "            reextracted_df = reextracted_df.merge(df_results2, on='reextracted_url', how='left').drop_duplicates()\n",
    "            # print('re2', reextracted_df)\n",
    "            # Now merge reextracted results back to links_df using 'extracted_url'\n",
    "            # prin t('l0', links_df)\n",
    "            # reextracted_df.to_hdf('data/reextracted_df_test2.h5', key='df', mode='w')\n",
    "            links_df = links_df.merge(reextracted_df, on='extracted_url', how='left', suffixes=('', '_second')).drop_duplicates()\n",
    "            # print('lr', links_df)\n",
    "            # Check still invalid after reextraction\n",
    "            # Consider invalid if original attempt and reattempt still fail\n",
    "            # links_df.to_hdf('data/links_df_test2.h5', key='df', mode='w')\n",
    "            # print('ldf', len(links_df))\n",
    "            # print('re', len(re_urls))\n",
    "            # print('r2', len(results2))\n",
    "            # print('rdf', len(reextracted_df))\n",
    "            still_invalid_df = links_df.loc[\n",
    "                (links_df['valid_1']==False) &\n",
    "                ((links_df['valid_2'].isna()) | (links_df['valid_2']==False))\n",
    "            ][['reextracted_url']].drop_duplicates().copy()\n",
    "            # print('si', still_invalid_df)\n",
    "            if len(still_invalid_df) > 0:\n",
    "                # Validate still invalid URLs with textpunctuation\n",
    "                # We need to look up the reextracted URLs again for these still invalid URLs\n",
    "                # or possibly re-run the logic if reextraction is required again.\n",
    "                # For now, let's assume we can directly use 'reextracted_df' to get them.\n",
    "\n",
    "                # Filter reextracted_df for those matching still_invalid original URLs\n",
    "                re_urls_third = still_invalid_df['reextracted_url'].unique()\n",
    "                # print('r3', re_urls_third)\n",
    "                results3 = await validate_urls_main2(re_urls_third)\n",
    "                df_results3 = pd.DataFrame([[x[0], *x[1]] for x in results3],\n",
    "                                           columns=['reextracted_url', 'valid_3', 'status_3', 'processed_url_3']).drop_duplicates('reextracted_url')\n",
    "\n",
    "                # Merge third attempt results\n",
    "                still_invalid_df = still_invalid_df.merge(df_results3, on='reextracted_url', how='left').drop_duplicates()\n",
    "                \n",
    "                # Merge back into links_df by original_url\n",
    "                links_df = links_df.merge(still_invalid_df, on='reextracted_url', how='left', suffixes=('', '_third')).drop_duplicates()\n",
    "\n",
    "    # Now links_df contains:\n",
    "    # - original extracted_url from the posts\n",
    "    # - initial validation results (valid, status, processed_url)\n",
    "    # - second attempt validation results (valid_re, status_re, processed_url_re) via reextraction\n",
    "    # - third attempt validation results (valid_third, status_third, processed_url_third)\n",
    "\n",
    "    # You can now decide on final validity and merge results back into posts if needed.\n",
    "\n",
    "    # add cols to links_df, if not present\n",
    "    cols = ['extracted_url', 'valid_1', 'status_1',\n",
    "       'processed_url_1', 'reextracted_url', 'valid_2', 'status_2', 'processed_url_2',\n",
    "       'valid_3', 'status_3', 'processed_url_3']\n",
    "    for col in cols:\n",
    "        if col not in links_df.columns:\n",
    "            links_df[col] = None\n",
    "\n",
    "    # get final validity, prefer the last valid url\n",
    "    if len(links_df) > 0:\n",
    "        links_df['end_processed_valid'] = links_df['valid_3'].fillna(\n",
    "            links_df['valid_2'].fillna(\n",
    "                links_df['valid_1']\n",
    "            )\n",
    "        )\n",
    "\n",
    "        links_df['end_processed_status'] = links_df['status_3'].fillna(\n",
    "            links_df['status_2'].fillna(\n",
    "                links_df['status_1']\n",
    "            )\n",
    "        )\n",
    "        \n",
    "        links_df['end_processed_url'] = links_df['processed_url_3'].fillna(\n",
    "            links_df['processed_url_2'].fillna(\n",
    "                links_df['processed_url_1']\n",
    "            )\n",
    "        )\n",
    "        \n",
    "        # print('l', links_df)\n",
    "        # get redirects for 3xx errors\n",
    "        error3xxs = links_df[(links_df['status_1']>=300)&(links_df['status_1']<400)|\n",
    "                             (links_df['status_2']>=300)&(links_df['status_2']<400)|\n",
    "                             (links_df['status_3']>=300)&(links_df['status_3']<400)\n",
    "                             ][['end_processed_url']].drop_duplicates().copy()\n",
    "\n",
    "        rd_results = await validate_urls_main(error3xxs['end_processed_url'], retries=100000000, allow_redirects=True)\n",
    "        rd_df = pd.DataFrame([[x[0], *x[1]] for x in rd_results],\n",
    "                             columns=['end_processed_url', 'valid_rd', 'status_rd', 'redirected_url']\n",
    "                             ).drop_duplicates('end_processed_url')\n",
    "        # print('rd', rd_df)\n",
    "                             \n",
    "        links_df = links_df.merge(rd_df, on='end_processed_url', how='left').drop_duplicates()\n",
    "\n",
    "        #  rerun for 429 errors\n",
    "        error429s = links_df[(links_df['status_1']==429)|\n",
    "                                (links_df['status_2']==429)|\n",
    "                                (links_df['status_3']==429)|\n",
    "                                (links_df['status_rd']==429)\n",
    "                                ][links_df.columns[:chop_index]].drop_duplicates().copy()\n",
    "        links_df = links_df[(links_df['status_1']!=429)&\n",
    "                            (links_df['status_2']!=429)&\n",
    "                            (links_df['status_3']!=429)&\n",
    "                            (links_df['status_rd']!=429)\n",
    "                            ].drop_duplicates()\n",
    "\n",
    "        if len(error429s) > 0:\n",
    "            if retry_count < max_retries:\n",
    "                delay = backoff_factor ** retry_count\n",
    "                print(f\"429 errors: {len(error429s)}. Retrying after {delay} seconds...\")\n",
    "                await asyncio.sleep(delay)\n",
    "                # Retry recursively with increased retry_count\n",
    "                new_links = await process_links(error429s.copy(), retry_count=retry_count + 1, max_retries=max_retries, backoff_factor=backoff_factor)\n",
    "                links_df = pd.concat([links_df, new_links]).drop_duplicates()\n",
    "            else:\n",
    "                print(f\"Max retries reached for {len(error429s)} URLs. Skipping...\")\n",
    "                error429s_extra = links_df[(links_df['status_1']==429)|\n",
    "                                (links_df['status_2']==429)|\n",
    "                                (links_df['status_3']==429)|\n",
    "                                (links_df['status_rd']==429)\n",
    "                                ][links_df.columns[:chop_index]].drop_duplicates().copy()\n",
    "                error429s = pd.concat([error429s, error429s_extra])\n",
    "                links_df = links_df[(links_df['status_1']!=429)&\n",
    "                            (links_df['status_2']!=429)&\n",
    "                            (links_df['status_3']!=429)&\n",
    "                            (links_df['status_rd']!=429)\n",
    "                            ].drop_duplicates()\n",
    "                # print(f\"429 errors: {len(l1429)} -> {len(error429s)}\")\n",
    "                # save 429s\n",
    "                if len(error429s) > 0:\n",
    "                    print(\"Saving 429s\")\n",
    "                    error429s.to_hdf('data/429s.h5', key='df', mode='a')\n",
    "\n",
    "\n",
    "        links_df['final_valid'] = links_df['valid_rd'].fillna(links_df['end_processed_valid'])\n",
    "        links_df['final_status'] = links_df['status_rd'].fillna(links_df['end_processed_status'])\n",
    "        links_df['final_url'] = links_df['redirected_url'].fillna(links_df['end_processed_url'])\n",
    "\n",
    "        print(\"Saving cache. Total size: \", len(RD_URL_CACHE_P[True]) + len(RD_URL_CACHE_P[False])\n",
    "                + len(RD_URL_CACHE_TP))\n",
    "        with open('.temp/rd_url_cache_p.pkl', 'wb') as f:\n",
    "            pickle.dump(RD_URL_CACHE_P, f)\n",
    "        with open('.temp/rd_url_cache_tp.pkl', 'wb') as f:\n",
    "            pickle.dump(RD_URL_CACHE_TP, f)\n",
    "\n",
    "        return links_df.drop_duplicates().reset_index(drop=True)\n",
    "    else:\n",
    "        return links_df.drop_duplicates().reset_index(drop=True)\n"
   ]
  },
  {
   "cell_type": "code",
   "execution_count": 3,
   "metadata": {},
   "outputs": [
    {
     "name": "stdout",
     "output_type": "stream",
     "text": [
      "Saving cache. Total size:  0\n"
     ]
    }
   ],
   "source": [
    "# RD_URL_CACHE_P = {True: {}, False: {}}\n",
    "# RD_URL_CACHE_TP = {}\n",
    "\n",
    "# print(\"Saving cache. Total size: \", len(RD_URL_CACHE_P[True]) + len(RD_URL_CACHE_P[False])\n",
    "#         + len(RD_URL_CACHE_TP))\n",
    "# with open('.temp/rd_url_cache_p.pkl', 'wb') as f:\n",
    "#     pickle.dump(RD_URL_CACHE_P, f)\n",
    "# with open('.temp/rd_url_cache_tp.pkl', 'wb') as f:\n",
    "#     pickle.dump(RD_URL_CACHE_TP, f)\n"
   ]
  },
  {
   "cell_type": "code",
   "execution_count": 3,
   "metadata": {},
   "outputs": [
    {
     "name": "stderr",
     "output_type": "stream",
     "text": [
      "/tmp/ipykernel_132414/2423678181.py:293: FutureWarning: Downcasting object dtype arrays on .fillna, .ffill, .bfill is deprecated and will change in a future version. Call result.infer_objects(copy=False) instead. To opt-in to the future behavior, set `pd.set_option('future.no_silent_downcasting', True)`\n",
      "  links_df['valid_2'].fillna(\n",
      "/tmp/ipykernel_132414/2423678181.py:292: FutureWarning: Downcasting object dtype arrays on .fillna, .ffill, .bfill is deprecated and will change in a future version. Call result.infer_objects(copy=False) instead. To opt-in to the future behavior, set `pd.set_option('future.no_silent_downcasting', True)`\n",
      "  links_df['end_processed_valid'] = links_df['valid_3'].fillna(\n",
      "/tmp/ipykernel_132414/2423678181.py:365: FutureWarning: Downcasting object dtype arrays on .fillna, .ffill, .bfill is deprecated and will change in a future version. Call result.infer_objects(copy=False) instead. To opt-in to the future behavior, set `pd.set_option('future.no_silent_downcasting', True)`\n",
      "  links_df['final_valid'] = links_df['valid_rd'].fillna(links_df['end_processed_valid'])\n"
     ]
    },
    {
     "name": "stdout",
     "output_type": "stream",
     "text": [
      "Saving cache. Total size:  2909113\n"
     ]
    },
    {
     "data": {
      "text/html": [
       "<div>\n",
       "<style scoped>\n",
       "    .dataframe tbody tr th:only-of-type {\n",
       "        vertical-align: middle;\n",
       "    }\n",
       "\n",
       "    .dataframe tbody tr th {\n",
       "        vertical-align: top;\n",
       "    }\n",
       "\n",
       "    .dataframe thead th {\n",
       "        text-align: right;\n",
       "    }\n",
       "</style>\n",
       "<table border=\"1\" class=\"dataframe\">\n",
       "  <thead>\n",
       "    <tr style=\"text-align: right;\">\n",
       "      <th></th>\n",
       "      <th>id</th>\n",
       "      <th>subreddit_id</th>\n",
       "      <th>created_at</th>\n",
       "      <th>updated_at</th>\n",
       "      <th>extracted_url</th>\n",
       "      <th>valid_1</th>\n",
       "      <th>status_1</th>\n",
       "      <th>processed_url_1</th>\n",
       "      <th>reextracted_url</th>\n",
       "      <th>valid_2</th>\n",
       "      <th>...</th>\n",
       "      <th>processed_url_3</th>\n",
       "      <th>end_processed_valid</th>\n",
       "      <th>end_processed_status</th>\n",
       "      <th>end_processed_url</th>\n",
       "      <th>valid_rd</th>\n",
       "      <th>status_rd</th>\n",
       "      <th>redirected_url</th>\n",
       "      <th>final_valid</th>\n",
       "      <th>final_status</th>\n",
       "      <th>final_url</th>\n",
       "    </tr>\n",
       "  </thead>\n",
       "  <tbody>\n",
       "    <tr>\n",
       "      <th>0</th>\n",
       "      <td>t3_evva62</td>\n",
       "      <td>t5_2qh16</td>\n",
       "      <td>2020-01-29 23:16:54.860</td>\n",
       "      <td>2020-01-29 23:38:45.353244</td>\n",
       "      <td>https://en.wikipedia.org/wiki/Unit_731</td>\n",
       "      <td>True</td>\n",
       "      <td>200</td>\n",
       "      <td>https://en.wikipedia.org/wiki/Unit_731</td>\n",
       "      <td>NaN</td>\n",
       "      <td>NaN</td>\n",
       "      <td>...</td>\n",
       "      <td>NaN</td>\n",
       "      <td>True</td>\n",
       "      <td>200.0</td>\n",
       "      <td>https://en.wikipedia.org/wiki/Unit_731</td>\n",
       "      <td>NaN</td>\n",
       "      <td>NaN</td>\n",
       "      <td>NaN</td>\n",
       "      <td>True</td>\n",
       "      <td>200.0</td>\n",
       "      <td>https://en.wikipedia.org/wiki/Unit_731</td>\n",
       "    </tr>\n",
       "    <tr>\n",
       "      <th>1</th>\n",
       "      <td>t3_ini49k</td>\n",
       "      <td>t5_2qh4r</td>\n",
       "      <td>2020-09-06 07:48:47.668</td>\n",
       "      <td>2020-09-06 13:53:40.374281</td>\n",
       "      <td>https://en.m.wikipedia.org/wiki/Shanghaiing</td>\n",
       "      <td>True</td>\n",
       "      <td>200</td>\n",
       "      <td>https://en.m.wikipedia.org/wiki/Shanghaiing</td>\n",
       "      <td>NaN</td>\n",
       "      <td>NaN</td>\n",
       "      <td>...</td>\n",
       "      <td>NaN</td>\n",
       "      <td>True</td>\n",
       "      <td>200.0</td>\n",
       "      <td>https://en.m.wikipedia.org/wiki/Shanghaiing</td>\n",
       "      <td>NaN</td>\n",
       "      <td>NaN</td>\n",
       "      <td>NaN</td>\n",
       "      <td>True</td>\n",
       "      <td>200.0</td>\n",
       "      <td>https://en.m.wikipedia.org/wiki/Shanghaiing</td>\n",
       "    </tr>\n",
       "    <tr>\n",
       "      <th>2</th>\n",
       "      <td>t3_g7m4zn</td>\n",
       "      <td>t5_2qhhq</td>\n",
       "      <td>2020-04-25 02:51:48.375</td>\n",
       "      <td>2020-05-10 12:06:23.576164</td>\n",
       "      <td>https://en.wikipedia.org/wiki/List_of_public_c...</td>\n",
       "      <td>True</td>\n",
       "      <td>200</td>\n",
       "      <td>https://en.wikipedia.org/wiki/List_of_public_c...</td>\n",
       "      <td>NaN</td>\n",
       "      <td>NaN</td>\n",
       "      <td>...</td>\n",
       "      <td>NaN</td>\n",
       "      <td>True</td>\n",
       "      <td>200.0</td>\n",
       "      <td>https://en.wikipedia.org/wiki/List_of_public_c...</td>\n",
       "      <td>NaN</td>\n",
       "      <td>NaN</td>\n",
       "      <td>NaN</td>\n",
       "      <td>True</td>\n",
       "      <td>200.0</td>\n",
       "      <td>https://en.wikipedia.org/wiki/List_of_public_c...</td>\n",
       "    </tr>\n",
       "    <tr>\n",
       "      <th>3</th>\n",
       "      <td>t3_htkzqv</td>\n",
       "      <td>t5_2qiu7</td>\n",
       "      <td>2020-07-18 18:00:51.386</td>\n",
       "      <td>2020-11-16 19:25:23.710963</td>\n",
       "      <td>https://en.wikipedia.org/wiki/Space_suit</td>\n",
       "      <td>True</td>\n",
       "      <td>200</td>\n",
       "      <td>https://en.wikipedia.org/wiki/Space_suit</td>\n",
       "      <td>NaN</td>\n",
       "      <td>NaN</td>\n",
       "      <td>...</td>\n",
       "      <td>NaN</td>\n",
       "      <td>True</td>\n",
       "      <td>200.0</td>\n",
       "      <td>https://en.wikipedia.org/wiki/Space_suit</td>\n",
       "      <td>NaN</td>\n",
       "      <td>NaN</td>\n",
       "      <td>NaN</td>\n",
       "      <td>True</td>\n",
       "      <td>200.0</td>\n",
       "      <td>https://en.wikipedia.org/wiki/Space_suit</td>\n",
       "    </tr>\n",
       "    <tr>\n",
       "      <th>4</th>\n",
       "      <td>t3_g8zoux</td>\n",
       "      <td>t5_2qixm</td>\n",
       "      <td>2020-04-27 12:22:58.413</td>\n",
       "      <td>2020-09-10 08:46:05.205640</td>\n",
       "      <td>https://en.wikipedia.org/wiki/Captain_Ron</td>\n",
       "      <td>True</td>\n",
       "      <td>200</td>\n",
       "      <td>https://en.wikipedia.org/wiki/Captain_Ron</td>\n",
       "      <td>NaN</td>\n",
       "      <td>NaN</td>\n",
       "      <td>...</td>\n",
       "      <td>NaN</td>\n",
       "      <td>True</td>\n",
       "      <td>200.0</td>\n",
       "      <td>https://en.wikipedia.org/wiki/Captain_Ron</td>\n",
       "      <td>NaN</td>\n",
       "      <td>NaN</td>\n",
       "      <td>NaN</td>\n",
       "      <td>True</td>\n",
       "      <td>200.0</td>\n",
       "      <td>https://en.wikipedia.org/wiki/Captain_Ron</td>\n",
       "    </tr>\n",
       "    <tr>\n",
       "      <th>...</th>\n",
       "      <td>...</td>\n",
       "      <td>...</td>\n",
       "      <td>...</td>\n",
       "      <td>...</td>\n",
       "      <td>...</td>\n",
       "      <td>...</td>\n",
       "      <td>...</td>\n",
       "      <td>...</td>\n",
       "      <td>...</td>\n",
       "      <td>...</td>\n",
       "      <td>...</td>\n",
       "      <td>...</td>\n",
       "      <td>...</td>\n",
       "      <td>...</td>\n",
       "      <td>...</td>\n",
       "      <td>...</td>\n",
       "      <td>...</td>\n",
       "      <td>...</td>\n",
       "      <td>...</td>\n",
       "      <td>...</td>\n",
       "      <td>...</td>\n",
       "    </tr>\n",
       "    <tr>\n",
       "      <th>1777</th>\n",
       "      <td>t3_et72k8</td>\n",
       "      <td>t5_12s4iu</td>\n",
       "      <td>2020-01-24 07:25:18.972</td>\n",
       "      <td>1970-01-01 00:00:00.000000</td>\n",
       "      <td>https://en.wikipedia.org/wiki/Dog-whistle_poli...</td>\n",
       "      <td>True</td>\n",
       "      <td>200</td>\n",
       "      <td>https://en.wikipedia.org/wiki/Dog-whistle_poli...</td>\n",
       "      <td>NaN</td>\n",
       "      <td>NaN</td>\n",
       "      <td>...</td>\n",
       "      <td>NaN</td>\n",
       "      <td>True</td>\n",
       "      <td>200.0</td>\n",
       "      <td>https://en.wikipedia.org/wiki/Dog-whistle_poli...</td>\n",
       "      <td>NaN</td>\n",
       "      <td>NaN</td>\n",
       "      <td>NaN</td>\n",
       "      <td>True</td>\n",
       "      <td>200.0</td>\n",
       "      <td>https://en.wikipedia.org/wiki/Dog-whistle_poli...</td>\n",
       "    </tr>\n",
       "    <tr>\n",
       "      <th>1778</th>\n",
       "      <td>t3_gz0b53</td>\n",
       "      <td>t5_26d5z6</td>\n",
       "      <td>2020-06-08 14:26:24.555</td>\n",
       "      <td>2020-06-09 15:04:15.331131</td>\n",
       "      <td>https://en.wikipedia.org/wiki/Wayside_Inn_(Arl...</td>\n",
       "      <td>True</td>\n",
       "      <td>200</td>\n",
       "      <td>https://en.wikipedia.org/wiki/Wayside_Inn_(Arl...</td>\n",
       "      <td>NaN</td>\n",
       "      <td>NaN</td>\n",
       "      <td>...</td>\n",
       "      <td>NaN</td>\n",
       "      <td>True</td>\n",
       "      <td>200.0</td>\n",
       "      <td>https://en.wikipedia.org/wiki/Wayside_Inn_(Arl...</td>\n",
       "      <td>NaN</td>\n",
       "      <td>NaN</td>\n",
       "      <td>NaN</td>\n",
       "      <td>True</td>\n",
       "      <td>200.0</td>\n",
       "      <td>https://en.wikipedia.org/wiki/Wayside_Inn_(Arl...</td>\n",
       "    </tr>\n",
       "    <tr>\n",
       "      <th>1779</th>\n",
       "      <td>t3_f0k46o</td>\n",
       "      <td>t5_2dar36</td>\n",
       "      <td>2020-02-08 00:59:57.389</td>\n",
       "      <td>2020-02-15 19:02:45.696495</td>\n",
       "      <td>https://en.m.wikipedia.org/wiki/Deutsche_Welle</td>\n",
       "      <td>True</td>\n",
       "      <td>200</td>\n",
       "      <td>https://en.m.wikipedia.org/wiki/Deutsche_Welle</td>\n",
       "      <td>NaN</td>\n",
       "      <td>NaN</td>\n",
       "      <td>...</td>\n",
       "      <td>NaN</td>\n",
       "      <td>True</td>\n",
       "      <td>200.0</td>\n",
       "      <td>https://en.m.wikipedia.org/wiki/Deutsche_Welle</td>\n",
       "      <td>NaN</td>\n",
       "      <td>NaN</td>\n",
       "      <td>NaN</td>\n",
       "      <td>True</td>\n",
       "      <td>200.0</td>\n",
       "      <td>https://en.m.wikipedia.org/wiki/Deutsche_Welle</td>\n",
       "    </tr>\n",
       "    <tr>\n",
       "      <th>1780</th>\n",
       "      <td>t3_jyu3i1</td>\n",
       "      <td>t5_2qh0z</td>\n",
       "      <td>2020-11-22 11:18:13.206</td>\n",
       "      <td>2021-01-20 13:10:09.555905</td>\n",
       "      <td>https://en.m.wikipedia.org/wiki/List_of_presid...</td>\n",
       "      <td>True</td>\n",
       "      <td>200</td>\n",
       "      <td>https://en.m.wikipedia.org/wiki/List_of_presid...</td>\n",
       "      <td>NaN</td>\n",
       "      <td>NaN</td>\n",
       "      <td>...</td>\n",
       "      <td>NaN</td>\n",
       "      <td>True</td>\n",
       "      <td>200.0</td>\n",
       "      <td>https://en.m.wikipedia.org/wiki/List_of_presid...</td>\n",
       "      <td>NaN</td>\n",
       "      <td>NaN</td>\n",
       "      <td>NaN</td>\n",
       "      <td>True</td>\n",
       "      <td>200.0</td>\n",
       "      <td>https://en.m.wikipedia.org/wiki/List_of_presid...</td>\n",
       "    </tr>\n",
       "    <tr>\n",
       "      <th>1781</th>\n",
       "      <td>t3_k4e9rk</td>\n",
       "      <td>t5_2qh4r</td>\n",
       "      <td>2020-12-01 05:08:53.831</td>\n",
       "      <td>2021-02-24 00:02:50.042814</td>\n",
       "      <td>https://en.m.wikipedia.org/wiki/Fourteen_Words</td>\n",
       "      <td>True</td>\n",
       "      <td>200</td>\n",
       "      <td>https://en.m.wikipedia.org/wiki/Fourteen_Words</td>\n",
       "      <td>NaN</td>\n",
       "      <td>NaN</td>\n",
       "      <td>...</td>\n",
       "      <td>NaN</td>\n",
       "      <td>True</td>\n",
       "      <td>200.0</td>\n",
       "      <td>https://en.m.wikipedia.org/wiki/Fourteen_Words</td>\n",
       "      <td>NaN</td>\n",
       "      <td>NaN</td>\n",
       "      <td>NaN</td>\n",
       "      <td>True</td>\n",
       "      <td>200.0</td>\n",
       "      <td>https://en.m.wikipedia.org/wiki/Fourteen_Words</td>\n",
       "    </tr>\n",
       "  </tbody>\n",
       "</table>\n",
       "<p>1782 rows × 24 columns</p>\n",
       "</div>"
      ],
      "text/plain": [
       "             id subreddit_id              created_at  \\\n",
       "0     t3_evva62     t5_2qh16 2020-01-29 23:16:54.860   \n",
       "1     t3_ini49k     t5_2qh4r 2020-09-06 07:48:47.668   \n",
       "2     t3_g7m4zn     t5_2qhhq 2020-04-25 02:51:48.375   \n",
       "3     t3_htkzqv     t5_2qiu7 2020-07-18 18:00:51.386   \n",
       "4     t3_g8zoux     t5_2qixm 2020-04-27 12:22:58.413   \n",
       "...         ...          ...                     ...   \n",
       "1777  t3_et72k8    t5_12s4iu 2020-01-24 07:25:18.972   \n",
       "1778  t3_gz0b53    t5_26d5z6 2020-06-08 14:26:24.555   \n",
       "1779  t3_f0k46o    t5_2dar36 2020-02-08 00:59:57.389   \n",
       "1780  t3_jyu3i1     t5_2qh0z 2020-11-22 11:18:13.206   \n",
       "1781  t3_k4e9rk     t5_2qh4r 2020-12-01 05:08:53.831   \n",
       "\n",
       "                     updated_at  \\\n",
       "0    2020-01-29 23:38:45.353244   \n",
       "1    2020-09-06 13:53:40.374281   \n",
       "2    2020-05-10 12:06:23.576164   \n",
       "3    2020-11-16 19:25:23.710963   \n",
       "4    2020-09-10 08:46:05.205640   \n",
       "...                         ...   \n",
       "1777 1970-01-01 00:00:00.000000   \n",
       "1778 2020-06-09 15:04:15.331131   \n",
       "1779 2020-02-15 19:02:45.696495   \n",
       "1780 2021-01-20 13:10:09.555905   \n",
       "1781 2021-02-24 00:02:50.042814   \n",
       "\n",
       "                                          extracted_url  valid_1  status_1  \\\n",
       "0                https://en.wikipedia.org/wiki/Unit_731     True       200   \n",
       "1           https://en.m.wikipedia.org/wiki/Shanghaiing     True       200   \n",
       "2     https://en.wikipedia.org/wiki/List_of_public_c...     True       200   \n",
       "3              https://en.wikipedia.org/wiki/Space_suit     True       200   \n",
       "4             https://en.wikipedia.org/wiki/Captain_Ron     True       200   \n",
       "...                                                 ...      ...       ...   \n",
       "1777  https://en.wikipedia.org/wiki/Dog-whistle_poli...     True       200   \n",
       "1778  https://en.wikipedia.org/wiki/Wayside_Inn_(Arl...     True       200   \n",
       "1779     https://en.m.wikipedia.org/wiki/Deutsche_Welle     True       200   \n",
       "1780  https://en.m.wikipedia.org/wiki/List_of_presid...     True       200   \n",
       "1781     https://en.m.wikipedia.org/wiki/Fourteen_Words     True       200   \n",
       "\n",
       "                                        processed_url_1 reextracted_url  \\\n",
       "0                https://en.wikipedia.org/wiki/Unit_731             NaN   \n",
       "1           https://en.m.wikipedia.org/wiki/Shanghaiing             NaN   \n",
       "2     https://en.wikipedia.org/wiki/List_of_public_c...             NaN   \n",
       "3              https://en.wikipedia.org/wiki/Space_suit             NaN   \n",
       "4             https://en.wikipedia.org/wiki/Captain_Ron             NaN   \n",
       "...                                                 ...             ...   \n",
       "1777  https://en.wikipedia.org/wiki/Dog-whistle_poli...             NaN   \n",
       "1778  https://en.wikipedia.org/wiki/Wayside_Inn_(Arl...             NaN   \n",
       "1779     https://en.m.wikipedia.org/wiki/Deutsche_Welle             NaN   \n",
       "1780  https://en.m.wikipedia.org/wiki/List_of_presid...             NaN   \n",
       "1781     https://en.m.wikipedia.org/wiki/Fourteen_Words             NaN   \n",
       "\n",
       "     valid_2  ...  processed_url_3 end_processed_valid end_processed_status  \\\n",
       "0        NaN  ...              NaN                True                200.0   \n",
       "1        NaN  ...              NaN                True                200.0   \n",
       "2        NaN  ...              NaN                True                200.0   \n",
       "3        NaN  ...              NaN                True                200.0   \n",
       "4        NaN  ...              NaN                True                200.0   \n",
       "...      ...  ...              ...                 ...                  ...   \n",
       "1777     NaN  ...              NaN                True                200.0   \n",
       "1778     NaN  ...              NaN                True                200.0   \n",
       "1779     NaN  ...              NaN                True                200.0   \n",
       "1780     NaN  ...              NaN                True                200.0   \n",
       "1781     NaN  ...              NaN                True                200.0   \n",
       "\n",
       "                                      end_processed_url valid_rd  status_rd  \\\n",
       "0                https://en.wikipedia.org/wiki/Unit_731      NaN        NaN   \n",
       "1           https://en.m.wikipedia.org/wiki/Shanghaiing      NaN        NaN   \n",
       "2     https://en.wikipedia.org/wiki/List_of_public_c...      NaN        NaN   \n",
       "3              https://en.wikipedia.org/wiki/Space_suit      NaN        NaN   \n",
       "4             https://en.wikipedia.org/wiki/Captain_Ron      NaN        NaN   \n",
       "...                                                 ...      ...        ...   \n",
       "1777  https://en.wikipedia.org/wiki/Dog-whistle_poli...      NaN        NaN   \n",
       "1778  https://en.wikipedia.org/wiki/Wayside_Inn_(Arl...      NaN        NaN   \n",
       "1779     https://en.m.wikipedia.org/wiki/Deutsche_Welle      NaN        NaN   \n",
       "1780  https://en.m.wikipedia.org/wiki/List_of_presid...      NaN        NaN   \n",
       "1781     https://en.m.wikipedia.org/wiki/Fourteen_Words      NaN        NaN   \n",
       "\n",
       "      redirected_url final_valid final_status  \\\n",
       "0                NaN        True        200.0   \n",
       "1                NaN        True        200.0   \n",
       "2                NaN        True        200.0   \n",
       "3                NaN        True        200.0   \n",
       "4                NaN        True        200.0   \n",
       "...              ...         ...          ...   \n",
       "1777             NaN        True        200.0   \n",
       "1778             NaN        True        200.0   \n",
       "1779             NaN        True        200.0   \n",
       "1780             NaN        True        200.0   \n",
       "1781             NaN        True        200.0   \n",
       "\n",
       "                                              final_url  \n",
       "0                https://en.wikipedia.org/wiki/Unit_731  \n",
       "1           https://en.m.wikipedia.org/wiki/Shanghaiing  \n",
       "2     https://en.wikipedia.org/wiki/List_of_public_c...  \n",
       "3              https://en.wikipedia.org/wiki/Space_suit  \n",
       "4             https://en.wikipedia.org/wiki/Captain_Ron  \n",
       "...                                                 ...  \n",
       "1777  https://en.wikipedia.org/wiki/Dog-whistle_poli...  \n",
       "1778  https://en.wikipedia.org/wiki/Wayside_Inn_(Arl...  \n",
       "1779     https://en.m.wikipedia.org/wiki/Deutsche_Welle  \n",
       "1780  https://en.m.wikipedia.org/wiki/List_of_presid...  \n",
       "1781     https://en.m.wikipedia.org/wiki/Fourteen_Words  \n",
       "\n",
       "[1782 rows x 24 columns]"
      ]
     },
     "execution_count": 3,
     "metadata": {},
     "output_type": "execute_result"
    }
   ],
   "source": [
    "# For example:\n",
    "posts = pd.read_hdf('data/posts.h5').reset_index(drop=True)\n",
    "ptest = posts.iloc[:1000].copy()  # limit for testing\n",
    "\n",
    "# Run the async function\n",
    "links_df = await get_links_df(ptest, column='body')\n",
    "links_df[['id', 'subreddit_id', \n",
    "       'created_at', 'updated_at', 'extracted_url', 'valid_1', 'status_1',\n",
    "       'processed_url_1', 'reextracted_url', 'valid_2', 'status_2',\n",
    "       'processed_url_2', 'valid_3', 'status_3', 'processed_url_3',\n",
    "       'end_processed_valid', 'end_processed_status', 'end_processed_url',\n",
    "       'valid_rd', 'status_rd', 'redirected_url', 'final_valid',\n",
    "       'final_status', 'final_url']]"
   ]
  },
  {
   "cell_type": "code",
   "execution_count": 4,
   "metadata": {},
   "outputs": [
    {
     "name": "stdout",
     "output_type": "stream",
     "text": [
      "valid_1 valid_2\n"
     ]
    },
    {
     "data": {
      "text/html": [
       "<div>\n",
       "<style scoped>\n",
       "    .dataframe tbody tr th:only-of-type {\n",
       "        vertical-align: middle;\n",
       "    }\n",
       "\n",
       "    .dataframe tbody tr th {\n",
       "        vertical-align: top;\n",
       "    }\n",
       "\n",
       "    .dataframe thead th {\n",
       "        text-align: right;\n",
       "    }\n",
       "</style>\n",
       "<table border=\"1\" class=\"dataframe\">\n",
       "  <thead>\n",
       "    <tr style=\"text-align: right;\">\n",
       "      <th></th>\n",
       "      <th>id</th>\n",
       "      <th>subreddit_id</th>\n",
       "      <th>title</th>\n",
       "      <th>body</th>\n",
       "      <th>url</th>\n",
       "      <th>author_id</th>\n",
       "      <th>nsfw</th>\n",
       "      <th>score</th>\n",
       "      <th>upvote_ratio</th>\n",
       "      <th>distinguished</th>\n",
       "      <th>...</th>\n",
       "      <th>processed_url_3</th>\n",
       "      <th>end_processed_valid</th>\n",
       "      <th>end_processed_status</th>\n",
       "      <th>end_processed_url</th>\n",
       "      <th>valid_rd</th>\n",
       "      <th>status_rd</th>\n",
       "      <th>redirected_url</th>\n",
       "      <th>final_valid</th>\n",
       "      <th>final_status</th>\n",
       "      <th>final_url</th>\n",
       "    </tr>\n",
       "  </thead>\n",
       "  <tbody>\n",
       "  </tbody>\n",
       "</table>\n",
       "<p>0 rows × 44 columns</p>\n",
       "</div>"
      ],
      "text/plain": [
       "Empty DataFrame\n",
       "Columns: [id, subreddit_id, title, body, url, author_id, nsfw, score, upvote_ratio, distinguished, self, video, locked, spoiler, sticky, flair_text, language_code, gildings, thumbnail, crosspost_parent_id, permalink, num_comments, created_at, updated_at, extracted_url, valid_1, status_1, processed_url_1, reextracted_url, valid_2, status_2, processed_url_2, valid_3, status_3, processed_url_3, end_processed_valid, end_processed_status, end_processed_url, valid_rd, status_rd, redirected_url, final_valid, final_status, final_url]\n",
       "Index: []\n",
       "\n",
       "[0 rows x 44 columns]"
      ]
     },
     "metadata": {},
     "output_type": "display_data"
    },
    {
     "name": "stdout",
     "output_type": "stream",
     "text": [
      "valid_1 valid_3\n"
     ]
    },
    {
     "data": {
      "text/html": [
       "<div>\n",
       "<style scoped>\n",
       "    .dataframe tbody tr th:only-of-type {\n",
       "        vertical-align: middle;\n",
       "    }\n",
       "\n",
       "    .dataframe tbody tr th {\n",
       "        vertical-align: top;\n",
       "    }\n",
       "\n",
       "    .dataframe thead th {\n",
       "        text-align: right;\n",
       "    }\n",
       "</style>\n",
       "<table border=\"1\" class=\"dataframe\">\n",
       "  <thead>\n",
       "    <tr style=\"text-align: right;\">\n",
       "      <th></th>\n",
       "      <th>id</th>\n",
       "      <th>subreddit_id</th>\n",
       "      <th>title</th>\n",
       "      <th>body</th>\n",
       "      <th>url</th>\n",
       "      <th>author_id</th>\n",
       "      <th>nsfw</th>\n",
       "      <th>score</th>\n",
       "      <th>upvote_ratio</th>\n",
       "      <th>distinguished</th>\n",
       "      <th>...</th>\n",
       "      <th>processed_url_3</th>\n",
       "      <th>end_processed_valid</th>\n",
       "      <th>end_processed_status</th>\n",
       "      <th>end_processed_url</th>\n",
       "      <th>valid_rd</th>\n",
       "      <th>status_rd</th>\n",
       "      <th>redirected_url</th>\n",
       "      <th>final_valid</th>\n",
       "      <th>final_status</th>\n",
       "      <th>final_url</th>\n",
       "    </tr>\n",
       "  </thead>\n",
       "  <tbody>\n",
       "  </tbody>\n",
       "</table>\n",
       "<p>0 rows × 44 columns</p>\n",
       "</div>"
      ],
      "text/plain": [
       "Empty DataFrame\n",
       "Columns: [id, subreddit_id, title, body, url, author_id, nsfw, score, upvote_ratio, distinguished, self, video, locked, spoiler, sticky, flair_text, language_code, gildings, thumbnail, crosspost_parent_id, permalink, num_comments, created_at, updated_at, extracted_url, valid_1, status_1, processed_url_1, reextracted_url, valid_2, status_2, processed_url_2, valid_3, status_3, processed_url_3, end_processed_valid, end_processed_status, end_processed_url, valid_rd, status_rd, redirected_url, final_valid, final_status, final_url]\n",
       "Index: []\n",
       "\n",
       "[0 rows x 44 columns]"
      ]
     },
     "metadata": {},
     "output_type": "display_data"
    },
    {
     "name": "stdout",
     "output_type": "stream",
     "text": [
      "valid_2 valid_3\n"
     ]
    },
    {
     "data": {
      "text/html": [
       "<div>\n",
       "<style scoped>\n",
       "    .dataframe tbody tr th:only-of-type {\n",
       "        vertical-align: middle;\n",
       "    }\n",
       "\n",
       "    .dataframe tbody tr th {\n",
       "        vertical-align: top;\n",
       "    }\n",
       "\n",
       "    .dataframe thead th {\n",
       "        text-align: right;\n",
       "    }\n",
       "</style>\n",
       "<table border=\"1\" class=\"dataframe\">\n",
       "  <thead>\n",
       "    <tr style=\"text-align: right;\">\n",
       "      <th></th>\n",
       "      <th>id</th>\n",
       "      <th>subreddit_id</th>\n",
       "      <th>title</th>\n",
       "      <th>body</th>\n",
       "      <th>url</th>\n",
       "      <th>author_id</th>\n",
       "      <th>nsfw</th>\n",
       "      <th>score</th>\n",
       "      <th>upvote_ratio</th>\n",
       "      <th>distinguished</th>\n",
       "      <th>...</th>\n",
       "      <th>processed_url_3</th>\n",
       "      <th>end_processed_valid</th>\n",
       "      <th>end_processed_status</th>\n",
       "      <th>end_processed_url</th>\n",
       "      <th>valid_rd</th>\n",
       "      <th>status_rd</th>\n",
       "      <th>redirected_url</th>\n",
       "      <th>final_valid</th>\n",
       "      <th>final_status</th>\n",
       "      <th>final_url</th>\n",
       "    </tr>\n",
       "  </thead>\n",
       "  <tbody>\n",
       "  </tbody>\n",
       "</table>\n",
       "<p>0 rows × 44 columns</p>\n",
       "</div>"
      ],
      "text/plain": [
       "Empty DataFrame\n",
       "Columns: [id, subreddit_id, title, body, url, author_id, nsfw, score, upvote_ratio, distinguished, self, video, locked, spoiler, sticky, flair_text, language_code, gildings, thumbnail, crosspost_parent_id, permalink, num_comments, created_at, updated_at, extracted_url, valid_1, status_1, processed_url_1, reextracted_url, valid_2, status_2, processed_url_2, valid_3, status_3, processed_url_3, end_processed_valid, end_processed_status, end_processed_url, valid_rd, status_rd, redirected_url, final_valid, final_status, final_url]\n",
       "Index: []\n",
       "\n",
       "[0 rows x 44 columns]"
      ]
     },
     "metadata": {},
     "output_type": "display_data"
    }
   ],
   "source": [
    "for n, x in enumerate(['valid_1', 'valid_2', 'valid_3']):\n",
    "    for m, y in enumerate(['valid_1', 'valid_2', 'valid_3']):\n",
    "        if m > n:\n",
    "            print(x, y)\n",
    "            display(links_df[links_df[x] & links_df[y]])"
   ]
  },
  {
   "cell_type": "code",
   "execution_count": 5,
   "metadata": {},
   "outputs": [],
   "source": [
    "posts = pd.read_hdf('data/posts.h5').reset_index(drop=True)"
   ]
  },
  {
   "cell_type": "code",
   "execution_count": 11,
   "metadata": {},
   "outputs": [
    {
     "name": "stdout",
     "output_type": "stream",
     "text": [
      "Batch 1 33589\n",
      "File data/titlelinks_batches.h5 does not exist\n"
     ]
    },
    {
     "name": "stderr",
     "output_type": "stream",
     "text": [
      "/tmp/ipykernel_86704/2423678181.py:293: FutureWarning: Downcasting object dtype arrays on .fillna, .ffill, .bfill is deprecated and will change in a future version. Call result.infer_objects(copy=False) instead. To opt-in to the future behavior, set `pd.set_option('future.no_silent_downcasting', True)`\n",
      "  links_df['valid_2'].fillna(\n",
      "/tmp/ipykernel_86704/2423678181.py:292: FutureWarning: Downcasting object dtype arrays on .fillna, .ffill, .bfill is deprecated and will change in a future version. Call result.infer_objects(copy=False) instead. To opt-in to the future behavior, set `pd.set_option('future.no_silent_downcasting', True)`\n",
      "  links_df['end_processed_valid'] = links_df['valid_3'].fillna(\n",
      "/tmp/ipykernel_86704/2423678181.py:365: FutureWarning: Downcasting object dtype arrays on .fillna, .ffill, .bfill is deprecated and will change in a future version. Call result.infer_objects(copy=False) instead. To opt-in to the future behavior, set `pd.set_option('future.no_silent_downcasting', True)`\n",
      "  links_df['final_valid'] = links_df['valid_rd'].fillna(links_df['end_processed_valid'])\n",
      "/tmp/ipykernel_86704/2031526577.py:21: PerformanceWarning: \n",
      "your performance may suffer as PyTables will pickle object types that it cannot\n",
      "map directly to c-types [inferred_type->mixed,key->block0_values] [items->Index(['id', 'extracted_url', 'processed_url_1', 'reextracted_url', 'valid_2',\n",
      "       'processed_url_2', 'valid_3', 'processed_url_3', 'end_processed_url',\n",
      "       'valid_rd', 'redirected_url', 'final_url'],\n",
      "      dtype='object')]\n",
      "\n",
      "  links_df[outcols].to_hdf(f'data/titlelinks_batches.h5', key=f'/batch_{batch//size + 1}', mode='a')\n"
     ]
    },
    {
     "name": "stdout",
     "output_type": "stream",
     "text": [
      "Saving cache. Total size:  1956\n",
      "Saving...\n",
      "Batch 2 33589\n",
      "'No object named /batch_2 in the file'\n",
      "Cannot connect to host wikipediaen.wikipedia.org:443 ssl:default [Name or service not known]\n",
      "Cannot connect to host wikipediaen.wikipedia.org:443 ssl:default [Name or service not known]\n",
      "Cannot connect to host wikipediaen.wikipedia.:443 ssl:default [Name or service not known]\n",
      "Cannot connect to host wikipediaen.wikipedia:443 ssl:default [Name or service not known]\n"
     ]
    },
    {
     "name": "stderr",
     "output_type": "stream",
     "text": [
      "/tmp/ipykernel_86704/2423678181.py:293: FutureWarning: Downcasting object dtype arrays on .fillna, .ffill, .bfill is deprecated and will change in a future version. Call result.infer_objects(copy=False) instead. To opt-in to the future behavior, set `pd.set_option('future.no_silent_downcasting', True)`\n",
      "  links_df['valid_2'].fillna(\n",
      "/tmp/ipykernel_86704/2423678181.py:292: FutureWarning: Downcasting object dtype arrays on .fillna, .ffill, .bfill is deprecated and will change in a future version. Call result.infer_objects(copy=False) instead. To opt-in to the future behavior, set `pd.set_option('future.no_silent_downcasting', True)`\n",
      "  links_df['end_processed_valid'] = links_df['valid_3'].fillna(\n",
      "/tmp/ipykernel_86704/2423678181.py:365: FutureWarning: Downcasting object dtype arrays on .fillna, .ffill, .bfill is deprecated and will change in a future version. Call result.infer_objects(copy=False) instead. To opt-in to the future behavior, set `pd.set_option('future.no_silent_downcasting', True)`\n",
      "  links_df['final_valid'] = links_df['valid_rd'].fillna(links_df['end_processed_valid'])\n",
      "/tmp/ipykernel_86704/2031526577.py:21: PerformanceWarning: \n",
      "your performance may suffer as PyTables will pickle object types that it cannot\n",
      "map directly to c-types [inferred_type->mixed,key->block0_values] [items->Index(['id', 'extracted_url', 'processed_url_1', 'reextracted_url', 'valid_2',\n",
      "       'processed_url_2', 'valid_3', 'processed_url_3', 'end_processed_url',\n",
      "       'valid_rd', 'redirected_url', 'final_url'],\n",
      "      dtype='object')]\n",
      "\n",
      "  links_df[outcols].to_hdf(f'data/titlelinks_batches.h5', key=f'/batch_{batch//size + 1}', mode='a')\n"
     ]
    },
    {
     "name": "stdout",
     "output_type": "stream",
     "text": [
      "Saving cache. Total size:  2162\n",
      "Saving...\n",
      "Batch 3 33589\n",
      "'No object named /batch_3 in the file'\n",
      "Cannot connect to host imagenl.m.wikipedia.org:443 ssl:default [Name or service not known]\n",
      "Cannot connect to host imagenl.m.wikipedia.org:443 ssl:default [Name or service not known]\n",
      "Cannot connect to host imagenl.m.wikipedia.:443 ssl:default [Name or service not known]\n",
      "Cannot connect to host imagenl.m.wikipedia:443 ssl:default [Name or service not known]\n"
     ]
    },
    {
     "name": "stderr",
     "output_type": "stream",
     "text": [
      "/tmp/ipykernel_86704/2423678181.py:293: FutureWarning: Downcasting object dtype arrays on .fillna, .ffill, .bfill is deprecated and will change in a future version. Call result.infer_objects(copy=False) instead. To opt-in to the future behavior, set `pd.set_option('future.no_silent_downcasting', True)`\n",
      "  links_df['valid_2'].fillna(\n",
      "/tmp/ipykernel_86704/2423678181.py:292: FutureWarning: Downcasting object dtype arrays on .fillna, .ffill, .bfill is deprecated and will change in a future version. Call result.infer_objects(copy=False) instead. To opt-in to the future behavior, set `pd.set_option('future.no_silent_downcasting', True)`\n",
      "  links_df['end_processed_valid'] = links_df['valid_3'].fillna(\n",
      "/tmp/ipykernel_86704/2423678181.py:365: FutureWarning: Downcasting object dtype arrays on .fillna, .ffill, .bfill is deprecated and will change in a future version. Call result.infer_objects(copy=False) instead. To opt-in to the future behavior, set `pd.set_option('future.no_silent_downcasting', True)`\n",
      "  links_df['final_valid'] = links_df['valid_rd'].fillna(links_df['end_processed_valid'])\n",
      "/tmp/ipykernel_86704/2031526577.py:21: PerformanceWarning: \n",
      "your performance may suffer as PyTables will pickle object types that it cannot\n",
      "map directly to c-types [inferred_type->mixed,key->block0_values] [items->Index(['id', 'extracted_url', 'processed_url_1', 'reextracted_url', 'valid_2',\n",
      "       'processed_url_2', 'valid_3', 'processed_url_3', 'end_processed_url',\n",
      "       'valid_rd', 'redirected_url', 'final_url'],\n",
      "      dtype='object')]\n",
      "\n",
      "  links_df[outcols].to_hdf(f'data/titlelinks_batches.h5', key=f'/batch_{batch//size + 1}', mode='a')\n"
     ]
    },
    {
     "name": "stdout",
     "output_type": "stream",
     "text": [
      "Saving cache. Total size:  2327\n",
      "Saving...\n",
      "Batch 4 33589\n",
      "'No object named /batch_4 in the file'\n"
     ]
    },
    {
     "name": "stderr",
     "output_type": "stream",
     "text": [
      "/tmp/ipykernel_86704/2423678181.py:293: FutureWarning: Downcasting object dtype arrays on .fillna, .ffill, .bfill is deprecated and will change in a future version. Call result.infer_objects(copy=False) instead. To opt-in to the future behavior, set `pd.set_option('future.no_silent_downcasting', True)`\n",
      "  links_df['valid_2'].fillna(\n",
      "/tmp/ipykernel_86704/2423678181.py:292: FutureWarning: Downcasting object dtype arrays on .fillna, .ffill, .bfill is deprecated and will change in a future version. Call result.infer_objects(copy=False) instead. To opt-in to the future behavior, set `pd.set_option('future.no_silent_downcasting', True)`\n",
      "  links_df['end_processed_valid'] = links_df['valid_3'].fillna(\n",
      "/tmp/ipykernel_86704/2423678181.py:365: FutureWarning: Downcasting object dtype arrays on .fillna, .ffill, .bfill is deprecated and will change in a future version. Call result.infer_objects(copy=False) instead. To opt-in to the future behavior, set `pd.set_option('future.no_silent_downcasting', True)`\n",
      "  links_df['final_valid'] = links_df['valid_rd'].fillna(links_df['end_processed_valid'])\n",
      "/tmp/ipykernel_86704/2031526577.py:21: PerformanceWarning: \n",
      "your performance may suffer as PyTables will pickle object types that it cannot\n",
      "map directly to c-types [inferred_type->mixed,key->block0_values] [items->Index(['id', 'extracted_url', 'processed_url_1', 'reextracted_url', 'valid_2',\n",
      "       'processed_url_2', 'valid_3', 'processed_url_3', 'end_processed_url',\n",
      "       'valid_rd', 'redirected_url', 'final_url'],\n",
      "      dtype='object')]\n",
      "\n",
      "  links_df[outcols].to_hdf(f'data/titlelinks_batches.h5', key=f'/batch_{batch//size + 1}', mode='a')\n"
     ]
    },
    {
     "name": "stdout",
     "output_type": "stream",
     "text": [
      "Saving cache. Total size:  2515\n",
      "Saving...\n",
      "Batch 5 33589\n",
      "'No object named /batch_5 in the file'\n"
     ]
    },
    {
     "name": "stderr",
     "output_type": "stream",
     "text": [
      "/tmp/ipykernel_86704/2423678181.py:293: FutureWarning: Downcasting object dtype arrays on .fillna, .ffill, .bfill is deprecated and will change in a future version. Call result.infer_objects(copy=False) instead. To opt-in to the future behavior, set `pd.set_option('future.no_silent_downcasting', True)`\n",
      "  links_df['valid_2'].fillna(\n",
      "/tmp/ipykernel_86704/2423678181.py:292: FutureWarning: Downcasting object dtype arrays on .fillna, .ffill, .bfill is deprecated and will change in a future version. Call result.infer_objects(copy=False) instead. To opt-in to the future behavior, set `pd.set_option('future.no_silent_downcasting', True)`\n",
      "  links_df['end_processed_valid'] = links_df['valid_3'].fillna(\n",
      "/tmp/ipykernel_86704/2423678181.py:365: FutureWarning: Downcasting object dtype arrays on .fillna, .ffill, .bfill is deprecated and will change in a future version. Call result.infer_objects(copy=False) instead. To opt-in to the future behavior, set `pd.set_option('future.no_silent_downcasting', True)`\n",
      "  links_df['final_valid'] = links_df['valid_rd'].fillna(links_df['end_processed_valid'])\n",
      "/tmp/ipykernel_86704/2031526577.py:21: PerformanceWarning: \n",
      "your performance may suffer as PyTables will pickle object types that it cannot\n",
      "map directly to c-types [inferred_type->mixed,key->block0_values] [items->Index(['id', 'extracted_url', 'processed_url_1', 'reextracted_url', 'valid_2',\n",
      "       'processed_url_2', 'valid_3', 'processed_url_3', 'end_processed_url',\n",
      "       'valid_rd', 'redirected_url', 'final_url'],\n",
      "      dtype='object')]\n",
      "\n",
      "  links_df[outcols].to_hdf(f'data/titlelinks_batches.h5', key=f'/batch_{batch//size + 1}', mode='a')\n"
     ]
    },
    {
     "name": "stdout",
     "output_type": "stream",
     "text": [
      "Saving cache. Total size:  2707\n",
      "Saving...\n",
      "Batch 6 33589\n",
      "'No object named /batch_6 in the file'\n",
      "Cannot connect to host www.m.wikipedia.org:443 ssl:default [Name or service not known]\n",
      "Cannot connect to host www.m.wikipedia.org:443 ssl:default [Name or service not known]\n",
      "Cannot connect to host www.m.wikipedia.org:443 ssl:default [Name or service not known]\n",
      "Cannot connect to host www.m.wikipedia.org:443 ssl:default [Name or service not known]\n",
      "Cannot connect to host www.m.wikipedia.org:443 ssl:default [Name or service not known]\n",
      "Cannot connect to host www.m.wikipedia.org:443 ssl:default [Name or service not known]\n",
      "Cannot connect to host www.m.wikipedia.org:443 ssl:default [Name or service not known]\n",
      "Cannot connect to host www.m.wikipedia.org:443 ssl:default [Name or service not known]\n",
      "Cannot connect to host www.m.wikipedia.org:443 ssl:default [Name or service not known]\n",
      "Cannot connect to host www.m.wikipedia.org:443 ssl:default [Name or service not known]\n",
      "Cannot connect to host www.m.wikipedia.org:443 ssl:default [Name or service not known]\n"
     ]
    },
    {
     "name": "stderr",
     "output_type": "stream",
     "text": [
      "/tmp/ipykernel_86704/2423678181.py:293: FutureWarning: Downcasting object dtype arrays on .fillna, .ffill, .bfill is deprecated and will change in a future version. Call result.infer_objects(copy=False) instead. To opt-in to the future behavior, set `pd.set_option('future.no_silent_downcasting', True)`\n",
      "  links_df['valid_2'].fillna(\n",
      "/tmp/ipykernel_86704/2423678181.py:292: FutureWarning: Downcasting object dtype arrays on .fillna, .ffill, .bfill is deprecated and will change in a future version. Call result.infer_objects(copy=False) instead. To opt-in to the future behavior, set `pd.set_option('future.no_silent_downcasting', True)`\n",
      "  links_df['end_processed_valid'] = links_df['valid_3'].fillna(\n",
      "/tmp/ipykernel_86704/2423678181.py:365: FutureWarning: Downcasting object dtype arrays on .fillna, .ffill, .bfill is deprecated and will change in a future version. Call result.infer_objects(copy=False) instead. To opt-in to the future behavior, set `pd.set_option('future.no_silent_downcasting', True)`\n",
      "  links_df['final_valid'] = links_df['valid_rd'].fillna(links_df['end_processed_valid'])\n",
      "/tmp/ipykernel_86704/2031526577.py:21: PerformanceWarning: \n",
      "your performance may suffer as PyTables will pickle object types that it cannot\n",
      "map directly to c-types [inferred_type->mixed,key->block0_values] [items->Index(['id', 'extracted_url', 'processed_url_1', 'reextracted_url', 'valid_2',\n",
      "       'processed_url_2', 'valid_3', 'processed_url_3', 'end_processed_url',\n",
      "       'valid_rd', 'redirected_url', 'final_url'],\n",
      "      dtype='object')]\n",
      "\n",
      "  links_df[outcols].to_hdf(f'data/titlelinks_batches.h5', key=f'/batch_{batch//size + 1}', mode='a')\n"
     ]
    },
    {
     "name": "stdout",
     "output_type": "stream",
     "text": [
      "Saving cache. Total size:  2877\n",
      "Saving...\n",
      "Batch 7 33589\n",
      "'No object named /batch_7 in the file'\n"
     ]
    },
    {
     "name": "stderr",
     "output_type": "stream",
     "text": [
      "/tmp/ipykernel_86704/2423678181.py:293: FutureWarning: Downcasting object dtype arrays on .fillna, .ffill, .bfill is deprecated and will change in a future version. Call result.infer_objects(copy=False) instead. To opt-in to the future behavior, set `pd.set_option('future.no_silent_downcasting', True)`\n",
      "  links_df['valid_2'].fillna(\n",
      "/tmp/ipykernel_86704/2423678181.py:292: FutureWarning: Downcasting object dtype arrays on .fillna, .ffill, .bfill is deprecated and will change in a future version. Call result.infer_objects(copy=False) instead. To opt-in to the future behavior, set `pd.set_option('future.no_silent_downcasting', True)`\n",
      "  links_df['end_processed_valid'] = links_df['valid_3'].fillna(\n",
      "/tmp/ipykernel_86704/2423678181.py:365: FutureWarning: Downcasting object dtype arrays on .fillna, .ffill, .bfill is deprecated and will change in a future version. Call result.infer_objects(copy=False) instead. To opt-in to the future behavior, set `pd.set_option('future.no_silent_downcasting', True)`\n",
      "  links_df['final_valid'] = links_df['valid_rd'].fillna(links_df['end_processed_valid'])\n",
      "/tmp/ipykernel_86704/2031526577.py:21: PerformanceWarning: \n",
      "your performance may suffer as PyTables will pickle object types that it cannot\n",
      "map directly to c-types [inferred_type->mixed,key->block0_values] [items->Index(['id', 'extracted_url', 'processed_url_1', 'reextracted_url', 'valid_2',\n",
      "       'processed_url_2', 'valid_3', 'processed_url_3', 'end_processed_url',\n",
      "       'valid_rd', 'redirected_url', 'final_url'],\n",
      "      dtype='object')]\n",
      "\n",
      "  links_df[outcols].to_hdf(f'data/titlelinks_batches.h5', key=f'/batch_{batch//size + 1}', mode='a')\n"
     ]
    },
    {
     "name": "stdout",
     "output_type": "stream",
     "text": [
      "Saving cache. Total size:  3042\n",
      "Saving...\n",
      "Batch 8 33589\n",
      "'No object named /batch_8 in the file'\n",
      "Cannot connect to host windowen.wikipedia.org:443 ssl:default [Name or service not known]\n",
      "Cannot connect to host windowen.wikipedia.org:443 ssl:default [Name or service not known]\n",
      "Cannot connect to host windowen.wikipedia.:443 ssl:default [Name or service not known]\n",
      "Cannot connect to host windowen.wikipedia:443 ssl:default [Name or service not known]\n"
     ]
    },
    {
     "name": "stderr",
     "output_type": "stream",
     "text": [
      "/tmp/ipykernel_86704/2423678181.py:293: FutureWarning: Downcasting object dtype arrays on .fillna, .ffill, .bfill is deprecated and will change in a future version. Call result.infer_objects(copy=False) instead. To opt-in to the future behavior, set `pd.set_option('future.no_silent_downcasting', True)`\n",
      "  links_df['valid_2'].fillna(\n",
      "/tmp/ipykernel_86704/2423678181.py:292: FutureWarning: Downcasting object dtype arrays on .fillna, .ffill, .bfill is deprecated and will change in a future version. Call result.infer_objects(copy=False) instead. To opt-in to the future behavior, set `pd.set_option('future.no_silent_downcasting', True)`\n",
      "  links_df['end_processed_valid'] = links_df['valid_3'].fillna(\n",
      "/tmp/ipykernel_86704/2423678181.py:365: FutureWarning: Downcasting object dtype arrays on .fillna, .ffill, .bfill is deprecated and will change in a future version. Call result.infer_objects(copy=False) instead. To opt-in to the future behavior, set `pd.set_option('future.no_silent_downcasting', True)`\n",
      "  links_df['final_valid'] = links_df['valid_rd'].fillna(links_df['end_processed_valid'])\n",
      "/tmp/ipykernel_86704/2031526577.py:21: PerformanceWarning: \n",
      "your performance may suffer as PyTables will pickle object types that it cannot\n",
      "map directly to c-types [inferred_type->mixed,key->block0_values] [items->Index(['id', 'extracted_url', 'processed_url_1', 'reextracted_url', 'valid_2',\n",
      "       'processed_url_2', 'valid_3', 'processed_url_3', 'end_processed_url',\n",
      "       'valid_rd', 'redirected_url', 'final_url'],\n",
      "      dtype='object')]\n",
      "\n",
      "  links_df[outcols].to_hdf(f'data/titlelinks_batches.h5', key=f'/batch_{batch//size + 1}', mode='a')\n"
     ]
    },
    {
     "name": "stdout",
     "output_type": "stream",
     "text": [
      "Saving cache. Total size:  3193\n",
      "Saving...\n",
      "Batch 9 33589\n",
      "'No object named /batch_9 in the file'\n",
      "Cannot connect to host trends.wikipedia.org:443 ssl:default [Name or service not known]\n",
      "Cannot connect to host trends.wikipedia.org:443 ssl:default [Name or service not known]\n",
      "Cannot connect to host trends.wikipedia.:443 ssl:default [Name or service not known]\n",
      "Cannot connect to host trends.wikipedia:443 ssl:default [Name or service not known]\n"
     ]
    },
    {
     "name": "stderr",
     "output_type": "stream",
     "text": [
      "/tmp/ipykernel_86704/2423678181.py:293: FutureWarning: Downcasting object dtype arrays on .fillna, .ffill, .bfill is deprecated and will change in a future version. Call result.infer_objects(copy=False) instead. To opt-in to the future behavior, set `pd.set_option('future.no_silent_downcasting', True)`\n",
      "  links_df['valid_2'].fillna(\n",
      "/tmp/ipykernel_86704/2423678181.py:292: FutureWarning: Downcasting object dtype arrays on .fillna, .ffill, .bfill is deprecated and will change in a future version. Call result.infer_objects(copy=False) instead. To opt-in to the future behavior, set `pd.set_option('future.no_silent_downcasting', True)`\n",
      "  links_df['end_processed_valid'] = links_df['valid_3'].fillna(\n",
      "/tmp/ipykernel_86704/2423678181.py:365: FutureWarning: Downcasting object dtype arrays on .fillna, .ffill, .bfill is deprecated and will change in a future version. Call result.infer_objects(copy=False) instead. To opt-in to the future behavior, set `pd.set_option('future.no_silent_downcasting', True)`\n",
      "  links_df['final_valid'] = links_df['valid_rd'].fillna(links_df['end_processed_valid'])\n",
      "/tmp/ipykernel_86704/2031526577.py:21: PerformanceWarning: \n",
      "your performance may suffer as PyTables will pickle object types that it cannot\n",
      "map directly to c-types [inferred_type->mixed,key->block0_values] [items->Index(['id', 'extracted_url', 'processed_url_1', 'reextracted_url', 'valid_2',\n",
      "       'processed_url_2', 'valid_3', 'processed_url_3', 'end_processed_url',\n",
      "       'valid_rd', 'redirected_url', 'final_url'],\n",
      "      dtype='object')]\n",
      "\n",
      "  links_df[outcols].to_hdf(f'data/titlelinks_batches.h5', key=f'/batch_{batch//size + 1}', mode='a')\n"
     ]
    },
    {
     "name": "stdout",
     "output_type": "stream",
     "text": [
      "Saving cache. Total size:  3336\n",
      "Saving...\n",
      "Batch 10 33589\n",
      "'No object named /batch_10 in the file'\n"
     ]
    },
    {
     "name": "stderr",
     "output_type": "stream",
     "text": [
      "/tmp/ipykernel_86704/2423678181.py:293: FutureWarning: Downcasting object dtype arrays on .fillna, .ffill, .bfill is deprecated and will change in a future version. Call result.infer_objects(copy=False) instead. To opt-in to the future behavior, set `pd.set_option('future.no_silent_downcasting', True)`\n",
      "  links_df['valid_2'].fillna(\n",
      "/tmp/ipykernel_86704/2423678181.py:292: FutureWarning: Downcasting object dtype arrays on .fillna, .ffill, .bfill is deprecated and will change in a future version. Call result.infer_objects(copy=False) instead. To opt-in to the future behavior, set `pd.set_option('future.no_silent_downcasting', True)`\n",
      "  links_df['end_processed_valid'] = links_df['valid_3'].fillna(\n"
     ]
    },
    {
     "name": "stdout",
     "output_type": "stream",
     "text": [
      "Saving cache. Total size:  3464\n",
      "Saving...\n",
      "Batch 11 33589\n",
      "'No object named /batch_11 in the file'\n"
     ]
    },
    {
     "name": "stderr",
     "output_type": "stream",
     "text": [
      "/tmp/ipykernel_86704/2423678181.py:365: FutureWarning: Downcasting object dtype arrays on .fillna, .ffill, .bfill is deprecated and will change in a future version. Call result.infer_objects(copy=False) instead. To opt-in to the future behavior, set `pd.set_option('future.no_silent_downcasting', True)`\n",
      "  links_df['final_valid'] = links_df['valid_rd'].fillna(links_df['end_processed_valid'])\n",
      "/tmp/ipykernel_86704/2031526577.py:21: PerformanceWarning: \n",
      "your performance may suffer as PyTables will pickle object types that it cannot\n",
      "map directly to c-types [inferred_type->mixed,key->block0_values] [items->Index(['id', 'extracted_url', 'processed_url_1', 'reextracted_url', 'valid_2',\n",
      "       'processed_url_2', 'valid_3', 'processed_url_3', 'end_processed_url',\n",
      "       'valid_rd', 'redirected_url', 'final_url'],\n",
      "      dtype='object')]\n",
      "\n",
      "  links_df[outcols].to_hdf(f'data/titlelinks_batches.h5', key=f'/batch_{batch//size + 1}', mode='a')\n",
      "/tmp/ipykernel_86704/2031526577.py:27: PerformanceWarning: \n",
      "your performance may suffer as PyTables will pickle object types that it cannot\n",
      "map directly to c-types [inferred_type->mixed,key->block3_values] [items->Index(['id', 'extracted_url', 'processed_url_1', 'reextracted_url', 'valid_2',\n",
      "       'processed_url_2', 'valid_3', 'processed_url_3', 'end_processed_url',\n",
      "       'valid_rd', 'redirected_url', 'final_url'],\n",
      "      dtype='object')]\n",
      "\n",
      "  titlelinks.to_hdf('data/titlelinks.h5', key='df', mode='w')\n"
     ]
    }
   ],
   "source": [
    "#  run on titles\n",
    "\n",
    "outcols = ['id', 'extracted_url', 'valid_1', 'status_1',\n",
    "       'processed_url_1', 'reextracted_url', 'valid_2', 'status_2',\n",
    "       'processed_url_2', 'valid_3', 'status_3', 'processed_url_3',\n",
    "       'end_processed_valid', 'end_processed_url',\n",
    "       'valid_rd', 'status_rd', 'redirected_url', 'final_valid',\n",
    "       'final_status', 'final_url']\n",
    "\n",
    "size = len(posts)//10\n",
    "titlelinks = []\n",
    "for batch in range(0, len(posts), size):\n",
    "    print(f\"Batch {batch//size + 1}\", size)\n",
    "    try:\n",
    "        titlelinks.append(pd.read_hdf(f'data/titlelinks_batches.h5', key=f'/batch_{batch//size + 1}'))\n",
    "    except (FileNotFoundError, KeyError) as ex:\n",
    "        print(ex)\n",
    "        links_df = await get_links_df(posts.iloc[batch:batch+size].copy(), column='title')\n",
    "        if len(links_df) > 0:\n",
    "            print('Saving...')\n",
    "            links_df[outcols].to_hdf(f'data/titlelinks_batches.h5', key=f'/batch_{batch//size + 1}', mode='a')\n",
    "            titlelinks.append(links_df[outcols])\n",
    "\n",
    "titlelinks = pd.concat(titlelinks).reset_index(drop=True)\n",
    "if os.path.exists('data/titlelinks.h5'):\n",
    "    os.remove('data/titlelinks.h5')\n",
    "titlelinks.to_hdf('data/titlelinks.h5', key='df', mode='w')"
   ]
  },
  {
   "cell_type": "code",
   "execution_count": 2,
   "metadata": {},
   "outputs": [],
   "source": [
    "# problem IDs t3_udac4z, t3_ud2feb"
   ]
  },
  {
   "cell_type": "code",
   "execution_count": 2,
   "metadata": {},
   "outputs": [],
   "source": [
    "posts = pd.read_hdf('data/posts.h5').reset_index(drop=True)"
   ]
  },
  {
   "cell_type": "code",
   "execution_count": 6,
   "metadata": {},
   "outputs": [
    {
     "name": "stdout",
     "output_type": "stream",
     "text": [
      "Batch 1 33589\n",
      "Batch 2 33589\n",
      "'No object named /batch_2 in the file'\n",
      "Cannot connect to host n.wikipedia.org:443 ssl:default [Name or service not known]\n",
      "\n",
      "Cannot connect to host n.wikipedia.org:443 ssl:default [Name or service not known]\n",
      "Cannot connect to host www.en.wikipedia.org:443 ssl:default [Name or service not known]\n",
      "\n",
      "label empty or too long\n",
      "Cannot connect to host n.wikipedia.org:443 ssl:default [Name or service not known]\n",
      "Cannot connect to host n.wikipedia.org:443 ssl:default [Name or service not known]\n",
      "Cannot connect to host n.wikipedia.org:443 ssl:default [Name or service not known]\n",
      "Cannot connect to host n.wikipedia.org:443 ssl:default [Name or service not known]\n",
      "Cannot connect to host n.wikipedia.org:443 ssl:default [Name or service not known]\n",
      "Cannot connect to host n.wikipedia.org:443 ssl:default [Name or service not known]\n",
      "Cannot connect to host www.en.wikipedia.org:443 ssl:default [Name or service not known]\n",
      "label empty or too long\n"
     ]
    },
    {
     "name": "stderr",
     "output_type": "stream",
     "text": [
      "/tmp/ipykernel_132414/2423678181.py:293: FutureWarning: Downcasting object dtype arrays on .fillna, .ffill, .bfill is deprecated and will change in a future version. Call result.infer_objects(copy=False) instead. To opt-in to the future behavior, set `pd.set_option('future.no_silent_downcasting', True)`\n",
      "  links_df['valid_2'].fillna(\n",
      "/tmp/ipykernel_132414/2423678181.py:292: FutureWarning: Downcasting object dtype arrays on .fillna, .ffill, .bfill is deprecated and will change in a future version. Call result.infer_objects(copy=False) instead. To opt-in to the future behavior, set `pd.set_option('future.no_silent_downcasting', True)`\n",
      "  links_df['end_processed_valid'] = links_df['valid_3'].fillna(\n"
     ]
    },
    {
     "name": "stdout",
     "output_type": "stream",
     "text": [
      "\n",
      "\n",
      "429 errors: 161. Retrying after 1 seconds...\n"
     ]
    },
    {
     "name": "stderr",
     "output_type": "stream",
     "text": [
      "/tmp/ipykernel_132414/2423678181.py:293: FutureWarning: Downcasting object dtype arrays on .fillna, .ffill, .bfill is deprecated and will change in a future version. Call result.infer_objects(copy=False) instead. To opt-in to the future behavior, set `pd.set_option('future.no_silent_downcasting', True)`\n",
      "  links_df['valid_2'].fillna(\n",
      "/tmp/ipykernel_132414/2423678181.py:292: FutureWarning: Downcasting object dtype arrays on .fillna, .ffill, .bfill is deprecated and will change in a future version. Call result.infer_objects(copy=False) instead. To opt-in to the future behavior, set `pd.set_option('future.no_silent_downcasting', True)`\n",
      "  links_df['end_processed_valid'] = links_df['valid_3'].fillna(\n",
      "/tmp/ipykernel_132414/2423678181.py:365: FutureWarning: Downcasting object dtype arrays on .fillna, .ffill, .bfill is deprecated and will change in a future version. Call result.infer_objects(copy=False) instead. To opt-in to the future behavior, set `pd.set_option('future.no_silent_downcasting', True)`\n",
      "  links_df['final_valid'] = links_df['valid_rd'].fillna(links_df['end_processed_valid'])\n"
     ]
    },
    {
     "name": "stdout",
     "output_type": "stream",
     "text": [
      "Saving cache. Total size:  2924344\n"
     ]
    },
    {
     "name": "stderr",
     "output_type": "stream",
     "text": [
      "/tmp/ipykernel_132414/2423678181.py:365: FutureWarning: Downcasting object dtype arrays on .fillna, .ffill, .bfill is deprecated and will change in a future version. Call result.infer_objects(copy=False) instead. To opt-in to the future behavior, set `pd.set_option('future.no_silent_downcasting', True)`\n",
      "  links_df['final_valid'] = links_df['valid_rd'].fillna(links_df['end_processed_valid'])\n"
     ]
    },
    {
     "name": "stdout",
     "output_type": "stream",
     "text": [
      "Saving cache. Total size:  2924344\n",
      "saving\n",
      "Batch 3 33589\n",
      "'No object named /batch_3 in the file'\n"
     ]
    },
    {
     "name": "stderr",
     "output_type": "stream",
     "text": [
      "/tmp/ipykernel_132414/2336260079.py:20: PerformanceWarning: \n",
      "your performance may suffer as PyTables will pickle object types that it cannot\n",
      "map directly to c-types [inferred_type->mixed,key->block0_values] [items->Index(['id', 'extracted_url', 'processed_url_1', 'reextracted_url', 'valid_2',\n",
      "       'processed_url_2', 'valid_3', 'processed_url_3', 'end_processed_url',\n",
      "       'valid_rd', 'redirected_url', 'final_url'],\n",
      "      dtype='object')]\n",
      "\n",
      "  links_df[outcols].to_hdf(f'data/bodylinks_batches.h5', key=f'/batch_{batch//size + 1}', mode='a')\n"
     ]
    },
    {
     "name": "stdout",
     "output_type": "stream",
     "text": [
      "Cannot connect to host www.en.wikipedia.org:443 ssl:default [Name or service not known]\n",
      "Cannot connect to host imple.wikipedia.org:443 ssl:default [Name or service not known]\n",
      "Cannot connect to host imageen.wikipedia.org:443 ssl:default [Name or service not known]\n",
      "Cannot connect to host n.wikipedia.org:443 ssl:default [Name or service not known]\n",
      "Cannot connect to host www.en.wikipedia.org:443 ssl:default [Name or service not known]\n",
      "\n",
      "Cannot connect to host www.en.wikipedia.org:443 ssl:default [Name or service not known]\n",
      "Cannot connect to host www.en.wikipedia.org:443 ssl:default [Name or service not known]\n",
      "Cannot connect to host n.wikipedia.org:443 ssl:default [Name or service not known]\n",
      "Cannot connect to host imageen.wikipedia.org:443 ssl:default [Name or service not known]\n",
      "Cannot connect to host imple.wikipedia.org:443 ssl:default [Name or service not known]\n",
      "Cannot connect to host imageen.wikipedia.:443 ssl:default [Name or service not known]\n",
      "Cannot connect to host imageen.wikipedia:443 ssl:default [Name or service not known]\n"
     ]
    },
    {
     "name": "stderr",
     "output_type": "stream",
     "text": [
      "/tmp/ipykernel_132414/2423678181.py:293: FutureWarning: Downcasting object dtype arrays on .fillna, .ffill, .bfill is deprecated and will change in a future version. Call result.infer_objects(copy=False) instead. To opt-in to the future behavior, set `pd.set_option('future.no_silent_downcasting', True)`\n",
      "  links_df['valid_2'].fillna(\n",
      "/tmp/ipykernel_132414/2423678181.py:292: FutureWarning: Downcasting object dtype arrays on .fillna, .ffill, .bfill is deprecated and will change in a future version. Call result.infer_objects(copy=False) instead. To opt-in to the future behavior, set `pd.set_option('future.no_silent_downcasting', True)`\n",
      "  links_df['end_processed_valid'] = links_df['valid_3'].fillna(\n"
     ]
    },
    {
     "name": "stdout",
     "output_type": "stream",
     "text": [
      "\n",
      "\n",
      "\n",
      "429 errors: 257. Retrying after 1 seconds...\n"
     ]
    },
    {
     "name": "stderr",
     "output_type": "stream",
     "text": [
      "/tmp/ipykernel_132414/2423678181.py:293: FutureWarning: Downcasting object dtype arrays on .fillna, .ffill, .bfill is deprecated and will change in a future version. Call result.infer_objects(copy=False) instead. To opt-in to the future behavior, set `pd.set_option('future.no_silent_downcasting', True)`\n",
      "  links_df['valid_2'].fillna(\n",
      "/tmp/ipykernel_132414/2423678181.py:292: FutureWarning: Downcasting object dtype arrays on .fillna, .ffill, .bfill is deprecated and will change in a future version. Call result.infer_objects(copy=False) instead. To opt-in to the future behavior, set `pd.set_option('future.no_silent_downcasting', True)`\n",
      "  links_df['end_processed_valid'] = links_df['valid_3'].fillna(\n",
      "/tmp/ipykernel_132414/2423678181.py:365: FutureWarning: Downcasting object dtype arrays on .fillna, .ffill, .bfill is deprecated and will change in a future version. Call result.infer_objects(copy=False) instead. To opt-in to the future behavior, set `pd.set_option('future.no_silent_downcasting', True)`\n",
      "  links_df['final_valid'] = links_df['valid_rd'].fillna(links_df['end_processed_valid'])\n"
     ]
    },
    {
     "name": "stdout",
     "output_type": "stream",
     "text": [
      "Saving cache. Total size:  2939313\n"
     ]
    },
    {
     "name": "stderr",
     "output_type": "stream",
     "text": [
      "/tmp/ipykernel_132414/2423678181.py:365: FutureWarning: Downcasting object dtype arrays on .fillna, .ffill, .bfill is deprecated and will change in a future version. Call result.infer_objects(copy=False) instead. To opt-in to the future behavior, set `pd.set_option('future.no_silent_downcasting', True)`\n",
      "  links_df['final_valid'] = links_df['valid_rd'].fillna(links_df['end_processed_valid'])\n"
     ]
    },
    {
     "name": "stdout",
     "output_type": "stream",
     "text": [
      "Saving cache. Total size:  2939313\n",
      "saving\n",
      "Batch 4 33589\n",
      "'No object named /batch_4 in the file'\n"
     ]
    },
    {
     "name": "stderr",
     "output_type": "stream",
     "text": [
      "/tmp/ipykernel_132414/2336260079.py:20: PerformanceWarning: \n",
      "your performance may suffer as PyTables will pickle object types that it cannot\n",
      "map directly to c-types [inferred_type->mixed,key->block0_values] [items->Index(['id', 'extracted_url', 'processed_url_1', 'reextracted_url', 'valid_2',\n",
      "       'processed_url_2', 'valid_3', 'processed_url_3', 'end_processed_url',\n",
      "       'valid_rd', 'redirected_url', 'final_url'],\n",
      "      dtype='object')]\n",
      "\n",
      "  links_df[outcols].to_hdf(f'data/bodylinks_batches.h5', key=f'/batch_{batch//size + 1}', mode='a')\n"
     ]
    },
    {
     "name": "stdout",
     "output_type": "stream",
     "text": [
      "Cannot connect to host restorehealthen.wikipedia.org:443 ssl:default [Name or service not known]\n",
      "label empty or too long\n",
      "Cannot connect to host restorehealthen.wikipedia.org:443 ssl:default [Name or service not known]\n",
      "Cannot connect to host restorehealthen.wikipedia.:443 ssl:default [Name or service not known]\n",
      "Cannot connect to host restorehealthen.wikipedia:443 ssl:default [Name or service not known]\n",
      "label empty or too long\n"
     ]
    },
    {
     "name": "stderr",
     "output_type": "stream",
     "text": [
      "/tmp/ipykernel_132414/2423678181.py:293: FutureWarning: Downcasting object dtype arrays on .fillna, .ffill, .bfill is deprecated and will change in a future version. Call result.infer_objects(copy=False) instead. To opt-in to the future behavior, set `pd.set_option('future.no_silent_downcasting', True)`\n",
      "  links_df['valid_2'].fillna(\n",
      "/tmp/ipykernel_132414/2423678181.py:292: FutureWarning: Downcasting object dtype arrays on .fillna, .ffill, .bfill is deprecated and will change in a future version. Call result.infer_objects(copy=False) instead. To opt-in to the future behavior, set `pd.set_option('future.no_silent_downcasting', True)`\n",
      "  links_df['end_processed_valid'] = links_df['valid_3'].fillna(\n"
     ]
    },
    {
     "name": "stdout",
     "output_type": "stream",
     "text": [
      "\n",
      "429 errors: 834. Retrying after 1 seconds...\n"
     ]
    },
    {
     "name": "stderr",
     "output_type": "stream",
     "text": [
      "/tmp/ipykernel_132414/2423678181.py:293: FutureWarning: Downcasting object dtype arrays on .fillna, .ffill, .bfill is deprecated and will change in a future version. Call result.infer_objects(copy=False) instead. To opt-in to the future behavior, set `pd.set_option('future.no_silent_downcasting', True)`\n",
      "  links_df['valid_2'].fillna(\n",
      "/tmp/ipykernel_132414/2423678181.py:292: FutureWarning: Downcasting object dtype arrays on .fillna, .ffill, .bfill is deprecated and will change in a future version. Call result.infer_objects(copy=False) instead. To opt-in to the future behavior, set `pd.set_option('future.no_silent_downcasting', True)`\n",
      "  links_df['end_processed_valid'] = links_df['valid_3'].fillna(\n",
      "/tmp/ipykernel_132414/2423678181.py:365: FutureWarning: Downcasting object dtype arrays on .fillna, .ffill, .bfill is deprecated and will change in a future version. Call result.infer_objects(copy=False) instead. To opt-in to the future behavior, set `pd.set_option('future.no_silent_downcasting', True)`\n",
      "  links_df['final_valid'] = links_df['valid_rd'].fillna(links_df['end_processed_valid'])\n"
     ]
    },
    {
     "name": "stdout",
     "output_type": "stream",
     "text": [
      "Saving cache. Total size:  2956212\n"
     ]
    },
    {
     "name": "stderr",
     "output_type": "stream",
     "text": [
      "/tmp/ipykernel_132414/2423678181.py:365: FutureWarning: Downcasting object dtype arrays on .fillna, .ffill, .bfill is deprecated and will change in a future version. Call result.infer_objects(copy=False) instead. To opt-in to the future behavior, set `pd.set_option('future.no_silent_downcasting', True)`\n",
      "  links_df['final_valid'] = links_df['valid_rd'].fillna(links_df['end_processed_valid'])\n"
     ]
    },
    {
     "name": "stdout",
     "output_type": "stream",
     "text": [
      "Saving cache. Total size:  2956212\n",
      "saving\n",
      "Batch 5 33589\n",
      "'No object named /batch_5 in the file'\n"
     ]
    },
    {
     "name": "stderr",
     "output_type": "stream",
     "text": [
      "/tmp/ipykernel_132414/2336260079.py:20: PerformanceWarning: \n",
      "your performance may suffer as PyTables will pickle object types that it cannot\n",
      "map directly to c-types [inferred_type->mixed,key->block0_values] [items->Index(['id', 'extracted_url', 'processed_url_1', 'reextracted_url', 'valid_2',\n",
      "       'processed_url_2', 'valid_3', 'processed_url_3', 'end_processed_url',\n",
      "       'valid_rd', 'redirected_url', 'final_url'],\n",
      "      dtype='object')]\n",
      "\n",
      "  links_df[outcols].to_hdf(f'data/bodylinks_batches.h5', key=f'/batch_{batch//size + 1}', mode='a')\n"
     ]
    },
    {
     "name": "stdout",
     "output_type": "stream",
     "text": [
      "\n",
      "Cannot connect to host nds.nl.m.wikipedia.org:443 ssl:default [Name or service not known]\n",
      "Cannot connect to host www.en.wikipedia.org:443 ssl:default [Name or service not known]\n",
      "Cannot connect to host nds.nl.m.wikipedia.org:443 ssl:default [Name or service not known]\n",
      "Cannot connect to host www.en.wikipedia.org:443 ssl:default [Name or service not known]\n",
      "Cannot connect to host nds.nl.m.wikipedia.:443 ssl:default [Name or service not known]\n",
      "Cannot connect to host nds.nl.m.wikipedia:443 ssl:default [Name or service not known]\n"
     ]
    },
    {
     "name": "stderr",
     "output_type": "stream",
     "text": [
      "/tmp/ipykernel_132414/2423678181.py:293: FutureWarning: Downcasting object dtype arrays on .fillna, .ffill, .bfill is deprecated and will change in a future version. Call result.infer_objects(copy=False) instead. To opt-in to the future behavior, set `pd.set_option('future.no_silent_downcasting', True)`\n",
      "  links_df['valid_2'].fillna(\n",
      "/tmp/ipykernel_132414/2423678181.py:292: FutureWarning: Downcasting object dtype arrays on .fillna, .ffill, .bfill is deprecated and will change in a future version. Call result.infer_objects(copy=False) instead. To opt-in to the future behavior, set `pd.set_option('future.no_silent_downcasting', True)`\n",
      "  links_df['end_processed_valid'] = links_df['valid_3'].fillna(\n"
     ]
    },
    {
     "name": "stdout",
     "output_type": "stream",
     "text": [
      "\n",
      "\n",
      "\n",
      "429 errors: 1125. Retrying after 1 seconds...\n"
     ]
    },
    {
     "name": "stderr",
     "output_type": "stream",
     "text": [
      "/tmp/ipykernel_132414/2423678181.py:293: FutureWarning: Downcasting object dtype arrays on .fillna, .ffill, .bfill is deprecated and will change in a future version. Call result.infer_objects(copy=False) instead. To opt-in to the future behavior, set `pd.set_option('future.no_silent_downcasting', True)`\n",
      "  links_df['valid_2'].fillna(\n",
      "/tmp/ipykernel_132414/2423678181.py:292: FutureWarning: Downcasting object dtype arrays on .fillna, .ffill, .bfill is deprecated and will change in a future version. Call result.infer_objects(copy=False) instead. To opt-in to the future behavior, set `pd.set_option('future.no_silent_downcasting', True)`\n",
      "  links_df['end_processed_valid'] = links_df['valid_3'].fillna(\n",
      "/tmp/ipykernel_132414/2423678181.py:365: FutureWarning: Downcasting object dtype arrays on .fillna, .ffill, .bfill is deprecated and will change in a future version. Call result.infer_objects(copy=False) instead. To opt-in to the future behavior, set `pd.set_option('future.no_silent_downcasting', True)`\n",
      "  links_df['final_valid'] = links_df['valid_rd'].fillna(links_df['end_processed_valid'])\n"
     ]
    },
    {
     "name": "stdout",
     "output_type": "stream",
     "text": [
      "Saving cache. Total size:  2971014\n"
     ]
    },
    {
     "name": "stderr",
     "output_type": "stream",
     "text": [
      "/tmp/ipykernel_132414/2423678181.py:365: FutureWarning: Downcasting object dtype arrays on .fillna, .ffill, .bfill is deprecated and will change in a future version. Call result.infer_objects(copy=False) instead. To opt-in to the future behavior, set `pd.set_option('future.no_silent_downcasting', True)`\n",
      "  links_df['final_valid'] = links_df['valid_rd'].fillna(links_df['end_processed_valid'])\n"
     ]
    },
    {
     "name": "stdout",
     "output_type": "stream",
     "text": [
      "Saving cache. Total size:  2971014\n",
      "saving\n",
      "Batch 6 33589\n",
      "'No object named /batch_6 in the file'\n"
     ]
    },
    {
     "name": "stderr",
     "output_type": "stream",
     "text": [
      "/tmp/ipykernel_132414/2336260079.py:20: PerformanceWarning: \n",
      "your performance may suffer as PyTables will pickle object types that it cannot\n",
      "map directly to c-types [inferred_type->mixed,key->block0_values] [items->Index(['id', 'extracted_url', 'processed_url_1', 'reextracted_url', 'valid_2',\n",
      "       'processed_url_2', 'valid_3', 'processed_url_3', 'end_processed_url',\n",
      "       'valid_rd', 'redirected_url', 'final_url'],\n",
      "      dtype='object')]\n",
      "\n",
      "  links_df[outcols].to_hdf(f'data/bodylinks_batches.h5', key=f'/batch_{batch//size + 1}', mode='a')\n"
     ]
    },
    {
     "name": "stdout",
     "output_type": "stream",
     "text": [
      "Cannot connect to host 2fen.wikipedia.org:443 ssl:default [Name or service not known]\n",
      "Cannot connect to host www.en.wikipedia.org:443 ssl:default [Name or service not known]\n",
      "\n",
      "Cannot connect to host www.en.wikipedia.org:443 ssl:default [Name or service not known]\n",
      "Cannot connect to host www.en.wikipedia.org:443 ssl:default [Name or service not known]\n",
      "Cannot connect to host www.en.wikipedia.org:443 ssl:default [Name or service not known]\n",
      "Cannot connect to host www.en.wikipedia.org:443 ssl:default [Name or service not known]\n",
      "Cannot connect to host www.en.wikipedia.org:443 ssl:default [Name or service not known]\n",
      "Cannot connect to host www.en.wikipedia.org:443 ssl:default [Name or service not known]\n",
      "Cannot connect to host 2fen.wikipedia.org:443 ssl:default [Name or service not known]\n",
      "Cannot connect to host 2fen.wikipedia.:443 ssl:default [Name or service not known]\n",
      "Cannot connect to host 2fen.wikipedia:443 ssl:default [Name or service not known]\n",
      "Cannot connect to host www.en.wikipedia.org:443 ssl:default [Name or service not known]\n",
      "Cannot connect to host www.en.wikipedia.org:443 ssl:default [Name or service not known]\n",
      "Cannot connect to host www.en.wikipedia.org:443 ssl:default [Name or service not known]\n",
      "Cannot connect to host www.en.wikipedia.org:443 ssl:default [Name or service not known]\n",
      "Cannot connect to host www.en.wikipedia.org:443 ssl:default [Name or service not known]\n",
      "Cannot connect to host www.en.wikipedia.org:443 ssl:default [Name or service not known]\n",
      "Cannot connect to host www.en.wikipedia.org:443 ssl:default [Name or service not known]\n",
      "Cannot connect to host www.en.wikipedia.org:443 ssl:default [Name or service not known]\n"
     ]
    },
    {
     "name": "stderr",
     "output_type": "stream",
     "text": [
      "/tmp/ipykernel_132414/2423678181.py:293: FutureWarning: Downcasting object dtype arrays on .fillna, .ffill, .bfill is deprecated and will change in a future version. Call result.infer_objects(copy=False) instead. To opt-in to the future behavior, set `pd.set_option('future.no_silent_downcasting', True)`\n",
      "  links_df['valid_2'].fillna(\n",
      "/tmp/ipykernel_132414/2423678181.py:292: FutureWarning: Downcasting object dtype arrays on .fillna, .ffill, .bfill is deprecated and will change in a future version. Call result.infer_objects(copy=False) instead. To opt-in to the future behavior, set `pd.set_option('future.no_silent_downcasting', True)`\n",
      "  links_df['end_processed_valid'] = links_df['valid_3'].fillna(\n"
     ]
    },
    {
     "name": "stdout",
     "output_type": "stream",
     "text": [
      "429 errors: 1264. Retrying after 1 seconds...\n"
     ]
    },
    {
     "name": "stderr",
     "output_type": "stream",
     "text": [
      "/tmp/ipykernel_132414/2423678181.py:293: FutureWarning: Downcasting object dtype arrays on .fillna, .ffill, .bfill is deprecated and will change in a future version. Call result.infer_objects(copy=False) instead. To opt-in to the future behavior, set `pd.set_option('future.no_silent_downcasting', True)`\n",
      "  links_df['valid_2'].fillna(\n",
      "/tmp/ipykernel_132414/2423678181.py:292: FutureWarning: Downcasting object dtype arrays on .fillna, .ffill, .bfill is deprecated and will change in a future version. Call result.infer_objects(copy=False) instead. To opt-in to the future behavior, set `pd.set_option('future.no_silent_downcasting', True)`\n",
      "  links_df['end_processed_valid'] = links_df['valid_3'].fillna(\n",
      "/tmp/ipykernel_132414/2423678181.py:365: FutureWarning: Downcasting object dtype arrays on .fillna, .ffill, .bfill is deprecated and will change in a future version. Call result.infer_objects(copy=False) instead. To opt-in to the future behavior, set `pd.set_option('future.no_silent_downcasting', True)`\n",
      "  links_df['final_valid'] = links_df['valid_rd'].fillna(links_df['end_processed_valid'])\n"
     ]
    },
    {
     "name": "stdout",
     "output_type": "stream",
     "text": [
      "Saving cache. Total size:  2987446\n"
     ]
    },
    {
     "name": "stderr",
     "output_type": "stream",
     "text": [
      "/tmp/ipykernel_132414/2423678181.py:365: FutureWarning: Downcasting object dtype arrays on .fillna, .ffill, .bfill is deprecated and will change in a future version. Call result.infer_objects(copy=False) instead. To opt-in to the future behavior, set `pd.set_option('future.no_silent_downcasting', True)`\n",
      "  links_df['final_valid'] = links_df['valid_rd'].fillna(links_df['end_processed_valid'])\n"
     ]
    },
    {
     "name": "stdout",
     "output_type": "stream",
     "text": [
      "Saving cache. Total size:  2987446\n",
      "saving\n",
      "Batch 7 33589\n",
      "'No object named /batch_7 in the file'\n"
     ]
    },
    {
     "name": "stderr",
     "output_type": "stream",
     "text": [
      "/tmp/ipykernel_132414/2336260079.py:20: PerformanceWarning: \n",
      "your performance may suffer as PyTables will pickle object types that it cannot\n",
      "map directly to c-types [inferred_type->mixed,key->block0_values] [items->Index(['id', 'extracted_url', 'processed_url_1', 'reextracted_url', 'valid_2',\n",
      "       'processed_url_2', 'valid_3', 'processed_url_3', 'end_processed_url',\n",
      "       'valid_rd', 'redirected_url', 'final_url'],\n",
      "      dtype='object')]\n",
      "\n",
      "  links_df[outcols].to_hdf(f'data/bodylinks_batches.h5', key=f'/batch_{batch//size + 1}', mode='a')\n"
     ]
    },
    {
     "name": "stdout",
     "output_type": "stream",
     "text": [
      "Cannot connect to host \\(language).wikipedia.org:443 ssl:default [Name or service not known]\n",
      "Cannot connect to host \\(language).wikipedia.org:443 ssl:default [Name or service not known]\n",
      "Cannot connect to host \\(language).wikipedia.org:443 ssl:default [Name or service not known]\n",
      "label empty or too long\n",
      "\n",
      "Cannot connect to host www.en.wikipedia.org:443 ssl:default [Name or service not known]\n",
      "\n",
      "\n",
      "\n",
      "\n",
      "\n",
      "Cannot connect to host \\(language).wikipedia.org:443 ssl:default [Name or service not known]\n",
      "Cannot connect to host \\(language).wikipedia.org:443 ssl:default [Name or service not known]\n",
      "label empty or too long\n",
      "Cannot connect to host \\(language).wikipedia.org:443 ssl:default [Name or service not known]\n",
      "Cannot connect to host \\(language).wikipedia.org:443 ssl:default [Name or service not known]\n",
      "Cannot connect to host \\(language).wikipedia.org:443 ssl:default [Name or service not known]\n",
      "Cannot connect to host \\(language).wikipedia.org:443 ssl:default [Name or service not known]\n",
      "Cannot connect to host \\(language).wikipedia.org:443 ssl:default [Name or service not known]\n",
      "Cannot connect to host \\(language).wikipedia.org:443 ssl:default [Name or service not known]\n",
      "Cannot connect to host www.en.wikipedia.org:443 ssl:default [Name or service not known]\n",
      "Cannot connect to host www.en.wikipedia.org:443 ssl:default [Name or service not known]\n",
      "Cannot connect to host www.en.wikipedia.org:443 ssl:default [Name or service not known]\n",
      "Cannot connect to host www.en.wikipedia.org:443 ssl:default [Name or service not known]\n"
     ]
    },
    {
     "name": "stderr",
     "output_type": "stream",
     "text": [
      "/tmp/ipykernel_132414/2423678181.py:293: FutureWarning: Downcasting object dtype arrays on .fillna, .ffill, .bfill is deprecated and will change in a future version. Call result.infer_objects(copy=False) instead. To opt-in to the future behavior, set `pd.set_option('future.no_silent_downcasting', True)`\n",
      "  links_df['valid_2'].fillna(\n",
      "/tmp/ipykernel_132414/2423678181.py:292: FutureWarning: Downcasting object dtype arrays on .fillna, .ffill, .bfill is deprecated and will change in a future version. Call result.infer_objects(copy=False) instead. To opt-in to the future behavior, set `pd.set_option('future.no_silent_downcasting', True)`\n",
      "  links_df['end_processed_valid'] = links_df['valid_3'].fillna(\n"
     ]
    },
    {
     "name": "stdout",
     "output_type": "stream",
     "text": [
      "\n",
      "429 errors: 108. Retrying after 1 seconds...\n"
     ]
    },
    {
     "name": "stderr",
     "output_type": "stream",
     "text": [
      "/tmp/ipykernel_132414/2423678181.py:293: FutureWarning: Downcasting object dtype arrays on .fillna, .ffill, .bfill is deprecated and will change in a future version. Call result.infer_objects(copy=False) instead. To opt-in to the future behavior, set `pd.set_option('future.no_silent_downcasting', True)`\n",
      "  links_df['valid_2'].fillna(\n",
      "/tmp/ipykernel_132414/2423678181.py:292: FutureWarning: Downcasting object dtype arrays on .fillna, .ffill, .bfill is deprecated and will change in a future version. Call result.infer_objects(copy=False) instead. To opt-in to the future behavior, set `pd.set_option('future.no_silent_downcasting', True)`\n",
      "  links_df['end_processed_valid'] = links_df['valid_3'].fillna(\n",
      "/tmp/ipykernel_132414/2423678181.py:365: FutureWarning: Downcasting object dtype arrays on .fillna, .ffill, .bfill is deprecated and will change in a future version. Call result.infer_objects(copy=False) instead. To opt-in to the future behavior, set `pd.set_option('future.no_silent_downcasting', True)`\n",
      "  links_df['final_valid'] = links_df['valid_rd'].fillna(links_df['end_processed_valid'])\n"
     ]
    },
    {
     "name": "stdout",
     "output_type": "stream",
     "text": [
      "Saving cache. Total size:  3002677\n"
     ]
    },
    {
     "name": "stderr",
     "output_type": "stream",
     "text": [
      "/tmp/ipykernel_132414/2423678181.py:365: FutureWarning: Downcasting object dtype arrays on .fillna, .ffill, .bfill is deprecated and will change in a future version. Call result.infer_objects(copy=False) instead. To opt-in to the future behavior, set `pd.set_option('future.no_silent_downcasting', True)`\n",
      "  links_df['final_valid'] = links_df['valid_rd'].fillna(links_df['end_processed_valid'])\n"
     ]
    },
    {
     "name": "stdout",
     "output_type": "stream",
     "text": [
      "Saving cache. Total size:  3002677\n",
      "saving\n",
      "Batch 8 33589\n",
      "'No object named /batch_8 in the file'\n"
     ]
    },
    {
     "name": "stderr",
     "output_type": "stream",
     "text": [
      "/tmp/ipykernel_132414/2336260079.py:20: PerformanceWarning: \n",
      "your performance may suffer as PyTables will pickle object types that it cannot\n",
      "map directly to c-types [inferred_type->mixed,key->block0_values] [items->Index(['id', 'extracted_url', 'processed_url_1', 'reextracted_url', 'valid_2',\n",
      "       'processed_url_2', 'valid_3', 'processed_url_3', 'end_processed_url',\n",
      "       'valid_rd', 'redirected_url', 'final_url'],\n",
      "      dtype='object')]\n",
      "\n",
      "  links_df[outcols].to_hdf(f'data/bodylinks_batches.h5', key=f'/batch_{batch//size + 1}', mode='a')\n"
     ]
    },
    {
     "name": "stdout",
     "output_type": "stream",
     "text": [
      "Cannot connect to host www.en.wikipedia.org:443 ssl:default [Name or service not known]\n",
      "Cannot connect to host www.en.wikipedia.org:443 ssl:default [Name or service not known]\n",
      "Cannot connect to host www.en.wikipedia.org:443 ssl:default [Name or service not known]\n",
      "Cannot connect to host www.en.wikipedia.org:443 ssl:default [Name or service not known]\n",
      "Cannot connect to host www.en.wikipedia.org:443 ssl:default [Name or service not known]\n",
      "\n",
      "Cannot connect to host en.www.wikipedia.org:443 ssl:default [Name or service not known]\n",
      "Cannot connect to host www.en.wikipedia.org:443 ssl:default [Name or service not known]\n",
      "Cannot connect to host www.en.wikipedia.org:443 ssl:default [Name or service not known]\n",
      "Cannot connect to host www.en.wikipedia.org:443 ssl:default [Name or service not known]\n",
      "Cannot connect to host www.en.wikipedia.org:443 ssl:default [Name or service not known]\n",
      "Cannot connect to host www.en.wikipedia.org:443 ssl:default [Name or service not known]\n",
      "Cannot connect to host www.en.wikipedia.org:443 ssl:default [Name or service not known]\n",
      "Cannot connect to host www.en.wikipedia.org:443 ssl:default [Name or service not known]\n",
      "Cannot connect to host www.en.wikipedia.org:443 ssl:default [Name or service not known]\n",
      "Cannot connect to host www.en.wikipedia.org:443 ssl:default [Name or service not known]\n",
      "Cannot connect to host en.www.wikipedia.org:443 ssl:default [Name or service not known]\n"
     ]
    },
    {
     "name": "stderr",
     "output_type": "stream",
     "text": [
      "/tmp/ipykernel_132414/2423678181.py:293: FutureWarning: Downcasting object dtype arrays on .fillna, .ffill, .bfill is deprecated and will change in a future version. Call result.infer_objects(copy=False) instead. To opt-in to the future behavior, set `pd.set_option('future.no_silent_downcasting', True)`\n",
      "  links_df['valid_2'].fillna(\n",
      "/tmp/ipykernel_132414/2423678181.py:292: FutureWarning: Downcasting object dtype arrays on .fillna, .ffill, .bfill is deprecated and will change in a future version. Call result.infer_objects(copy=False) instead. To opt-in to the future behavior, set `pd.set_option('future.no_silent_downcasting', True)`\n",
      "  links_df['end_processed_valid'] = links_df['valid_3'].fillna(\n"
     ]
    },
    {
     "name": "stdout",
     "output_type": "stream",
     "text": [
      "429 errors: 1109. Retrying after 1 seconds...\n"
     ]
    },
    {
     "name": "stderr",
     "output_type": "stream",
     "text": [
      "/tmp/ipykernel_132414/2423678181.py:293: FutureWarning: Downcasting object dtype arrays on .fillna, .ffill, .bfill is deprecated and will change in a future version. Call result.infer_objects(copy=False) instead. To opt-in to the future behavior, set `pd.set_option('future.no_silent_downcasting', True)`\n",
      "  links_df['valid_2'].fillna(\n",
      "/tmp/ipykernel_132414/2423678181.py:292: FutureWarning: Downcasting object dtype arrays on .fillna, .ffill, .bfill is deprecated and will change in a future version. Call result.infer_objects(copy=False) instead. To opt-in to the future behavior, set `pd.set_option('future.no_silent_downcasting', True)`\n",
      "  links_df['end_processed_valid'] = links_df['valid_3'].fillna(\n",
      "/tmp/ipykernel_132414/2423678181.py:365: FutureWarning: Downcasting object dtype arrays on .fillna, .ffill, .bfill is deprecated and will change in a future version. Call result.infer_objects(copy=False) instead. To opt-in to the future behavior, set `pd.set_option('future.no_silent_downcasting', True)`\n",
      "  links_df['final_valid'] = links_df['valid_rd'].fillna(links_df['end_processed_valid'])\n"
     ]
    },
    {
     "name": "stdout",
     "output_type": "stream",
     "text": [
      "Saving cache. Total size:  3017330\n"
     ]
    },
    {
     "name": "stderr",
     "output_type": "stream",
     "text": [
      "/tmp/ipykernel_132414/2423678181.py:365: FutureWarning: Downcasting object dtype arrays on .fillna, .ffill, .bfill is deprecated and will change in a future version. Call result.infer_objects(copy=False) instead. To opt-in to the future behavior, set `pd.set_option('future.no_silent_downcasting', True)`\n",
      "  links_df['final_valid'] = links_df['valid_rd'].fillna(links_df['end_processed_valid'])\n"
     ]
    },
    {
     "name": "stdout",
     "output_type": "stream",
     "text": [
      "Saving cache. Total size:  3017330\n",
      "saving\n",
      "Batch 9 33589\n",
      "'No object named /batch_9 in the file'\n"
     ]
    },
    {
     "name": "stderr",
     "output_type": "stream",
     "text": [
      "/tmp/ipykernel_132414/2336260079.py:20: PerformanceWarning: \n",
      "your performance may suffer as PyTables will pickle object types that it cannot\n",
      "map directly to c-types [inferred_type->mixed,key->block0_values] [items->Index(['id', 'extracted_url', 'processed_url_1', 'reextracted_url', 'valid_2',\n",
      "       'processed_url_2', 'valid_3', 'processed_url_3', 'end_processed_url',\n",
      "       'valid_rd', 'redirected_url', 'final_url'],\n",
      "      dtype='object')]\n",
      "\n",
      "  links_df[outcols].to_hdf(f'data/bodylinks_batches.h5', key=f'/batch_{batch//size + 1}', mode='a')\n"
     ]
    },
    {
     "name": "stdout",
     "output_type": "stream",
     "text": [
      "\n",
      "\n",
      "Cannot connect to host www.en.wikipedia.org:443 ssl:default [Name or service not known]\n",
      "Cannot connect to host www.en.wikipedia.org:443 ssl:default [Name or service not known]\n",
      "Cannot connect to host www.en.wikipedia.org:443 ssl:default [Name or service not known]\n",
      "Cannot connect to host r.wikipedia.org:443 ssl:default [Name or service not known]\n",
      "Cannot connect to host r.wikipedia.org:443 ssl:default [Name or service not known]\n",
      "Cannot connect to host apc.wikipedia.org:443 ssl:default [Name or service not known]\n",
      "Cannot connect to host www.en.wikipedia.org:443 ssl:default [Name or service not known]\n",
      "Cannot connect to host www.en.wikipedia.org:443 ssl:default [Name or service not known]\n",
      "Cannot connect to host www.en.wikipedia.org:443 ssl:default [Name or service not known]\n",
      "Cannot connect to host www.en.wikipedia.org:443 ssl:default [Name or service not known]\n",
      "Cannot connect to host www.en.wikipedia.org:443 ssl:default [Name or service not known]\n",
      "Cannot connect to host r.wikipedia.org:443 ssl:default [Name or service not known]\n",
      "Cannot connect to host r.wikipedia.org:443 ssl:default [Name or service not known]\n",
      "Cannot connect to host r.wikipedia.org:443 ssl:default [Name or service not known]\n",
      "Cannot connect to host apc.wikipedia.org:443 ssl:default [Name or service not known]\n",
      "Cannot connect to host apc.wikipedia.:443 ssl:default [Name or service not known]\n",
      "Cannot connect to host apc.wikipedia:443 ssl:default [Name or service not known]\n"
     ]
    },
    {
     "name": "stderr",
     "output_type": "stream",
     "text": [
      "/tmp/ipykernel_132414/2423678181.py:293: FutureWarning: Downcasting object dtype arrays on .fillna, .ffill, .bfill is deprecated and will change in a future version. Call result.infer_objects(copy=False) instead. To opt-in to the future behavior, set `pd.set_option('future.no_silent_downcasting', True)`\n",
      "  links_df['valid_2'].fillna(\n",
      "/tmp/ipykernel_132414/2423678181.py:292: FutureWarning: Downcasting object dtype arrays on .fillna, .ffill, .bfill is deprecated and will change in a future version. Call result.infer_objects(copy=False) instead. To opt-in to the future behavior, set `pd.set_option('future.no_silent_downcasting', True)`\n",
      "  links_df['end_processed_valid'] = links_df['valid_3'].fillna(\n"
     ]
    },
    {
     "name": "stdout",
     "output_type": "stream",
     "text": [
      "\n",
      "429 errors: 1305. Retrying after 1 seconds...\n"
     ]
    },
    {
     "name": "stderr",
     "output_type": "stream",
     "text": [
      "/tmp/ipykernel_132414/2423678181.py:293: FutureWarning: Downcasting object dtype arrays on .fillna, .ffill, .bfill is deprecated and will change in a future version. Call result.infer_objects(copy=False) instead. To opt-in to the future behavior, set `pd.set_option('future.no_silent_downcasting', True)`\n",
      "  links_df['valid_2'].fillna(\n",
      "/tmp/ipykernel_132414/2423678181.py:292: FutureWarning: Downcasting object dtype arrays on .fillna, .ffill, .bfill is deprecated and will change in a future version. Call result.infer_objects(copy=False) instead. To opt-in to the future behavior, set `pd.set_option('future.no_silent_downcasting', True)`\n",
      "  links_df['end_processed_valid'] = links_df['valid_3'].fillna(\n",
      "/tmp/ipykernel_132414/2423678181.py:365: FutureWarning: Downcasting object dtype arrays on .fillna, .ffill, .bfill is deprecated and will change in a future version. Call result.infer_objects(copy=False) instead. To opt-in to the future behavior, set `pd.set_option('future.no_silent_downcasting', True)`\n",
      "  links_df['final_valid'] = links_df['valid_rd'].fillna(links_df['end_processed_valid'])\n"
     ]
    },
    {
     "name": "stdout",
     "output_type": "stream",
     "text": [
      "Saving cache. Total size:  3033074\n"
     ]
    },
    {
     "name": "stderr",
     "output_type": "stream",
     "text": [
      "/tmp/ipykernel_132414/2423678181.py:365: FutureWarning: Downcasting object dtype arrays on .fillna, .ffill, .bfill is deprecated and will change in a future version. Call result.infer_objects(copy=False) instead. To opt-in to the future behavior, set `pd.set_option('future.no_silent_downcasting', True)`\n",
      "  links_df['final_valid'] = links_df['valid_rd'].fillna(links_df['end_processed_valid'])\n"
     ]
    },
    {
     "name": "stdout",
     "output_type": "stream",
     "text": [
      "Saving cache. Total size:  3033074\n",
      "saving\n",
      "Batch 10 33589\n",
      "'No object named /batch_10 in the file'\n"
     ]
    },
    {
     "name": "stderr",
     "output_type": "stream",
     "text": [
      "/tmp/ipykernel_132414/2336260079.py:20: PerformanceWarning: \n",
      "your performance may suffer as PyTables will pickle object types that it cannot\n",
      "map directly to c-types [inferred_type->mixed,key->block0_values] [items->Index(['id', 'extracted_url', 'processed_url_1', 'reextracted_url', 'valid_2',\n",
      "       'processed_url_2', 'valid_3', 'processed_url_3', 'end_processed_url',\n",
      "       'valid_rd', 'redirected_url', 'final_url'],\n",
      "      dtype='object')]\n",
      "\n",
      "  links_df[outcols].to_hdf(f'data/bodylinks_batches.h5', key=f'/batch_{batch//size + 1}', mode='a')\n"
     ]
    },
    {
     "name": "stdout",
     "output_type": "stream",
     "text": [
      "Cannot connect to host donatecrypto.wikipedia.org:443 ssl:default [Name or service not known]\n",
      "Cannot connect to host www.en.wikipedia.org:443 ssl:default [Name or service not known]\n",
      "Cannot connect to host www.en.wikipedia.org:443 ssl:default [Name or service not known]\n",
      "Cannot connect to host www.en.wikipedia.org:443 ssl:default [Name or service not known]\n",
      "Cannot connect to host www.en.wikipedia.org:443 ssl:default [Name or service not known]\n",
      "Cannot connect to host www.en.wikipedia.org:443 ssl:default [Name or service not known]\n",
      "Cannot connect to host www.en.wikipedia.org:443 ssl:default [Name or service not known]\n",
      "Cannot connect to host www.en.wikipedia.org:443 ssl:default [Name or service not known]\n",
      "Cannot connect to host www.en.wikipedia.org:443 ssl:default [Name or service not known]\n",
      "Cannot connect to host www.en.wikipedia.org:443 ssl:default [Name or service not known]\n",
      "Cannot connect to host www.en.wikipedia.org:443 ssl:default [Name or service not known]\n",
      "Cannot connect to host www.en.wikipedia.org:443 ssl:default [Name or service not known]\n",
      "Cannot connect to host www.vi.wikipedia.org:443 ssl:default [Name or service not known]\n",
      "Cannot connect to host donatecrypto.wikipedia.org:443 ssl:default [Name or service not known]\n",
      "Cannot connect to host donatecrypto.wikipedia.:443 ssl:default [Name or service not known]\n",
      "Cannot connect to host donatecrypto.wikipedia:443 ssl:default [Name or service not known]\n",
      "Cannot connect to host www.en.wikipedia.org:443 ssl:default [Name or service not known]\n",
      "Cannot connect to host www.en.wikipedia.org:443 ssl:default [Name or service not known]\n",
      "Cannot connect to host www.en.wikipedia.org:443 ssl:default [Name or service not known]\n",
      "Cannot connect to host www.en.wikipedia.org:443 ssl:default [Name or service not known]\n",
      "Cannot connect to host www.en.wikipedia.org:443 ssl:default [Name or service not known]\n",
      "Cannot connect to host www.en.wikipedia.org:443 ssl:default [Name or service not known]\n",
      "Cannot connect to host www.en.wikipedia.org:443 ssl:default [Name or service not known]\n",
      "Cannot connect to host www.en.wikipedia.org:443 ssl:default [Name or service not known]\n",
      "Cannot connect to host www.en.wikipedia.org:443 ssl:default [Name or service not known]\n",
      "Cannot connect to host www.en.wikipedia.org:443 ssl:default [Name or service not known]\n",
      "Cannot connect to host www.en.wikipedia.org:443 ssl:default [Name or service not known]\n",
      "Cannot connect to host www.vi.wikipedia.org:443 ssl:default [Name or service not known]\n",
      "Cannot connect to host www.vi.wikipedia.:443 ssl:default [Name or service not known]\n",
      "Cannot connect to host www.vi.wikipedia:443 ssl:default [Name or service not known]\n"
     ]
    },
    {
     "name": "stderr",
     "output_type": "stream",
     "text": [
      "/tmp/ipykernel_132414/2423678181.py:293: FutureWarning: Downcasting object dtype arrays on .fillna, .ffill, .bfill is deprecated and will change in a future version. Call result.infer_objects(copy=False) instead. To opt-in to the future behavior, set `pd.set_option('future.no_silent_downcasting', True)`\n",
      "  links_df['valid_2'].fillna(\n",
      "/tmp/ipykernel_132414/2423678181.py:292: FutureWarning: Downcasting object dtype arrays on .fillna, .ffill, .bfill is deprecated and will change in a future version. Call result.infer_objects(copy=False) instead. To opt-in to the future behavior, set `pd.set_option('future.no_silent_downcasting', True)`\n",
      "  links_df['end_processed_valid'] = links_df['valid_3'].fillna(\n"
     ]
    },
    {
     "name": "stdout",
     "output_type": "stream",
     "text": [
      "\n",
      "429 errors: 1247. Retrying after 1 seconds...\n"
     ]
    },
    {
     "name": "stderr",
     "output_type": "stream",
     "text": [
      "/tmp/ipykernel_132414/2423678181.py:293: FutureWarning: Downcasting object dtype arrays on .fillna, .ffill, .bfill is deprecated and will change in a future version. Call result.infer_objects(copy=False) instead. To opt-in to the future behavior, set `pd.set_option('future.no_silent_downcasting', True)`\n",
      "  links_df['valid_2'].fillna(\n",
      "/tmp/ipykernel_132414/2423678181.py:292: FutureWarning: Downcasting object dtype arrays on .fillna, .ffill, .bfill is deprecated and will change in a future version. Call result.infer_objects(copy=False) instead. To opt-in to the future behavior, set `pd.set_option('future.no_silent_downcasting', True)`\n",
      "  links_df['end_processed_valid'] = links_df['valid_3'].fillna(\n",
      "/tmp/ipykernel_132414/2423678181.py:365: FutureWarning: Downcasting object dtype arrays on .fillna, .ffill, .bfill is deprecated and will change in a future version. Call result.infer_objects(copy=False) instead. To opt-in to the future behavior, set `pd.set_option('future.no_silent_downcasting', True)`\n",
      "  links_df['final_valid'] = links_df['valid_rd'].fillna(links_df['end_processed_valid'])\n"
     ]
    },
    {
     "name": "stdout",
     "output_type": "stream",
     "text": [
      "Saving cache. Total size:  3047686\n"
     ]
    },
    {
     "name": "stderr",
     "output_type": "stream",
     "text": [
      "/tmp/ipykernel_132414/2423678181.py:365: FutureWarning: Downcasting object dtype arrays on .fillna, .ffill, .bfill is deprecated and will change in a future version. Call result.infer_objects(copy=False) instead. To opt-in to the future behavior, set `pd.set_option('future.no_silent_downcasting', True)`\n",
      "  links_df['final_valid'] = links_df['valid_rd'].fillna(links_df['end_processed_valid'])\n"
     ]
    },
    {
     "name": "stdout",
     "output_type": "stream",
     "text": [
      "Saving cache. Total size:  3047686\n",
      "saving\n",
      "Batch 11 33589\n",
      "'No object named /batch_11 in the file'\n"
     ]
    },
    {
     "name": "stderr",
     "output_type": "stream",
     "text": [
      "/tmp/ipykernel_132414/2336260079.py:20: PerformanceWarning: \n",
      "your performance may suffer as PyTables will pickle object types that it cannot\n",
      "map directly to c-types [inferred_type->mixed,key->block0_values] [items->Index(['id', 'extracted_url', 'processed_url_1', 'reextracted_url', 'valid_2',\n",
      "       'processed_url_2', 'valid_3', 'processed_url_3', 'end_processed_url',\n",
      "       'valid_rd', 'redirected_url', 'final_url'],\n",
      "      dtype='object')]\n",
      "\n",
      "  links_df[outcols].to_hdf(f'data/bodylinks_batches.h5', key=f'/batch_{batch//size + 1}', mode='a')\n",
      "/tmp/ipykernel_132414/2423678181.py:293: FutureWarning: Downcasting object dtype arrays on .fillna, .ffill, .bfill is deprecated and will change in a future version. Call result.infer_objects(copy=False) instead. To opt-in to the future behavior, set `pd.set_option('future.no_silent_downcasting', True)`\n",
      "  links_df['valid_2'].fillna(\n",
      "/tmp/ipykernel_132414/2423678181.py:292: FutureWarning: Downcasting object dtype arrays on .fillna, .ffill, .bfill is deprecated and will change in a future version. Call result.infer_objects(copy=False) instead. To opt-in to the future behavior, set `pd.set_option('future.no_silent_downcasting', True)`\n",
      "  links_df['end_processed_valid'] = links_df['valid_3'].fillna(\n",
      "/tmp/ipykernel_132414/2423678181.py:365: FutureWarning: Downcasting object dtype arrays on .fillna, .ffill, .bfill is deprecated and will change in a future version. Call result.infer_objects(copy=False) instead. To opt-in to the future behavior, set `pd.set_option('future.no_silent_downcasting', True)`\n",
      "  links_df['final_valid'] = links_df['valid_rd'].fillna(links_df['end_processed_valid'])\n",
      "/tmp/ipykernel_132414/2423678181.py:366: FutureWarning: Downcasting object dtype arrays on .fillna, .ffill, .bfill is deprecated and will change in a future version. Call result.infer_objects(copy=False) instead. To opt-in to the future behavior, set `pd.set_option('future.no_silent_downcasting', True)`\n",
      "  links_df['final_status'] = links_df['status_rd'].fillna(links_df['end_processed_status'])\n"
     ]
    },
    {
     "name": "stdout",
     "output_type": "stream",
     "text": [
      "Saving cache. Total size:  3047691\n",
      "saving\n"
     ]
    },
    {
     "name": "stderr",
     "output_type": "stream",
     "text": [
      "/tmp/ipykernel_132414/2336260079.py:20: PerformanceWarning: \n",
      "your performance may suffer as PyTables will pickle object types that it cannot\n",
      "map directly to c-types [inferred_type->mixed,key->block0_values] [items->Index(['id', 'extracted_url', 'processed_url_1', 'reextracted_url', 'valid_2',\n",
      "       'processed_url_2', 'valid_3', 'processed_url_3', 'end_processed_url',\n",
      "       'valid_rd', 'status_rd', 'redirected_url', 'final_url'],\n",
      "      dtype='object')]\n",
      "\n",
      "  links_df[outcols].to_hdf(f'data/bodylinks_batches.h5', key=f'/batch_{batch//size + 1}', mode='a')\n",
      "/tmp/ipykernel_132414/2336260079.py:23: FutureWarning: The behavior of DataFrame concatenation with empty or all-NA entries is deprecated. In a future version, this will no longer exclude empty or all-NA columns when determining the result dtypes. To retain the old behavior, exclude the relevant entries before the concat operation.\n",
      "  bodylinks = pd.concat(bodylinks).reset_index(drop=True)\n",
      "/tmp/ipykernel_132414/2336260079.py:26: PerformanceWarning: \n",
      "your performance may suffer as PyTables will pickle object types that it cannot\n",
      "map directly to c-types [inferred_type->mixed,key->block3_values] [items->Index(['id', 'extracted_url', 'processed_url_1', 'reextracted_url', 'valid_2',\n",
      "       'processed_url_2', 'valid_3', 'processed_url_3', 'end_processed_url',\n",
      "       'valid_rd', 'redirected_url', 'final_url'],\n",
      "      dtype='object')]\n",
      "\n",
      "  bodylinks.to_hdf('data/bodylinks.h5', key='df', mode='w')\n"
     ]
    }
   ],
   "source": [
    "# run on bodies\n",
    "outcols = ['id', 'extracted_url', 'valid_1', 'status_1',\n",
    "       'processed_url_1', 'reextracted_url', 'valid_2', 'status_2',\n",
    "       'processed_url_2', 'valid_3', 'status_3', 'processed_url_3',\n",
    "       'end_processed_valid', 'end_processed_url',\n",
    "       'valid_rd', 'status_rd', 'redirected_url', 'final_valid',\n",
    "       'final_status', 'final_url']\n",
    "size = len(posts)//10\n",
    "\n",
    "bodylinks = []\n",
    "for batch in range(0, len(posts), size):\n",
    "   print(f\"Batch {batch//size + 1}\", size)\n",
    "   try:\n",
    "      bodylinks.append(pd.read_hdf(f'data/bodylinks_batches.h5', key=f'/batch_{batch//size + 1}'))\n",
    "   except (FileNotFoundError, KeyError) as ex:\n",
    "      print(ex)\n",
    "      links_df = await get_links_df(posts.iloc[batch:batch+size].copy(), column='body')\n",
    "      if len(links_df) > 0:\n",
    "         print('saving')\n",
    "         links_df[outcols].to_hdf(f'data/bodylinks_batches.h5', key=f'/batch_{batch//size + 1}', mode='a')\n",
    "         bodylinks.append(links_df[outcols])\n",
    "\n",
    "bodylinks = pd.concat(bodylinks).reset_index(drop=True)\n",
    "if os.path.exists('data/bodylinks.h5'):\n",
    "   os.remove('data/bodylinks.h5')\n",
    "bodylinks.to_hdf('data/bodylinks.h5', key='df', mode='w')"
   ]
  },
  {
   "cell_type": "code",
   "execution_count": 7,
   "metadata": {},
   "outputs": [
    {
     "name": "stdout",
     "output_type": "stream",
     "text": [
      "https://ru.wikipedia.org/wiki/%D0%A2%D0%B5%D0%BE%D1%80%D0%B8%D1%8F_%D0%BF%D1%80%D0%B5%D0%B4%D1%81%D1%82%D0%B0%D0%B2%D0%BB%D0%B5%D0%BD%D0%B8%D0%B9#:~:text=%D0%A2%D0%B5%D0%BE%D1%80%D0%B8%D1%8F%20%D0%BF%D1%80%D0%B5%D0%B4%D1%81%D1%82%D0%B0%D0%B2%D0%BB%D0%B5%D0%BD%D0%B8%D0%B9%20%E2%80%94%20%D1%80%D0%B0%D0%B7%D0%B4%D0%B5%D0%BB%20%D0%BC%D0%B0%D1%82%D0%B5%D0%BC%D0%B0%D1%82%D0%B8%D0%BA%D0%B8%2C%20%D0%B8%D0%B7%D1%83%D1%87%D0%B0%D1%8E%D1%89%D0%B8%D0%B9,%D0%B2%D0%B8%D0%B4%D0%B5%20%D0%BB%D0%B8%D0%BD%D0%B5%D0%B9%D0%BD%D1%8B%D1%85%20%D0%BF%D1%80%D0%B5%D0%BE%D0%B1%D1%80%D0%B0%D0%B7%D0%BE%D0%B2%D0%B0%D0%BD%D0%B8%D0%B9%20%D0%B2%D0%B5%D0%BA%D1%82%D0%BE%D1%80%D0%BD%D1%8B%D1%85%20%D0%BF%D1%80%D0%BE%D1%81%D1%82%D1%80%D0%B0%D0%BD%D1%81%D1%82%D0%B2.&text=%D0%9D%D0%B0%D0%B8%D0%B1%D0%BE%D0%BB%D0%B5%D0%B5%20%D0%B8%D0%B7%D0%B2%D0%B5%D1%81%D1%82%D0%BD%D0%BE%D0%B9%20(%D0%B8%20%D0%B8%D1%81%D1%82%D0%BE%D1%80%D0%B8%D1%87%D0%B5%D1%81%D0%BA%D0%B8%20%D0%B2%D0%BE%D0%B7%D0%BD%D0%B8%D0%BA%D1%88%D0%B5%D0%B9%20%D0%BF%D0%B5%D1%80%D0%B2%D0%BE%D0%B9)%20%D1%8F%D0%B2%D0%BB%D1%8F%D0%B5%D1%82%D1%81%D1%8F%20%D1%82%D0%B5%D0%BE%D1%80%D0%B8%D1%8F%20%D0%BF%D1%80%D0%B5%D0%B4%D1%81%D1%82%D0%B0%D0%B2%D0%BB%D0%B5%D0%BD%D0%B8%D0%B9%20%D0%B3%D1%80%D1%83%D0%BF%D0%BF.\n",
      "https://en.wikipedia.org/wiki/Great_Surgun#cite_note-FOOTNOTE%D0%A0%D1%8B%D0%B1%D0%B0%D0%BA%D0%BE%D0%B2,_%D0%90%D0%BB%D0%B0%D0%B5%D0%B2,_%D0%90%D1%88%D1%84%D0%B0%D1%80%D1%8F%D0%BD_%D0%B8_%D0%B4%D1%80.2000113%D0%9C%D0%BD%D0%BE%D0%B6%D0%B5%D1%81%D1%82%D0%B2%D0%BE_%D0%BB%D1%8E%D0%B4%D0%B5%D0%B9_%D0%BF%D0%BE%D0%B3%D0%B8%D0%B1%D0%BB%D0%BE,_%D0%B4%D0%B5%D1%82%D0%B5%D0%B9_%D0%B8_%D0%B6%D0%B5%D0%BD%D1%89%D0%B8%D0%BD_%D0%BE%D0%B1%D1%80%D0%B0%D1%89%D0%B0%D0%BB%D0%B8_%D0%B2_%D1%80%D0%B0%D0%B1%D1%81%D1%82%D0%B2%D0%BE,_%D1%83%D1%86%D0%B5%D0%BB%D0%B5%D0%B2%D1%88%D0%B8%D1%85_%D1%81%D0%B5%D0%BB%D0%B8%D0%BB%D0%B8_%D0%B2%D0%BE_%D0%B2%D0%BD%D1%83%D1%82%D1%80%D0%B5%D0%BD%D0%BD%D0%B8%D1%85_%D1%80%D0%B0%D0%B9%D0%BE%D0%BD%D0%B0%D1%85_%D0%98%D1%80%D0%B0%D0%BD%D0%B0._%D0%9C%D0%B0%D1%81%D1%81%D0%B0_%D0%BB%D1%8E%D0%B4%D0%B5%D0%B9,_%D0%BE%D0%B4%D0%BD%D0%B0%D0%BA%D0%BE,_%D0%B1%D0%B5%D0%B6%D0%B0%D0%BB%D0%B0_%D0%B2_%D0%B3%D0%BE%D1%80%D1%8B_%D0%B8_%D1%82%D1%80%D1%83%D0%B4%D0%BD%D0%BE%D0%B4%D0%BE%D1%81%D1%82%D1%83%D0%BF%D0%BD%D1%8B%D0%B5_%D0%BC%D0%B5%D1%81%D1%82%D0%B0-18\n",
      "https://en.wikipedia.org/wiki/Great_Surgun#cite_note-FOOTNOTE%D0%A0%D1%8B%D0%B1%D0%B0%D0%BA%D0%BE%D0%B2,_%D0%91%D0%B5%D0%BB%D1%8F%D0%B2%D1%81%D0%BA%D0%B8%D0%B9_%D0%B8_%D0%B4%D1%80.1983274Following_the_brilliant_anti-Ottoman_campaign_of_1603-5,_Shah_%CA%BFAbb%C4%81s_resumed_control_over_the_provinces_of_Yerevan_and_Nakhchivan,_which_constituted_the_core_settlement_of_Eastern_Armenians._As_a_result,_the_major_centre_of_Armenian_religious_and_cultural_life,_the_Holy_See_of_Etchmiadzin,_again_fell_within_the_borders_of_the_Safavid_Empire._Yet,_feeling_that_his_grasp_over_the_newly_conquered_territories_was_still_insecure,_%CA%BFAbb%C4%81s_applied_a_scorched_earth_policy_and_undertook_massive_forced_resettlements_of_the_local_population,_especially_Armenians,_into_central_Iran._In_1604,_the_large_Armenian_community_of_the_city_of_Julfa_on_the_River_Araxes_was_forcibly_resettled_to_Isfahan%E2%80%A6-10\n",
      "https://en.wikipedia.org/wiki/Great_Surgun#cite_note-FOOTNOTE%D0%A0%D1%8B%D0%B1%D0%B0%D0%BA%D0%BE%D0%B2,_%D0%91%D0%B5%D0%BB%D1%8F%D0%B2%D1%81%D0%BA%D0%B8%D0%B9_%D0%B8_%D0%B4%D1%80.1983274%D0%92_1604_%D0%B3._%D0%BD%D0%B0_%D0%90%D1%80%D0%BC%D0%B5%D0%BD%D0%B8%D1%8E_%D0%BE%D0%B1%D1%80%D1%83%D1%88%D0%B8%D0%BB%D0%BE%D1%81%D1%8C_%D0%BE%D1%87%D0%B5%D1%80%D0%B5%D0%B4%D0%BD%D0%BE%D0%B5_%D0%BD%D0%B5%D1%81%D1%87%D0%B0%D1%81%D1%82%D1%8C%D0%B5:_%D0%BE%D1%82%D1%81%D1%82%D1%83%D0%BF%D0%B0%D1%8F_%D0%B2_%D0%98%D1%80%D0%B0%D0%BD,_%D0%90%D0%B1%D0%B1%D0%B0%D1%81_I_%D1%83%D0%B3%D0%BD%D0%B0%D0%BB_%D0%BE%D0%BA%D0%BE%D0%BB%D0%BE_350_%D1%82%D1%8B%D1%81._%D0%BD%D0%B0%D1%81%D0%B5%D0%BB%D0%B5%D0%BD%D0%B8%D1%8F,_%D0%B3%D0%BB%D0%B0%D0%B2%D0%BD%D1%8B%D0%BC_%D0%BE%D0%B1%D1%80%D0%B0%D0%B7%D0%BE%D0%BC_%D0%B0%D1%80%D0%BC%D1%8F%D0%BD%D1%81%D0%BA%D0%BE%D0%B3%D0%BE.-11\n",
      "https://ar.m.wikipedia.org/wiki/%D9%82%D9%8A%D8%AF%D8%A7%D8%B1_%D8%A8%D9%86_%D8%A5%D8%B3%D9%85%D8%A7%D8%B9%D9%8A%D9%84#:~:text=%D9%82%D9%90%D9%8A%D8%AF%D9%8E%D8%A7%D8%B1%D9%8F%20%D9%87%D9%88%20%D8%AB%D8%A7%D9%86%D9%8A%20%D8%A3%D8%A8%D9%86%D8%A7%D8%A1%20%D8%A7%D9%84%D9%86%D8%A8%D9%8A,%D8%AC%D8%AF%20%D8%A7%D9%84%D8%A3%D9%86%D8%A8%D8%A7%D8%B7%20%D9%85%D9%84%D9%88%D9%83%20%D8%B4%D9%85%D8%A7%D9%84%20%D8%A7%D9%84%D8%AD%D8%AC%D8%A7%D8%B2.&text=%D8%A7%D9%84%D9%82%D8%A8%D8%A7%D8%A6%D9%84%20%D8%A7%D9%84%D8%B9%D8%B1%D8%A8%D9%8A%D8%A9%20%D8%A7%D9%84%D8%AA%D9%8A%20%D9%85%D9%86%20%D8%B0%D8%B1%D9%8A%D8%A9,%D8%BA%D8%B1%D8%A8%20%D8%B4%D8%A8%D9%87%20%D8%A7%D9%84%D8%AC%D8%B2%D9%8A%D8%B1%D8%A9%20%D8%A7%D9%84%D8%B9%D8%B1%D8%A8%D9%8A%D8%A9%20%D9%88%D9%88%D8%B3%D8%B7%D9%87%D8%A7.\n",
      "https://mk.wikipedia.org/wiki/%D0%9C%D0%B8%D1%82%D1%80%D0%BE%D0%BF%D0%BE%D0%BB%D0%B8%D1%82%D1%81%D0%BA%D0%B0_%D1%80%D0%B5%D0%B7%D0%B8%D0%B4%D0%B5%D0%BD%D1%86%D0%B8%D1%98%D0%B0_%E2%80%93_%D0%91%D0%B8%D1%82%D0%BE%D0%BB%D0%B0#/media/%D0%9F%D0%BE%D0%B4%D0%B0%D1%82%D0%BE%D1%82%D0%B5%D0%BA%D0%B0:%D0%A1%D0%B5%D0%B4%D0%B8%D1%88%D1%82%D0%B5_%D0%BD%D0%B0_%D0%9F%D1%80%D0%B5%D1%81%D0%BF%D0%B0%D0%BD%D1%81%D0%BA%D0%BE-%D0%BF%D0%B5%D0%BB%D0%B0%D0%B3%D0%BE%D0%BD%D0%B8%D1%81%D0%BA%D0%B0%D1%82%D0%B0_%D0%BF%D1%80%D0%B0%D0%B2%D0%BE%D1%81%D0%BB%D0%B0%D0%B2%D0%BD%D0%B0_%D0%B5%D0%BF%D0%B0%D1%80%D1%85%D0%B8%D1%98%D0%B0_%D1%81%D0%B5_%D0%BD%D0%B0%D0%BE%D1%93%D0%B0_%D0%B2%D0%BE_%D0%B3%D1%80%D0%B0%D0%B4%D0%BE%D1%82_%D0%91%D0%B8%D1%82%D0%BE%D0%BB%D0%B0.jpg\n",
      "https://en.wikipedia.org/wiki/Great_Surgun#cite_note-FOOTNOTEBournoutian2003208In_the_summer_of_1604,_at_the_news_of_an_Ottoman_counteroffensive,_'Abbas_laid_waste_much_of_the_territory_between_Kars_and_Ani_and_deported_its_Armenians_and_Muslims_into_Iranian_Azerbaijan._%E2%80%A6_According_to_primary_sources,_some_250,000_to_300,000_Armemians_were_removed_from_the_region_between_1604_and_1605,_Thousands_died_crossing_the_Arax_River._Many_of_the_Armenians_were_eventually_settled_in_Iranian_Azerbaijan,_where_other_Armenians_had_settled_carlier._Some_ended_up_in_the_Mazandaran_region_and_in_the_cities_of_Sultanich,_Qazvin,_Mashhad,_Hamadan_and_Shiraz._The_wealthy_Armenians_of_Julfa_were_brought_to_the_Safavid_capital_of_Isfahan.-7\n",
      "https://ru.wikipedia.org/wiki/%D0%97%D0%B0%D0%B4%D0%B0%D1%87%D0%B0_%D0%B2%D0%B8%D0%B7%D0%B0%D0%BD%D1%82%D0%B8%D0%B9%D1%81%D0%BA%D0%B8%D1%85_%D0%B3%D0%B5%D0%BD%D0%B5%D1%80%D0%B0%D0%BB%D0%BE%D0%B2#:~:text=%D0%97%D0%B0%D0%B4%D0%B0%D1%87%D0%B0%20%D0%B2%D0%B8%D0%B7%D0%B0%D0%BD%D1%82%D0%B8%D0%B9%D1%81%D0%BA%D0%B8%D1%85%20%D0%B3%D0%B5%D0%BD%D0%B5%D1%80%D0%B0%D0%BB%D0%BE%D0%B2%20%E2%80%94%20%D0%B2%20%D0%BA%D1%80%D0%B8%D0%BF%D1%82%D0%BE%D0%BB%D0%BE%D0%B3%D0%B8%D0%B8,%D0%B7%D0%BB%D0%BE%D1%83%D0%BC%D1%8B%D1%88%D0%BB%D0%B5%D0%BD%D0%BD%D0%B8%D0%BA%D0%B8%20%D0%BF%D0%BE%D0%B4%D0%BC%D0%B5%D0%BD%D0%B8%D0%BB%D0%B8%20%D1%81%D0%BE%D0%BE%D0%B1%D1%89%D0%B5%D0%BD%D0%B8%D1%8F%20%D0%BF%D1%80%D0%B8%20%D0%BF%D0%B5%D1%80%D0%B5%D0%B4%D0%B0%D1%87%D0%B5\n",
      "https://ru.wikipedia.org/wiki/%D0%9F%D1%8C%D1%8F%D0%BD%D1%81%D1%82%D0%B2%D0%BE#:~:text=%D0%9F%D1%8C%D1%8F%CC%81%D0%BD%D1%81%D1%82%D0%B2%D0%BE%20%E2%80%94%20%D1%80%D0%B5%D0%B3%D1%83%D0%BB%D1%8F%D1%80%D0%BD%D0%BE%D0%B5%20%D1%83%D0%BF%D0%BE%D1%82%D1%80%D0%B5%D0%B1%D0%BB%D0%B5%D0%BD%D0%B8%D0%B5%20%D0%B0%D0%BB%D0%BA%D0%BE%D0%B3%D0%BE%D0%BB%D1%8C%D0%BD%D1%8B%D1%85%20%D0%BD%D0%B0%D0%BF%D0%B8%D1%82%D0%BA%D0%BE%D0%B2,%D0%B8%20%D0%BD%D0%B5%D0%B2%D0%BE%D0%B7%D0%B4%D0%B5%D1%80%D0%B6%D0%B0%D0%BD%D0%BD%D0%BE%D0%B5%20%D0%BF%D0%BE%D1%82%D1%80%D0%B5%D0%B1%D0%BB%D0%B5%D0%BD%D0%B8%D0%B5%20%D1%81%D0%BF%D0%B8%D1%80%D1%82%D0%BD%D1%8B%D1%85%20%D0%BD%D0%B0%D0%BF%D0%B8%D1%82%D0%BA%D0%BE%D0%B2%C2%BB.\n",
      "https://ru.wikipedia.org/wiki/%D0%9F%D1%80%D0%BE%D1%82%D0%B8%D0%B2%D0%BE%D1%81%D1%82%D0%BE%D1%8F%D0%BD%D0%B8%D0%B5_%D0%BF%D0%BB%D0%B0%D0%BD%D0%B5%D1%82%D1%8B#:~:text=%D0%9F%D1%80%D0%BE%D1%82%D0%B8%D0%B2%D0%BE%D1%81%D1%82%D0%BE%D1%8F%D0%BD%D0%B8%D0%B5%20(%D0%BE%D0%BF%D0%BF%D0%BE%D0%B7%D0%B8%D1%86%D0%B8%D1%8F)%20%E2%80%94%20%D1%82%D0%B0%D0%BA%D0%BE%D0%B5%20%D0%BF%D0%BE%D0%BB%D0%BE%D0%B6%D0%B5%D0%BD%D0%B8%D0%B5,%D0%BF%D1%80%D0%B8%D0%BC%D0%B5%D1%80%D0%BD%D0%BE%20%D0%B2%20%D0%BF%D1%80%D0%BE%D1%82%D0%B8%D0%B2%D0%BE%D0%BF%D0%BE%D0%BB%D0%BE%D0%B6%D0%BD%D0%BE%D0%BC%20%D0%A1%D0%BE%D0%BB%D0%BD%D1%86%D1%83%20%D0%BD%D0%B0%D0%BF%D1%80%D0%B0%D0%B2%D0%BB%D0%B5%D0%BD%D0%B8%D0%B8.\n",
      "https://ru.wikipedia.org/wiki/%D0%93%D0%B5%D1%80%D0%B0%D1%81%D0%B8%D0%BC%D0%BE%D0%B2,_%D0%95%D0%B2%D0%B3%D0%B5%D0%BD%D0%B8%D0%B9_%D0%92%D0%BB%D0%B0%D0%B4%D0%B8%D0%BC%D0%B8%D1%80%D0%BE%D0%B2%D0%B8%D1%87#:~:text=%D0%92%D1%81%D0%B5%D1%81%D0%BE%D1%8E%D0%B7%D0%BD%D1%83%D1%8E%20%D0%B8%D0%B7%D0%B2%D0%B5%D1%81%D1%82%D0%BD%D0%BE%D1%81%D1%82%D1%8C%20%D0%95%D0%B2%D0%B3%D0%B5%D0%BD%D0%B8%D0%B9%20%D0%93%D0%B5%D1%80%D0%B0%D1%81%D0%B8%D0%BC%D0%BE%D0%B2%20%D0%BF%D1%80%D0%B8%D0%BE%D0%B1%D1%80%D1%91%D0%BB,(1984)%20%D0%BA%D0%B8%D0%BD%D0%BE%D1%80%D0%B5%D0%B6%D0%B8%D1%81%D1%81%D1%91%D1%80%D0%B0%20%D0%9F%D0%B0%D0%B2%D0%BB%D0%B0%20%D0%90%D1%80%D1%81%D0%B5%D0%BD%D0%BE%D0%B2%D0%B0.\n",
      "https://en.wikipedia.org/wiki/Neoliberalism#cite_note-FOOTNOTEMirowskiPlehwe2009p._436._%22A_primary_ambition_of_the_neoliberal_project_is_to_redefine_the_shape_and_functions_of_the_state,_not_to_destroy_it_..._they_are_inclined_to_explore_new_formats_of_techno-managerial_governance_that_protect_their_ideal_market_from_what_they_perceive_as_unwarranted_political_interference_..._One_should_not_confuse_marketization_of_government_functions_with_shrinking_the_state,_however:_if_anything,_bureaucracies_become_more_unwieldy_under_neoliberal_regimes._In_practice,_'deregulation'_cashes_out_as_'re-regulation',_only_under_a_different_set_of_ukases%22-15\n",
      "https://en.wikipedia.org/w/index.php?title=Circumcision%20diffhist%20%2075%20%20Helloweb%20talk%20contribs%20(The%20World%20Health%20Organization%20article%20states%20%22common%20determinants%20of%20male%20circumcision%20are%20ethnicity%2C%20PERCEIVED%20health%20and%20sexual%20benefits%2C%20and%20the%20desire%20to%20conform%20to%20social%20norms%22%2C%20not%20an%20actual%20prophylactic%20function%20for%20the%20individual.%20Also%20reworded%20%22often%22%20that%20was%20used%20in%20regard%20to%20anesthesia%20since%20a%20very%20large%20number%20worldwide%20are%20performed%20without%20anesthesia.)21%3A29%20Circumcision%20and%20law&action=history\n",
      "https://en.wikipedia.org/w/index.php?title=Circumcision%20diffhist%20%2075%20%20Helloweb%20talk%20contribs%20(The%20World%20Health%20Organization%20article%20states%20%22common%20determinants%20of%20male%20circumcision%20are%20ethnicity%2C%20PERCEIVED%20health%20and%20sexual%20benefits%2C%20and%20the%20desire%20to%20conform%20to%20social%20norms%22%2C%20not%20an%20actual%20prophylactic%20function%20for%20the%20individual.%20Also%20reworded%20%22often%22%20that%20was%20used%20in%20regard%20to%20anesthesia%20since%20a%20very%20large%20number%20worldwide%20are%20performed%20without%20anesthesia.)21%3A29%20Circumcision%20and%20law&action=history\n",
      "https://ru.wikipedia.org/wiki/%D0%90%D1%81%D1%82%D0%B5%D1%80%D0%BE%D0%B8%D0%B4_%D0%BA%D0%BB%D0%B0%D1%81%D1%81%D0%B0_S#:~:text=%D0%A1%D0%BF%D0%B5%D0%BA%D1%82%D1%80%D0%B0%D0%BB%D1%8C%D0%BD%D1%8B%D0%B9%20%D0%BA%D0%BB%D0%B0%D1%81%D1%81%20S%20%E2%80%94%20%D0%BA%D0%BB%D0%B0%D1%81%D1%81%20%D0%B0%D1%81%D1%82%D0%B5%D1%80%D0%BE%D0%B8%D0%B4%D0%BE%D0%B2,%D1%80%D0%B0%D1%81%D0%BF%D1%80%D0%BE%D1%81%D1%82%D1%80%D0%B0%D0%BD%D1%91%D0%BD%D0%BD%D0%BE%D1%81%D1%82%D0%B8%20%D0%BA%D0%BB%D0%B0%D1%81%D1%81%20%D0%B0%D1%81%D1%82%D0%B5%D1%80%D0%BE%D0%B8%D0%B4%D0%BE%D0%B2%2C%20%D0%BF%D0%BE%D1%81%D0%BB%D0%B5%20%D1%83%D0%B3%D0%BB%D0%B5%D1%80%D0%BE%D0%B4%D0%BD%D1%8B%D1%85.\n",
      "https://ru.m.wikipedia.org/wiki/%D0%9A%D0%B0%D0%BD%D0%B0%D0%BB_%D0%A1%D0%B5%D0%B2%D0%B5%D1%80%D1%81%D0%BA%D0%B8%D0%B9_%D0%94%D0%BE%D0%BD%D0%B5%D1%86_%E2%80%94_%D0%94%D0%BE%D0%BD%D0%B1%D0%B0%D1%81%D1%81#:~:text=%D0%9A%D0%B0%D0%BD%D0%B0%D0%BB%20%D0%A1%D0%B5%D0%B2%D0%B5%D1%80%D1%81%D0%BA%D0%B8%D0%B9%20%D0%94%D0%BE%D0%BD%D0%B5%D1%86%20%E2%80%94%20%D0%94%D0%BE%D0%BD%D0%B1%D0%B0%D1%81%D1%81%20(%D1%83%D0%BA%D1%80,%D0%95%D0%B4%D0%B8%D0%BD%D1%81%D1%82%D0%B2%D0%B5%D0%BD%D0%BD%D0%BE%D0%B5%20%D0%BD%D0%B0%D0%B7%D0%BD%D0%B0%D1%87%D0%B5%D0%BD%D0%B8%D0%B5%20%E2%80%94%20%D0%B2%D0%BE%D0%B4%D0%BE%D1%81%D0%BD%D0%B0%D0%B1%D0%B6%D0%B5%D0%BD%D0%B8%D0%B5\n",
      "https://ru.wikipedia.org/wiki/%D0%90%D0%B7%D0%BE%D1%82%D0%B8%D1%81%D1%82%D1%8B%D0%B5_%D0%BE%D1%81%D0%BD%D0%BE%D0%B2%D0%B0%D0%BD%D0%B8%D1%8F#:~:text=%D0%90%D0%B7%D0%BE%CC%81%D1%82%D0%B8%D1%81%D1%82%D1%8B%D0%B5%20%D0%BE%D1%81%D0%BD%D0%BE%D0%B2%D0%B0%CC%81%D0%BD%D0%B8%D1%8F%20%E2%80%94%20%D0%B3%D0%B5%D1%82%D0%B5%D1%80%D0%BE%D1%86%D0%B8%D0%BA%D0%BB%D0%B8%D1%87%D0%B5%D1%81%D0%BA%D0%B8%D0%B5%20%D0%BE%D1%80%D0%B3%D0%B0%D0%BD%D0%B8%D1%87%D0%B5%D1%81%D0%BA%D0%B8%D0%B5%20%D1%81%D0%BE%D0%B5%D0%B4%D0%B8%D0%BD%D0%B5%D0%BD%D0%B8%D1%8F,%D0%BA%D0%B0%D0%BA%20%D0%94%D0%9D%D0%9A%2C%20%D1%82%D0%B0%D0%BA%20%D0%B8%20%D0%A0%D0%9D%D0%9A.\n",
      "https://ru.wikipedia.org/wiki/%D0%93%D0%BE%D0%BC%D0%B0%D0%BD%D0%BE%D0%B2%D1%81%D0%BA%D0%B0%D1%8F_%D1%82%D1%80%D0%B0%D0%B5%D0%BA%D1%82%D0%BE%D1%80%D0%B8%D1%8F#:~:text=%D0%93%D0%BE%CC%81%D0%BC%D0%B0%D0%BD%D0%BE%D0%B2%D1%81%D0%BA%D0%B0%D1%8F%20%D1%82%D1%80%D0%B0%D0%B5%D0%BA%D1%82%D0%BE%CC%81%D1%80%D0%B8%D1%8F%20%E2%80%94%20%D0%B2%20%D0%BD%D0%B5%D0%B1%D0%B5%D1%81%D0%BD%D0%BE%D0%B9%20%D0%BC%D0%B5%D1%85%D0%B0%D0%BD%D0%B8%D0%BA%D0%B5,%D0%BE%D1%80%D0%B1%D0%B8%D1%82%D1%8B%20%D0%B2%20%D0%B0%D0%BF%D0%BE%D1%86%D0%B5%D0%BD%D1%82%D1%80%D0%B5%20%D0%B8%20%D0%BF%D0%B5%D1%80%D0%B8%D1%86%D0%B5%D0%BD%D1%82%D1%80%D0%B5.\n",
      "https://ru.wikipedia.org/wiki/%D0%A1%D0%BD%D0%B5%D0%B6%D0%B8%D0%BD%D0%B0,%D0%A2%D0%B0%D1%82%D1%8C%D1%8F%D0%BD%D0%B0%D0%92%D0%B0%D0%BB%D0%B5%D1%80%D1%8C%D0%B5%D0%B2%D0%BD%D0%B0#:~:text=%D0%A2%D0%B0%D1%82%D1%8C%D1%8F%CC%81%D0%BD%D0%B0%20%D0%92%D0%B0%D0%BB%D0%B5%CC%81%D1%80%D1%8C%D0%B5%D0%B2%D0%BD%D0%B0%20%D0%A1%D0%BD%D0%B5%CC%81%D0%B6%D0%B8%D0%BD%D0%B0%20(%D0%BD%D0%B0%D1%81%D1%82%D0%BE%D1%8F%D1%89%D0%B0%D1%8F%20%D1%84%D0%B0%D0%BC%D0%B8%D0%BB%D0%B8%D1%8F,200%20%D0%BF%D0%B5%D1%81%D0%B5%D0%BD%20%D0%B8%20%D0%BC%D0%BD%D0%BE%D0%B6%D0%B5%D1%81%D1%82%D0%B2%D0%B0%20%D1%81%D1%82%D0%B8%D1%85%D0%BE%D0%B2.).\n",
      "https://ru.wikipedia.org/wiki/%D0%A0%D0%B0%D1%81%D1%81%D1%82%D1%80%D0%BE%D0%B9%D1%81%D1%82%D0%B2%D0%B0_%D0%BF%D1%80%D0%B8%D1%91%D0%BC%D0%B0_%D0%BF%D0%B8%D1%89%D0%B8#:~:text=%D0%A0%D0%B0%D1%81%D1%81%D1%82%D1%80%D0%BE%CC%81%D0%B9%D1%81%D1%82%D0%B2%D0%B0%20%D0%BF%D1%80%D0%B8%D1%91%D0%BC%D0%B0%20%D0%BF%D0%B8%CC%81%D1%89%D0%B8%20(%D0%B8%D0%BB%D0%B8%20%D1%80%D0%B0%D1%81%D1%81%D1%82%D1%80%D0%BE%CC%81%D0%B9%D1%81%D1%82%D0%B2%D0%B0,%D0%B0%20%D1%82%D0%B0%D0%BA%D0%B6%D0%B5%20%D1%80%D1%8F%D0%B4%20%D0%B4%D1%80%D1%83%D0%B3%D0%B8%D1%85%20%D1%80%D0%B0%D1%81%D1%81%D1%82%D1%80%D0%BE%D0%B9%D1%81%D1%82%D0%B2.)\n",
      "https://en.wikipedia.org/wiki/Seven_Sleepers#Number,_duration_and_names:~:text=Mak%E1%B9%AFimil%C4%ABn%C4%81%20(Maksimil%C4%ABn%C4%81%2C%20Ma%E1%B8%A5simil%C4%ABn%C4%81)%2C%20Marn%C5%AB%C5%A1%20(Mar%E1%B9%AD%C5%ABs)%2C%20Kafa%C5%A1%E1%B9%ADa%E1%B9%ADy%C5%AB%C5%A1%20(Ks%C5%8D%E1%B9%AD%C5%8Dnos)%2C%20Yaml%C4%AB%E1%B8%AB%C4%81%20(Yamn%C4%AB%E1%B8%AB)%2C%20Mi%C5%A1l%C4%ABn%C4%81%2C%20Sa%E1%B8%8Fn%C5%AB%C5%A1%2C%20Dabran%C5%AB%C5%A1%20(B%C4%ABr%C5%8Dnos)%2C%20Sam%C5%8Dnos%2C%20Bu%E1%B9%AD%C5%8Dnos%2C%20Q%C4%81los%20(according%20to%20a%E1%B9%AD%2D%E1%B9%ACabar%C4%AB%20and%20ad%2DDam%C4%ABr%C4%AB)\n",
      "https://en.wikipedia.org/wiki/Great_Surgun#cite_note-FOOTNOTEBournoutian199796By_the_end_of_the_eighteenth_century,_the_Armenian_population_of_the_territory_had_shrunk_considerably._Centuries_of_warfare_and_invasions_combined_with_the_tyranny_of_local_khans_had_forced_the_emigration_of_the_Armenians._It_is_probable_the_until_the_seventeenth_century,_the_Armenians_still_maintained_a_majority_in_Eastern_Armenia,_but_the_forced_relocation_of_some_250,000_Armenians_by_Shah_Abbas_and_the_numerous_exoduses_described_in_this_chapter_had_reduced_the_Armenian_population_considerably.-6\n",
      "https://ru.wikipedia.org/wiki/%D0%97%D0%B0_%D1%80%D0%BE%D0%B4%D0%B8%D0%BD%D1%83_(%D0%BE%D0%BA%D0%BA%D1%83%D0%BF%D0%B0%D1%86%D0%B8%D0%BE%D0%BD%D0%BD%D0%B0%D1%8F_%D0%BD%D0%B5%D0%BC%D0%B5%D1%86%D0%BA%D0%B0%D1%8F_%D0%B3%D0%B0%D0%B7%D0%B5%D1%82%D0%B0)#:~:text=%D0%93%D0%B0%D0%B7%D0%B5%D1%82%D0%B0%20%C2%AB%D0%97%D0%B0%20%D1%80%D0%BE%D0%B4%D0%B8%D0%BD%D1%83%C2%BB%20%E2%80%94%20%D0%BE%D0%B4%D0%BD%D0%BE,%D1%87%D0%B0%D1%81%D1%82%D1%8C%20%D0%B2%D1%80%D0%B5%D0%BC%D0%B5%D0%BD%D0%B8%20%D0%B8%D0%B7%D0%B4%D0%B0%D0%B2%D0%B0%D0%BB%D0%BE%D1%81%D1%8C%20%D0%B2%20%D0%A0%D0%B8%D0%B3%D0%B5.\n",
      "https://ru.wikipedia.org/wiki/%D0%9E%D0%B1%D0%BB%D0%B0%D1%81%D1%82%D1%8C_%D0%92%D0%B5%D1%80%D0%BD%D0%B8%D0%BA%D0%B5?from=article_link#:~:text=%D0%9E%D0%B1%D0%BB%D0%B0%D1%81%D1%82%D1%8C%20%D0%92%D0%B5%CC%81%D1%80%D0%BD%D0%B8%D0%BA%D0%B5%20(%D1%81%D0%B5%D0%BD%D1%81%D0%BE%D1%80%D0%BD%D0%B0%D1%8F%20%D1%80%D0%B5%D1%87%D0%B5%D0%B2%D0%B0%D1%8F%20%D0%B7%D0%BE%D0%BD%D0%B0,%D0%BF%D0%BE%D0%BD%D0%B8%D0%BC%D0%B0%D0%BD%D0%B8%D1%8F%20%D0%BF%D0%B8%D1%81%D1%8C%D0%BC%D0%B5%D0%BD%D0%BD%D0%BE%D0%B9%20%D0%B8%20%D1%83%D1%81%D1%82%D0%BD%D0%BE%D0%B9%20%D1%80%D0%B5%D1%87%D0%B8.)\n",
      "https://en.wikipedia.org/w/index.php?title=Talk%3ABrit%20shalom%20(naming%20ceremony)%202%20changes%20history%20%20%2B148%20%20%5BKlbrain%20(2)%5D17%3A03%20Brit%20shalom%20(naming%20ceremony)%202%20changes%20history%20%20%2B1%2C347%20%20%5BKlbrain%20(2)%5D17%3A02%20Brit%20rechitzah%20diffhist%20%201%2C803%20%20Klbrain%20talk%20contribs%20Merged%20content%20to%20Brit%20shalom%20(naming%20ceremony)%23Brit%20rechitzah%2C%20redirecting%3B%20unopposed%20March%20proposal%20(easy-merge)%20Tag%3A%20New%20redirect17%3A02%20Talk%3ABrit%20rechitzah&action=history\n",
      "https://en.wikipedia.org/w/index.php?title=Talk%3ABrit%20shalom%20(naming%20ceremony)%202%20changes%20history%20%20%2B148%20%20%5BKlbrain%20(2)%5D17%3A03%20Brit%20shalom%20(naming%20ceremony)%202%20changes%20history%20%20%2B1%2C347%20%20%5BKlbrain%20(2)%5D17%3A02%20Brit%20rechitzah%20diffhist%20%201%2C803%20%20Klbrain%20talk%20contribs%20Merged%20content%20to%20Brit%20shalom%20(naming%20ceremony)%23Brit%20rechitzah%2C%20redirecting%3B%20unopposed%20March%20proposal%20(easy-merge)%20Tag%3A%20New%20redirect17%3A02%20Talk%3ABrit%20rechitzah&action=history\n",
      "https://en.wikipedia.org/wiki/en.wikipedia.org/wiki/en.wikipedia.org/wiki/en.wikipedia.org/wiki/en.wikipedia.org/wiki/en.wikipedia.org/wiki/en.wikipedia.org/wiki/en.wikipedia.org/wiki/en.wikipedia.org/wiki/en.wikipedia.org/wiki/en.wikipedia.org/wiki/en.wikipedia.org/wiki/en.wikipedia.org/wiki/en.wikipedia.org/wiki/en.wikipedia.org/wiki/en.wikipedia.org/wiki/en.wikipedia.org/wiki/en.wikipedia.org/wiki/en.wikipedia.org/wiki/en.wikipedia.org/wiki/en.wikipedia.org/wiki/en.wikipedia.org/wiki/en.wikipedia.org/wiki/en.wikipedia.org/wiki/en.wikipedia.org/wiki/\n",
      "https://en.wikipedia.org/w/index.php?title=Circumcision%20and%20HIV%205%20changes%20history%20%2064%20%20%5B67.175.138.219%20(2)%3B%20Prcc27%20(3)%5D20%3A05%20Religious%20male%20circumcision%20diffhist%20%2049%20%20SimLibrarian%20talk%20contribs%20(rm%20resolved%20bare%20URL%20flag%2C%20rm%20close-spaced%20duplicate%20links%2C%20rm%20contractions%2C%20italics%20for%20book%20title%2C%20corrected%20title%20of%20%22Long%20Walk%20to%20Freedom%22%20(should%20not%20include%20%22The%22))%20Tag%3A%20Visual%20edit16%3A09%20Forced%20circumcision&action=history\n",
      "https://en.wikipedia.org/w/index.php?title=Circumcision%20and%20HIV%205%20changes%20history%20%2064%20%20%5B67.175.138.219%20(2)%3B%20Prcc27%20(3)%5D20%3A05%20Religious%20male%20circumcision%20diffhist%20%2049%20%20SimLibrarian%20talk%20contribs%20(rm%20resolved%20bare%20URL%20flag%2C%20rm%20close-spaced%20duplicate%20links%2C%20rm%20contractions%2C%20italics%20for%20book%20title%2C%20corrected%20title%20of%20%22Long%20Walk%20to%20Freedom%22%20(should%20not%20include%20%22The%22))%20Tag%3A%20Visual%20edit16%3A09%20Forced%20circumcision&action=history\n",
      "https://hi.wikipedia.org/wiki/%E0%A4%95%E0%A4%AE%E0%A5%8D%E0%A4%AF%E0%A5%81%E0%A4%A8%E0%A4%BF%E0%A4%B8%E0%A5%8D%E0%A4%9F_%E0%A4%AA%E0%A4%BE%E0%A4%B0%E0%A5%8D%E0%A4%9F%E0%A5%80_%E0%A4%91%E0%A4%AB_%E0%A4%87%E0%A4%82%E0%A4%A1%E0%A4%BF%E0%A4%AF%E0%A4%BE_(%E0%A4%AE%E0%A4%BE%E0%A4%B0%E0%A5%8D%E0%A4%95%E0%A5%8D%E0%A4%B8%E0%A4%B5%E0%A4%BE%E0%A4%A6%E0%A5%80-%E0%A4%B2%E0%A5%87%E0%A4%A8%E0%A4%BF%E0%A4%A8%E0%A4%B5%E0%A4%BE%E0%A4%A6%E0%A5%80;_%E0%A4%AE%E0%A4%B9%E0%A4%BE%E0%A4%A6%E0%A5%87%E0%A4%B5_%E0%A4%AE%E0%A5%81%E0%A4%96%E0%A4%B0%E0%A5%8D%E0%A4%9C%E0%A5%80)\n",
      "https://en.wikipedia.org/w/index.php?title=Circumcision%20controversies%20diffhist%20%20%2B248%20%2077.64.146.44%20talk%20Anti-circumcision%20movement%3A%20%20I%20added%20the%20german%20organization%20%22intaktiv%20e.V.%2219%3A23%20Circumcision%203%20changes%20history%20%20%2B95%20%20%5BTribe%20of%20Tiger%20(3)%5D18%3A16%20Circumcision%20surgical%20procedure%20diffhist%20%20%2B17%20%20Tribe%20of%20Tiger%20talk%20contribs%20top%3A%20%20wikilink%2C%20for%20reader%20convenience07%3A17%20Talk%3AGenital%20modification%20and%20mutilation&action=history\n",
      "https://en.wikipedia.org/w/index.php?title=Circumcision%20controversies%20diffhist%20%20%2B248%20%2077.64.146.44%20talk%20Anti-circumcision%20movement%3A%20%20I%20added%20the%20german%20organization%20%22intaktiv%20e.V.%2219%3A23%20Circumcision%203%20changes%20history%20%20%2B95%20%20%5BTribe%20of%20Tiger%20(3)%5D18%3A16%20Circumcision%20surgical%20procedure%20diffhist%20%20%2B17%20%20Tribe%20of%20Tiger%20talk%20contribs%20top%3A%20%20wikilink%2C%20for%20reader%20convenience07%3A17%20Talk%3AGenital%20modification%20and%20mutilation&action=history\n",
      "https://mr.wikipedia.org/wiki/%E0%A4%B9%E0%A4%A1%E0%A4%B3#:~:text=%E0%A4%B8%E0%A5%8D%E0%A4%A4%E0%A5%8D%E0%A4%B0%E0%A5%80%20%E0%A4%AA%E0%A4%BF%E0%A4%B6%E0%A4%BE%E0%A4%9A%E0%A5%8D%E0%A4%9A%20%E0%A4%AA%E0%A5%8D%E0%A4%B0%E0%A4%95%E0%A4%BE%E0%A4%B0%E0%A4%BE%E0%A4%AE%E0%A4%A7%E0%A5%8D%E0%A4%AF%E0%A5%87%20%E0%A4%B9%E0%A4%A1%E0%A4%B3%20%E0%A4%B9%E0%A5%87,%E0%A4%A6%E0%A4%BF%E0%A4%B8%E0%A5%87%E0%A4%B2%20%E0%A4%A4%E0%A4%B8%E0%A5%87%20%E0%A4%B9%E0%A4%BE%20%E0%A4%AA%E0%A5%8D%E0%A4%B0%E0%A4%95%E0%A4%BE%E0%A4%B0%20%E0%A4%A6%E0%A4%BF%E0%A4%B8%E0%A4%A4%E0%A5%8B.\n",
      "https://en.wikipedia.org/w/index.php?title=Brit%20shalom%20(naming%20ceremony)%2022%20changes%20history%20%20%2B1%2C841%20%20%5BEagleash%3B%20Guarapiranga%20(21)%5D15%3A21%20Circumcision%2013%20changes%20history%20%20%2B1%2C734%20%20%5BKfager1%20(13)%5D06%3A06%20Prevalence%20of%20circumcision%20diffhist%20%20%2B557%20%20KlayCax%20talk%20contribs%20(Created%20an%20%22overview%22%20section%20%2B%20minor%20grammar%20changes%20%2B%20added%20quotation%20from%20Assaf%20et%20al.%20(2012))%20Tag%3A%20Visual%20edit04%3A52%20Tuli%20(rite)&action=history\n",
      "https://en.wikipedia.org/w/index.php?title=Brit%20shalom%20(naming%20ceremony)%2022%20changes%20history%20%20%2B1%2C841%20%20%5BEagleash%3B%20Guarapiranga%20(21)%5D15%3A21%20Circumcision%2013%20changes%20history%20%20%2B1%2C734%20%20%5BKfager1%20(13)%5D06%3A06%20Prevalence%20of%20circumcision%20diffhist%20%20%2B557%20%20KlayCax%20talk%20contribs%20(Created%20an%20%22overview%22%20section%20%2B%20minor%20grammar%20changes%20%2B%20added%20quotation%20from%20Assaf%20et%20al.%20(2012))%20Tag%3A%20Visual%20edit04%3A52%20Tuli%20(rite)&action=history\n",
      "https://en.wikipedia.org/wiki/Hangul#Letters:~:text=Assimilation%3A%20pronunciation%20of%20the%20combination%20between%20a%20preceding%20syllable%20block%27s%20final%20letter%2Dsound%20and%20a%20subsequent%20syllable%20block%27s%20initial%20letter%2Dsound%5Bclarification%20needed%5D%20(e.g.%20%EA%B0%95%EB%A3%A8%20%E2%80%93%20kang%2Bru%20%3D%20kang%2Bnu%5Bclarification%20needed%5D%2C%20%EC%9E%88%EC%96%B4%20%E2%80%93%20it%2Beo%20%3D%20iss%2Beo%2C%20%ED%95%A9%EB%8B%88%EB%8B%A4%20%E2%80%93%20hap%2Bni%2Bda%20%3D%20ham%2Dni%2Dda)\n",
      "https://bn.wikipedia.org/w/index.php?title=%E0%A6%AC%E0%A6%BF%E0%A6%B7%E0%A6%AF%E0%A6%BC%E0%A6%B6%E0%A7%8D%E0%A6%B0%E0%A7%87%E0%A6%A3%E0%A7%80:%E0%A6%AD%E0%A6%BE%E0%A6%B0%E0%A6%A4%E0%A7%80%E0%A6%AF%E0%A6%BC_%E0%A6%9A%E0%A6%B2%E0%A6%9A%E0%A7%8D%E0%A6%9A%E0%A6%BF%E0%A6%A4%E0%A7%8D%E0%A6%B0_%E0%A6%85%E0%A6%AD%E0%A6%BF%E0%A6%A8%E0%A7%87%E0%A6%A4%E0%A7%8D%E0%A6%B0%E0%A7%80&pagefrom=%E0%A6%B0%E0%A6%BF%E0%A6%AE%E0%A6%BF%2C+%E0%A6%B8%E0%A7%87%E0%A6%A8%0A%E0%A6%B0%E0%A6%BF%E0%A6%AE%E0%A6%BF+%E0%A6%B8%E0%A7%87%E0%A6%A8#mw-pages\n",
      "https://ru.wikipedia.org/wiki/%D0%93%D0%B8%D0%B1%D0%B5%D0%BB%D1%8C_%D1%82%D1%83%D1%80%D0%B3%D1%80%D1%83%D0%BF%D0%BF%D1%8B_%D0%94%D1%8F%D1%82%D0%BB%D0%BE%D0%B2%D0%B0#:~:text=%D0%93%D0%B8%CC%81%D0%B1%D0%B5%D0%BB%D1%8C%20%D1%82%D1%83%D1%80%D0%B3%D1%80%D1%83%CC%81%D0%BF%D0%BF%D1%8B%20%D0%94%D1%8F%CC%81%D1%82%D0%BB%D0%BE%D0%B2%D0%B0%20%E2%80%94%20%D0%BF%D1%80%D0%BE%D0%B8%D1%81%D1%88%D0%B5%D1%81%D1%82%D0%B2%D0%B8%D0%B5%20%D0%B2,%D0%B2%20%D0%BD%D0%BE%D1%87%D1%8C%20%D0%BD%D0%B0%202%20%D1%84%D0%B5%D0%B2%D1%80%D0%B0%D0%BB%D1%8F\n",
      "https://en.wikipedia.org/wiki/Third_eye#:~:text=The%20third%20eye%20(also%20called,provides%20perception%20beyond%20ordinary%20sight.)%20(Ik%20the%20%20chakra%20gate%20literally%20translates%20to%203rd%20eye%20chakra%20and%20in%20order%20to%20unlock%20the%20mental%20path%20&%20chi%20it%20needs%20to%20be%20opened%20,but%20for%20the%20sake%20of%20my%20power%20system%20im%20gonna%20say%20it%20doesn%E2%80%99t,%20nore%20do%20any%20of%20the%20other%20chakra%20types%20names%20translate%20to%20what%20they%20actually%20mean).\n",
      "https://he.wikipedia.org/wiki/%D7%A6%D7%95%D7%9E%D7%AA_%D7%9E%D7%97%D7%A0%D7%99%D7%99%D7%9D#:~:text=%D7%A6%D7%95%D7%9E%D7%AA%20%D7%9E%D7%97%D7%A0%D7%99%D7%99%D7%9D%20%D7%94%D7%95%D7%90%20%D7%A6%D7%95%D7%9E%D7%AA%20%D7%9E%D7%A8%D7%9B%D7%96%D7%99%20%D7%94%D7%9E%D7%97%D7%91%D7%A8%20%D7%91%D7%99%D7%9F%20%D7%9B%D7%91%D7%99%D7%A9,%D7%A2%D7%9C%20%D7%A9%D7%9D%20%D7%A7%D7%99%D7%91%D7%95%D7%A5%20%D7%9E%D7%97%D7%A0%D7%99%D7%99%D7%9D%20%D7%90%D7%A9%D7%A8%20%D7%A0%D7%9E%D7%A6%D7%90%20%D7%9E%D7%9E%D7%96%D7%A8%D7%97%20%D7%9C%D7%95.\n",
      "https://en.wikipedia.org/w/index.php?title=Circumcision%20controversies%20diffhist%20%2079%20%20AFreshStart%20talk%20contribs%20(Anti-circumcision%20movement%3A%20%20The%20section%20on%20Brit%20malah%20does%20not%20exist.%20Linking%20this%20to%20%22violence%20against%20men%22%20seems%20very%20POV)%2019%3A20%20Talk%3ACircumcision%208%20changes%20history%20%20%2B3%2C979%20%20%5BPrcc27%3B%20Alexbrn%3B%202600%3A1700%3AD591%3A5F10%3AE1E9%3A9A0A%3AFFCD%3A74AA%3B%20Markworthen%20(5)%5D18%3A09%20Circumcision&action=history\n",
      "https://en.wikipedia.org/w/index.php?title=Circumcision%20controversies%20diffhist%20%2079%20%20AFreshStart%20talk%20contribs%20(Anti-circumcision%20movement%3A%20%20The%20section%20on%20Brit%20malah%20does%20not%20exist.%20Linking%20this%20to%20%22violence%20against%20men%22%20seems%20very%20POV)%2019%3A20%20Talk%3ACircumcision%208%20changes%20history%20%20%2B3%2C979%20%20%5BPrcc27%3B%20Alexbrn%3B%202600%3A1700%3AD591%3A5F10%3AE1E9%3A9A0A%3AFFCD%3A74AA%3B%20Markworthen%20(5)%5D18%3A09%20Circumcision&action=history\n",
      "https://en.wikipedia.org/w/index.php?title=Circumcision%20controversy%20in%20early%20Christianity%20diffhist%20%20%2B31%20%20Dingolover6969%20talk%20contribs%20Mosaic%20Law%20in%20Early%20Christianity%3A%20%20try%20to%20make%20it%20sound%20less%20like%20Alister%20McGrath%20was%20personally%20involved%20in%201st%20century%20Christian%20controversies%20at%20the%20time19%3A18%20Khitan%20(circumcision)%203%20changes%20history%20%2047%20%20%5BEditor2020%20(3)%5D08%3A12%20Ethics%20of%20circumcision&action=history\n",
      "https://en.wikipedia.org/w/index.php?title=Circumcision%20controversy%20in%20early%20Christianity%20diffhist%20%20%2B31%20%20Dingolover6969%20talk%20contribs%20Mosaic%20Law%20in%20Early%20Christianity%3A%20%20try%20to%20make%20it%20sound%20less%20like%20Alister%20McGrath%20was%20personally%20involved%20in%201st%20century%20Christian%20controversies%20at%20the%20time19%3A18%20Khitan%20(circumcision)%203%20changes%20history%20%2047%20%20%5BEditor2020%20(3)%5D08%3A12%20Ethics%20of%20circumcision&action=history\n",
      "https://en.wikipedia.org/w/index.php?title=Circumcision%20diffhist%20%20104%20%20KlayCax%20talk%20contribs%20(Further%20trimmed%20the%20lead.%20I%20also%20removed%20the%20awkward%20(and%20overly%20complicated)%20distinction%20made%20in%20the%20lead%20between%20%22required%22%20and%20%22established%20practice%22%20-%20%20and%20certain%20schools%20of%20Islamic%20thought%20(Madhhab)%20also%20mandate%20the%20practice.%20.)%20Tag%3A%20Visual%20edit%3A%20Switched02%3A36%20Talk%3ACircumcision&action=history\n",
      "https://th.m.wikipedia.org/wiki/%E0%B9%82%E0%B8%9B%E0%B9%80%E0%B8%81%E0%B8%A1%E0%B8%AD%E0%B8%99_%E0%B9%80%E0%B8%94%E0%B8%AD%E0%B8%B0%E0%B8%A1%E0%B8%B9%E0%B8%9F%E0%B8%A7%E0%B8%B5%E0%B9%88_%E0%B8%95%E0%B8%AD%E0%B8%99_%E0%B9%82%E0%B8%A7%E0%B9%80%E0%B8%84%E0%B9%80%E0%B8%99%E0%B8%B5%E0%B8%A2%E0%B8%99_%E0%B8%81%E0%B8%B1%E0%B8%9A%E0%B8%88%E0%B8%B1%E0%B8%81%E0%B8%A3%E0%B8%81%E0%B8%A5%E0%B8%9B%E0%B8%A3%E0%B8%B4%E0%B8%A8%E0%B8%99%E0%B8%B2_%E0%B8%A1%E0%B8%B2%E0%B9%80%E0%B8%81%E0%B8%B5%E0%B8%A2%E0%B8%99%E0%B8%B2\n",
      "https://en.wikipedia.org/w/index.php?title=Circumcision%20diffhist%20%20104%20%20KlayCax%20talk%20contribs%20(Further%20trimmed%20the%20lead.%20I%20also%20removed%20the%20awkward%20(and%20overly%20complicated)%20distinction%20made%20in%20the%20lead%20between%20%22required%22%20and%20%22established%20practice%22%20-%20%20and%20certain%20schools%20of%20Islamic%20thought%20(Madhhab)%20also%20mandate%20the%20practice.%20.)%20Tag%3A%20Visual%20edit%3A%20Switched02%3A36%20Talk%3ACircumcision&action=history\n",
      "https://en.wikipedia.org/w/index.php?title=Circumcision%20diffhist%20%20448%20%20OntologicalTree%20talk%20contribs%20(Partial%20revert%20of%20Stix1776's%20edit.%20However%2C%20I%20restored%20the%20%22lower%20quality%20evidence%22%20wording%20in%20the%20sexual%20effects%20sensation%2C%20as%20he%20has%20expressed%20concerns%20about%20it%20being%20deleted.%20I'm%20recommending%20we%20start%20a%20RfC%20on%20it.)%20Tag%3A%20Visual%20edit08%3A28%20Genital%20modification%20and%20mutilation&action=history\n",
      "https://en.wikipedia.org/w/index.php?title=Circumcision%20diffhist%20%20448%20%20OntologicalTree%20talk%20contribs%20(Partial%20revert%20of%20Stix1776's%20edit.%20However%2C%20I%20restored%20the%20%22lower%20quality%20evidence%22%20wording%20in%20the%20sexual%20effects%20sensation%2C%20as%20he%20has%20expressed%20concerns%20about%20it%20being%20deleted.%20I'm%20recommending%20we%20start%20a%20RfC%20on%20it.)%20Tag%3A%20Visual%20edit08%3A28%20Genital%20modification%20and%20mutilation&action=history\n",
      "https://en.wikipedia.org/wiki/Russian_All-National_Union%20https://en.wikipedia.org/wiki/Eurasian_Youth_Union%20https://en.wikipedia.org/wiki/Format18%20https://en.wikipedia.org/wiki/Male_State%20https://en.wikipedia.org/wiki/Nation_and_Freedom_Committee%20https://en.wikipedia.org/wiki/Popular_Resistance_Association%20https://en.wikipedia.org/wiki/Alexander_Prokhanov%20https://en.wikipedia.org/wiki/Union_of_the_Russian_People_(2005)%20https://en.wikipedia.org/wiki/Union_of_Orthodox_Banner-Bearers\n"
     ]
    }
   ],
   "source": [
    "# confirm only link info is included\n",
    "\n",
    "for i in bodylinks.loc[bodylinks['extracted_url'].str.len().nlargest(50).index, 'extracted_url']:\n",
    "    print(i)"
   ]
  },
  {
   "cell_type": "code",
   "execution_count": 4,
   "metadata": {},
   "outputs": [],
   "source": [
    "comments = pd.concat([pd.read_hdf(f'data/comments_{x}.h5') for x in range(1,5)]).reset_index(drop=True)"
   ]
  },
  {
   "cell_type": "code",
   "execution_count": null,
   "metadata": {},
   "outputs": [
    {
     "name": "stdout",
     "output_type": "stream",
     "text": [
      "Batch 1 102643\n",
      "Batch 2 102643\n",
      "Batch 3 102643\n",
      "Batch 4 102643\n",
      "Batch 5 102643\n",
      "Batch 6 102643\n",
      "Batch 7 102643\n",
      "Batch 8 102643\n",
      "Batch 9 102643\n",
      "Batch 10 102643\n",
      "Batch 11 102643\n",
      "Batch 12 102643\n",
      "Batch 13 102643\n",
      "Batch 14 102643\n",
      "Batch 15 102643\n",
      "Batch 16 102643\n",
      "Batch 17 102643\n",
      "Batch 18 102643\n",
      "Batch 19 102643\n",
      "Batch 20 102643\n",
      "Batch 21 102643\n",
      "Batch 22 102643\n",
      "Batch 23 102643\n",
      "Batch 24 102643\n",
      "Batch 25 102643\n",
      "'No object named /batch_25 in the file'\n",
      "Invalid IPv6 URL\n",
      "\n",
      "label empty or too long\n",
      "Cannot connect to host en.www.wikipedia.org:443 ssl:default [Name or service not known]\n",
      "Cannot connect to host www.en.wikipedia.org:443 ssl:default [Name or service not known]\n",
      "\n",
      "\n",
      "Cannot connect to host www.en.wikipedia.org:443 ssl:default [Name or service not known]\n",
      "Cannot connect to host www.en.wikipedia.org:443 ssl:default [Name or service not known]\n",
      "Cannot connect to host en.www.wikipedia.org:443 ssl:default [Name or service not known]\n",
      "Cannot connect to host en.www.wikipedia.org:443 ssl:default [Name or service not known]\n",
      "label empty or too long\n",
      "label empty or too long\n",
      "label empty or too long\n",
      "label empty or too long\n",
      "Cannot connect to host en.www.wikipedia.org:443 ssl:default [Name or service not known]\n",
      "Cannot connect to host www.en.wikipedia.org:443 ssl:default [Name or service not known]\n",
      "Cannot connect to host www.en.wikipedia.org:443 ssl:default [Name or service not known]\n",
      "Cannot connect to host www.en.wikipedia.org:443 ssl:default [Name or service not known]\n",
      "Cannot connect to host www.en.wikipedia.org:443 ssl:default [Name or service not known]\n",
      "Cannot connect to host en.www.wikipedia.org:443 ssl:default [Name or service not known]\n",
      "Cannot connect to host en.www.wikipedia.org:443 ssl:default [Name or service not known]\n",
      "Cannot connect to host en.www.wikipedia.org:443 ssl:default [Name or service not known]\n",
      "label empty or too long\n",
      "label empty or too long\n",
      "label empty or too long\n"
     ]
    },
    {
     "name": "stderr",
     "output_type": "stream",
     "text": [
      "/tmp/ipykernel_996941/2514332107.py:308: FutureWarning: Downcasting object dtype arrays on .fillna, .ffill, .bfill is deprecated and will change in a future version. Call result.infer_objects(copy=False) instead. To opt-in to the future behavior, set `pd.set_option('future.no_silent_downcasting', True)`\n",
      "  links_df['valid_2'].fillna(\n",
      "/tmp/ipykernel_996941/2514332107.py:307: FutureWarning: Downcasting object dtype arrays on .fillna, .ffill, .bfill is deprecated and will change in a future version. Call result.infer_objects(copy=False) instead. To opt-in to the future behavior, set `pd.set_option('future.no_silent_downcasting', True)`\n",
      "  links_df['end_processed_valid'] = links_df['valid_3'].fillna(\n"
     ]
    },
    {
     "name": "stdout",
     "output_type": "stream",
     "text": [
      "429 errors: 2665. Retrying after 1 seconds...\n"
     ]
    },
    {
     "name": "stderr",
     "output_type": "stream",
     "text": [
      "/tmp/ipykernel_996941/2514332107.py:308: FutureWarning: Downcasting object dtype arrays on .fillna, .ffill, .bfill is deprecated and will change in a future version. Call result.infer_objects(copy=False) instead. To opt-in to the future behavior, set `pd.set_option('future.no_silent_downcasting', True)`\n",
      "  links_df['valid_2'].fillna(\n",
      "/tmp/ipykernel_996941/2514332107.py:307: FutureWarning: Downcasting object dtype arrays on .fillna, .ffill, .bfill is deprecated and will change in a future version. Call result.infer_objects(copy=False) instead. To opt-in to the future behavior, set `pd.set_option('future.no_silent_downcasting', True)`\n",
      "  links_df['end_processed_valid'] = links_df['valid_3'].fillna(\n"
     ]
    },
    {
     "name": "stdout",
     "output_type": "stream",
     "text": [
      "429 errors: 184. Retrying after 3 seconds...\n"
     ]
    },
    {
     "name": "stderr",
     "output_type": "stream",
     "text": [
      "/tmp/ipykernel_996941/2514332107.py:308: FutureWarning: Downcasting object dtype arrays on .fillna, .ffill, .bfill is deprecated and will change in a future version. Call result.infer_objects(copy=False) instead. To opt-in to the future behavior, set `pd.set_option('future.no_silent_downcasting', True)`\n",
      "  links_df['valid_2'].fillna(\n",
      "/tmp/ipykernel_996941/2514332107.py:307: FutureWarning: Downcasting object dtype arrays on .fillna, .ffill, .bfill is deprecated and will change in a future version. Call result.infer_objects(copy=False) instead. To opt-in to the future behavior, set `pd.set_option('future.no_silent_downcasting', True)`\n",
      "  links_df['end_processed_valid'] = links_df['valid_3'].fillna(\n",
      "/tmp/ipykernel_996941/2514332107.py:380: FutureWarning: Downcasting object dtype arrays on .fillna, .ffill, .bfill is deprecated and will change in a future version. Call result.infer_objects(copy=False) instead. To opt-in to the future behavior, set `pd.set_option('future.no_silent_downcasting', True)`\n",
      "  links_df['final_valid'] = links_df['valid_rd'].fillna(links_df['end_processed_valid'])\n"
     ]
    },
    {
     "name": "stdout",
     "output_type": "stream",
     "text": [
      "Saving cache. Total size:  1416190\n"
     ]
    },
    {
     "name": "stderr",
     "output_type": "stream",
     "text": [
      "/tmp/ipykernel_996941/2514332107.py:380: FutureWarning: Downcasting object dtype arrays on .fillna, .ffill, .bfill is deprecated and will change in a future version. Call result.infer_objects(copy=False) instead. To opt-in to the future behavior, set `pd.set_option('future.no_silent_downcasting', True)`\n",
      "  links_df['final_valid'] = links_df['valid_rd'].fillna(links_df['end_processed_valid'])\n"
     ]
    },
    {
     "name": "stdout",
     "output_type": "stream",
     "text": [
      "Saving cache. Total size:  1416190\n"
     ]
    },
    {
     "name": "stderr",
     "output_type": "stream",
     "text": [
      "/tmp/ipykernel_996941/2514332107.py:380: FutureWarning: Downcasting object dtype arrays on .fillna, .ffill, .bfill is deprecated and will change in a future version. Call result.infer_objects(copy=False) instead. To opt-in to the future behavior, set `pd.set_option('future.no_silent_downcasting', True)`\n",
      "  links_df['final_valid'] = links_df['valid_rd'].fillna(links_df['end_processed_valid'])\n"
     ]
    },
    {
     "name": "stdout",
     "output_type": "stream",
     "text": [
      "Saving cache. Total size:  1416190\n",
      "saving\n",
      "Batch 26 102643\n",
      "'No object named /batch_26 in the file'\n"
     ]
    },
    {
     "name": "stderr",
     "output_type": "stream",
     "text": [
      "/tmp/ipykernel_996941/3146937327.py:27: PerformanceWarning: \n",
      "your performance may suffer as PyTables will pickle object types that it cannot\n",
      "map directly to c-types [inferred_type->mixed,key->block0_values] [items->Index(['id', 'extracted_url', 'processed_url_1', 'reextracted_url', 'valid_2',\n",
      "       'processed_url_2', 'valid_3', 'processed_url_3', 'end_processed_url',\n",
      "       'valid_rd', 'redirected_url', 'final_url'],\n",
      "      dtype='object')]\n",
      "\n",
      "  links_df[outcols].to_hdf(f'data/commentlinks_batches.h5', key=f'/batch_{batch//size + 1}', mode='a')\n"
     ]
    },
    {
     "name": "stdout",
     "output_type": "stream",
     "text": [
      "\n",
      "\n",
      "\n",
      "\n",
      "Cannot connect to host ww.wikipedia.org:443 ssl:default [Name or service not known]\n",
      "Cannot connect to host www.en.wikipedia.org:443 ssl:default [Name or service not known]\n",
      "label empty or too long\n",
      "label empty or too long\n",
      "\n",
      "\n",
      "\n",
      "Cannot connect to host ww.wikipedia.org:443 ssl:default [Name or service not known]\n",
      "\n",
      "Cannot connect to host www.en.wikipedia.org:443 ssl:default [Name or service not known]\n",
      "label empty or too long\n",
      "label empty or too long\n",
      "label empty or too long\n",
      "label empty or too long\n"
     ]
    },
    {
     "name": "stderr",
     "output_type": "stream",
     "text": [
      "/tmp/ipykernel_996941/2514332107.py:308: FutureWarning: Downcasting object dtype arrays on .fillna, .ffill, .bfill is deprecated and will change in a future version. Call result.infer_objects(copy=False) instead. To opt-in to the future behavior, set `pd.set_option('future.no_silent_downcasting', True)`\n",
      "  links_df['valid_2'].fillna(\n",
      "/tmp/ipykernel_996941/2514332107.py:307: FutureWarning: Downcasting object dtype arrays on .fillna, .ffill, .bfill is deprecated and will change in a future version. Call result.infer_objects(copy=False) instead. To opt-in to the future behavior, set `pd.set_option('future.no_silent_downcasting', True)`\n",
      "  links_df['end_processed_valid'] = links_df['valid_3'].fillna(\n"
     ]
    },
    {
     "name": "stdout",
     "output_type": "stream",
     "text": [
      "429 errors: 2908. Retrying after 1 seconds...\n"
     ]
    },
    {
     "name": "stderr",
     "output_type": "stream",
     "text": [
      "/tmp/ipykernel_996941/2514332107.py:308: FutureWarning: Downcasting object dtype arrays on .fillna, .ffill, .bfill is deprecated and will change in a future version. Call result.infer_objects(copy=False) instead. To opt-in to the future behavior, set `pd.set_option('future.no_silent_downcasting', True)`\n",
      "  links_df['valid_2'].fillna(\n",
      "/tmp/ipykernel_996941/2514332107.py:307: FutureWarning: Downcasting object dtype arrays on .fillna, .ffill, .bfill is deprecated and will change in a future version. Call result.infer_objects(copy=False) instead. To opt-in to the future behavior, set `pd.set_option('future.no_silent_downcasting', True)`\n",
      "  links_df['end_processed_valid'] = links_df['valid_3'].fillna(\n"
     ]
    },
    {
     "name": "stdout",
     "output_type": "stream",
     "text": [
      "429 errors: 104. Retrying after 3 seconds...\n"
     ]
    },
    {
     "name": "stderr",
     "output_type": "stream",
     "text": [
      "/tmp/ipykernel_996941/2514332107.py:308: FutureWarning: Downcasting object dtype arrays on .fillna, .ffill, .bfill is deprecated and will change in a future version. Call result.infer_objects(copy=False) instead. To opt-in to the future behavior, set `pd.set_option('future.no_silent_downcasting', True)`\n",
      "  links_df['valid_2'].fillna(\n",
      "/tmp/ipykernel_996941/2514332107.py:307: FutureWarning: Downcasting object dtype arrays on .fillna, .ffill, .bfill is deprecated and will change in a future version. Call result.infer_objects(copy=False) instead. To opt-in to the future behavior, set `pd.set_option('future.no_silent_downcasting', True)`\n",
      "  links_df['end_processed_valid'] = links_df['valid_3'].fillna(\n",
      "/tmp/ipykernel_996941/2514332107.py:380: FutureWarning: Downcasting object dtype arrays on .fillna, .ffill, .bfill is deprecated and will change in a future version. Call result.infer_objects(copy=False) instead. To opt-in to the future behavior, set `pd.set_option('future.no_silent_downcasting', True)`\n",
      "  links_df['final_valid'] = links_df['valid_rd'].fillna(links_df['end_processed_valid'])\n"
     ]
    },
    {
     "name": "stdout",
     "output_type": "stream",
     "text": [
      "Saving cache. Total size:  1451645\n"
     ]
    },
    {
     "name": "stderr",
     "output_type": "stream",
     "text": [
      "/tmp/ipykernel_996941/2514332107.py:380: FutureWarning: Downcasting object dtype arrays on .fillna, .ffill, .bfill is deprecated and will change in a future version. Call result.infer_objects(copy=False) instead. To opt-in to the future behavior, set `pd.set_option('future.no_silent_downcasting', True)`\n",
      "  links_df['final_valid'] = links_df['valid_rd'].fillna(links_df['end_processed_valid'])\n"
     ]
    },
    {
     "name": "stdout",
     "output_type": "stream",
     "text": [
      "Saving cache. Total size:  1451645\n"
     ]
    },
    {
     "name": "stderr",
     "output_type": "stream",
     "text": [
      "/tmp/ipykernel_996941/2514332107.py:380: FutureWarning: Downcasting object dtype arrays on .fillna, .ffill, .bfill is deprecated and will change in a future version. Call result.infer_objects(copy=False) instead. To opt-in to the future behavior, set `pd.set_option('future.no_silent_downcasting', True)`\n",
      "  links_df['final_valid'] = links_df['valid_rd'].fillna(links_df['end_processed_valid'])\n"
     ]
    },
    {
     "name": "stdout",
     "output_type": "stream",
     "text": [
      "Saving cache. Total size:  1451645\n",
      "saving\n",
      "Batch 27 102643\n",
      "'No object named /batch_27 in the file'\n"
     ]
    },
    {
     "name": "stderr",
     "output_type": "stream",
     "text": [
      "/tmp/ipykernel_996941/3146937327.py:27: PerformanceWarning: \n",
      "your performance may suffer as PyTables will pickle object types that it cannot\n",
      "map directly to c-types [inferred_type->mixed,key->block0_values] [items->Index(['id', 'extracted_url', 'processed_url_1', 'reextracted_url', 'valid_2',\n",
      "       'processed_url_2', 'valid_3', 'processed_url_3', 'end_processed_url',\n",
      "       'valid_rd', 'redirected_url', 'final_url'],\n",
      "      dtype='object')]\n",
      "\n",
      "  links_df[outcols].to_hdf(f'data/commentlinks_batches.h5', key=f'/batch_{batch//size + 1}', mode='a')\n"
     ]
    },
    {
     "name": "stdout",
     "output_type": "stream",
     "text": [
      "'Paddy Cap' does not appear to be an IPv4 or IPv6 address\n",
      "Cannot connect to host www.en.wikipedia.org:443 ssl:default [Name or service not known]\n",
      "Cannot connect to host en.www.wikipedia.org:443 ssl:default [Name or service not known]\n",
      "Cannot connect to host em.wikipedia.org:443 ssl:default [Name or service not known]\n",
      "\n",
      "label empty or too long\n",
      "\n",
      "Cannot connect to host imageen.m.wikipedia.org:443 ssl:default [Name or service not known]\n",
      "\n",
      "Cannot connect to host www.en.wikipedia.org:443 ssl:default [Name or service not known]\n",
      "\n",
      "Cannot connect to host www.en.wikipedia.org:443 ssl:default [Name or service not known]\n",
      "Cannot connect to host en.www.wikipedia.org:443 ssl:default [Name or service not known]\n",
      "\n",
      "Cannot connect to host em.wikipedia.org:443 ssl:default [Name or service not known]\n",
      "Cannot connect to host em.wikipedia.org:443 ssl:default [Name or service not known]\n",
      "Cannot connect to host em.wikipedia.org:443 ssl:default [Name or service not known]\n",
      "label empty or too long\n",
      "label empty or too long\n",
      "label empty or too long\n",
      "Cannot connect to host imageen.m.wikipedia.org:443 ssl:default [Name or service not known]\n",
      "Cannot connect to host imageen.m.wikipedia.:443 ssl:default [Name or service not known]\n",
      "Cannot connect to host imageen.m.wikipedia:443 ssl:default [Name or service not known]\n",
      "Cannot connect to host www.en.wikipedia.org:443 ssl:default [Name or service not known]\n",
      "Cannot connect to host www.en.wikipedia.org:443 ssl:default [Name or service not known]\n",
      "Cannot connect to host www.en.wikipedia.org:443 ssl:default [Name or service not known]\n"
     ]
    },
    {
     "name": "stderr",
     "output_type": "stream",
     "text": [
      "/tmp/ipykernel_996941/2514332107.py:308: FutureWarning: Downcasting object dtype arrays on .fillna, .ffill, .bfill is deprecated and will change in a future version. Call result.infer_objects(copy=False) instead. To opt-in to the future behavior, set `pd.set_option('future.no_silent_downcasting', True)`\n",
      "  links_df['valid_2'].fillna(\n",
      "/tmp/ipykernel_996941/2514332107.py:307: FutureWarning: Downcasting object dtype arrays on .fillna, .ffill, .bfill is deprecated and will change in a future version. Call result.infer_objects(copy=False) instead. To opt-in to the future behavior, set `pd.set_option('future.no_silent_downcasting', True)`\n",
      "  links_df['end_processed_valid'] = links_df['valid_3'].fillna(\n"
     ]
    },
    {
     "name": "stdout",
     "output_type": "stream",
     "text": [
      "\n",
      "\n",
      "\n",
      "\n",
      "429 errors: 2688. Retrying after 1 seconds...\n"
     ]
    },
    {
     "name": "stderr",
     "output_type": "stream",
     "text": [
      "/tmp/ipykernel_996941/2514332107.py:308: FutureWarning: Downcasting object dtype arrays on .fillna, .ffill, .bfill is deprecated and will change in a future version. Call result.infer_objects(copy=False) instead. To opt-in to the future behavior, set `pd.set_option('future.no_silent_downcasting', True)`\n",
      "  links_df['valid_2'].fillna(\n",
      "/tmp/ipykernel_996941/2514332107.py:307: FutureWarning: Downcasting object dtype arrays on .fillna, .ffill, .bfill is deprecated and will change in a future version. Call result.infer_objects(copy=False) instead. To opt-in to the future behavior, set `pd.set_option('future.no_silent_downcasting', True)`\n",
      "  links_df['end_processed_valid'] = links_df['valid_3'].fillna(\n"
     ]
    },
    {
     "name": "stdout",
     "output_type": "stream",
     "text": [
      "\n",
      "429 errors: 111. Retrying after 3 seconds...\n"
     ]
    },
    {
     "name": "stderr",
     "output_type": "stream",
     "text": [
      "/tmp/ipykernel_996941/2514332107.py:308: FutureWarning: Downcasting object dtype arrays on .fillna, .ffill, .bfill is deprecated and will change in a future version. Call result.infer_objects(copy=False) instead. To opt-in to the future behavior, set `pd.set_option('future.no_silent_downcasting', True)`\n",
      "  links_df['valid_2'].fillna(\n",
      "/tmp/ipykernel_996941/2514332107.py:307: FutureWarning: Downcasting object dtype arrays on .fillna, .ffill, .bfill is deprecated and will change in a future version. Call result.infer_objects(copy=False) instead. To opt-in to the future behavior, set `pd.set_option('future.no_silent_downcasting', True)`\n",
      "  links_df['end_processed_valid'] = links_df['valid_3'].fillna(\n"
     ]
    },
    {
     "name": "stdout",
     "output_type": "stream",
     "text": [
      "429 errors: 32. Retrying after 9 seconds...\n"
     ]
    },
    {
     "name": "stderr",
     "output_type": "stream",
     "text": [
      "/tmp/ipykernel_996941/2514332107.py:308: FutureWarning: Downcasting object dtype arrays on .fillna, .ffill, .bfill is deprecated and will change in a future version. Call result.infer_objects(copy=False) instead. To opt-in to the future behavior, set `pd.set_option('future.no_silent_downcasting', True)`\n",
      "  links_df['valid_2'].fillna(\n",
      "/tmp/ipykernel_996941/2514332107.py:307: FutureWarning: Downcasting object dtype arrays on .fillna, .ffill, .bfill is deprecated and will change in a future version. Call result.infer_objects(copy=False) instead. To opt-in to the future behavior, set `pd.set_option('future.no_silent_downcasting', True)`\n",
      "  links_df['end_processed_valid'] = links_df['valid_3'].fillna(\n",
      "/tmp/ipykernel_996941/2514332107.py:314: FutureWarning: Downcasting object dtype arrays on .fillna, .ffill, .bfill is deprecated and will change in a future version. Call result.infer_objects(copy=False) instead. To opt-in to the future behavior, set `pd.set_option('future.no_silent_downcasting', True)`\n",
      "  links_df['status_2'].fillna(\n",
      "/tmp/ipykernel_996941/2514332107.py:313: FutureWarning: Downcasting object dtype arrays on .fillna, .ffill, .bfill is deprecated and will change in a future version. Call result.infer_objects(copy=False) instead. To opt-in to the future behavior, set `pd.set_option('future.no_silent_downcasting', True)`\n",
      "  links_df['end_processed_status'] = links_df['status_3'].fillna(\n"
     ]
    },
    {
     "name": "stdout",
     "output_type": "stream",
     "text": [
      "Saving cache. Total size:  1483090\n"
     ]
    },
    {
     "name": "stderr",
     "output_type": "stream",
     "text": [
      "/tmp/ipykernel_996941/2514332107.py:359: FutureWarning: The behavior of DataFrame concatenation with empty or all-NA entries is deprecated. In a future version, this will no longer exclude empty or all-NA columns when determining the result dtypes. To retain the old behavior, exclude the relevant entries before the concat operation.\n",
      "  links_df = pd.concat([links_df, new_links]).drop_duplicates()\n",
      "/tmp/ipykernel_996941/2514332107.py:380: FutureWarning: Downcasting object dtype arrays on .fillna, .ffill, .bfill is deprecated and will change in a future version. Call result.infer_objects(copy=False) instead. To opt-in to the future behavior, set `pd.set_option('future.no_silent_downcasting', True)`\n",
      "  links_df['final_valid'] = links_df['valid_rd'].fillna(links_df['end_processed_valid'])\n"
     ]
    },
    {
     "name": "stdout",
     "output_type": "stream",
     "text": [
      "Saving cache. Total size:  1483090\n"
     ]
    },
    {
     "name": "stderr",
     "output_type": "stream",
     "text": [
      "/tmp/ipykernel_996941/2514332107.py:380: FutureWarning: Downcasting object dtype arrays on .fillna, .ffill, .bfill is deprecated and will change in a future version. Call result.infer_objects(copy=False) instead. To opt-in to the future behavior, set `pd.set_option('future.no_silent_downcasting', True)`\n",
      "  links_df['final_valid'] = links_df['valid_rd'].fillna(links_df['end_processed_valid'])\n"
     ]
    },
    {
     "name": "stdout",
     "output_type": "stream",
     "text": [
      "Saving cache. Total size:  1483090\n"
     ]
    },
    {
     "name": "stderr",
     "output_type": "stream",
     "text": [
      "/tmp/ipykernel_996941/2514332107.py:380: FutureWarning: Downcasting object dtype arrays on .fillna, .ffill, .bfill is deprecated and will change in a future version. Call result.infer_objects(copy=False) instead. To opt-in to the future behavior, set `pd.set_option('future.no_silent_downcasting', True)`\n",
      "  links_df['final_valid'] = links_df['valid_rd'].fillna(links_df['end_processed_valid'])\n"
     ]
    },
    {
     "name": "stdout",
     "output_type": "stream",
     "text": [
      "Saving cache. Total size:  1483090\n",
      "saving\n",
      "Batch 28 102643\n",
      "'No object named /batch_28 in the file'\n"
     ]
    },
    {
     "name": "stderr",
     "output_type": "stream",
     "text": [
      "/tmp/ipykernel_996941/3146937327.py:27: PerformanceWarning: \n",
      "your performance may suffer as PyTables will pickle object types that it cannot\n",
      "map directly to c-types [inferred_type->mixed,key->block0_values] [items->Index(['id', 'extracted_url', 'processed_url_1', 'reextracted_url', 'valid_2',\n",
      "       'processed_url_2', 'valid_3', 'processed_url_3', 'end_processed_url',\n",
      "       'valid_rd', 'redirected_url', 'final_url'],\n",
      "      dtype='object')]\n",
      "\n",
      "  links_df[outcols].to_hdf(f'data/commentlinks_batches.h5', key=f'/batch_{batch//size + 1}', mode='a')\n"
     ]
    },
    {
     "name": "stdout",
     "output_type": "stream",
     "text": [
      "\n",
      "Cannot connect to host e.wikipedia.org:443 ssl:default [Name or service not known]\n",
      "Cannot connect to host diafr.wikipedia.org:443 ssl:default [Name or service not known]\n",
      "label empty or too long\n",
      "Cannot connect to host n.wikipedia.org:443 ssl:default [Name or service not known]\n",
      "\n",
      "\n",
      "Cannot connect to host en.www.wikipedia.org:443 ssl:default [Name or service not known]\n",
      "Cannot connect to host n.wikipedia.org:443 ssl:default [Name or service not known]\n",
      "Cannot connect to host e.wikipedia.org:443 ssl:default [Name or service not known]\n",
      "Cannot connect to host e.wikipedia.:443 ssl:default [Name or service not known]\n",
      "Cannot connect to host e.wikipedia:443 ssl:default [Name or service not known]\n",
      "Cannot connect to host diafr.wikipedia.org:443 ssl:default [Name or service not known]\n",
      "Cannot connect to host diafr.wikipedia.:443 ssl:default [Name or service not known]\n",
      "Cannot connect to host diafr.wikipedia:443 ssl:default [Name or service not known]\n",
      "label empty or too long\n",
      "Cannot connect to host n.wikipedia.org:443 ssl:default [Name or service not known]\n",
      "Cannot connect to host en.www.wikipedia.org:443 ssl:default [Name or service not known]\n",
      "Cannot connect to host n.wikipedia.org:443 ssl:default [Name or service not known]\n",
      "Cannot connect to host n.wikipedia.org:443 ssl:default [Name or service not known]\n",
      "Cannot connect to host n.wikipedia.org:443 ssl:default [Name or service not known]\n"
     ]
    },
    {
     "name": "stderr",
     "output_type": "stream",
     "text": [
      "/tmp/ipykernel_996941/2514332107.py:308: FutureWarning: Downcasting object dtype arrays on .fillna, .ffill, .bfill is deprecated and will change in a future version. Call result.infer_objects(copy=False) instead. To opt-in to the future behavior, set `pd.set_option('future.no_silent_downcasting', True)`\n",
      "  links_df['valid_2'].fillna(\n",
      "/tmp/ipykernel_996941/2514332107.py:307: FutureWarning: Downcasting object dtype arrays on .fillna, .ffill, .bfill is deprecated and will change in a future version. Call result.infer_objects(copy=False) instead. To opt-in to the future behavior, set `pd.set_option('future.no_silent_downcasting', True)`\n",
      "  links_df['end_processed_valid'] = links_df['valid_3'].fillna(\n"
     ]
    },
    {
     "name": "stdout",
     "output_type": "stream",
     "text": [
      "\n",
      "\n",
      "\n",
      "429 errors: 2512. Retrying after 1 seconds...\n"
     ]
    },
    {
     "name": "stderr",
     "output_type": "stream",
     "text": [
      "/tmp/ipykernel_996941/2514332107.py:308: FutureWarning: Downcasting object dtype arrays on .fillna, .ffill, .bfill is deprecated and will change in a future version. Call result.infer_objects(copy=False) instead. To opt-in to the future behavior, set `pd.set_option('future.no_silent_downcasting', True)`\n",
      "  links_df['valid_2'].fillna(\n",
      "/tmp/ipykernel_996941/2514332107.py:307: FutureWarning: Downcasting object dtype arrays on .fillna, .ffill, .bfill is deprecated and will change in a future version. Call result.infer_objects(copy=False) instead. To opt-in to the future behavior, set `pd.set_option('future.no_silent_downcasting', True)`\n",
      "  links_df['end_processed_valid'] = links_df['valid_3'].fillna(\n"
     ]
    },
    {
     "name": "stdout",
     "output_type": "stream",
     "text": [
      "\n",
      "\n",
      "429 errors: 101. Retrying after 3 seconds...\n"
     ]
    },
    {
     "name": "stderr",
     "output_type": "stream",
     "text": [
      "/tmp/ipykernel_996941/2514332107.py:308: FutureWarning: Downcasting object dtype arrays on .fillna, .ffill, .bfill is deprecated and will change in a future version. Call result.infer_objects(copy=False) instead. To opt-in to the future behavior, set `pd.set_option('future.no_silent_downcasting', True)`\n",
      "  links_df['valid_2'].fillna(\n",
      "/tmp/ipykernel_996941/2514332107.py:307: FutureWarning: Downcasting object dtype arrays on .fillna, .ffill, .bfill is deprecated and will change in a future version. Call result.infer_objects(copy=False) instead. To opt-in to the future behavior, set `pd.set_option('future.no_silent_downcasting', True)`\n",
      "  links_df['end_processed_valid'] = links_df['valid_3'].fillna(\n"
     ]
    },
    {
     "name": "stdout",
     "output_type": "stream",
     "text": [
      "429 errors: 23. Retrying after 9 seconds...\n"
     ]
    },
    {
     "name": "stderr",
     "output_type": "stream",
     "text": [
      "/tmp/ipykernel_996941/2514332107.py:308: FutureWarning: Downcasting object dtype arrays on .fillna, .ffill, .bfill is deprecated and will change in a future version. Call result.infer_objects(copy=False) instead. To opt-in to the future behavior, set `pd.set_option('future.no_silent_downcasting', True)`\n",
      "  links_df['valid_2'].fillna(\n",
      "/tmp/ipykernel_996941/2514332107.py:307: FutureWarning: Downcasting object dtype arrays on .fillna, .ffill, .bfill is deprecated and will change in a future version. Call result.infer_objects(copy=False) instead. To opt-in to the future behavior, set `pd.set_option('future.no_silent_downcasting', True)`\n",
      "  links_df['end_processed_valid'] = links_df['valid_3'].fillna(\n",
      "/tmp/ipykernel_996941/2514332107.py:380: FutureWarning: Downcasting object dtype arrays on .fillna, .ffill, .bfill is deprecated and will change in a future version. Call result.infer_objects(copy=False) instead. To opt-in to the future behavior, set `pd.set_option('future.no_silent_downcasting', True)`\n",
      "  links_df['final_valid'] = links_df['valid_rd'].fillna(links_df['end_processed_valid'])\n"
     ]
    },
    {
     "name": "stdout",
     "output_type": "stream",
     "text": [
      "Saving cache. Total size:  1516321\n"
     ]
    },
    {
     "name": "stderr",
     "output_type": "stream",
     "text": [
      "/tmp/ipykernel_996941/2514332107.py:380: FutureWarning: Downcasting object dtype arrays on .fillna, .ffill, .bfill is deprecated and will change in a future version. Call result.infer_objects(copy=False) instead. To opt-in to the future behavior, set `pd.set_option('future.no_silent_downcasting', True)`\n",
      "  links_df['final_valid'] = links_df['valid_rd'].fillna(links_df['end_processed_valid'])\n"
     ]
    },
    {
     "name": "stdout",
     "output_type": "stream",
     "text": [
      "Saving cache. Total size:  1516321\n"
     ]
    },
    {
     "name": "stderr",
     "output_type": "stream",
     "text": [
      "/tmp/ipykernel_996941/2514332107.py:380: FutureWarning: Downcasting object dtype arrays on .fillna, .ffill, .bfill is deprecated and will change in a future version. Call result.infer_objects(copy=False) instead. To opt-in to the future behavior, set `pd.set_option('future.no_silent_downcasting', True)`\n",
      "  links_df['final_valid'] = links_df['valid_rd'].fillna(links_df['end_processed_valid'])\n"
     ]
    },
    {
     "name": "stdout",
     "output_type": "stream",
     "text": [
      "Saving cache. Total size:  1516321\n"
     ]
    },
    {
     "name": "stderr",
     "output_type": "stream",
     "text": [
      "/tmp/ipykernel_996941/2514332107.py:380: FutureWarning: Downcasting object dtype arrays on .fillna, .ffill, .bfill is deprecated and will change in a future version. Call result.infer_objects(copy=False) instead. To opt-in to the future behavior, set `pd.set_option('future.no_silent_downcasting', True)`\n",
      "  links_df['final_valid'] = links_df['valid_rd'].fillna(links_df['end_processed_valid'])\n"
     ]
    },
    {
     "name": "stdout",
     "output_type": "stream",
     "text": [
      "Saving cache. Total size:  1516321\n",
      "saving\n",
      "Batch 29 102643\n",
      "'No object named /batch_29 in the file'\n"
     ]
    },
    {
     "name": "stderr",
     "output_type": "stream",
     "text": [
      "/tmp/ipykernel_996941/3146937327.py:27: PerformanceWarning: \n",
      "your performance may suffer as PyTables will pickle object types that it cannot\n",
      "map directly to c-types [inferred_type->mixed,key->block0_values] [items->Index(['id', 'extracted_url', 'processed_url_1', 'reextracted_url', 'valid_2',\n",
      "       'processed_url_2', 'valid_3', 'processed_url_3', 'end_processed_url',\n",
      "       'valid_rd', 'redirected_url', 'final_url'],\n",
      "      dtype='object')]\n",
      "\n",
      "  links_df[outcols].to_hdf(f'data/commentlinks_batches.h5', key=f'/batch_{batch//size + 1}', mode='a')\n"
     ]
    },
    {
     "name": "stdout",
     "output_type": "stream",
     "text": [
      "Invalid IPv6 URL\n",
      "Invalid IPv6 URL\n",
      "Invalid IPv6 URL\n",
      "'this guy' does not appear to be an IPv4 or IPv6 address\n",
      "\n",
      "label empty or too long\n",
      "label empty or too long\n",
      "\n",
      "Cannot connect to host www.en.wikipedia.org:443 ssl:default [Name or service not known]\n",
      "label empty or too long\n",
      "label empty or too long\n",
      "label empty or too long\n",
      "Cannot connect to host www.en.wikipedia.org:443 ssl:default [Name or service not known]\n"
     ]
    },
    {
     "name": "stderr",
     "output_type": "stream",
     "text": [
      "/tmp/ipykernel_996941/2514332107.py:308: FutureWarning: Downcasting object dtype arrays on .fillna, .ffill, .bfill is deprecated and will change in a future version. Call result.infer_objects(copy=False) instead. To opt-in to the future behavior, set `pd.set_option('future.no_silent_downcasting', True)`\n",
      "  links_df['valid_2'].fillna(\n",
      "/tmp/ipykernel_996941/2514332107.py:307: FutureWarning: Downcasting object dtype arrays on .fillna, .ffill, .bfill is deprecated and will change in a future version. Call result.infer_objects(copy=False) instead. To opt-in to the future behavior, set `pd.set_option('future.no_silent_downcasting', True)`\n",
      "  links_df['end_processed_valid'] = links_df['valid_3'].fillna(\n"
     ]
    }
   ],
   "source": [
    "# run on comments\n",
    "outcols = ['id', 'extracted_url', 'valid_1', 'status_1',\n",
    "         'processed_url_1', 'reextracted_url', 'valid_2', 'status_2',\n",
    "         'processed_url_2', 'valid_3', 'status_3', 'processed_url_3',\n",
    "         'end_processed_valid', 'end_processed_url',\n",
    "         'valid_rd', 'status_rd', 'redirected_url', 'final_valid',\n",
    "         'final_status', 'final_url']\n",
    "size = len(comments)//100\n",
    "\n",
    "commentlinks = []\n",
    "for batch in range(0, len(comments), size):\n",
    "    print(f\"Batch {batch//size + 1}\", size)\n",
    "    try:\n",
    "        commentlinks.append(pd.read_hdf(f'data/commentlinks_batches.h5', key=f'/batch_{batch//size + 1}'))\n",
    "    except (FileNotFoundError, KeyError) as ex:\n",
    "        print(ex)\n",
    "        while True:\n",
    "            try:\n",
    "                links_df = await get_links_df(comments.iloc[batch:batch+size].copy(), column='body')\n",
    "                MAX_CONCURRENCY = min(200, int(MAX_CONCURRENCY*(2**0.5)))\n",
    "                break\n",
    "            except MemoryError as ex:\n",
    "                print(ex)\n",
    "                MAX_CONCURRENCY = MAX_CONCURRENCY//2\n",
    "        if len(links_df) > 0:\n",
    "            print('saving')\n",
    "            links_df[outcols].to_hdf(f'data/commentlinks_batches.h5', key=f'/batch_{batch//size + 1}', mode='a')\n",
    "            commentlinks.append(links_df[outcols])\n",
    "\n",
    "commentlinks = pd.concat(commentlinks).reset_index(drop=True)\n",
    "if os.path.exists('data/commentlinks.h5'):\n",
    "    os.remove('data/commentlinks.h5')\n",
    "commentlinks.to_hdf('data/commentlinks.h5', key='df', mode='w')"
   ]
  },
  {
   "cell_type": "code",
   "execution_count": 8,
   "metadata": {},
   "outputs": [],
   "source": [
    "commentlinks = pd.concat([pd.read_hdf(f'data/commentlinks_batches.h5', key=f'/batch_{x}') for x in range(1,5)]).reset_index(drop=True)"
   ]
  },
  {
   "cell_type": "code",
   "execution_count": 9,
   "metadata": {},
   "outputs": [
    {
     "name": "stdout",
     "output_type": "stream",
     "text": [
      "https://ru.wikipedia.org/wiki/%D0%A6%D0%B5%D0%BD%D1%82%D1%80_%D0%B2%D0%BE%D0%B5%D0%BD%D0%BD%D0%BE-%D1%82%D0%B5%D1%85%D0%BD%D0%B8%D1%87%D0%B5%D1%81%D0%BA%D0%B8%D1%85_%D0%BF%D1%80%D0%BE%D0%B1%D0%BB%D0%B5%D0%BC_%D0%B1%D0%B0%D0%BA%D1%82%D0%B5%D1%80%D0%B8%D0%BE%D0%BB%D0%BE%D0%B3%D0%B8%D1%87%D0%B5%D1%81%D0%BA%D0%BE%D0%B9_%D0%B7%D0%B0%D1%89%D0%B8%D1%82%D1%8B_%D0%9D%D0%98%D0%98_%D0%BC%D0%B8%D0%BA%D1%80%D0%BE%D0%B1%D0%B8%D0%BE%D0%BB%D0%BE%D0%B3%D0%B8%D0%B8_%D0%9C%D0%9E_%D0%A0%D0%A4\n",
      "https://uk.wikipedia.org/wiki/%D0%86%D0%BD%D1%81%D1%82%D0%B8%D1%82%D1%83%D1%82_%D0%BF%D0%BE%D0%BB%D1%96%D1%82%D0%B8%D1%87%D0%BD%D0%B8%D1%85_%D1%96_%D0%B5%D1%82%D0%BD%D0%BE%D0%BD%D0%B0%D1%86%D1%96%D0%BE%D0%BD%D0%B0%D0%BB%D1%8C%D0%BD%D0%B8%D1%85_%D0%B4%D0%BE%D1%81%D0%BB%D1%96%D0%B4%D0%B6%D0%B5%D0%BD%D1%8C_%D1%96%D0%BC%D0%B5%D0%BD%D1%96_%D0%86._%D0%A4._%D0%9A%D1%83%D1%80%D0%B0%D1%81%D0%B0_%D0%9D%D0%90%D0%9D_%D0%A3%D0%BA%D1%80%D0%B0%D1%97%D0%BD%D0%B8\n",
      "https://ru.wikipedia.org/wiki/%D0%A1%D0%BF%D0%B8%D1%81%D0%BE%D0%BA_%D1%81%D1%83%D0%B1%D1%8A%D0%B5%D0%BA%D1%82%D0%BE%D0%B2_%D0%A0%D0%BE%D1%81%D1%81%D0%B8%D0%B9%D1%81%D0%BA%D0%BE%D0%B9_%D0%A4%D0%B5%D0%B4%D0%B5%D1%80%D0%B0%D1%86%D0%B8%D0%B8_%D0%BF%D0%BE_%D0%B2%D0%B0%D0%BB%D0%BE%D0%B2%D0%BE%D0%BC%D1%83_%D0%BF%D1%80%D0%BE%D0%B4%D1%83%D0%BA%D1%82%D1%83_%D0%BD%D0%B0_%D0%B4%D1%83%D1%88%D1%83_%D0%BD%D0%B0%D1%81%D0%B5%D0%BB%D0%B5%D0%BD%D0%B8%D1%8F\n",
      "https://ru.wikipedia.org/wiki/%D0%A1%D0%BF%D0%B8%D1%81%D0%BE%D0%BA_%D1%81%D1%83%D0%B1%D1%8A%D0%B5%D0%BA%D1%82%D0%BE%D0%B2_%D0%A0%D0%BE%D1%81%D1%81%D0%B8%D0%B9%D1%81%D0%BA%D0%BE%D0%B9_%D0%A4%D0%B5%D0%B4%D0%B5%D1%80%D0%B0%D1%86%D0%B8%D0%B8_%D0%BF%D0%BE_%D0%B2%D0%B0%D0%BB%D0%BE%D0%B2%D0%BE%D0%BC%D1%83_%D0%BF%D1%80%D0%BE%D0%B4%D1%83%D0%BA%D1%82%D1%83_%D0%BD%D0%B0_%D0%B4%D1%83%D1%88%D1%83_%D0%BD%D0%B0%D1%81%D0%B5%D0%BB%D0%B5%D0%BD%D0%B8%D1%8F\n",
      "https://ru.wikipedia.org/wiki/%D0%AF%D0%B4%D0%B5%D1%80%D0%BD%D0%B0%D1%8F_%D1%8D%D0%BD%D0%B5%D1%80%D0%B3%D0%BE%D0%B4%D0%B2%D0%B8%D0%B3%D0%B0%D1%82%D0%B5%D0%BB%D1%8C%D0%BD%D0%B0%D1%8F_%D1%83%D1%81%D1%82%D0%B0%D0%BD%D0%BE%D0%B2%D0%BA%D0%B0_%D0%BC%D0%B5%D0%B3%D0%B0%D0%B2%D0%B0%D1%82%D1%82%D0%BD%D0%BE%D0%B3%D0%BE_%D0%BA%D0%BB%D0%B0%D1%81%D1%81%D0%B0\n",
      "https://ru.m.wikipedia.org/wiki/%D0%9E%D0%B1_%D1%83%D1%81%D1%82%D1%80%D0%B0%D0%BD%D0%B5%D0%BD%D0%B8%D0%B8_%D0%B8%D0%B7%D0%BB%D0%B8%D1%88%D0%B5%D1%81%D1%82%D0%B2_%D0%B2_%D0%BF%D1%80%D0%BE%D0%B5%D0%BA%D1%82%D0%B8%D1%80%D0%BE%D0%B2%D0%B0%D0%BD%D0%B8%D0%B8_%D0%B8_%D1%81%D1%82%D1%80%D0%BE%D0%B8%D1%82%D0%B5%D0%BB%D1%8C%D1%81%D1%82%D0%B2%D0%B5\n",
      "https://ru.wikipedia.org/wiki/%D0%9E%D0%B1_%D1%83%D1%81%D1%82%D1%80%D0%B0%D0%BD%D0%B5%D0%BD%D0%B8%D0%B8_%D0%B8%D0%B7%D0%BB%D0%B8%D1%88%D0%B5%D1%81%D1%82%D0%B2_%D0%B2_%D0%BF%D1%80%D0%BE%D0%B5%D0%BA%D1%82%D0%B8%D1%80%D0%BE%D0%B2%D0%B0%D0%BD%D0%B8%D0%B8_%D0%B8_%D1%81%D1%82%D1%80%D0%BE%D0%B8%D1%82%D0%B5%D0%BB%D1%8C%D1%81%D1%82%D0%B2%D0%B5\n",
      "https://ru.wikipedia.org/wiki/%D0%A4%D0%B0%D0%B1%D1%80%D0%B8%D0%BA%D0%B0_%D0%BC%D1%83%D0%B7%D1%8B%D0%BA%D0%B0%D0%BB%D1%8C%D0%BD%D1%8B%D1%85_%D0%B8%D0%BD%D1%81%D1%82%D1%80%D1%83%D0%BC%D0%B5%D0%BD%D1%82%D0%BE%D0%B2_%D0%B8%D0%BC%D0%B5%D0%BD%D0%B8_%D0%90._%D0%92._%D0%9B%D1%83%D0%BD%D0%B0%D1%87%D0%B0%D1%80%D1%81%D0%BA%D0%BE%D0%B3%D0%BE\n",
      "https://el.m.wikipedia.org/wiki/%CE%91%CE%BD%CF%84%CE%B9%CE%BA%CE%B1%CF%80%CE%B9%CF%84%CE%B1%CE%BB%CE%B9%CF%83%CF%84%CE%B9%CE%BA%CE%AE_%CE%91%CF%81%CE%B9%CF%83%CF%84%CE%B5%CF%81%CE%AE_%CE%A3%CF%85%CE%BD%CE%B5%CF%81%CE%B3%CE%B1%CF%83%CE%AF%CE%B1_%CE%B3%CE%B9%CE%B1_%CF%84%CE%B7%CE%BD_%CE%91%CE%BD%CE%B1%CF%84%CF%81%CE%BF%CF%80%CE%AE\n",
      "https://ru.wikipedia.org/wiki/%D0%9F%D0%BE%D0%B2%D1%82%D0%BE%D1%80%D0%BD%D1%8B%D0%B5_%D0%B2%D1%8B%D0%B1%D0%BE%D1%80%D1%8B_%D0%B3%D1%83%D0%B1%D0%B5%D1%80%D0%BD%D0%B0%D1%82%D0%BE%D1%80%D0%B0_%D0%9F%D1%80%D0%B8%D0%BC%D0%BE%D1%80%D1%81%D0%BA%D0%BE%D0%B3%D0%BE_%D0%BA%D1%80%D0%B0%D1%8F_(%D0%B4%D0%B5%D0%BA%D0%B0%D0%B1%D1%80%D1%8C_2018)\n",
      "https://uk.wikipedia.org/wiki/%D0%92%D0%B8%D0%B1%D1%83%D1%85%D0%B8_%D0%B2_%D0%A3%D0%BA%D1%80%D0%B0%D1%97%D0%BD%D1%96_%D0%BF%D1%96%D0%B4_%D1%87%D0%B0%D1%81_%D1%80%D0%BE%D1%81%D1%96%D0%B9%D1%81%D1%8C%D0%BA%D0%BE%D1%97_%D0%B7%D0%B1%D1%80%D0%BE%D0%B9%D0%BD%D0%BE%D1%97_%D0%B0%D0%B3%D1%80%D0%B5%D1%81%D1%96%D1%97_(%D0%B7_2014)\n",
      "https://uk.wikipedia.org/wiki/72-%D0%B9_%D1%86%D0%B5%D0%BD%D1%82%D1%80_%D1%96%D0%BD%D1%84%D0%BE%D1%80%D0%BC%D0%B0%D1%86%D1%96%D0%B9%D0%BD%D0%BE-%D0%BF%D1%81%D0%B8%D1%85%D0%BE%D0%BB%D0%BE%D0%B3%D1%96%D1%87%D0%BD%D0%B8%D1%85_%D0%BE%D0%BF%D0%B5%D1%80%D0%B0%D1%86%D1%96%D0%B9_(%D0%A3%D0%BA%D1%80%D0%B0%D1%97%D0%BD%D0%B0)\n",
      "https://ru.m.wikipedia.org/wiki/%D0%93%D0%BE%D1%81%D0%BF%D0%BE%D0%B4%D0%B8!_%D0%9F%D0%BE%D0%BC%D0%BE%D0%B3%D0%B8_%D0%BC%D0%BD%D0%B5_%D0%B2%D1%8B%D0%B6%D0%B8%D1%82%D1%8C_%D1%81%D1%80%D0%B5%D0%B4%D0%B8_%D1%8D%D1%82%D0%BE%D0%B9_%D1%81%D0%BC%D0%B5%D1%80%D1%82%D0%BD%D0%BE%D0%B9_%D0%BB%D1%8E%D0%B1%D0%B2%D0%B8\n",
      "https://uk.wikipedia.org/wiki/%D0%9E%D0%BA%D1%80%D0%B5%D0%BC%D0%B8%D0%B9_%D0%B7%D0%B0%D0%B3%D1%96%D0%BD_%D1%81%D0%BF%D0%B5%D1%86%D1%96%D0%B0%D0%BB%D1%8C%D0%BD%D0%BE%D0%B3%D0%BE_%D0%BF%D1%80%D0%B8%D0%B7%D0%BD%D0%B0%D1%87%D0%B5%D0%BD%D0%BD%D1%8F_%D0%9D%D0%93%D0%A3_%C2%AB%D0%90%D0%B7%D0%BE%D0%B2%C2%BB\n",
      "https://ru.wikipedia.org/wiki/%D0%9D%D0%B0%D1%80%D0%BE%D0%B4%D0%BD%D1%8B%D0%B9_%D0%BA%D0%BE%D0%BC%D0%B8%D1%81%D1%81%D0%B0%D1%80%D0%B8%D0%B0%D1%82_%D0%BF%D0%B8%D1%89%D0%B5%D0%B2%D0%BE%D0%B9_%D0%BF%D1%80%D0%BE%D0%BC%D1%8B%D1%88%D0%BB%D0%B5%D0%BD%D0%BD%D0%BE%D1%81%D1%82%D0%B8_%D0%A1%D0%A1%D0%A1%D0%A0\n",
      "https://ru.wikipedia.org/wiki/%D0%A1%D0%BF%D0%B8%D1%81%D0%BE%D0%BA_%D0%BF%D0%BE%D1%82%D0%B5%D1%80%D1%8C_%D1%81%D0%B0%D0%BC%D0%BE%D0%BB%D1%91%D1%82%D0%BE%D0%B2_%D0%92%D0%92%D0%A1_%D0%A1%D0%A1%D0%A1%D0%A0_%D0%B2_%D0%90%D1%84%D0%B3%D0%B0%D0%BD%D1%81%D0%BA%D0%BE%D0%B9_%D0%B2%D0%BE%D0%B9%D0%BD%D0%B5\n",
      "https://ru.wikipedia.org/wiki/%D0%A2%D0%B0%D0%B9%D0%B2%D0%B0%D0%BD%D1%8C_(%D0%BF%D1%80%D0%BE%D0%B2%D0%B8%D0%BD%D1%86%D0%B8%D1%8F_%D0%9A%D0%B8%D1%82%D0%B0%D0%B9%D1%81%D0%BA%D0%BE%D0%B9_%D0%9D%D0%B0%D1%80%D0%BE%D0%B4%D0%BD%D0%BE%D0%B9_%D0%A0%D0%B5%D1%81%D0%BF%D1%83%D0%B1%D0%BB%D0%B8%D0%BA%D0%B8)\n",
      "https://ru.wikipedia.org/wiki/%D0%9C%D0%B5%D0%B6%D0%B4%D1%83%D0%BD%D0%B0%D1%80%D0%BE%D0%B4%D0%BD%D1%8B%D0%B9_%D0%B0%D0%BB%D1%84%D0%B0%D0%B2%D0%B8%D1%82_%D1%82%D1%80%D0%B0%D0%BD%D1%81%D0%BB%D0%B8%D1%82%D0%B5%D1%80%D0%B0%D1%86%D0%B8%D0%B8_%D1%81%D0%B0%D0%BD%D1%81%D0%BA%D1%80%D0%B8%D1%82%D0%B0\n",
      "https://ru.wikipedia.org/wiki/%D0%A0%D0%B5%D1%84%D0%B5%D1%80%D0%B5%D0%BD%D0%B4%D1%83%D0%BC_%D0%B2_%D0%94%D0%BE%D0%BD%D0%B5%D1%86%D0%BA%D0%BE%D0%B9_%D0%B8_%D0%9B%D1%83%D0%B3%D0%B0%D0%BD%D1%81%D0%BA%D0%BE%D0%B9_%D0%BE%D0%B1%D0%BB%D0%B0%D1%81%D1%82%D1%8F%D1%85_1994_%D0%B3%D0%BE%D0%B4%D0%B0\n",
      "https://ru.wikipedia.org/wiki/%D0%9F%D0%BE%D0%BC%D0%B5%D1%82%D0%BA%D0%B0_%D0%B7%D0%B0%D0%BA%D0%BB%D1%8E%D1%87%D1%91%D0%BD%D0%BD%D1%8B%D1%85_%D0%B2_%D0%BA%D0%BE%D0%BD%D1%86%D0%B5%D0%BD%D1%82%D1%80%D0%B0%D1%86%D0%B8%D0%BE%D0%BD%D0%BD%D1%8B%D1%85_%D0%BB%D0%B0%D0%B3%D0%B5%D1%80%D1%8F%D1%85\n",
      "https://ru.wikipedia.org/wiki/%D0%94%D0%B5%D1%81%D0%B0%D0%BD%D1%82%D0%BD%D1%8B%D0%B5_%D0%BA%D0%B0%D1%82%D0%B5%D1%80%D0%B0_%D0%BD%D0%B0_%D0%B2%D0%BE%D0%B7%D0%B4%D1%83%D1%88%D0%BD%D0%BE%D0%B9_%D0%BF%D0%BE%D0%B4%D1%83%D1%88%D0%BA%D0%B5_%D0%BF%D1%80%D0%BE%D0%B5%D0%BA%D1%82%D0%B0_12061\n",
      "https://el.wikipedia.org/wiki/%CE%A0%CF%81%CE%BF%CF%86%CE%BF%CF%81%CE%AC_%CF%84%CE%B7%CF%82_%CE%BA%CE%BB%CE%B1%CF%83%CE%B9%CE%BA%CE%AE%CF%82_%CE%B1%CF%81%CF%87%CE%B1%CE%AF%CE%B1%CF%82_%CE%B5%CE%BB%CE%BB%CE%B7%CE%BD%CE%B9%CE%BA%CE%AE%CF%82_%CE%B3%CE%BB%CF%8E%CF%83%CF%83%CE%B1%CF%82\n",
      "https://ru.wikipedia.org/wiki/%D0%94%D0%B5%D1%81%D0%B0%D0%BD%D1%82%D0%BD%D1%8B%D0%B5_%D0%BA%D0%B0%D1%82%D0%B5%D1%80%D0%B0_%D0%BD%D0%B0_%D0%B2%D0%BE%D0%B7%D0%B4%D1%83%D1%88%D0%BD%D0%BE%D0%B9_%D0%BF%D0%BE%D0%B4%D1%83%D1%88%D0%BA%D0%B5_%D0%BF%D1%80%D0%BE%D0%B5%D0%BA%D1%82%D0%B0_1205\n",
      "https://hy.wikipedia.org/wiki/%D5%80%D5%A1%D5%B5%D5%A1%D5%BD%D5%BF%D5%A1%D5%B6%D5%AB_%D5%A1%D5%A6%D5%A3%D5%A1%D5%B5%D5%AB%D5%B6_%D5%A1%D5%B6%D5%BE%D5%BF%D5%A1%D5%B6%D5%A3%D5%B8%D6%82%D5%A9%D5%B5%D5%A1%D5%B6_%D5%AE%D5%A1%D5%BC%D5%A1%D5%B5%D5%B8%D6%82%D5%A9%D5%B5%D5%B8%D6%82%D5%B6\n",
      "https://ru.wikipedia.org/wiki/%D0%9A%D0%BB%D0%B8%D0%BC%D0%B0%D1%82%D0%B8%D1%87%D0%B5%D1%81%D0%BA%D0%B8%D0%B9_%D0%BF%D0%B5%D1%81%D1%81%D0%B8%D0%BC%D1%83%D0%BC_%D1%80%D0%B0%D0%BD%D0%BD%D0%B5%D0%B3%D0%BE_%D0%A1%D1%80%D0%B5%D0%B4%D0%BD%D0%B5%D0%B2%D0%B5%D0%BA%D0%BE%D0%B2%D1%8C%D1%8F\n",
      "https://th.m.wikipedia.org/wiki/%E0%B9%80%E0%B8%AB%E0%B8%95%E0%B8%B8%E0%B8%9B%E0%B8%B0%E0%B8%97%E0%B8%B0%E0%B8%8A%E0%B8%B2%E0%B8%A2%E0%B9%81%E0%B8%94%E0%B8%99%E0%B9%84%E0%B8%97%E0%B8%A2%E2%80%93%E0%B9%80%E0%B8%A7%E0%B8%B5%E0%B8%A2%E0%B8%94%E0%B8%99%E0%B8%B2%E0%B8%A1?wprov=sfla1\n",
      "https://ru.wikipedia.org/wiki/%D0%94%D0%B2%D0%B8%D0%B6%D0%B5%D0%BD%D0%B8%D0%B5_%D0%B7%D0%B0_%D0%B3%D1%80%D0%B0%D0%B6%D0%B4%D0%B0%D0%BD%D1%81%D0%BA%D0%B8%D0%B5_%D0%BF%D1%80%D0%B0%D0%B2%D0%B0_%D1%87%D0%B5%D1%80%D0%BD%D0%BE%D0%BA%D0%BE%D0%B6%D0%B8%D1%85_%D0%B2_%D0%A1%D0%A8%D0%90\n",
      "https://ru.wikipedia.org/wiki/%D0%94%D0%B2%D0%B8%D0%B6%D0%B5%D0%BD%D0%B8%D0%B5_%D0%B7%D0%B0_%D0%B3%D1%80%D0%B0%D0%B6%D0%B4%D0%B0%D0%BD%D1%81%D0%BA%D0%B8%D0%B5_%D0%BF%D1%80%D0%B0%D0%B2%D0%B0_%D1%87%D0%B5%D1%80%D0%BD%D0%BE%D0%BA%D0%BE%D0%B6%D0%B8%D1%85_%D0%B2_%D0%A1%D0%A8%D0%90\n",
      "https://bg.wikipedia.org/wiki/%D0%94%D0%B0%D0%BD%D0%BD%D0%B8_%D0%B7%D0%B0_%D0%B4%D0%B5%D0%BC%D0%BE%D0%B3%D1%80%D0%B0%D1%84%D1%81%D0%BA%D0%B8%D1%82%D0%B5_%D0%BF%D0%BE%D0%BA%D0%B0%D0%B7%D0%B0%D1%82%D0%B5%D0%BB%D0%B8_%D0%BD%D0%B0_%D0%91%D1%8A%D0%BB%D0%B3%D0%B0%D1%80%D0%B8%D1%8F\n",
      "https://ru.wikipedia.org/wiki/%D0%A1%D0%BA%D0%BB%D0%BE%D0%BD%D0%BD%D0%BE%D1%81%D1%82%D1%8C_%D0%BA_%D0%BF%D0%BE%D0%B4%D1%82%D0%B2%D0%B5%D1%80%D0%B6%D0%B4%D0%B5%D0%BD%D0%B8%D1%8E_%D1%81%D0%B2%D0%BE%D0%B5%D0%B9_%D1%82%D0%BE%D1%87%D0%BA%D0%B8_%D0%B7%D1%80%D0%B5%D0%BD%D0%B8%D1%8F\n",
      "https://ru.wikipedia.org/wiki/%D0%A1%D0%BA%D0%BB%D0%BE%D0%BD%D0%BD%D0%BE%D1%81%D1%82%D1%8C_%D0%BA_%D0%BF%D0%BE%D0%B4%D1%82%D0%B2%D0%B5%D1%80%D0%B6%D0%B4%D0%B5%D0%BD%D0%B8%D1%8E_%D1%81%D0%B2%D0%BE%D0%B5%D0%B9_%D1%82%D0%BE%D1%87%D0%BA%D0%B8_%D0%B7%D1%80%D0%B5%D0%BD%D0%B8%D1%8F\n",
      "https://ru.wikipedia.org/wiki/%D0%9E_%D0%B4%D0%B8%D0%B0%D0%BB%D0%B5%D0%BA%D1%82%D0%B8%D1%87%D0%B5%D1%81%D0%BA%D0%BE%D0%BC_%D0%B8_%D0%B8%D1%81%D1%82%D0%BE%D1%80%D0%B8%D1%87%D0%B5%D1%81%D0%BA%D0%BE%D0%BC_%D0%BC%D0%B0%D1%82%D0%B5%D1%80%D0%B8%D0%B0%D0%BB%D0%B8%D0%B7%D0%BC%D0%B5\n",
      "https://ru.wikipedia.org/wiki/%D0%98%D1%81%D1%82%D0%BE%D1%80%D0%B8%D1%8F_%D0%BF%D1%80%D0%B5%D1%81%D0%BB%D0%B5%D0%B4%D0%BE%D0%B2%D0%B0%D0%BD%D0%B8%D1%8F_%D0%B3%D0%BE%D0%BC%D0%BE%D1%81%D0%B5%D0%BA%D1%81%D1%83%D0%B0%D0%BB%D0%BE%D0%B2_%D0%B2_%D0%A0%D0%BE%D1%81%D1%81%D0%B8%D0%B8\n",
      "https://el.wikipedia.org/wiki/%CE%A3%CE%BA%CE%AC%CE%BD%CE%B4%CE%B1%CE%BB%CE%BF_%CF%84%CE%B7%CE%BB%CE%B5%CF%86%CF%89%CE%BD%CE%B9%CE%BA%CF%8E%CE%BD_%CF%85%CF%80%CE%BF%CE%BA%CE%BB%CE%BF%CF%80%CF%8E%CE%BD_%CF%83%CF%84%CE%B7%CE%BD_%CE%95%CE%BB%CE%BB%CE%AC%CE%B4%CE%B1_(2004-2005)\n",
      "https://uk.wikipedia.org/wiki/%D0%9F%D0%BE%D1%85%D1%96%D0%B4_%D0%9F%D0%B8%D0%BB%D0%B8%D0%BF%D0%B0_%D0%9E%D1%80%D0%BB%D0%B8%D0%BA%D0%B0_%D0%BD%D0%B0_%D0%9F%D1%80%D0%B0%D0%B2%D0%BE%D0%B1%D0%B5%D1%80%D0%B5%D0%B6%D0%BD%D1%83_%D0%A3%D0%BA%D1%80%D0%B0%D1%97%D0%BD%D1%83_(1711)\n",
      "https://en.m.wikipedia.org/wiki/File:The_President,Shri_Pranab_Mukherjee_receiving_the_first_copy_of_the_book%E2%80%9CNetaji_Subhas_Chandra_Bose_and_Germany%E2%80%9D_from_Smt._Anita_Bose,_the_daughter_of_Netaji_Subhas_Chandra_Bose,_in_New_Delhi_on_February_06,_2013.jpg\n",
      "https://en.wikipedia.org/wiki/File:%D0%AD%D1%82%D0%BD%D0%BE%D0%B3%D1%80%D0%B0%D1%84%D0%B8%D1%87%D0%B5%D1%81%D0%BA%D0%B0%D1%8F_%D0%BA%D0%B0%D1%80%D1%82%D0%B0_%D0%9A%D0%B0%D0%B2%D0%BA%D0%B0%D0%B7%D1%81%D0%BA%D0%BE%D0%B3%D0%BE_%D0%BA%D1%80%D0%B0%D1%8F_(1880_%D0%B3.)..jpg\n",
      "https://ru.wikipedia.org/wiki/%D0%A1%D0%BF%D0%B8%D1%81%D0%BE%D0%BA_%D0%BA%D1%80%D1%83%D0%BF%D0%BD%D0%B5%D0%B9%D1%88%D0%B8%D1%85_%D0%B1%D0%BB%D0%B0%D0%B3%D0%BE%D1%82%D0%B2%D0%BE%D1%80%D0%B8%D1%82%D0%B5%D0%BB%D1%8C%D0%BD%D1%8B%D1%85_%D1%84%D0%BE%D0%BD%D0%B4%D0%BE%D0%B2\n",
      "https://ru.wikipedia.org/wiki/%D0%91%D1%80%D0%BE%D0%BD%D0%B5%D0%B1%D0%BE%D0%B9%D0%BD%D1%8B%D0%B9_%D0%BE%D0%BF%D0%B5%D1%80%D1%91%D0%BD%D0%BD%D1%8B%D0%B9_%D0%BF%D0%BE%D0%B4%D0%BA%D0%B0%D0%BB%D0%B8%D0%B1%D0%B5%D1%80%D0%BD%D1%8B%D0%B9_%D1%81%D0%BD%D0%B0%D1%80%D1%8F%D0%B4\n",
      "https://ru.m.wikipedia.org/wiki/%D0%A1%D0%B8%D0%BB%D0%BE%D0%B2%D1%8B%D0%B5_%D0%B2%D0%B8%D0%BB%D0%BA%D0%B8_%D0%B8_%D1%80%D0%BE%D0%B7%D0%B5%D1%82%D0%BA%D0%B8_%D0%B4%D0%BB%D1%8F_%D0%BF%D0%B5%D1%80%D0%B5%D0%BC%D0%B5%D0%BD%D0%BD%D0%BE%D0%B3%D0%BE_%D1%82%D0%BE%D0%BA%D0%B0\n",
      "https://uk.wikipedia.org/wiki/9-%D0%B9_%D0%BF%D0%BE%D0%BB%D0%BA_%D1%81%D0%BF%D0%B5%D1%86%D1%96%D0%B0%D0%BB%D1%8C%D0%BD%D0%BE%D0%B3%D0%BE_%D0%BF%D1%80%D0%B8%D0%B7%D0%BD%D0%B0%D1%87%D0%B5%D0%BD%D0%BD%D1%8F_%D0%92%D0%92_%C2%AB%D0%93%D0%B5%D0%BF%D0%B0%D1%80%D0%B4%C2%BB\n",
      "https://he.m.wikipedia.org/wiki/%D7%94%D7%9E%D7%A6%D7%91%D7%99%D7%A2%D7%99%D7%9D_%D7%94%D7%A2%D7%A8%D7%91%D7%99%D7%9D_%D7%A0%D7%A2%D7%99%D7%9D_%D7%91%D7%9B%D7%9E%D7%95%D7%99%D7%95%D7%AA_%D7%90%D7%93%D7%99%D7%A8%D7%95%D7%AA_%D7%9C%D7%A7%D7%9C%D7%A4%D7%99?wprov=sfla1\n",
      "https://ru.wikipedia.org/wiki/%D0%9C%D0%B5%D0%B4%D0%B0%D0%BB%D1%8C_%C2%AB%D0%A3%D1%87%D0%B0%D1%81%D1%82%D0%BD%D0%B8%D0%BA%D1%83_%D0%B2%D0%BE%D0%B5%D0%BD%D0%BD%D0%BE%D0%B9_%D0%BE%D0%BF%D0%B5%D1%80%D0%B0%D1%86%D0%B8%D0%B8_%D0%B2_%D0%A1%D0%B8%D1%80%D0%B8%D0%B8%C2%BB\n",
      "https://uk.wikipedia.org/wiki/%D0%A1%D1%82%D0%B0%D0%B2%D1%80%D0%BE%D0%BF%D1%96%D0%B3%D1%96%D1%8F_%D0%92%D1%81%D0%B5%D0%BB%D0%B5%D0%BD%D1%81%D1%8C%D0%BA%D0%BE%D0%B3%D0%BE_%D0%BF%D0%B0%D1%82%D1%80%D1%96%D0%B0%D1%80%D1%85%D0%B0_%D0%B2_%D0%9A%D0%B8%D1%94%D0%B2%D1%96\n",
      "https://ru.wikipedia.org/wiki/2000_%D0%B3%D0%BE%D0%B4_%D0%B2_%D0%B8%D1%81%D1%82%D0%BE%D1%80%D0%B8%D0%B8_%D0%B6%D0%B5%D0%BB%D0%B5%D0%B7%D0%BD%D0%BE%D0%B4%D0%BE%D1%80%D0%BE%D0%B6%D0%BD%D0%BE%D0%B3%D0%BE_%D1%82%D1%80%D0%B0%D0%BD%D1%81%D0%BF%D0%BE%D1%80%D1%82%D0%B0\n",
      "https://ru.wikipedia.org/wiki/%D0%A1%D0%BE%D1%8E%D0%B7_%D0%A1%D0%BE%D0%B2%D0%B5%D1%82%D1%81%D0%BA%D0%B8%D1%85_%D0%A1%D0%BE%D1%86%D0%B8%D0%B0%D0%BB%D0%B8%D1%81%D1%82%D0%B8%D1%87%D0%B5%D1%81%D0%BA%D0%B8%D1%85_%D0%A0%D0%B5%D1%81%D0%BF%D1%83%D0%B1%D0%BB%D0%B8%D0%BA\n",
      "https://ru.wikipedia.org/wiki/%D0%9F%D0%BE%D0%BB%D1%8C%D1%81%D0%BA%D0%BE-%D1%80%D1%83%D1%81%D1%81%D0%BA%D0%B0%D1%8F_%D0%BF%D1%80%D0%B0%D0%BA%D1%82%D0%B8%D1%87%D0%B5%D1%81%D0%BA%D0%B0%D1%8F_%D1%82%D1%80%D0%B0%D0%BD%D1%81%D0%BA%D1%80%D0%B8%D0%BF%D1%86%D0%B8%D1%8F\n",
      "https://uk.wikipedia.org/wiki/%D0%A6%D0%B5%D1%80%D0%BA%D0%B2%D0%B0_%D1%81%D0%B2%D1%8F%D1%82%D0%BE%D0%B3%D0%BE_%D0%9C%D0%B8%D0%BA%D0%BE%D0%BB%D0%B0%D1%8F_%D0%A7%D1%83%D0%B4%D0%BE%D1%82%D0%B2%D0%BE%D1%80%D1%86%D1%8F_(%D0%9A%D0%BE%D0%BB%D0%BE%D0%B4%D0%BD%D0%B5)\n",
      "https://ru.wikipedia.org/wiki/%D0%9F%D0%BE%D0%B3%D0%BE%D0%B4%D0%BD%D0%B0%D1%8F_%D0%B0%D0%BD%D0%BE%D0%BC%D0%B0%D0%BB%D0%B8%D1%8F_%D1%81%D0%B5%D1%80%D0%B5%D0%B4%D0%B8%D0%BD%D1%8B_2006_%E2%80%94_%D0%BD%D0%B0%D1%87%D0%B0%D0%BB%D0%B0_2007_%D0%B3%D0%BE%D0%B4%D0%B0\n",
      "https://ru.wikipedia.org/wiki/%D0%9F%D0%BE%D0%B3%D0%BE%D0%B4%D0%BD%D0%B0%D1%8F_%D0%B0%D0%BD%D0%BE%D0%BC%D0%B0%D0%BB%D0%B8%D1%8F_%D1%81%D0%B5%D1%80%D0%B5%D0%B4%D0%B8%D0%BD%D1%8B_2006_%E2%80%94_%D0%BD%D0%B0%D1%87%D0%B0%D0%BB%D0%B0_2007_%D0%B3%D0%BE%D0%B4%D0%B0\n"
     ]
    }
   ],
   "source": [
    "# confirm only link info is included\n",
    "\n",
    "for i in commentlinks['end_processed_url'].loc[commentlinks['end_processed_url'].str.len().nlargest(50).index]:\n",
    "    print(i)"
   ]
  }
 ],
 "metadata": {
  "kernelspec": {
   "display_name": ".venv",
   "language": "python",
   "name": "python3"
  },
  "language_info": {
   "codemirror_mode": {
    "name": "ipython",
    "version": 3
   },
   "file_extension": ".py",
   "mimetype": "text/x-python",
   "name": "python",
   "nbconvert_exporter": "python",
   "pygments_lexer": "ipython3",
   "version": "3.12.3"
  }
 },
 "nbformat": 4,
 "nbformat_minor": 2
}
