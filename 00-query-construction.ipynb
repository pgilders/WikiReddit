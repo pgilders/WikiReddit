{
 "cells": [
  {
   "cell_type": "code",
   "execution_count": null,
   "metadata": {},
   "outputs": [],
   "source": [
    "import pandas as pd\n",
    "import dotenv\n",
    "import os\n",
    "import syft as sy"
   ]
  },
  {
   "cell_type": "code",
   "execution_count": null,
   "metadata": {},
   "outputs": [],
   "source": [
    "# we recommend that you source these values using environment variables\n",
    "dotenv.load_dotenv()\n",
    "URL = \"https://reddit-for-researchers.snooguts.net\"\n",
    "EMAIL = os.getenv(\"EMAIL\")\n",
    "PASSWORD = os.getenv(\"PASSWORD\")\n",
    "\n",
    "# you can provide a \"password\" keyword argument, but if you don't...\n",
    "# the browser will prompt you for input\n",
    "client = sy.login(\n",
    "    url=URL,\n",
    "    email=EMAIL,\n",
    "    password=PASSWORD\n",
    ")"
   ]
  },
  {
   "cell_type": "code",
   "execution_count": null,
   "metadata": {},
   "outputs": [],
   "source": [
    "# posts\n",
    "queries_dict = {}\n",
    "\n",
    "for year in range(2020, 2024):\n",
    "    sql_query = f\"\"\"\n",
    "    SELECT *\n",
    "    FROM posts \n",
    "    WHERE (body LIKE '%wikipedia%' OR title LIKE '%wikipedia%')\n",
    "    AND created_at >= '{year}-01-01'\n",
    "    AND created_at < '{year+1}-01-01'\n",
    "    \"\"\"\n",
    "    key = f\"pg_wiki_{year}\"\n",
    "    queries_dict[key] = sql_query\n",
    "\n",
    "# submit the queries for approval\n",
    "for key, sql_query in queries_dict.items():\n",
    "    print(key)\n",
    "    client.api.services.reddit.submit_query(\n",
    "        func_name=key,\n",
    "        sql_query=sql_query\n",
    "    )"
   ]
  },
  {
   "cell_type": "code",
   "execution_count": null,
   "metadata": {},
   "outputs": [],
   "source": [
    "# comments\n",
    "queries_dict = {}\n",
    "for year in range(2020, 2024):\n",
    "    for month in range(1, 13):\n",
    "        start_date = f\"{year}-{month:02d}-01\"\n",
    "        if month == 12:\n",
    "            end_date = f\"{year + 1}-01-01\"\n",
    "        else:\n",
    "            end_date = f\"{year}-{month + 1:02d}-01\"\n",
    "        \n",
    "        sql_query = f\"\"\"\n",
    "        SELECT *\n",
    "        FROM comments\n",
    "        WHERE body LIKE '%wikipedia%'\n",
    "        AND created_at >= '{start_date}'\n",
    "        AND created_at < '{end_date}'\n",
    "        \"\"\"\n",
    "        key = f\"pg_wiki_comments_{year}{month:02d}\"\n",
    "        queries_dict[key] = sql_query\n",
    "\n",
    "# submit the queries for approval\n",
    "for key, sql_query in queries_dict.items():\n",
    "    print(key)\n",
    "    client.api.services.reddit.submit_query(\n",
    "        func_name=key,\n",
    "        sql_query=sql_query\n",
    "    )"
   ]
  }
 ],
 "metadata": {
  "language_info": {
   "name": "python"
  }
 },
 "nbformat": 4,
 "nbformat_minor": 2
}
