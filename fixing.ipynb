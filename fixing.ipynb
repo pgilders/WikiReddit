{
 "cells": [
  {
   "cell_type": "code",
   "execution_count": null,
   "metadata": {},
   "outputs": [
    {
     "data": {
      "text/plain": [
       "0       2020-08-31 08:23:57.595\n",
       "1       2020-01-29 23:16:54.860\n",
       "2       2020-09-06 07:48:47.668\n",
       "3       2020-04-25 02:51:48.375\n",
       "4       2020-07-18 18:00:51.386\n",
       "                  ...          \n",
       "71910   2023-05-13 16:54:41.348\n",
       "71911   2023-12-23 09:56:57.456\n",
       "71912   2023-08-27 12:31:30.876\n",
       "71913   2023-07-20 14:08:12.021\n",
       "71914   2023-07-25 23:02:48.212\n",
       "Name: created_at, Length: 335897, dtype: datetime64[ns]"
      ]
     },
     "metadata": {},
     "output_type": "display_data"
    }
   ],
   "source": [
    "pd.to_datetime(posts_df['created_at'].astype('int')*1000)"
   ]
  },
  {
   "cell_type": "code",
   "execution_count": null,
   "metadata": {},
   "outputs": [
    {
     "name": "stdout",
     "output_type": "stream",
     "text": [
      "2023-12-30 06:38:11.328000\n",
      "id                          object\n",
      "post_id                     object\n",
      "parent_id                   object\n",
      "created_at          datetime64[us]\n",
      "last_modified_at    datetime64[us]\n",
      "body                        object\n",
      "author_id                   object\n",
      "gilded                     boolean\n",
      "score                        Int64\n",
      "upvote_ratio               float64\n",
      "subreddit_id                object\n",
      "permalink                   object\n",
      "dtype: object\n"
     ]
    },
    {
     "name": "stderr",
     "output_type": "stream",
     "text": [
      "/tmp/ipykernel_202867/794287816.py:11: PerformanceWarning: \n",
      "your performance may suffer as PyTables will pickle object types that it cannot\n",
      "map directly to c-types [inferred_type->mixed,key->block4_values] [items->Index(['id', 'post_id', 'parent_id', 'body', 'author_id', 'subreddit_id',\n",
      "       'permalink'],\n",
      "      dtype='object')]\n",
      "\n",
      "  t2.to_hdf(\"data/t2.h5\", key='df', mode='w')\n"
     ]
    },
    {
     "name": "stdout",
     "output_type": "stream",
     "text": [
      "2023-12-30 06:38:11.328000\n",
      "id                          object\n",
      "post_id                     object\n",
      "parent_id                   object\n",
      "created_at          datetime64[us]\n",
      "last_modified_at    datetime64[us]\n",
      "body                        object\n",
      "author_id                   object\n",
      "gilded                        bool\n",
      "score                        int64\n",
      "upvote_ratio               float64\n",
      "subreddit_id                object\n",
      "permalink                   object\n",
      "dtype: object\n",
      "1970-01-20 17:18:38.291328\n",
      "id                          object\n",
      "post_id                     object\n",
      "parent_id                   object\n",
      "created_at          datetime64[ns]\n",
      "last_modified_at    datetime64[ns]\n",
      "body                        object\n",
      "author_id                   object\n",
      "gilded                        bool\n",
      "score                        int64\n",
      "upvote_ratio               float64\n",
      "subreddit_id                object\n",
      "permalink                   object\n",
      "dtype: object\n"
     ]
    }
   ],
   "source": [
    "t2 = test.copy()\n",
    "print(t2['created_at'][0])\n",
    "print(t2.dtypes)\n",
    "\n",
    "for c in ['score']:\n",
    "    t2[c] = t2[c].astype(np.int64)\n",
    "for c in ['gilded']:\n",
    "    t2[c] = t2[c].astype(np.bool_)\n",
    "for c in ['created_at', 'last_modified_at']:\n",
    "    t2[c] = pd.to_datetime(t2[c])\n",
    "t2.to_hdf(\"data/t2.h5\", key='df', mode='w')\n",
    "print(t2['created_at'][0])\n",
    "print(t2.dtypes)\n",
    "t2r = pd.read_hdf(\"data/t2.h5\")\n",
    "print(t2r['created_at'][0])\n",
    "print(t2r.dtypes)\n"
   ]
  },
  {
   "cell_type": "code",
   "execution_count": null,
   "metadata": {},
   "outputs": [
    {
     "name": "stdout",
     "output_type": "stream",
     "text": [
      "pg_wiki_comments_202001\n"
     ]
    },
    {
     "name": "stderr",
     "output_type": "stream",
     "text": [
      "/tmp/ipykernel_202867/409872905.py:12: PerformanceWarning: \n",
      "your performance may suffer as PyTables will pickle object types that it cannot\n",
      "map directly to c-types [inferred_type->mixed,key->block4_values] [items->Index(['id', 'post_id', 'parent_id', 'body', 'author_id', 'subreddit_id',\n",
      "       'permalink'],\n",
      "      dtype='object')]\n",
      "\n",
      "  comments_dict[key].to_hdf(f\"data/{key}.h5\", key='df', mode='w')\n"
     ]
    },
    {
     "name": "stdout",
     "output_type": "stream",
     "text": [
      "pg_wiki_comments_202002\n"
     ]
    },
    {
     "name": "stderr",
     "output_type": "stream",
     "text": [
      "/tmp/ipykernel_202867/409872905.py:12: PerformanceWarning: \n",
      "your performance may suffer as PyTables will pickle object types that it cannot\n",
      "map directly to c-types [inferred_type->mixed,key->block4_values] [items->Index(['id', 'post_id', 'parent_id', 'body', 'author_id', 'subreddit_id',\n",
      "       'permalink'],\n",
      "      dtype='object')]\n",
      "\n",
      "  comments_dict[key].to_hdf(f\"data/{key}.h5\", key='df', mode='w')\n"
     ]
    },
    {
     "name": "stdout",
     "output_type": "stream",
     "text": [
      "pg_wiki_comments_202003\n"
     ]
    },
    {
     "name": "stderr",
     "output_type": "stream",
     "text": [
      "/tmp/ipykernel_202867/409872905.py:12: PerformanceWarning: \n",
      "your performance may suffer as PyTables will pickle object types that it cannot\n",
      "map directly to c-types [inferred_type->mixed,key->block4_values] [items->Index(['id', 'post_id', 'parent_id', 'body', 'author_id', 'subreddit_id',\n",
      "       'permalink'],\n",
      "      dtype='object')]\n",
      "\n",
      "  comments_dict[key].to_hdf(f\"data/{key}.h5\", key='df', mode='w')\n"
     ]
    },
    {
     "name": "stdout",
     "output_type": "stream",
     "text": [
      "pg_wiki_comments_202004\n"
     ]
    },
    {
     "name": "stderr",
     "output_type": "stream",
     "text": [
      "/tmp/ipykernel_202867/409872905.py:12: PerformanceWarning: \n",
      "your performance may suffer as PyTables will pickle object types that it cannot\n",
      "map directly to c-types [inferred_type->mixed,key->block4_values] [items->Index(['id', 'post_id', 'parent_id', 'body', 'author_id', 'subreddit_id',\n",
      "       'permalink'],\n",
      "      dtype='object')]\n",
      "\n",
      "  comments_dict[key].to_hdf(f\"data/{key}.h5\", key='df', mode='w')\n"
     ]
    },
    {
     "name": "stdout",
     "output_type": "stream",
     "text": [
      "pg_wiki_comments_202005\n"
     ]
    },
    {
     "name": "stderr",
     "output_type": "stream",
     "text": [
      "/tmp/ipykernel_202867/409872905.py:12: PerformanceWarning: \n",
      "your performance may suffer as PyTables will pickle object types that it cannot\n",
      "map directly to c-types [inferred_type->mixed,key->block4_values] [items->Index(['id', 'post_id', 'parent_id', 'body', 'author_id', 'subreddit_id',\n",
      "       'permalink'],\n",
      "      dtype='object')]\n",
      "\n",
      "  comments_dict[key].to_hdf(f\"data/{key}.h5\", key='df', mode='w')\n"
     ]
    },
    {
     "name": "stdout",
     "output_type": "stream",
     "text": [
      "pg_wiki_comments_202006\n"
     ]
    },
    {
     "name": "stderr",
     "output_type": "stream",
     "text": [
      "/tmp/ipykernel_202867/409872905.py:12: PerformanceWarning: \n",
      "your performance may suffer as PyTables will pickle object types that it cannot\n",
      "map directly to c-types [inferred_type->mixed,key->block4_values] [items->Index(['id', 'post_id', 'parent_id', 'body', 'author_id', 'subreddit_id',\n",
      "       'permalink'],\n",
      "      dtype='object')]\n",
      "\n",
      "  comments_dict[key].to_hdf(f\"data/{key}.h5\", key='df', mode='w')\n"
     ]
    },
    {
     "name": "stdout",
     "output_type": "stream",
     "text": [
      "pg_wiki_comments_202007\n"
     ]
    },
    {
     "name": "stderr",
     "output_type": "stream",
     "text": [
      "/tmp/ipykernel_202867/409872905.py:12: PerformanceWarning: \n",
      "your performance may suffer as PyTables will pickle object types that it cannot\n",
      "map directly to c-types [inferred_type->mixed,key->block4_values] [items->Index(['id', 'post_id', 'parent_id', 'body', 'author_id', 'subreddit_id',\n",
      "       'permalink'],\n",
      "      dtype='object')]\n",
      "\n",
      "  comments_dict[key].to_hdf(f\"data/{key}.h5\", key='df', mode='w')\n"
     ]
    },
    {
     "name": "stdout",
     "output_type": "stream",
     "text": [
      "pg_wiki_comments_202008\n"
     ]
    },
    {
     "name": "stderr",
     "output_type": "stream",
     "text": [
      "/tmp/ipykernel_202867/409872905.py:12: PerformanceWarning: \n",
      "your performance may suffer as PyTables will pickle object types that it cannot\n",
      "map directly to c-types [inferred_type->mixed,key->block4_values] [items->Index(['id', 'post_id', 'parent_id', 'body', 'author_id', 'subreddit_id',\n",
      "       'permalink'],\n",
      "      dtype='object')]\n",
      "\n",
      "  comments_dict[key].to_hdf(f\"data/{key}.h5\", key='df', mode='w')\n"
     ]
    },
    {
     "name": "stdout",
     "output_type": "stream",
     "text": [
      "pg_wiki_comments_202009\n"
     ]
    },
    {
     "name": "stderr",
     "output_type": "stream",
     "text": [
      "/tmp/ipykernel_202867/409872905.py:12: PerformanceWarning: \n",
      "your performance may suffer as PyTables will pickle object types that it cannot\n",
      "map directly to c-types [inferred_type->mixed,key->block4_values] [items->Index(['id', 'post_id', 'parent_id', 'body', 'author_id', 'subreddit_id',\n",
      "       'permalink'],\n",
      "      dtype='object')]\n",
      "\n",
      "  comments_dict[key].to_hdf(f\"data/{key}.h5\", key='df', mode='w')\n"
     ]
    },
    {
     "name": "stdout",
     "output_type": "stream",
     "text": [
      "pg_wiki_comments_202010\n"
     ]
    },
    {
     "name": "stderr",
     "output_type": "stream",
     "text": [
      "/tmp/ipykernel_202867/409872905.py:12: PerformanceWarning: \n",
      "your performance may suffer as PyTables will pickle object types that it cannot\n",
      "map directly to c-types [inferred_type->mixed,key->block4_values] [items->Index(['id', 'post_id', 'parent_id', 'body', 'author_id', 'subreddit_id',\n",
      "       'permalink'],\n",
      "      dtype='object')]\n",
      "\n",
      "  comments_dict[key].to_hdf(f\"data/{key}.h5\", key='df', mode='w')\n"
     ]
    },
    {
     "name": "stdout",
     "output_type": "stream",
     "text": [
      "pg_wiki_comments_202011\n"
     ]
    },
    {
     "name": "stderr",
     "output_type": "stream",
     "text": [
      "/tmp/ipykernel_202867/409872905.py:12: PerformanceWarning: \n",
      "your performance may suffer as PyTables will pickle object types that it cannot\n",
      "map directly to c-types [inferred_type->mixed,key->block4_values] [items->Index(['id', 'post_id', 'parent_id', 'body', 'author_id', 'subreddit_id',\n",
      "       'permalink'],\n",
      "      dtype='object')]\n",
      "\n",
      "  comments_dict[key].to_hdf(f\"data/{key}.h5\", key='df', mode='w')\n"
     ]
    },
    {
     "name": "stdout",
     "output_type": "stream",
     "text": [
      "pg_wiki_comments_202012\n"
     ]
    },
    {
     "name": "stderr",
     "output_type": "stream",
     "text": [
      "/tmp/ipykernel_202867/409872905.py:12: PerformanceWarning: \n",
      "your performance may suffer as PyTables will pickle object types that it cannot\n",
      "map directly to c-types [inferred_type->mixed,key->block4_values] [items->Index(['id', 'post_id', 'parent_id', 'body', 'author_id', 'subreddit_id',\n",
      "       'permalink'],\n",
      "      dtype='object')]\n",
      "\n",
      "  comments_dict[key].to_hdf(f\"data/{key}.h5\", key='df', mode='w')\n"
     ]
    },
    {
     "name": "stdout",
     "output_type": "stream",
     "text": [
      "pg_wiki_comments_202101\n"
     ]
    },
    {
     "name": "stderr",
     "output_type": "stream",
     "text": [
      "/tmp/ipykernel_202867/409872905.py:12: PerformanceWarning: \n",
      "your performance may suffer as PyTables will pickle object types that it cannot\n",
      "map directly to c-types [inferred_type->mixed,key->block4_values] [items->Index(['id', 'post_id', 'parent_id', 'body', 'author_id', 'subreddit_id',\n",
      "       'permalink'],\n",
      "      dtype='object')]\n",
      "\n",
      "  comments_dict[key].to_hdf(f\"data/{key}.h5\", key='df', mode='w')\n"
     ]
    },
    {
     "name": "stdout",
     "output_type": "stream",
     "text": [
      "pg_wiki_comments_202102\n"
     ]
    },
    {
     "name": "stderr",
     "output_type": "stream",
     "text": [
      "/tmp/ipykernel_202867/409872905.py:12: PerformanceWarning: \n",
      "your performance may suffer as PyTables will pickle object types that it cannot\n",
      "map directly to c-types [inferred_type->mixed,key->block4_values] [items->Index(['id', 'post_id', 'parent_id', 'body', 'author_id', 'subreddit_id',\n",
      "       'permalink'],\n",
      "      dtype='object')]\n",
      "\n",
      "  comments_dict[key].to_hdf(f\"data/{key}.h5\", key='df', mode='w')\n"
     ]
    },
    {
     "name": "stdout",
     "output_type": "stream",
     "text": [
      "pg_wiki_comments_202103\n"
     ]
    },
    {
     "name": "stderr",
     "output_type": "stream",
     "text": [
      "/tmp/ipykernel_202867/409872905.py:12: PerformanceWarning: \n",
      "your performance may suffer as PyTables will pickle object types that it cannot\n",
      "map directly to c-types [inferred_type->mixed,key->block4_values] [items->Index(['id', 'post_id', 'parent_id', 'body', 'author_id', 'subreddit_id',\n",
      "       'permalink'],\n",
      "      dtype='object')]\n",
      "\n",
      "  comments_dict[key].to_hdf(f\"data/{key}.h5\", key='df', mode='w')\n"
     ]
    },
    {
     "name": "stdout",
     "output_type": "stream",
     "text": [
      "pg_wiki_comments_202104\n"
     ]
    },
    {
     "name": "stderr",
     "output_type": "stream",
     "text": [
      "/tmp/ipykernel_202867/409872905.py:12: PerformanceWarning: \n",
      "your performance may suffer as PyTables will pickle object types that it cannot\n",
      "map directly to c-types [inferred_type->mixed,key->block4_values] [items->Index(['id', 'post_id', 'parent_id', 'body', 'author_id', 'subreddit_id',\n",
      "       'permalink'],\n",
      "      dtype='object')]\n",
      "\n",
      "  comments_dict[key].to_hdf(f\"data/{key}.h5\", key='df', mode='w')\n"
     ]
    },
    {
     "name": "stdout",
     "output_type": "stream",
     "text": [
      "pg_wiki_comments_202105\n"
     ]
    },
    {
     "name": "stderr",
     "output_type": "stream",
     "text": [
      "/tmp/ipykernel_202867/409872905.py:12: PerformanceWarning: \n",
      "your performance may suffer as PyTables will pickle object types that it cannot\n",
      "map directly to c-types [inferred_type->mixed,key->block4_values] [items->Index(['id', 'post_id', 'parent_id', 'body', 'author_id', 'subreddit_id',\n",
      "       'permalink'],\n",
      "      dtype='object')]\n",
      "\n",
      "  comments_dict[key].to_hdf(f\"data/{key}.h5\", key='df', mode='w')\n"
     ]
    },
    {
     "name": "stdout",
     "output_type": "stream",
     "text": [
      "pg_wiki_comments_202106\n"
     ]
    },
    {
     "name": "stderr",
     "output_type": "stream",
     "text": [
      "/tmp/ipykernel_202867/409872905.py:12: PerformanceWarning: \n",
      "your performance may suffer as PyTables will pickle object types that it cannot\n",
      "map directly to c-types [inferred_type->mixed,key->block4_values] [items->Index(['id', 'post_id', 'parent_id', 'body', 'author_id', 'subreddit_id',\n",
      "       'permalink'],\n",
      "      dtype='object')]\n",
      "\n",
      "  comments_dict[key].to_hdf(f\"data/{key}.h5\", key='df', mode='w')\n"
     ]
    },
    {
     "name": "stdout",
     "output_type": "stream",
     "text": [
      "pg_wiki_comments_202107\n"
     ]
    },
    {
     "name": "stderr",
     "output_type": "stream",
     "text": [
      "/tmp/ipykernel_202867/409872905.py:12: PerformanceWarning: \n",
      "your performance may suffer as PyTables will pickle object types that it cannot\n",
      "map directly to c-types [inferred_type->mixed,key->block4_values] [items->Index(['id', 'post_id', 'parent_id', 'body', 'author_id', 'subreddit_id',\n",
      "       'permalink'],\n",
      "      dtype='object')]\n",
      "\n",
      "  comments_dict[key].to_hdf(f\"data/{key}.h5\", key='df', mode='w')\n"
     ]
    },
    {
     "name": "stdout",
     "output_type": "stream",
     "text": [
      "pg_wiki_comments_202108\n"
     ]
    },
    {
     "name": "stderr",
     "output_type": "stream",
     "text": [
      "/tmp/ipykernel_202867/409872905.py:12: PerformanceWarning: \n",
      "your performance may suffer as PyTables will pickle object types that it cannot\n",
      "map directly to c-types [inferred_type->mixed,key->block4_values] [items->Index(['id', 'post_id', 'parent_id', 'body', 'author_id', 'subreddit_id',\n",
      "       'permalink'],\n",
      "      dtype='object')]\n",
      "\n",
      "  comments_dict[key].to_hdf(f\"data/{key}.h5\", key='df', mode='w')\n"
     ]
    },
    {
     "name": "stdout",
     "output_type": "stream",
     "text": [
      "pg_wiki_comments_202109\n"
     ]
    },
    {
     "name": "stderr",
     "output_type": "stream",
     "text": [
      "/tmp/ipykernel_202867/409872905.py:12: PerformanceWarning: \n",
      "your performance may suffer as PyTables will pickle object types that it cannot\n",
      "map directly to c-types [inferred_type->mixed,key->block4_values] [items->Index(['id', 'post_id', 'parent_id', 'body', 'author_id', 'subreddit_id',\n",
      "       'permalink'],\n",
      "      dtype='object')]\n",
      "\n",
      "  comments_dict[key].to_hdf(f\"data/{key}.h5\", key='df', mode='w')\n"
     ]
    },
    {
     "name": "stdout",
     "output_type": "stream",
     "text": [
      "pg_wiki_comments_202110\n"
     ]
    },
    {
     "name": "stderr",
     "output_type": "stream",
     "text": [
      "/tmp/ipykernel_202867/409872905.py:12: PerformanceWarning: \n",
      "your performance may suffer as PyTables will pickle object types that it cannot\n",
      "map directly to c-types [inferred_type->mixed,key->block4_values] [items->Index(['id', 'post_id', 'parent_id', 'body', 'author_id', 'subreddit_id',\n",
      "       'permalink'],\n",
      "      dtype='object')]\n",
      "\n",
      "  comments_dict[key].to_hdf(f\"data/{key}.h5\", key='df', mode='w')\n"
     ]
    },
    {
     "name": "stdout",
     "output_type": "stream",
     "text": [
      "pg_wiki_comments_202111\n"
     ]
    },
    {
     "name": "stderr",
     "output_type": "stream",
     "text": [
      "/tmp/ipykernel_202867/409872905.py:12: PerformanceWarning: \n",
      "your performance may suffer as PyTables will pickle object types that it cannot\n",
      "map directly to c-types [inferred_type->mixed,key->block4_values] [items->Index(['id', 'post_id', 'parent_id', 'body', 'author_id', 'subreddit_id',\n",
      "       'permalink'],\n",
      "      dtype='object')]\n",
      "\n",
      "  comments_dict[key].to_hdf(f\"data/{key}.h5\", key='df', mode='w')\n"
     ]
    },
    {
     "name": "stdout",
     "output_type": "stream",
     "text": [
      "pg_wiki_comments_202112\n"
     ]
    },
    {
     "name": "stderr",
     "output_type": "stream",
     "text": [
      "/tmp/ipykernel_202867/409872905.py:12: PerformanceWarning: \n",
      "your performance may suffer as PyTables will pickle object types that it cannot\n",
      "map directly to c-types [inferred_type->mixed,key->block4_values] [items->Index(['id', 'post_id', 'parent_id', 'body', 'author_id', 'subreddit_id',\n",
      "       'permalink'],\n",
      "      dtype='object')]\n",
      "\n",
      "  comments_dict[key].to_hdf(f\"data/{key}.h5\", key='df', mode='w')\n"
     ]
    },
    {
     "name": "stdout",
     "output_type": "stream",
     "text": [
      "pg_wiki_comments_202201\n"
     ]
    },
    {
     "name": "stderr",
     "output_type": "stream",
     "text": [
      "/tmp/ipykernel_202867/409872905.py:12: PerformanceWarning: \n",
      "your performance may suffer as PyTables will pickle object types that it cannot\n",
      "map directly to c-types [inferred_type->mixed,key->block4_values] [items->Index(['id', 'post_id', 'parent_id', 'body', 'author_id', 'subreddit_id',\n",
      "       'permalink'],\n",
      "      dtype='object')]\n",
      "\n",
      "  comments_dict[key].to_hdf(f\"data/{key}.h5\", key='df', mode='w')\n"
     ]
    },
    {
     "name": "stdout",
     "output_type": "stream",
     "text": [
      "pg_wiki_comments_202202\n"
     ]
    },
    {
     "name": "stderr",
     "output_type": "stream",
     "text": [
      "/tmp/ipykernel_202867/409872905.py:12: PerformanceWarning: \n",
      "your performance may suffer as PyTables will pickle object types that it cannot\n",
      "map directly to c-types [inferred_type->mixed,key->block4_values] [items->Index(['id', 'post_id', 'parent_id', 'body', 'author_id', 'subreddit_id',\n",
      "       'permalink'],\n",
      "      dtype='object')]\n",
      "\n",
      "  comments_dict[key].to_hdf(f\"data/{key}.h5\", key='df', mode='w')\n"
     ]
    },
    {
     "name": "stdout",
     "output_type": "stream",
     "text": [
      "pg_wiki_comments_202203\n"
     ]
    },
    {
     "name": "stderr",
     "output_type": "stream",
     "text": [
      "/tmp/ipykernel_202867/409872905.py:12: PerformanceWarning: \n",
      "your performance may suffer as PyTables will pickle object types that it cannot\n",
      "map directly to c-types [inferred_type->mixed,key->block4_values] [items->Index(['id', 'post_id', 'parent_id', 'body', 'author_id', 'subreddit_id',\n",
      "       'permalink'],\n",
      "      dtype='object')]\n",
      "\n",
      "  comments_dict[key].to_hdf(f\"data/{key}.h5\", key='df', mode='w')\n"
     ]
    },
    {
     "name": "stdout",
     "output_type": "stream",
     "text": [
      "pg_wiki_comments_202204\n"
     ]
    },
    {
     "name": "stderr",
     "output_type": "stream",
     "text": [
      "/tmp/ipykernel_202867/409872905.py:12: PerformanceWarning: \n",
      "your performance may suffer as PyTables will pickle object types that it cannot\n",
      "map directly to c-types [inferred_type->mixed,key->block4_values] [items->Index(['id', 'post_id', 'parent_id', 'body', 'author_id', 'subreddit_id',\n",
      "       'permalink'],\n",
      "      dtype='object')]\n",
      "\n",
      "  comments_dict[key].to_hdf(f\"data/{key}.h5\", key='df', mode='w')\n"
     ]
    },
    {
     "name": "stdout",
     "output_type": "stream",
     "text": [
      "pg_wiki_comments_202205\n"
     ]
    },
    {
     "name": "stderr",
     "output_type": "stream",
     "text": [
      "/tmp/ipykernel_202867/409872905.py:12: PerformanceWarning: \n",
      "your performance may suffer as PyTables will pickle object types that it cannot\n",
      "map directly to c-types [inferred_type->mixed,key->block4_values] [items->Index(['id', 'post_id', 'parent_id', 'body', 'author_id', 'subreddit_id',\n",
      "       'permalink'],\n",
      "      dtype='object')]\n",
      "\n",
      "  comments_dict[key].to_hdf(f\"data/{key}.h5\", key='df', mode='w')\n"
     ]
    },
    {
     "name": "stdout",
     "output_type": "stream",
     "text": [
      "pg_wiki_comments_202206\n"
     ]
    },
    {
     "name": "stderr",
     "output_type": "stream",
     "text": [
      "/tmp/ipykernel_202867/409872905.py:12: PerformanceWarning: \n",
      "your performance may suffer as PyTables will pickle object types that it cannot\n",
      "map directly to c-types [inferred_type->mixed,key->block4_values] [items->Index(['id', 'post_id', 'parent_id', 'body', 'author_id', 'subreddit_id',\n",
      "       'permalink'],\n",
      "      dtype='object')]\n",
      "\n",
      "  comments_dict[key].to_hdf(f\"data/{key}.h5\", key='df', mode='w')\n"
     ]
    },
    {
     "name": "stdout",
     "output_type": "stream",
     "text": [
      "pg_wiki_comments_202207\n"
     ]
    },
    {
     "name": "stderr",
     "output_type": "stream",
     "text": [
      "/tmp/ipykernel_202867/409872905.py:12: PerformanceWarning: \n",
      "your performance may suffer as PyTables will pickle object types that it cannot\n",
      "map directly to c-types [inferred_type->mixed,key->block4_values] [items->Index(['id', 'post_id', 'parent_id', 'body', 'author_id', 'subreddit_id',\n",
      "       'permalink'],\n",
      "      dtype='object')]\n",
      "\n",
      "  comments_dict[key].to_hdf(f\"data/{key}.h5\", key='df', mode='w')\n"
     ]
    },
    {
     "name": "stdout",
     "output_type": "stream",
     "text": [
      "pg_wiki_comments_202208\n"
     ]
    },
    {
     "name": "stderr",
     "output_type": "stream",
     "text": [
      "/tmp/ipykernel_202867/409872905.py:12: PerformanceWarning: \n",
      "your performance may suffer as PyTables will pickle object types that it cannot\n",
      "map directly to c-types [inferred_type->mixed,key->block4_values] [items->Index(['id', 'post_id', 'parent_id', 'body', 'author_id', 'subreddit_id',\n",
      "       'permalink'],\n",
      "      dtype='object')]\n",
      "\n",
      "  comments_dict[key].to_hdf(f\"data/{key}.h5\", key='df', mode='w')\n"
     ]
    },
    {
     "name": "stdout",
     "output_type": "stream",
     "text": [
      "pg_wiki_comments_202209\n"
     ]
    },
    {
     "name": "stderr",
     "output_type": "stream",
     "text": [
      "/tmp/ipykernel_202867/409872905.py:12: PerformanceWarning: \n",
      "your performance may suffer as PyTables will pickle object types that it cannot\n",
      "map directly to c-types [inferred_type->mixed,key->block4_values] [items->Index(['id', 'post_id', 'parent_id', 'body', 'author_id', 'subreddit_id',\n",
      "       'permalink'],\n",
      "      dtype='object')]\n",
      "\n",
      "  comments_dict[key].to_hdf(f\"data/{key}.h5\", key='df', mode='w')\n"
     ]
    },
    {
     "name": "stdout",
     "output_type": "stream",
     "text": [
      "pg_wiki_comments_202210\n"
     ]
    },
    {
     "name": "stderr",
     "output_type": "stream",
     "text": [
      "/tmp/ipykernel_202867/409872905.py:12: PerformanceWarning: \n",
      "your performance may suffer as PyTables will pickle object types that it cannot\n",
      "map directly to c-types [inferred_type->mixed,key->block4_values] [items->Index(['id', 'post_id', 'parent_id', 'body', 'author_id', 'subreddit_id',\n",
      "       'permalink'],\n",
      "      dtype='object')]\n",
      "\n",
      "  comments_dict[key].to_hdf(f\"data/{key}.h5\", key='df', mode='w')\n"
     ]
    },
    {
     "name": "stdout",
     "output_type": "stream",
     "text": [
      "pg_wiki_comments_202211\n"
     ]
    },
    {
     "name": "stderr",
     "output_type": "stream",
     "text": [
      "/tmp/ipykernel_202867/409872905.py:12: PerformanceWarning: \n",
      "your performance may suffer as PyTables will pickle object types that it cannot\n",
      "map directly to c-types [inferred_type->mixed,key->block4_values] [items->Index(['id', 'post_id', 'parent_id', 'body', 'author_id', 'subreddit_id',\n",
      "       'permalink'],\n",
      "      dtype='object')]\n",
      "\n",
      "  comments_dict[key].to_hdf(f\"data/{key}.h5\", key='df', mode='w')\n"
     ]
    },
    {
     "name": "stdout",
     "output_type": "stream",
     "text": [
      "pg_wiki_comments_202212\n"
     ]
    },
    {
     "name": "stderr",
     "output_type": "stream",
     "text": [
      "/tmp/ipykernel_202867/409872905.py:12: PerformanceWarning: \n",
      "your performance may suffer as PyTables will pickle object types that it cannot\n",
      "map directly to c-types [inferred_type->mixed,key->block4_values] [items->Index(['id', 'post_id', 'parent_id', 'body', 'author_id', 'subreddit_id',\n",
      "       'permalink'],\n",
      "      dtype='object')]\n",
      "\n",
      "  comments_dict[key].to_hdf(f\"data/{key}.h5\", key='df', mode='w')\n"
     ]
    },
    {
     "name": "stdout",
     "output_type": "stream",
     "text": [
      "pg_wiki_comments_202301\n"
     ]
    },
    {
     "name": "stderr",
     "output_type": "stream",
     "text": [
      "/tmp/ipykernel_202867/409872905.py:12: PerformanceWarning: \n",
      "your performance may suffer as PyTables will pickle object types that it cannot\n",
      "map directly to c-types [inferred_type->mixed,key->block4_values] [items->Index(['id', 'post_id', 'parent_id', 'body', 'author_id', 'subreddit_id',\n",
      "       'permalink'],\n",
      "      dtype='object')]\n",
      "\n",
      "  comments_dict[key].to_hdf(f\"data/{key}.h5\", key='df', mode='w')\n"
     ]
    },
    {
     "name": "stdout",
     "output_type": "stream",
     "text": [
      "pg_wiki_comments_202302\n"
     ]
    },
    {
     "name": "stderr",
     "output_type": "stream",
     "text": [
      "/tmp/ipykernel_202867/409872905.py:12: PerformanceWarning: \n",
      "your performance may suffer as PyTables will pickle object types that it cannot\n",
      "map directly to c-types [inferred_type->mixed,key->block4_values] [items->Index(['id', 'post_id', 'parent_id', 'body', 'author_id', 'subreddit_id',\n",
      "       'permalink'],\n",
      "      dtype='object')]\n",
      "\n",
      "  comments_dict[key].to_hdf(f\"data/{key}.h5\", key='df', mode='w')\n"
     ]
    },
    {
     "name": "stdout",
     "output_type": "stream",
     "text": [
      "pg_wiki_comments_202303\n"
     ]
    },
    {
     "name": "stderr",
     "output_type": "stream",
     "text": [
      "/tmp/ipykernel_202867/409872905.py:12: PerformanceWarning: \n",
      "your performance may suffer as PyTables will pickle object types that it cannot\n",
      "map directly to c-types [inferred_type->mixed,key->block4_values] [items->Index(['id', 'post_id', 'parent_id', 'body', 'author_id', 'subreddit_id',\n",
      "       'permalink'],\n",
      "      dtype='object')]\n",
      "\n",
      "  comments_dict[key].to_hdf(f\"data/{key}.h5\", key='df', mode='w')\n"
     ]
    },
    {
     "name": "stdout",
     "output_type": "stream",
     "text": [
      "pg_wiki_comments_202304\n"
     ]
    },
    {
     "name": "stderr",
     "output_type": "stream",
     "text": [
      "/tmp/ipykernel_202867/409872905.py:12: PerformanceWarning: \n",
      "your performance may suffer as PyTables will pickle object types that it cannot\n",
      "map directly to c-types [inferred_type->mixed,key->block4_values] [items->Index(['id', 'post_id', 'parent_id', 'body', 'author_id', 'subreddit_id',\n",
      "       'permalink'],\n",
      "      dtype='object')]\n",
      "\n",
      "  comments_dict[key].to_hdf(f\"data/{key}.h5\", key='df', mode='w')\n"
     ]
    },
    {
     "name": "stdout",
     "output_type": "stream",
     "text": [
      "pg_wiki_comments_202305\n"
     ]
    },
    {
     "name": "stderr",
     "output_type": "stream",
     "text": [
      "/tmp/ipykernel_202867/409872905.py:12: PerformanceWarning: \n",
      "your performance may suffer as PyTables will pickle object types that it cannot\n",
      "map directly to c-types [inferred_type->mixed,key->block4_values] [items->Index(['id', 'post_id', 'parent_id', 'body', 'author_id', 'subreddit_id',\n",
      "       'permalink'],\n",
      "      dtype='object')]\n",
      "\n",
      "  comments_dict[key].to_hdf(f\"data/{key}.h5\", key='df', mode='w')\n"
     ]
    },
    {
     "name": "stdout",
     "output_type": "stream",
     "text": [
      "pg_wiki_comments_202306\n"
     ]
    },
    {
     "name": "stderr",
     "output_type": "stream",
     "text": [
      "/tmp/ipykernel_202867/409872905.py:12: PerformanceWarning: \n",
      "your performance may suffer as PyTables will pickle object types that it cannot\n",
      "map directly to c-types [inferred_type->mixed,key->block4_values] [items->Index(['id', 'post_id', 'parent_id', 'body', 'author_id', 'subreddit_id',\n",
      "       'permalink'],\n",
      "      dtype='object')]\n",
      "\n",
      "  comments_dict[key].to_hdf(f\"data/{key}.h5\", key='df', mode='w')\n"
     ]
    },
    {
     "name": "stdout",
     "output_type": "stream",
     "text": [
      "pg_wiki_comments_202307\n"
     ]
    },
    {
     "name": "stderr",
     "output_type": "stream",
     "text": [
      "/tmp/ipykernel_202867/409872905.py:12: PerformanceWarning: \n",
      "your performance may suffer as PyTables will pickle object types that it cannot\n",
      "map directly to c-types [inferred_type->mixed,key->block4_values] [items->Index(['id', 'post_id', 'parent_id', 'body', 'author_id', 'subreddit_id',\n",
      "       'permalink'],\n",
      "      dtype='object')]\n",
      "\n",
      "  comments_dict[key].to_hdf(f\"data/{key}.h5\", key='df', mode='w')\n"
     ]
    },
    {
     "name": "stdout",
     "output_type": "stream",
     "text": [
      "pg_wiki_comments_202308\n"
     ]
    },
    {
     "name": "stderr",
     "output_type": "stream",
     "text": [
      "/tmp/ipykernel_202867/409872905.py:12: PerformanceWarning: \n",
      "your performance may suffer as PyTables will pickle object types that it cannot\n",
      "map directly to c-types [inferred_type->mixed,key->block4_values] [items->Index(['id', 'post_id', 'parent_id', 'body', 'author_id', 'subreddit_id',\n",
      "       'permalink'],\n",
      "      dtype='object')]\n",
      "\n",
      "  comments_dict[key].to_hdf(f\"data/{key}.h5\", key='df', mode='w')\n"
     ]
    },
    {
     "name": "stdout",
     "output_type": "stream",
     "text": [
      "pg_wiki_comments_202309\n"
     ]
    },
    {
     "name": "stderr",
     "output_type": "stream",
     "text": [
      "/tmp/ipykernel_202867/409872905.py:12: PerformanceWarning: \n",
      "your performance may suffer as PyTables will pickle object types that it cannot\n",
      "map directly to c-types [inferred_type->mixed,key->block4_values] [items->Index(['id', 'post_id', 'parent_id', 'body', 'author_id', 'subreddit_id',\n",
      "       'permalink'],\n",
      "      dtype='object')]\n",
      "\n",
      "  comments_dict[key].to_hdf(f\"data/{key}.h5\", key='df', mode='w')\n"
     ]
    },
    {
     "name": "stdout",
     "output_type": "stream",
     "text": [
      "pg_wiki_comments_202310\n"
     ]
    },
    {
     "name": "stderr",
     "output_type": "stream",
     "text": [
      "/tmp/ipykernel_202867/409872905.py:12: PerformanceWarning: \n",
      "your performance may suffer as PyTables will pickle object types that it cannot\n",
      "map directly to c-types [inferred_type->mixed,key->block4_values] [items->Index(['id', 'post_id', 'parent_id', 'body', 'author_id', 'subreddit_id',\n",
      "       'permalink'],\n",
      "      dtype='object')]\n",
      "\n",
      "  comments_dict[key].to_hdf(f\"data/{key}.h5\", key='df', mode='w')\n"
     ]
    },
    {
     "name": "stdout",
     "output_type": "stream",
     "text": [
      "pg_wiki_comments_202311\n"
     ]
    },
    {
     "name": "stderr",
     "output_type": "stream",
     "text": [
      "/tmp/ipykernel_202867/409872905.py:12: PerformanceWarning: \n",
      "your performance may suffer as PyTables will pickle object types that it cannot\n",
      "map directly to c-types [inferred_type->mixed,key->block4_values] [items->Index(['id', 'post_id', 'parent_id', 'body', 'author_id', 'subreddit_id',\n",
      "       'permalink'],\n",
      "      dtype='object')]\n",
      "\n",
      "  comments_dict[key].to_hdf(f\"data/{key}.h5\", key='df', mode='w')\n"
     ]
    },
    {
     "name": "stdout",
     "output_type": "stream",
     "text": [
      "pg_wiki_comments_202312\n"
     ]
    },
    {
     "name": "stderr",
     "output_type": "stream",
     "text": [
      "/tmp/ipykernel_202867/409872905.py:12: PerformanceWarning: \n",
      "your performance may suffer as PyTables will pickle object types that it cannot\n",
      "map directly to c-types [inferred_type->mixed,key->block4_values] [items->Index(['id', 'post_id', 'parent_id', 'body', 'author_id', 'subreddit_id',\n",
      "       'permalink'],\n",
      "      dtype='object')]\n",
      "\n",
      "  comments_dict[key].to_hdf(f\"data/{key}.h5\", key='df', mode='w')\n",
      "/tmp/ipykernel_202867/409872905.py:16: PerformanceWarning: \n",
      "your performance may suffer as PyTables will pickle object types that it cannot\n",
      "map directly to c-types [inferred_type->mixed,key->block4_values] [items->Index(['id', 'post_id', 'parent_id', 'body', 'author_id', 'subreddit_id',\n",
      "       'permalink'],\n",
      "      dtype='object')]\n",
      "\n",
      "  comments_df.to_hdf(\"data/comments.h5\", key='df', mode='w')\n"
     ]
    },
    {
     "ename": "OverflowError",
     "evalue": "value too large to convert to int",
     "output_type": "error",
     "traceback": [
      "\u001b[0;31m---------------------------------------------------------------------------\u001b[0m\n",
      "\u001b[0;31mOverflowError\u001b[0m                             Traceback (most recent call last)\n",
      "Cell \u001b[0;32mIn[40], line 16\u001b[0m\n",
      "\u001b[1;32m     14\u001b[0m comments_df \u001b[38;5;241m=\u001b[39m pd\u001b[38;5;241m.\u001b[39mconcat(comments_dict\u001b[38;5;241m.\u001b[39mvalues())\n",
      "\u001b[1;32m     15\u001b[0m os\u001b[38;5;241m.\u001b[39mremove(\u001b[38;5;124m\"\u001b[39m\u001b[38;5;124mdata/comments.h5\u001b[39m\u001b[38;5;124m\"\u001b[39m)\n",
      "\u001b[0;32m---> 16\u001b[0m \u001b[43mcomments_df\u001b[49m\u001b[38;5;241;43m.\u001b[39;49m\u001b[43mto_hdf\u001b[49m\u001b[43m(\u001b[49m\u001b[38;5;124;43m\"\u001b[39;49m\u001b[38;5;124;43mdata/comments.h5\u001b[39;49m\u001b[38;5;124;43m\"\u001b[39;49m\u001b[43m,\u001b[49m\u001b[43m \u001b[49m\u001b[43mkey\u001b[49m\u001b[38;5;241;43m=\u001b[39;49m\u001b[38;5;124;43m'\u001b[39;49m\u001b[38;5;124;43mdf\u001b[39;49m\u001b[38;5;124;43m'\u001b[39;49m\u001b[43m,\u001b[49m\u001b[43m \u001b[49m\u001b[43mmode\u001b[49m\u001b[38;5;241;43m=\u001b[39;49m\u001b[38;5;124;43m'\u001b[39;49m\u001b[38;5;124;43mw\u001b[39;49m\u001b[38;5;124;43m'\u001b[39;49m\u001b[43m)\u001b[49m\n",
      "\n",
      "File \u001b[0;32m~/Documents/R4R/.venv/lib/python3.12/site-packages/pandas/util/_decorators.py:333\u001b[0m, in \u001b[0;36mdeprecate_nonkeyword_arguments.<locals>.decorate.<locals>.wrapper\u001b[0;34m(*args, **kwargs)\u001b[0m\n",
      "\u001b[1;32m    327\u001b[0m \u001b[38;5;28;01mif\u001b[39;00m \u001b[38;5;28mlen\u001b[39m(args) \u001b[38;5;241m>\u001b[39m num_allow_args:\n",
      "\u001b[1;32m    328\u001b[0m     warnings\u001b[38;5;241m.\u001b[39mwarn(\n",
      "\u001b[1;32m    329\u001b[0m         msg\u001b[38;5;241m.\u001b[39mformat(arguments\u001b[38;5;241m=\u001b[39m_format_argument_list(allow_args)),\n",
      "\u001b[1;32m    330\u001b[0m         \u001b[38;5;167;01mFutureWarning\u001b[39;00m,\n",
      "\u001b[1;32m    331\u001b[0m         stacklevel\u001b[38;5;241m=\u001b[39mfind_stack_level(),\n",
      "\u001b[1;32m    332\u001b[0m     )\n",
      "\u001b[0;32m--> 333\u001b[0m \u001b[38;5;28;01mreturn\u001b[39;00m \u001b[43mfunc\u001b[49m\u001b[43m(\u001b[49m\u001b[38;5;241;43m*\u001b[39;49m\u001b[43margs\u001b[49m\u001b[43m,\u001b[49m\u001b[43m \u001b[49m\u001b[38;5;241;43m*\u001b[39;49m\u001b[38;5;241;43m*\u001b[39;49m\u001b[43mkwargs\u001b[49m\u001b[43m)\u001b[49m\n",
      "\n",
      "File \u001b[0;32m~/Documents/R4R/.venv/lib/python3.12/site-packages/pandas/core/generic.py:2855\u001b[0m, in \u001b[0;36mNDFrame.to_hdf\u001b[0;34m(self, path_or_buf, key, mode, complevel, complib, append, format, index, min_itemsize, nan_rep, dropna, data_columns, errors, encoding)\u001b[0m\n",
      "\u001b[1;32m   2851\u001b[0m \u001b[38;5;28;01mfrom\u001b[39;00m \u001b[38;5;21;01mpandas\u001b[39;00m\u001b[38;5;21;01m.\u001b[39;00m\u001b[38;5;21;01mio\u001b[39;00m \u001b[38;5;28;01mimport\u001b[39;00m pytables\n",
      "\u001b[1;32m   2853\u001b[0m \u001b[38;5;66;03m# Argument 3 to \"to_hdf\" has incompatible type \"NDFrame\"; expected\u001b[39;00m\n",
      "\u001b[1;32m   2854\u001b[0m \u001b[38;5;66;03m# \"Union[DataFrame, Series]\" [arg-type]\u001b[39;00m\n",
      "\u001b[0;32m-> 2855\u001b[0m \u001b[43mpytables\u001b[49m\u001b[38;5;241;43m.\u001b[39;49m\u001b[43mto_hdf\u001b[49m\u001b[43m(\u001b[49m\n",
      "\u001b[1;32m   2856\u001b[0m \u001b[43m    \u001b[49m\u001b[43mpath_or_buf\u001b[49m\u001b[43m,\u001b[49m\n",
      "\u001b[1;32m   2857\u001b[0m \u001b[43m    \u001b[49m\u001b[43mkey\u001b[49m\u001b[43m,\u001b[49m\n",
      "\u001b[1;32m   2858\u001b[0m \u001b[43m    \u001b[49m\u001b[38;5;28;43mself\u001b[39;49m\u001b[43m,\u001b[49m\u001b[43m  \u001b[49m\u001b[38;5;66;43;03m# type: ignore[arg-type]\u001b[39;49;00m\n",
      "\u001b[1;32m   2859\u001b[0m \u001b[43m    \u001b[49m\u001b[43mmode\u001b[49m\u001b[38;5;241;43m=\u001b[39;49m\u001b[43mmode\u001b[49m\u001b[43m,\u001b[49m\n",
      "\u001b[1;32m   2860\u001b[0m \u001b[43m    \u001b[49m\u001b[43mcomplevel\u001b[49m\u001b[38;5;241;43m=\u001b[39;49m\u001b[43mcomplevel\u001b[49m\u001b[43m,\u001b[49m\n",
      "\u001b[1;32m   2861\u001b[0m \u001b[43m    \u001b[49m\u001b[43mcomplib\u001b[49m\u001b[38;5;241;43m=\u001b[39;49m\u001b[43mcomplib\u001b[49m\u001b[43m,\u001b[49m\n",
      "\u001b[1;32m   2862\u001b[0m \u001b[43m    \u001b[49m\u001b[43mappend\u001b[49m\u001b[38;5;241;43m=\u001b[39;49m\u001b[43mappend\u001b[49m\u001b[43m,\u001b[49m\n",
      "\u001b[1;32m   2863\u001b[0m \u001b[43m    \u001b[49m\u001b[38;5;28;43mformat\u001b[39;49m\u001b[38;5;241;43m=\u001b[39;49m\u001b[38;5;28;43mformat\u001b[39;49m\u001b[43m,\u001b[49m\n",
      "\u001b[1;32m   2864\u001b[0m \u001b[43m    \u001b[49m\u001b[43mindex\u001b[49m\u001b[38;5;241;43m=\u001b[39;49m\u001b[43mindex\u001b[49m\u001b[43m,\u001b[49m\n",
      "\u001b[1;32m   2865\u001b[0m \u001b[43m    \u001b[49m\u001b[43mmin_itemsize\u001b[49m\u001b[38;5;241;43m=\u001b[39;49m\u001b[43mmin_itemsize\u001b[49m\u001b[43m,\u001b[49m\n",
      "\u001b[1;32m   2866\u001b[0m \u001b[43m    \u001b[49m\u001b[43mnan_rep\u001b[49m\u001b[38;5;241;43m=\u001b[39;49m\u001b[43mnan_rep\u001b[49m\u001b[43m,\u001b[49m\n",
      "\u001b[1;32m   2867\u001b[0m \u001b[43m    \u001b[49m\u001b[43mdropna\u001b[49m\u001b[38;5;241;43m=\u001b[39;49m\u001b[43mdropna\u001b[49m\u001b[43m,\u001b[49m\n",
      "\u001b[1;32m   2868\u001b[0m \u001b[43m    \u001b[49m\u001b[43mdata_columns\u001b[49m\u001b[38;5;241;43m=\u001b[39;49m\u001b[43mdata_columns\u001b[49m\u001b[43m,\u001b[49m\n",
      "\u001b[1;32m   2869\u001b[0m \u001b[43m    \u001b[49m\u001b[43merrors\u001b[49m\u001b[38;5;241;43m=\u001b[39;49m\u001b[43merrors\u001b[49m\u001b[43m,\u001b[49m\n",
      "\u001b[1;32m   2870\u001b[0m \u001b[43m    \u001b[49m\u001b[43mencoding\u001b[49m\u001b[38;5;241;43m=\u001b[39;49m\u001b[43mencoding\u001b[49m\u001b[43m,\u001b[49m\n",
      "\u001b[1;32m   2871\u001b[0m \u001b[43m\u001b[49m\u001b[43m)\u001b[49m\n",
      "\n",
      "File \u001b[0;32m~/Documents/R4R/.venv/lib/python3.12/site-packages/pandas/io/pytables.py:311\u001b[0m, in \u001b[0;36mto_hdf\u001b[0;34m(path_or_buf, key, value, mode, complevel, complib, append, format, index, min_itemsize, nan_rep, dropna, data_columns, errors, encoding)\u001b[0m\n",
      "\u001b[1;32m    307\u001b[0m \u001b[38;5;28;01mif\u001b[39;00m \u001b[38;5;28misinstance\u001b[39m(path_or_buf, \u001b[38;5;28mstr\u001b[39m):\n",
      "\u001b[1;32m    308\u001b[0m     \u001b[38;5;28;01mwith\u001b[39;00m HDFStore(\n",
      "\u001b[1;32m    309\u001b[0m         path_or_buf, mode\u001b[38;5;241m=\u001b[39mmode, complevel\u001b[38;5;241m=\u001b[39mcomplevel, complib\u001b[38;5;241m=\u001b[39mcomplib\n",
      "\u001b[1;32m    310\u001b[0m     ) \u001b[38;5;28;01mas\u001b[39;00m store:\n",
      "\u001b[0;32m--> 311\u001b[0m         \u001b[43mf\u001b[49m\u001b[43m(\u001b[49m\u001b[43mstore\u001b[49m\u001b[43m)\u001b[49m\n",
      "\u001b[1;32m    312\u001b[0m \u001b[38;5;28;01melse\u001b[39;00m:\n",
      "\u001b[1;32m    313\u001b[0m     f(path_or_buf)\n",
      "\n",
      "File \u001b[0;32m~/Documents/R4R/.venv/lib/python3.12/site-packages/pandas/io/pytables.py:293\u001b[0m, in \u001b[0;36mto_hdf.<locals>.<lambda>\u001b[0;34m(store)\u001b[0m\n",
      "\u001b[1;32m    279\u001b[0m     f \u001b[38;5;241m=\u001b[39m \u001b[38;5;28;01mlambda\u001b[39;00m store: store\u001b[38;5;241m.\u001b[39mappend(\n",
      "\u001b[1;32m    280\u001b[0m         key,\n",
      "\u001b[1;32m    281\u001b[0m         value,\n",
      "\u001b[0;32m   (...)\u001b[0m\n",
      "\u001b[1;32m    289\u001b[0m         encoding\u001b[38;5;241m=\u001b[39mencoding,\n",
      "\u001b[1;32m    290\u001b[0m     )\n",
      "\u001b[1;32m    291\u001b[0m \u001b[38;5;28;01melse\u001b[39;00m:\n",
      "\u001b[1;32m    292\u001b[0m     \u001b[38;5;66;03m# NB: dropna is not passed to `put`\u001b[39;00m\n",
      "\u001b[0;32m--> 293\u001b[0m     f \u001b[38;5;241m=\u001b[39m \u001b[38;5;28;01mlambda\u001b[39;00m store: \u001b[43mstore\u001b[49m\u001b[38;5;241;43m.\u001b[39;49m\u001b[43mput\u001b[49m\u001b[43m(\u001b[49m\n",
      "\u001b[1;32m    294\u001b[0m \u001b[43m        \u001b[49m\u001b[43mkey\u001b[49m\u001b[43m,\u001b[49m\n",
      "\u001b[1;32m    295\u001b[0m \u001b[43m        \u001b[49m\u001b[43mvalue\u001b[49m\u001b[43m,\u001b[49m\n",
      "\u001b[1;32m    296\u001b[0m \u001b[43m        \u001b[49m\u001b[38;5;28;43mformat\u001b[39;49m\u001b[38;5;241;43m=\u001b[39;49m\u001b[38;5;28;43mformat\u001b[39;49m\u001b[43m,\u001b[49m\n",
      "\u001b[1;32m    297\u001b[0m \u001b[43m        \u001b[49m\u001b[43mindex\u001b[49m\u001b[38;5;241;43m=\u001b[39;49m\u001b[43mindex\u001b[49m\u001b[43m,\u001b[49m\n",
      "\u001b[1;32m    298\u001b[0m \u001b[43m        \u001b[49m\u001b[43mmin_itemsize\u001b[49m\u001b[38;5;241;43m=\u001b[39;49m\u001b[43mmin_itemsize\u001b[49m\u001b[43m,\u001b[49m\n",
      "\u001b[1;32m    299\u001b[0m \u001b[43m        \u001b[49m\u001b[43mnan_rep\u001b[49m\u001b[38;5;241;43m=\u001b[39;49m\u001b[43mnan_rep\u001b[49m\u001b[43m,\u001b[49m\n",
      "\u001b[1;32m    300\u001b[0m \u001b[43m        \u001b[49m\u001b[43mdata_columns\u001b[49m\u001b[38;5;241;43m=\u001b[39;49m\u001b[43mdata_columns\u001b[49m\u001b[43m,\u001b[49m\n",
      "\u001b[1;32m    301\u001b[0m \u001b[43m        \u001b[49m\u001b[43merrors\u001b[49m\u001b[38;5;241;43m=\u001b[39;49m\u001b[43merrors\u001b[49m\u001b[43m,\u001b[49m\n",
      "\u001b[1;32m    302\u001b[0m \u001b[43m        \u001b[49m\u001b[43mencoding\u001b[49m\u001b[38;5;241;43m=\u001b[39;49m\u001b[43mencoding\u001b[49m\u001b[43m,\u001b[49m\n",
      "\u001b[1;32m    303\u001b[0m \u001b[43m        \u001b[49m\u001b[43mdropna\u001b[49m\u001b[38;5;241;43m=\u001b[39;49m\u001b[43mdropna\u001b[49m\u001b[43m,\u001b[49m\n",
      "\u001b[1;32m    304\u001b[0m \u001b[43m    \u001b[49m\u001b[43m)\u001b[49m\n",
      "\u001b[1;32m    306\u001b[0m path_or_buf \u001b[38;5;241m=\u001b[39m stringify_path(path_or_buf)\n",
      "\u001b[1;32m    307\u001b[0m \u001b[38;5;28;01mif\u001b[39;00m \u001b[38;5;28misinstance\u001b[39m(path_or_buf, \u001b[38;5;28mstr\u001b[39m):\n",
      "\n",
      "File \u001b[0;32m~/Documents/R4R/.venv/lib/python3.12/site-packages/pandas/io/pytables.py:1160\u001b[0m, in \u001b[0;36mHDFStore.put\u001b[0;34m(self, key, value, format, index, append, complib, complevel, min_itemsize, nan_rep, data_columns, encoding, errors, track_times, dropna)\u001b[0m\n",
      "\u001b[1;32m   1158\u001b[0m     \u001b[38;5;28mformat\u001b[39m \u001b[38;5;241m=\u001b[39m get_option(\u001b[38;5;124m\"\u001b[39m\u001b[38;5;124mio.hdf.default_format\u001b[39m\u001b[38;5;124m\"\u001b[39m) \u001b[38;5;129;01mor\u001b[39;00m \u001b[38;5;124m\"\u001b[39m\u001b[38;5;124mfixed\u001b[39m\u001b[38;5;124m\"\u001b[39m\n",
      "\u001b[1;32m   1159\u001b[0m \u001b[38;5;28mformat\u001b[39m \u001b[38;5;241m=\u001b[39m \u001b[38;5;28mself\u001b[39m\u001b[38;5;241m.\u001b[39m_validate_format(\u001b[38;5;28mformat\u001b[39m)\n",
      "\u001b[0;32m-> 1160\u001b[0m \u001b[38;5;28;43mself\u001b[39;49m\u001b[38;5;241;43m.\u001b[39;49m\u001b[43m_write_to_group\u001b[49m\u001b[43m(\u001b[49m\n",
      "\u001b[1;32m   1161\u001b[0m \u001b[43m    \u001b[49m\u001b[43mkey\u001b[49m\u001b[43m,\u001b[49m\n",
      "\u001b[1;32m   1162\u001b[0m \u001b[43m    \u001b[49m\u001b[43mvalue\u001b[49m\u001b[43m,\u001b[49m\n",
      "\u001b[1;32m   1163\u001b[0m \u001b[43m    \u001b[49m\u001b[38;5;28;43mformat\u001b[39;49m\u001b[38;5;241;43m=\u001b[39;49m\u001b[38;5;28;43mformat\u001b[39;49m\u001b[43m,\u001b[49m\n",
      "\u001b[1;32m   1164\u001b[0m \u001b[43m    \u001b[49m\u001b[43mindex\u001b[49m\u001b[38;5;241;43m=\u001b[39;49m\u001b[43mindex\u001b[49m\u001b[43m,\u001b[49m\n",
      "\u001b[1;32m   1165\u001b[0m \u001b[43m    \u001b[49m\u001b[43mappend\u001b[49m\u001b[38;5;241;43m=\u001b[39;49m\u001b[43mappend\u001b[49m\u001b[43m,\u001b[49m\n",
      "\u001b[1;32m   1166\u001b[0m \u001b[43m    \u001b[49m\u001b[43mcomplib\u001b[49m\u001b[38;5;241;43m=\u001b[39;49m\u001b[43mcomplib\u001b[49m\u001b[43m,\u001b[49m\n",
      "\u001b[1;32m   1167\u001b[0m \u001b[43m    \u001b[49m\u001b[43mcomplevel\u001b[49m\u001b[38;5;241;43m=\u001b[39;49m\u001b[43mcomplevel\u001b[49m\u001b[43m,\u001b[49m\n",
      "\u001b[1;32m   1168\u001b[0m \u001b[43m    \u001b[49m\u001b[43mmin_itemsize\u001b[49m\u001b[38;5;241;43m=\u001b[39;49m\u001b[43mmin_itemsize\u001b[49m\u001b[43m,\u001b[49m\n",
      "\u001b[1;32m   1169\u001b[0m \u001b[43m    \u001b[49m\u001b[43mnan_rep\u001b[49m\u001b[38;5;241;43m=\u001b[39;49m\u001b[43mnan_rep\u001b[49m\u001b[43m,\u001b[49m\n",
      "\u001b[1;32m   1170\u001b[0m \u001b[43m    \u001b[49m\u001b[43mdata_columns\u001b[49m\u001b[38;5;241;43m=\u001b[39;49m\u001b[43mdata_columns\u001b[49m\u001b[43m,\u001b[49m\n",
      "\u001b[1;32m   1171\u001b[0m \u001b[43m    \u001b[49m\u001b[43mencoding\u001b[49m\u001b[38;5;241;43m=\u001b[39;49m\u001b[43mencoding\u001b[49m\u001b[43m,\u001b[49m\n",
      "\u001b[1;32m   1172\u001b[0m \u001b[43m    \u001b[49m\u001b[43merrors\u001b[49m\u001b[38;5;241;43m=\u001b[39;49m\u001b[43merrors\u001b[49m\u001b[43m,\u001b[49m\n",
      "\u001b[1;32m   1173\u001b[0m \u001b[43m    \u001b[49m\u001b[43mtrack_times\u001b[49m\u001b[38;5;241;43m=\u001b[39;49m\u001b[43mtrack_times\u001b[49m\u001b[43m,\u001b[49m\n",
      "\u001b[1;32m   1174\u001b[0m \u001b[43m    \u001b[49m\u001b[43mdropna\u001b[49m\u001b[38;5;241;43m=\u001b[39;49m\u001b[43mdropna\u001b[49m\u001b[43m,\u001b[49m\n",
      "\u001b[1;32m   1175\u001b[0m \u001b[43m\u001b[49m\u001b[43m)\u001b[49m\n",
      "\n",
      "File \u001b[0;32m~/Documents/R4R/.venv/lib/python3.12/site-packages/pandas/io/pytables.py:1858\u001b[0m, in \u001b[0;36mHDFStore._write_to_group\u001b[0;34m(self, key, value, format, axes, index, append, complib, complevel, fletcher32, min_itemsize, chunksize, expectedrows, dropna, nan_rep, data_columns, encoding, errors, track_times)\u001b[0m\n",
      "\u001b[1;32m   1855\u001b[0m     \u001b[38;5;28;01mraise\u001b[39;00m \u001b[38;5;167;01mValueError\u001b[39;00m(\u001b[38;5;124m\"\u001b[39m\u001b[38;5;124mCompression not supported on Fixed format stores\u001b[39m\u001b[38;5;124m\"\u001b[39m)\n",
      "\u001b[1;32m   1857\u001b[0m \u001b[38;5;66;03m# write the object\u001b[39;00m\n",
      "\u001b[0;32m-> 1858\u001b[0m \u001b[43ms\u001b[49m\u001b[38;5;241;43m.\u001b[39;49m\u001b[43mwrite\u001b[49m\u001b[43m(\u001b[49m\n",
      "\u001b[1;32m   1859\u001b[0m \u001b[43m    \u001b[49m\u001b[43mobj\u001b[49m\u001b[38;5;241;43m=\u001b[39;49m\u001b[43mvalue\u001b[49m\u001b[43m,\u001b[49m\n",
      "\u001b[1;32m   1860\u001b[0m \u001b[43m    \u001b[49m\u001b[43maxes\u001b[49m\u001b[38;5;241;43m=\u001b[39;49m\u001b[43maxes\u001b[49m\u001b[43m,\u001b[49m\n",
      "\u001b[1;32m   1861\u001b[0m \u001b[43m    \u001b[49m\u001b[43mappend\u001b[49m\u001b[38;5;241;43m=\u001b[39;49m\u001b[43mappend\u001b[49m\u001b[43m,\u001b[49m\n",
      "\u001b[1;32m   1862\u001b[0m \u001b[43m    \u001b[49m\u001b[43mcomplib\u001b[49m\u001b[38;5;241;43m=\u001b[39;49m\u001b[43mcomplib\u001b[49m\u001b[43m,\u001b[49m\n",
      "\u001b[1;32m   1863\u001b[0m \u001b[43m    \u001b[49m\u001b[43mcomplevel\u001b[49m\u001b[38;5;241;43m=\u001b[39;49m\u001b[43mcomplevel\u001b[49m\u001b[43m,\u001b[49m\n",
      "\u001b[1;32m   1864\u001b[0m \u001b[43m    \u001b[49m\u001b[43mfletcher32\u001b[49m\u001b[38;5;241;43m=\u001b[39;49m\u001b[43mfletcher32\u001b[49m\u001b[43m,\u001b[49m\n",
      "\u001b[1;32m   1865\u001b[0m \u001b[43m    \u001b[49m\u001b[43mmin_itemsize\u001b[49m\u001b[38;5;241;43m=\u001b[39;49m\u001b[43mmin_itemsize\u001b[49m\u001b[43m,\u001b[49m\n",
      "\u001b[1;32m   1866\u001b[0m \u001b[43m    \u001b[49m\u001b[43mchunksize\u001b[49m\u001b[38;5;241;43m=\u001b[39;49m\u001b[43mchunksize\u001b[49m\u001b[43m,\u001b[49m\n",
      "\u001b[1;32m   1867\u001b[0m \u001b[43m    \u001b[49m\u001b[43mexpectedrows\u001b[49m\u001b[38;5;241;43m=\u001b[39;49m\u001b[43mexpectedrows\u001b[49m\u001b[43m,\u001b[49m\n",
      "\u001b[1;32m   1868\u001b[0m \u001b[43m    \u001b[49m\u001b[43mdropna\u001b[49m\u001b[38;5;241;43m=\u001b[39;49m\u001b[43mdropna\u001b[49m\u001b[43m,\u001b[49m\n",
      "\u001b[1;32m   1869\u001b[0m \u001b[43m    \u001b[49m\u001b[43mnan_rep\u001b[49m\u001b[38;5;241;43m=\u001b[39;49m\u001b[43mnan_rep\u001b[49m\u001b[43m,\u001b[49m\n",
      "\u001b[1;32m   1870\u001b[0m \u001b[43m    \u001b[49m\u001b[43mdata_columns\u001b[49m\u001b[38;5;241;43m=\u001b[39;49m\u001b[43mdata_columns\u001b[49m\u001b[43m,\u001b[49m\n",
      "\u001b[1;32m   1871\u001b[0m \u001b[43m    \u001b[49m\u001b[43mtrack_times\u001b[49m\u001b[38;5;241;43m=\u001b[39;49m\u001b[43mtrack_times\u001b[49m\u001b[43m,\u001b[49m\n",
      "\u001b[1;32m   1872\u001b[0m \u001b[43m\u001b[49m\u001b[43m)\u001b[49m\n",
      "\u001b[1;32m   1874\u001b[0m \u001b[38;5;28;01mif\u001b[39;00m \u001b[38;5;28misinstance\u001b[39m(s, Table) \u001b[38;5;129;01mand\u001b[39;00m index:\n",
      "\u001b[1;32m   1875\u001b[0m     s\u001b[38;5;241m.\u001b[39mcreate_index(columns\u001b[38;5;241m=\u001b[39mindex)\n",
      "\n",
      "File \u001b[0;32m~/Documents/R4R/.venv/lib/python3.12/site-packages/pandas/io/pytables.py:3333\u001b[0m, in \u001b[0;36mBlockManagerFixed.write\u001b[0;34m(self, obj, **kwargs)\u001b[0m\n",
      "\u001b[1;32m   3330\u001b[0m \u001b[38;5;28;01mfor\u001b[39;00m i, blk \u001b[38;5;129;01min\u001b[39;00m \u001b[38;5;28menumerate\u001b[39m(data\u001b[38;5;241m.\u001b[39mblocks):\n",
      "\u001b[1;32m   3331\u001b[0m     \u001b[38;5;66;03m# I have no idea why, but writing values before items fixed #2299\u001b[39;00m\n",
      "\u001b[1;32m   3332\u001b[0m     blk_items \u001b[38;5;241m=\u001b[39m data\u001b[38;5;241m.\u001b[39mitems\u001b[38;5;241m.\u001b[39mtake(blk\u001b[38;5;241m.\u001b[39mmgr_locs)\n",
      "\u001b[0;32m-> 3333\u001b[0m     \u001b[38;5;28;43mself\u001b[39;49m\u001b[38;5;241;43m.\u001b[39;49m\u001b[43mwrite_array\u001b[49m\u001b[43m(\u001b[49m\u001b[38;5;124;43mf\u001b[39;49m\u001b[38;5;124;43m\"\u001b[39;49m\u001b[38;5;124;43mblock\u001b[39;49m\u001b[38;5;132;43;01m{\u001b[39;49;00m\u001b[43mi\u001b[49m\u001b[38;5;132;43;01m}\u001b[39;49;00m\u001b[38;5;124;43m_values\u001b[39;49m\u001b[38;5;124;43m\"\u001b[39;49m\u001b[43m,\u001b[49m\u001b[43m \u001b[49m\u001b[43mblk\u001b[49m\u001b[38;5;241;43m.\u001b[39;49m\u001b[43mvalues\u001b[49m\u001b[43m,\u001b[49m\u001b[43m \u001b[49m\u001b[43mitems\u001b[49m\u001b[38;5;241;43m=\u001b[39;49m\u001b[43mblk_items\u001b[49m\u001b[43m)\u001b[49m\n",
      "\u001b[1;32m   3334\u001b[0m     \u001b[38;5;28mself\u001b[39m\u001b[38;5;241m.\u001b[39mwrite_index(\u001b[38;5;124mf\u001b[39m\u001b[38;5;124m\"\u001b[39m\u001b[38;5;124mblock\u001b[39m\u001b[38;5;132;01m{\u001b[39;00mi\u001b[38;5;132;01m}\u001b[39;00m\u001b[38;5;124m_items\u001b[39m\u001b[38;5;124m\"\u001b[39m, blk_items)\n",
      "\n",
      "File \u001b[0;32m~/Documents/R4R/.venv/lib/python3.12/site-packages/pandas/io/pytables.py:3172\u001b[0m, in \u001b[0;36mGenericFixed.write_array\u001b[0;34m(self, key, obj, items)\u001b[0m\n",
      "\u001b[1;32m   3169\u001b[0m         warnings\u001b[38;5;241m.\u001b[39mwarn(ws, PerformanceWarning, stacklevel\u001b[38;5;241m=\u001b[39mfind_stack_level())\n",
      "\u001b[1;32m   3171\u001b[0m     vlarr \u001b[38;5;241m=\u001b[39m \u001b[38;5;28mself\u001b[39m\u001b[38;5;241m.\u001b[39m_handle\u001b[38;5;241m.\u001b[39mcreate_vlarray(\u001b[38;5;28mself\u001b[39m\u001b[38;5;241m.\u001b[39mgroup, key, _tables()\u001b[38;5;241m.\u001b[39mObjectAtom())\n",
      "\u001b[0;32m-> 3172\u001b[0m     \u001b[43mvlarr\u001b[49m\u001b[38;5;241;43m.\u001b[39;49m\u001b[43mappend\u001b[49m\u001b[43m(\u001b[49m\u001b[43mvalue\u001b[49m\u001b[43m)\u001b[49m\n",
      "\u001b[1;32m   3174\u001b[0m \u001b[38;5;28;01melif\u001b[39;00m lib\u001b[38;5;241m.\u001b[39mis_np_dtype(value\u001b[38;5;241m.\u001b[39mdtype, \u001b[38;5;124m\"\u001b[39m\u001b[38;5;124mM\u001b[39m\u001b[38;5;124m\"\u001b[39m):\n",
      "\u001b[1;32m   3175\u001b[0m     \u001b[38;5;28mself\u001b[39m\u001b[38;5;241m.\u001b[39m_handle\u001b[38;5;241m.\u001b[39mcreate_array(\u001b[38;5;28mself\u001b[39m\u001b[38;5;241m.\u001b[39mgroup, key, value\u001b[38;5;241m.\u001b[39mview(\u001b[38;5;124m\"\u001b[39m\u001b[38;5;124mi8\u001b[39m\u001b[38;5;124m\"\u001b[39m))\n",
      "\n",
      "File \u001b[0;32m~/Documents/R4R/.venv/lib/python3.12/site-packages/tables/vlarray.py:542\u001b[0m, in \u001b[0;36mVLArray.append\u001b[0;34m(self, sequence)\u001b[0m\n",
      "\u001b[1;32m    539\u001b[0m     nobjects \u001b[38;5;241m=\u001b[39m \u001b[38;5;241m0\u001b[39m\n",
      "\u001b[1;32m    540\u001b[0m     nparr \u001b[38;5;241m=\u001b[39m \u001b[38;5;28;01mNone\u001b[39;00m\n",
      "\u001b[0;32m--> 542\u001b[0m \u001b[38;5;28;43mself\u001b[39;49m\u001b[38;5;241;43m.\u001b[39;49m\u001b[43m_append\u001b[49m\u001b[43m(\u001b[49m\u001b[43mnparr\u001b[49m\u001b[43m,\u001b[49m\u001b[43m \u001b[49m\u001b[43mnobjects\u001b[49m\u001b[43m)\u001b[49m\n",
      "\u001b[1;32m    543\u001b[0m \u001b[38;5;28mself\u001b[39m\u001b[38;5;241m.\u001b[39mnrows \u001b[38;5;241m+\u001b[39m\u001b[38;5;241m=\u001b[39m \u001b[38;5;241m1\u001b[39m\n",
      "\n",
      "File \u001b[0;32m~/Documents/R4R/.venv/lib/python3.12/site-packages/tables/hdf5extension.pyx:2169\u001b[0m, in \u001b[0;36mtables.hdf5extension.VLArray._append\u001b[0;34m()\u001b[0m\n",
      "\n",
      "\u001b[0;31mOverflowError\u001b[0m: value too large to convert to int"
     ]
    }
   ],
   "source": [
    "import os\n",
    "comments_dict = {}\n",
    "for year in range(2020, 2024):\n",
    "    for month in range(1, 13):\n",
    "        key = f\"pg_wiki_comments_{year}{month:02d}\"\n",
    "        print(key)\n",
    "        comments_dict[key] = pd.read_hdf(f\"data/{key}.h5\")\n",
    "\n",
    "        comments_dict[key]['created_at'] = pd.to_datetime(comments_dict[key]['created_at'].astype('int')*1000)\n",
    "        comments_dict[key]['last_modified_at'] = pd.to_datetime(comments_dict[key]['last_modified_at'].astype('int')*1000)\n",
    "        os.remove(f\"data/{key}.h5\")\n",
    "        comments_dict[key].to_hdf(f\"data/{key}.h5\", key='df', mode='w')\n",
    "\n",
    "comments_df = pd.concat(comments_dict.values())\n",
    "os.remove(\"data/comments.h5\")\n",
    "comments_df.to_hdf(\"data/comments.h5\", key='df', mode='w')\n",
    "\n"
   ]
  },
  {
   "cell_type": "code",
   "execution_count": null,
   "metadata": {},
   "outputs": [],
   "source": [
    "posts_dict = {}\n",
    "for year in range(2020, 2024):\n",
    "    key = f\"pg_wiki_{year}\"\n",
    "    print(key)\n",
    "\n",
    "    posts_dict[key] = pd.read_hdf(f\"data/{key}.h5\")\n",
    "    posts_dict[key]['created_at'] = pd.to_datetime(posts_dict[key]['created_at'].astype('int')*1000)\n",
    "    posts_dict[key]['updated_at'] = pd.to_datetime(posts_dict[key]['updated_at'].astype('int')*1000)\n",
    "    os.remove(f\"data/{key}.h5\")\n",
    "    posts_dict[key].to_hdf(f\"data/{key}.h5\", key='df', mode='w')\n",
    "\n",
    "posts_df = pd.concat(posts_dict.values())\n",
    "os.remove(\"data/posts.h5\")\n",
    "posts_df.to_hdf(\"data/posts.h5\", key='df', mode='w')"
   ]
  },
  {
   "cell_type": "code",
   "execution_count": null,
   "metadata": {},
   "outputs": [
    {
     "name": "stdout",
     "output_type": "stream",
     "text": [
      "pg_wiki_comments_202001\n",
      "pg_wiki_comments_202002\n",
      "pg_wiki_comments_202003\n",
      "pg_wiki_comments_202004\n",
      "pg_wiki_comments_202005\n",
      "pg_wiki_comments_202006\n",
      "pg_wiki_comments_202007\n",
      "pg_wiki_comments_202008\n",
      "pg_wiki_comments_202009\n",
      "pg_wiki_comments_202010\n",
      "pg_wiki_comments_202011\n",
      "pg_wiki_comments_202012\n",
      "pg_wiki_comments_202101\n",
      "pg_wiki_comments_202102\n",
      "pg_wiki_comments_202103\n",
      "pg_wiki_comments_202104\n",
      "pg_wiki_comments_202105\n",
      "pg_wiki_comments_202106\n",
      "pg_wiki_comments_202107\n",
      "pg_wiki_comments_202108\n",
      "pg_wiki_comments_202109\n",
      "pg_wiki_comments_202110\n",
      "pg_wiki_comments_202111\n",
      "pg_wiki_comments_202112\n",
      "pg_wiki_comments_202201\n",
      "pg_wiki_comments_202202\n",
      "pg_wiki_comments_202203\n",
      "pg_wiki_comments_202204\n",
      "pg_wiki_comments_202205\n",
      "pg_wiki_comments_202206\n",
      "pg_wiki_comments_202207\n",
      "pg_wiki_comments_202208\n",
      "pg_wiki_comments_202209\n",
      "pg_wiki_comments_202210\n",
      "pg_wiki_comments_202211\n",
      "pg_wiki_comments_202212\n",
      "pg_wiki_comments_202301\n",
      "pg_wiki_comments_202302\n",
      "pg_wiki_comments_202303\n",
      "pg_wiki_comments_202304\n",
      "pg_wiki_comments_202305\n",
      "pg_wiki_comments_202306\n",
      "pg_wiki_comments_202307\n",
      "pg_wiki_comments_202308\n",
      "pg_wiki_comments_202309\n",
      "pg_wiki_comments_202310\n",
      "pg_wiki_comments_202311\n",
      "pg_wiki_comments_202312\n"
     ]
    }
   ],
   "source": [
    "comments_dict = {}\n",
    "for year in range(2020, 2024):\n",
    "    for month in range(1, 13):\n",
    "        key = f\"pg_wiki_comments_{year}{month:02d}\"\n",
    "        print(key)\n",
    "        try:\n",
    "            comments_dict[key] = pd.read_hdf(f\"data/{key}.h5\")\n",
    "        except:\n",
    "            comments_dict[key] = query_r4r(key, funcdict, client)\n",
    "            for c in ['score']:\n",
    "                comments_dict[key][c] = comments_dict[key][c].astype(np.int64)\n",
    "            for c in ['gilded']:\n",
    "                comments_dict[key][c] = comments_dict[key][c].astype(np.bool_)\n",
    "            for c in ['created_at', 'last_modified_at']:\n",
    "                comments_dict[key][c] = pd.to_datetime(comments_dict[key][c]).astype('datetime64[ns]')\n",
    "            comments_dict[key].to_hdf(f\"data/{key}.h5\", key='df', mode='w')\n",
    "\n",
    "comments_df = pd.concat(comments_dict.values())"
   ]
  }
 ],
 "metadata": {
  "kernelspec": {
   "display_name": ".venv",
   "language": "python",
   "name": "python3"
  },
  "language_info": {
   "codemirror_mode": {
    "name": "ipython",
    "version": 3
   },
   "file_extension": ".py",
   "mimetype": "text/x-python",
   "name": "python",
   "nbconvert_exporter": "python",
   "pygments_lexer": "ipython3",
   "version": "3.12.3"
  }
 },
 "nbformat": 4,
 "nbformat_minor": 2
}
